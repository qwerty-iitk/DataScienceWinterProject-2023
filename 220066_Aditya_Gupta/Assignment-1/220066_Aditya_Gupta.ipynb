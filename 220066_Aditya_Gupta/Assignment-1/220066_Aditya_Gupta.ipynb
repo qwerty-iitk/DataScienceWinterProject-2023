{
  "cells": [
    {
      "cell_type": "markdown",
      "metadata": {
        "id": "UOzd0zRXW5Uv"
      },
      "source": [
        "# Week-1 Assignment\n",
        "\n",
        "**Welcome to your first assignment for the SimuTech Winter Project 2022! I hope you are excited to implement and test everything you have learned up until now. There is an interesting set of questions for you to refine your acquired skills as you delve into hands-on coding and deepen your understanding of numpy, pandas, and data visualization libraries.**\n",
        "\n",
        "P.S. You might find use of functions which you have never used before.So feel free to google"
      ]
    },
    {
      "cell_type": "markdown",
      "metadata": {},
      "source": []
    },
    {
      "cell_type": "code",
      "execution_count": 36,
      "metadata": {
        "colab": {
          "base_uri": "https://localhost:8080/"
        },
        "id": "quOk2Txvgp9V",
        "outputId": "932648cd-f9db-48f6-e752-a3ed03c3aa90"
      },
      "outputs": [
        {
          "name": "stdout",
          "output_type": "stream",
          "text": [
            "Drive already mounted at /content/drive; to attempt to forcibly remount, call drive.mount(\"/content/drive\", force_remount=True).\n"
          ]
        }
      ],
      "source": [
        "from google.colab import drive\n",
        "drive.mount('/content/drive')"
      ]
    },
    {
      "cell_type": "markdown",
      "metadata": {
        "id": "2XFUXyq9Y9TG"
      },
      "source": [
        "# Section0 : Importing Libraries"
      ]
    },
    {
      "cell_type": "markdown",
      "metadata": {
        "id": "D_bzcLusjSO0"
      },
      "source": [
        "*Let's begin by importing numpy, pandas and matplotlib.*"
      ]
    },
    {
      "cell_type": "code",
      "execution_count": 37,
      "metadata": {
        "id": "jdwX7bI7aGeY"
      },
      "outputs": [],
      "source": [
        "#your code here\n",
        "import numpy as np\n",
        "import pandas as pd\n",
        "import matplotlib.pyplot as plt"
      ]
    },
    {
      "cell_type": "markdown",
      "metadata": {
        "id": "LM25mz5ta-Q_"
      },
      "source": [
        "# Section1 : Playing with Python and Numpy"
      ]
    },
    {
      "cell_type": "markdown",
      "metadata": {
        "id": "TcFQVqhAdQw_"
      },
      "source": [
        "### Q1. Matrix Multiplication"
      ]
    },
    {
      "cell_type": "markdown",
      "metadata": {
        "id": "6Dcai9pys0j8"
      },
      "source": [
        "##### (i) Check if matrix multiplication is valid"
      ]
    },
    {
      "cell_type": "code",
      "execution_count": 38,
      "metadata": {
        "id": "0qC4txIss3gG"
      },
      "outputs": [],
      "source": [
        "def isValid(A,B):\n",
        "  def isValid(A,B):\n",
        "    if len(A[0])==len(B):\n",
        "        return 1\n",
        "    else:\n",
        "          return 0"
      ]
    },
    {
      "cell_type": "markdown",
      "metadata": {
        "id": "OPTfRGlTdXxa"
      },
      "source": [
        "##### (ii) Using loops (without using numpy)"
      ]
    },
    {
      "cell_type": "code",
      "execution_count": 39,
      "metadata": {
        "id": "V8F5ETsRct3S"
      },
      "outputs": [],
      "source": [
        "def matrix_multiply(A,B):\n",
        "    # Create a result matrix with dimensions len(A) x len(B[0])\n",
        "    result = [[0] * len(B[0]) for _ in range(len(A))]\n",
        "\n",
        "    # Iterate through rows of A\n",
        "    for i in range(len(A)):\n",
        "        # Iterate through columns of B\n",
        "        for j in range(len(B[0])):\n",
        "            # Iterate through rows of B\n",
        "            for k in range(len(B)):\n",
        "                result[i][j] += A[i][k] * B[k][j]\n",
        "\n",
        "    return result"
      ]
    },
    {
      "cell_type": "markdown",
      "metadata": {
        "id": "umUgUTSWdos8"
      },
      "source": [
        "##### (iii) Using numpy"
      ]
    },
    {
      "cell_type": "code",
      "execution_count": 40,
      "metadata": {
        "id": "-tdXlCHrduBP"
      },
      "outputs": [],
      "source": [
        "def matrix_multiply_2(A,B):\n",
        "    matrix_A = np.array(A)\n",
        "    matrix_B = np.array(B)\n",
        "    C = np.dot(matrix_A, matrix_B)\n",
        "    return C"
      ]
    },
    {
      "cell_type": "markdown",
      "metadata": {
        "id": "2nMFnl84edJG"
      },
      "source": [
        "##### (iv) Testing your code\n",
        "\n",
        "Run the following cell to check if your functions are working properly.\n",
        "\n",
        "*Expected output:*\n",
        "[ [102 108 114]\n",
        " [246 261 276]\n",
        " [390 414 438]\n",
        " [534 567 600] ]"
      ]
    },
    {
      "cell_type": "code",
      "execution_count": 41,
      "metadata": {
        "colab": {
          "base_uri": "https://localhost:8080/"
        },
        "id": "09rX_Cm9ezmq",
        "outputId": "a3787f11-2a56-4828-cce3-3beb54459f44"
      },
      "outputs": [
        {
          "name": "stdout",
          "output_type": "stream",
          "text": [
            "Matrix multiplication is not valid\n"
          ]
        }
      ],
      "source": [
        "A = np.array([\n",
        "    [1, 2, 3],\n",
        "    [4, 5, 6],\n",
        "    [7, 8, 9],\n",
        "    [10, 11, 12]\n",
        "])\n",
        "\n",
        "B = np.array([\n",
        "    [13, 14, 15],\n",
        "    [16, 17, 18],\n",
        "    [19, 20, 21]\n",
        "])\n",
        "\n",
        "if isValid(A,B):\n",
        "  print(f\"Result using loops: {matrix_multiply(A,B)}\")\n",
        "  print(f\"Result using numpy: {matrix_multiply_2(A,B)}\")\n",
        "else:\n",
        "  print(f\"Matrix multiplication is not valid\")"
      ]
    },
    {
      "cell_type": "markdown",
      "metadata": {
        "id": "5hfP7Ao1fwqV"
      },
      "source": [
        "### Q2. Z-Score Normalisation"
      ]
    },
    {
      "cell_type": "markdown",
      "metadata": {
        "id": "0e81Xx5Kw_CQ"
      },
      "source": [
        "Z-score normalization refers to the process of normalizing every value in a dataset such that the mean of all of the values is 0 and the standard deviation is 1.\n",
        "\n",
        "We use the following formula to perform a z-score normalization on every value in a dataset:\n",
        "\n",
        "New value = (x – μ) / σ\n",
        "\n",
        "where:\n",
        "\n",
        "x: Original value\n",
        "\n",
        "μ: Mean of data\n",
        "\n",
        "σ: Standard deviation of data"
      ]
    },
    {
      "cell_type": "markdown",
      "metadata": {
        "id": "GP_MuyUbguSR"
      },
      "source": [
        "##### (i) Without using numpy"
      ]
    },
    {
      "cell_type": "code",
      "execution_count": 42,
      "metadata": {
        "id": "0vix8qaaghwP"
      },
      "outputs": [],
      "source": [
        "def mean(x):\n",
        "  mean_value = sum(x) / len(x)\n",
        "  return(mean_value)"
      ]
    },
    {
      "cell_type": "code",
      "execution_count": 43,
      "metadata": {
        "id": "j1qabel-g_f5"
      },
      "outputs": [],
      "source": [
        "def standard_deviation(x):\n",
        "  mean_value = sum(x) / len(x)\n",
        "  squared_diff = [(i - mean_value) ** 2 for i in x]\n",
        "  variance = sum(squared_diff) / len(x)\n",
        "  std_deviation = variance ** 0.5\n",
        "  return (std_deviation)"
      ]
    },
    {
      "cell_type": "code",
      "execution_count": 44,
      "metadata": {
        "id": "797ewbNqhEpY"
      },
      "outputs": [],
      "source": [
        "def zscore_normalisation(x):\n",
        "  mean_x = mean(x)\n",
        "  std_dev_x = standard_deviation(x)\n",
        "  new_x = [((i-mean_x)/std_dev_x) for i in x]\n",
        "  return new_x"
      ]
    },
    {
      "cell_type": "markdown",
      "metadata": {
        "id": "k8dq1wqRhbUB"
      },
      "source": [
        "##### (ii) Using numpy\n",
        "\n",
        "Numpy has in_built functions for calculating mean and standard deviation"
      ]
    },
    {
      "cell_type": "code",
      "execution_count": 45,
      "metadata": {
        "id": "WjxJTUDihsYg"
      },
      "outputs": [],
      "source": [
        "def zscore_normalisation_2(x):\n",
        "  array_x = np.array(x)\n",
        "  mean_value_x = np.mean(array_x)\n",
        "  std_dev_x = np.std(array_x)\n",
        "  normalized_x = (array_x - mean_value_x) / std_dev_x\n",
        "  return normalized_x"
      ]
    },
    {
      "cell_type": "markdown",
      "metadata": {
        "id": "glRqKU-_1pue"
      },
      "source": [
        "##### (iii) Testing your code"
      ]
    },
    {
      "cell_type": "markdown",
      "metadata": {
        "id": "Kl7XBymOigCU"
      },
      "source": [
        "Run the following cell to check if your functions are working properly.\n",
        "\n",
        "*Expected Output:* [-1.06753267 -0.99745394 -0.99745394 -0.81057732 -0.41346451 -0.06307086\n",
        "  0.31068237  0.91803138  1.22170588  1.89913361]"
      ]
    },
    {
      "cell_type": "code",
      "execution_count": 46,
      "metadata": {
        "colab": {
          "base_uri": "https://localhost:8080/"
        },
        "id": "78ptZxf6ipZp",
        "outputId": "dc11b5e3-4a4f-4184-87ec-3976681e548c"
      },
      "outputs": [
        {
          "name": "stdout",
          "output_type": "stream",
          "text": [
            "Result without using numpy: [-1.0675326683028088, -0.9974539373420117, -0.9974539373420117, -0.8105773214465528, -0.41346451266870277, -0.06307085786471743, 0.3106823739262003, 0.9180313755864415, 1.2217058764165623, 1.8991336090376005]\n",
            "Result using numpy: [-1.06753267 -0.99745394 -0.99745394 -0.81057732 -0.41346451 -0.06307086\n",
            "  0.31068237  0.91803138  1.22170588  1.89913361]\n"
          ]
        }
      ],
      "source": [
        "x = [4, 7, 7, 15, 32, 47, 63, 89, 102, 131]\n",
        "print(f\"Result without using numpy: {zscore_normalisation(x)}\")\n",
        "print(f\"Result using numpy: {zscore_normalisation_2(x)}\")"
      ]
    },
    {
      "cell_type": "markdown",
      "metadata": {
        "id": "0WVscJ0z14rp"
      },
      "source": [
        "### Q3. Sigmoid fn and its derivative"
      ]
    },
    {
      "cell_type": "markdown",
      "metadata": {
        "id": "Jfntb0Rg94Tu"
      },
      "source": [
        "The sigmoid function is a mathematical function that maps any input value to a value between 0 and 1.\n",
        "\n",
        "It is defined mathematically as s(x) = 1/(1+e^(-x))."
      ]
    },
    {
      "cell_type": "markdown",
      "metadata": {
        "id": "8SCAPkjO2m7u"
      },
      "source": [
        "##### (i) Write a fn to implement sigmoid fn"
      ]
    },
    {
      "cell_type": "code",
      "execution_count": 47,
      "metadata": {
        "id": "jL_TRQFG2l5m"
      },
      "outputs": [],
      "source": [
        "def sigmoidfn(x):\n",
        "  sigmoid = 1/(1 + np.exp(-x))\n",
        "  return sigmoid"
      ]
    },
    {
      "cell_type": "markdown",
      "metadata": {
        "id": "t7KBbl7N3AUM"
      },
      "source": [
        "##### (ii) Write a fn to implement derivative of sigmoid fn"
      ]
    },
    {
      "cell_type": "code",
      "execution_count": 48,
      "metadata": {
        "id": "okjuOpba3KOJ"
      },
      "outputs": [],
      "source": [
        "def derivative(x):\n",
        "  sig_x = sigmoidfn(x)\n",
        "  derivative_result = -sig_x * (1 - sig_x)\n",
        "  return derivative_result"
      ]
    },
    {
      "cell_type": "markdown",
      "metadata": {
        "id": "NdGTSpsp3mwr"
      },
      "source": [
        "##### (iii) Test your code"
      ]
    },
    {
      "cell_type": "markdown",
      "metadata": {
        "id": "lWY8RBex7gnd"
      },
      "source": [
        "Run the following cell to check if your functions are working properly.\n",
        "\n",
        "*Expected output:*\n",
        "\n",
        "x on applying sigmoid activation fn is: [ [0.99987661 0.88079708 0.99330715 0.5        0.5       ]\n",
        " [0.99908895 0.99330715 0.5        0.5        0.5       ] ]\n",
        "\n",
        "x on applying derivative of sigmoid activation fn is: [ [-1.23379350e-04 -1.04993585e-01 -6.64805667e-03 -2.50000000e-01\n",
        "  -2.50000000e-01]\n",
        " [-9.10221180e-04 -6.64805667e-03 -2.50000000e-01 -2.50000000e-01\n",
        "  -2.50000000e-01] ]"
      ]
    },
    {
      "cell_type": "code",
      "execution_count": 49,
      "metadata": {
        "colab": {
          "base_uri": "https://localhost:8080/"
        },
        "id": "ssDGpmS33vdA",
        "outputId": "891a6c41-69fe-4b27-cd70-2218ca9852ed"
      },
      "outputs": [
        {
          "name": "stdout",
          "output_type": "stream",
          "text": [
            "x on applying sigmoid activation fn is: [[0.99987661 0.88079708 0.99330715 0.5        0.5       ]\n",
            " [0.99908895 0.99330715 0.5        0.5        0.5       ]]\n",
            "x on applying derivative of sigmoid activation fn is: [[-1.23379350e-04 -1.04993585e-01 -6.64805667e-03 -2.50000000e-01\n",
            "  -2.50000000e-01]\n",
            " [-9.10221180e-04 -6.64805667e-03 -2.50000000e-01 -2.50000000e-01\n",
            "  -2.50000000e-01]]\n"
          ]
        }
      ],
      "source": [
        "x = np.array([\n",
        "    [9,2,5,0,0],\n",
        "    [7,5,0,0,0]\n",
        "])\n",
        "print(f\"x on applying sigmoid activation fn is: {sigmoidfn(x)}\")\n",
        "print(f\"x on applying derivative of sigmoid activation fn is: {derivative(x)}\")"
      ]
    },
    {
      "cell_type": "markdown",
      "metadata": {
        "id": "PMa0cseyZpa1"
      },
      "source": [
        "# Section 2: Playing with Pandas"
      ]
    },
    {
      "cell_type": "markdown",
      "metadata": {
        "id": "i5Okb_jxZ_VW"
      },
      "source": [
        "###Read the csv file\n"
      ]
    },
    {
      "cell_type": "code",
      "execution_count": 50,
      "metadata": {
        "id": "aQgvyavrcM1l"
      },
      "outputs": [],
      "source": [
        "data = pd.read_csv(\"/content/drive/MyDrive/Colab Notebooks/superheated_vapor_properties.csv\")"
      ]
    },
    {
      "cell_type": "markdown",
      "metadata": {
        "id": "Zp8F3rk2cNxy"
      },
      "source": [
        "###Display the shape of data frame\n"
      ]
    },
    {
      "cell_type": "code",
      "execution_count": 51,
      "metadata": {
        "colab": {
          "base_uri": "https://localhost:8080/"
        },
        "id": "v3Q8kQkucgK0",
        "outputId": "6b6fa745-ef99-41d9-cd9f-1703e910160b"
      },
      "outputs": [
        {
          "data": {
            "text/plain": [
              "Pressure    float64\n",
              "Property     object\n",
              "Liq_Sat     float64\n",
              "Vap_Sat     float64\n",
              "75          float64\n",
              "100         float64\n",
              "125         float64\n",
              "150         float64\n",
              "175         float64\n",
              "200         float64\n",
              "220         float64\n",
              "225         float64\n",
              "240         float64\n",
              "250         float64\n",
              "260         float64\n",
              "275         float64\n",
              "280         float64\n",
              "290         float64\n",
              "300         float64\n",
              "320         float64\n",
              "325         float64\n",
              "340         float64\n",
              "350         float64\n",
              "360         float64\n",
              "375         float64\n",
              "380         float64\n",
              "400         float64\n",
              "425         float64\n",
              "450         float64\n",
              "475         float64\n",
              "500         float64\n",
              "525         float64\n",
              "550         float64\n",
              "575         float64\n",
              "600         float64\n",
              "625         float64\n",
              "650         float64\n",
              "dtype: object"
            ]
          },
          "execution_count": 51,
          "metadata": {},
          "output_type": "execute_result"
        }
      ],
      "source": [
        "data.shape\n",
        "data.dtypes"
      ]
    },
    {
      "cell_type": "markdown",
      "metadata": {
        "id": "w49cp-8zcgd2"
      },
      "source": [
        "###Return an array containing names of all the columns"
      ]
    },
    {
      "cell_type": "code",
      "execution_count": 52,
      "metadata": {
        "colab": {
          "base_uri": "https://localhost:8080/"
        },
        "id": "fz4HRb3JcsZp",
        "outputId": "9c1c3068-d3cb-4e4c-aa1f-ffd86c7189e1"
      },
      "outputs": [
        {
          "data": {
            "text/plain": [
              "Index(['Pressure', 'Property', 'Liq_Sat', 'Vap_Sat', '75', '100', '125', '150',\n",
              "       '175', '200', '220', '225', '240', '250', '260', '275', '280', '290',\n",
              "       '300', '320', '325', '340', '350', '360', '375', '380', '400', '425',\n",
              "       '450', '475', '500', '525', '550', '575', '600', '625', '650'],\n",
              "      dtype='object')"
            ]
          },
          "execution_count": 52,
          "metadata": {},
          "output_type": "execute_result"
        }
      ],
      "source": [
        "data.columns"
      ]
    },
    {
      "cell_type": "markdown",
      "metadata": {
        "id": "YkTH9tRWcrH-"
      },
      "source": [
        "###Display the number of null values in each column of the dataframe``\n",
        "\n"
      ]
    },
    {
      "cell_type": "code",
      "execution_count": 53,
      "metadata": {
        "colab": {
          "base_uri": "https://localhost:8080/"
        },
        "id": "GK9-PJPxc3Ot",
        "outputId": "d5659a27-51bb-4253-f796-bcf7e711cc56"
      },
      "outputs": [
        {
          "data": {
            "text/plain": [
              "Pressure      0\n",
              "Property      0\n",
              "Liq_Sat       0\n",
              "Vap_Sat       0\n",
              "75          528\n",
              "100         508\n",
              "125         488\n",
              "150         448\n",
              "175         384\n",
              "200         320\n",
              "220         408\n",
              "225         400\n",
              "240         408\n",
              "250         344\n",
              "260         384\n",
              "275         340\n",
              "280         380\n",
              "290         488\n",
              "300          60\n",
              "320         480\n",
              "325         136\n",
              "340         476\n",
              "350          68\n",
              "360         476\n",
              "375         204\n",
              "380         476\n",
              "400           0\n",
              "425         204\n",
              "450           0\n",
              "475         204\n",
              "500           0\n",
              "525         272\n",
              "550           0\n",
              "575         340\n",
              "600           0\n",
              "625         476\n",
              "650           0\n",
              "dtype: int64"
            ]
          },
          "execution_count": 53,
          "metadata": {},
          "output_type": "execute_result"
        }
      ],
      "source": [
        "null_data_count = data.isnull().sum()\n",
        "null_data_count"
      ]
    },
    {
      "cell_type": "markdown",
      "metadata": {
        "id": "Av-lcft2c3mx"
      },
      "source": [
        "###Create a column which contains the Pressure and Property columns, seperated with 'at' (For eg. V at 1, H at 101.325). Using this print the following:\n",
        "- Enthalpy at 75 kPa and 573 K\n",
        "- Entropy at 493 K and 250 kPa\n",
        "\n"
      ]
    },
    {
      "cell_type": "code",
      "execution_count": 54,
      "metadata": {
        "colab": {
          "base_uri": "https://localhost:8080/"
        },
        "id": "B2AihQj_c32C",
        "outputId": "bc5b170b-3025-4f00-98f5-ee77f101b990"
      },
      "outputs": [
        {
          "name": "stdout",
          "output_type": "stream",
          "text": [
            "Enthalpy at 75 kPa and 573 K:  26    2876.6\n",
            "Name: 200, dtype: float64\n",
            "Entropy at 493 K and 250 kPa:  59    7.4001\n",
            "Name: 200, dtype: float64\n"
          ]
        }
      ],
      "source": [
        "\n",
        "data['Pressure and Property'] = data[\"Property\"] + \" at \" + data[\"Pressure\"].astype(str)\n",
        "Q1 = data[data['Pressure and Property'] == 'H at 75.0']\n",
        "print(\"Enthalpy at 75 kPa and 573 K: \",Q1['200'])\n",
        "Q2 = data[data['Pressure and Property'] == 'S at 250.0']\n",
        "print(\"Entropy at 493 K and 250 kPa: \",Q2['200'])"
      ]
    },
    {
      "cell_type": "markdown",
      "metadata": {
        "id": "GpLtXYRLc4Ho"
      },
      "source": [
        "###Find out the column with the highest number of missing values"
      ]
    },
    {
      "cell_type": "code",
      "execution_count": 55,
      "metadata": {
        "colab": {
          "base_uri": "https://localhost:8080/",
          "height": 36
        },
        "id": "q80Grgeyc4Xn",
        "outputId": "892f9c35-b688-4255-b370-cb3a14f7ceb5"
      },
      "outputs": [
        {
          "data": {
            "application/vnd.google.colaboratory.intrinsic+json": {
              "type": "string"
            },
            "text/plain": [
              "'75'"
            ]
          },
          "execution_count": 55,
          "metadata": {},
          "output_type": "execute_result"
        }
      ],
      "source": [
        "null_data_count.idxmax()"
      ]
    },
    {
      "cell_type": "markdown",
      "metadata": {
        "id": "74NVHTTac4nv"
      },
      "source": [
        "###What is the average enthalpy of Sat. Liq. at all different pressures in the dataset ?"
      ]
    },
    {
      "cell_type": "code",
      "execution_count": 56,
      "metadata": {
        "colab": {
          "base_uri": "https://localhost:8080/"
        },
        "id": "g3mByhBDdpVr",
        "outputId": "37b78fb4-9373-4215-f42a-2f1cdc632a3c"
      },
      "outputs": [
        {
          "name": "stdout",
          "output_type": "stream",
          "text": [
            "936.9707720588237\n"
          ]
        }
      ],
      "source": [
        "H_sat_liquid = data[data[\"Property\"] == \"H\"][\"Liq_Sat\"]\n",
        "average_enthalpy = sum(H_sat_liquid) / len(H_sat_liquid)\n",
        "print(average_enthalpy)"
      ]
    },
    {
      "cell_type": "markdown",
      "metadata": {
        "id": "uS-SuqU8dpxg"
      },
      "source": [
        "###Separate out the V,U,H,S data from the dataset into V_data, U_data, H_data, S_data"
      ]
    },
    {
      "cell_type": "code",
      "execution_count": 57,
      "metadata": {
        "id": "Sg3V9Toyd1Av"
      },
      "outputs": [],
      "source": [
        "V_data = data[data[\"Property\"] == \"V\"]\n",
        "U_data = data[data[\"Property\"] == \"U\"]\n",
        "H_data = data[data[\"Property\"] == \"H\"]\n",
        "S_data = data[data[\"Property\"] == \"S\"]"
      ]
    },
    {
      "cell_type": "markdown",
      "metadata": {
        "id": "Ghkj0-0-d1W7"
      },
      "source": [
        "#Section 3: PLotting the PLOTS"
      ]
    },
    {
      "cell_type": "markdown",
      "metadata": {
        "id": "ka0qrDcZeAL6"
      },
      "source": [
        "###Plot the properties (specific volume, specific internal energy, specific enthalpy, specific entropy) vs Pressure for saturated liquid.\n",
        "\n",
        "Note:\n",
        "- Try using the subplot feature of matplotlib(Explore it!!)\n",
        "- Provide appropriate title, labels, markersize and other parameters to the plot"
      ]
    },
    {
      "cell_type": "code",
      "execution_count": 58,
      "metadata": {
        "colab": {
          "base_uri": "https://localhost:8080/",
          "height": 517
        },
        "id": "XbKdm-cUePKA",
        "outputId": "759b19e5-be1a-41d7-f673-8a3f076b9089"
      },
      "outputs": [
        {
          "data": {
            "image/png": "[encoded data removed]",
            "text/plain": [
              "<Figure size 800x600 with 4 Axes>"
            ]
          },
          "metadata": {},
          "output_type": "display_data"
        }
      ],
      "source": [
        "x = data[\"Pressure\"].unique()\n",
        "y1 = V_data[\"Liq_Sat\"]\n",
        "y2 = U_data[\"Liq_Sat\"]\n",
        "y3 = H_data[\"Liq_Sat\"]\n",
        "y4 = S_data[\"Liq_Sat\"]\n",
        "\n",
        "fig, axs = plt.subplots(2, 2, figsize=(8, 6))\n",
        "\n",
        "axs[0,0].plot(x, y1, label = \"Specific Volume\")\n",
        "axs[0,0].set_title('Specific Volume vs Pressure')\n",
        "axs[0,0].legend()\n",
        "\n",
        "axs[0,1].plot(x, y2, label = \"Specific Internal Energy\")\n",
        "axs[0,1].set_title('Specific Internal Energy vs Pressure')\n",
        "axs[0,1].legend()\n",
        "\n",
        "axs[1,0].plot(x, y3, label = \"Specific Enthalpy\")\n",
        "axs[1,0].set_title('Specific Enthalpy vs Pressure')\n",
        "axs[1,0].legend()\n",
        "\n",
        "axs[1,1].plot(x, y4, label = \"Specific Entropy\")\n",
        "axs[1,1].set_title('Specific Entropy vs Pressure')\n",
        "axs[1,1].legend()\n",
        "\n",
        "plt.tight_layout()\n",
        "plt.show()"
      ]
    },
    {
      "cell_type": "markdown",
      "metadata": {
        "id": "SCLRji6TeQgh"
      },
      "source": [
        "###Plot the specific volume of saturated liquid between 300 kPa and 1500 kPa"
      ]
    },
    {
      "cell_type": "code",
      "execution_count": 59,
      "metadata": {
        "colab": {
          "base_uri": "https://localhost:8080/",
          "height": 469
        },
        "id": "u6DyyI7MeYgE",
        "outputId": "fc882ed6-11d2-4b7c-d516-605384132de7"
      },
      "outputs": [
        {
          "data": {
            "text/plain": [
              "<matplotlib.legend.Legend at 0x7b01d878f040>"
            ]
          },
          "execution_count": 59,
          "metadata": {},
          "output_type": "execute_result"
        },
        {
          "data": {
            "image/png": "[encoded data removed]",
            "text/plain": [
              "<Figure size 640x480 with 1 Axes>"
            ]
          },
          "metadata": {},
          "output_type": "display_data"
        }
      ],
      "source": [
        "x = V_data[(V_data[\"Pressure\"] >= 300) & (V_data[\"Pressure\"] <= 1500)][\"Pressure\"]\n",
        "y = V_data[(V_data[\"Pressure\"] >= 300) & (V_data[\"Pressure\"] <= 1500)][\"Liq_Sat\"]\n",
        "plt.plot(x, y, label=\"Specific Volume\")\n",
        "plt.title(\"Specific Volume vs Pressure\")\n",
        "plt.legend()"
      ]
    },
    {
      "cell_type": "markdown",
      "metadata": {
        "id": "6N_8T4KnfnOG"
      },
      "source": [
        "#Linear Regression\n",
        "You're given a 100 data points generated from the function\n",
        "$y=mx+c$. Some noise is added to the y values.\n",
        "\n",
        "**Task:** Estimate the values of m and c using linear regression. Write a suitable cost function and update the parameters."
      ]
    },
    {
      "cell_type": "code",
      "execution_count": 60,
      "metadata": {
        "colab": {
          "base_uri": "https://localhost:8080/",
          "height": 447
        },
        "id": "qK0CKt8WfuO9",
        "outputId": "445aed25-8198-4dc5-8c8a-48d5c71ab48a"
      },
      "outputs": [
        {
          "data": {
            "text/plain": [
              "<matplotlib.collections.PathCollection at 0x7b01d6aa0430>"
            ]
          },
          "execution_count": 60,
          "metadata": {},
          "output_type": "execute_result"
        },
        {
          "data": {
            "image/png": "[encoded data removed]",
            "text/plain": [
              "<Figure size 640x480 with 1 Axes>"
            ]
          },
          "metadata": {},
          "output_type": "display_data"
        }
      ],
      "source": [
        " # Generation of data points\n",
        "x = np.random.rand(100)*100\n",
        "y = -4*x+15\n",
        "y = y+np.random.randn(100)*30\n",
        "plt.scatter(x,y)"
      ]
    },
    {
      "cell_type": "code",
      "execution_count": 61,
      "metadata": {
        "id": "0lyjPEfmiC-e"
      },
      "outputs": [],
      "source": [
        "# Initialize parameters\n",
        "m = 0  # slope\n",
        "c = 0  # y-intercept\n",
        "\n",
        "\n",
        "# Cost function (Mean Squared Error)\n",
        "def cost_function(y_true, y_pred):\n",
        "    return np.mean((y_true - y_pred) ** 2)\n",
        "\n",
        "# Function to update parameters using gradient descent\n",
        "def update_parameters(x, y, m, c, learning_rate):\n",
        "    y_pred = m * x + c\n",
        "    dm = -2 * np.mean(x * (y - y_pred))  # partial derivative with respect to m\n",
        "    dc = -2 * np.mean(y - y_pred)  # partial derivative with respect to c\n",
        "    m = m - learning_rate * dm\n",
        "    c = c - learning_rate * dc\n",
        "    return m, c\n",
        "\n"
      ]
    },
    {
      "cell_type": "markdown",
      "metadata": {
        "id": "JPy839WUiOvz"
      },
      "source": [
        "Run the model"
      ]
    },
    {
      "cell_type": "code",
      "execution_count": 62,
      "metadata": {
        "colab": {
          "base_uri": "https://localhost:8080/",
          "height": 449
        },
        "id": "sf8s00SUiYhN",
        "outputId": "df90ca3b-4d2f-4a0b-87b8-12e05829eb67"
      },
      "outputs": [
        {
          "data": {
            "image/png": "[encoded data removed]",
            "text/plain": [
              "<Figure size 640x480 with 1 Axes>"
            ]
          },
          "metadata": {},
          "output_type": "display_data"
        }
      ],
      "source": [
        "# define number of iterations for minimising cost function\n",
        "iterations = 1000\n",
        "\n",
        "# Learning rate and number of iterations\n",
        "learning_rate = 0.0001\n",
        "\n",
        "# run the model\n",
        "for i in range(iterations):\n",
        "    # Calculate predicted values\n",
        "    y_pred = m * x + c\n",
        "\n",
        "    # Calculate the cost\n",
        "    cost = cost_function(y, y_pred)\n",
        "\n",
        "    # Update parameters\n",
        "    m, c = update_parameters(x, y, m, c, learning_rate)\n",
        "# Plot the data points and the best fit line\n",
        "plt.plot(x, m * x + c, color='red', label='Best Fit Line')\n",
        "plt.xlabel('x')\n",
        "plt.ylabel('y')\n",
        "plt.legend()\n",
        "plt.show()\n"
      ]
    },
    {
      "cell_type": "code",
      "execution_count": 63,
      "metadata": {
        "colab": {
          "base_uri": "https://localhost:8080/"
        },
        "id": "_g7W3mloilGn",
        "outputId": "74996c23-bfe9-415e-ebf1-cac47e130b8f"
      },
      "outputs": [
        {
          "name": "stdout",
          "output_type": "stream",
          "text": [
            "-3.724299186989573 0.9334388741688824\n"
          ]
        }
      ],
      "source": [
        "print(m,c)  # value should be close to (-4,15)"
      ]
    }
  ],
  "metadata": {
    "colab": {
      "history_visible": true,
      "provenance": [],
      "toc_visible": true
    },
    "kernelspec": {
      "display_name": "Python 3",
      "name": "python3"
    },
    "language_info": {
      "name": "python"
    }
  },
  "nbformat": 4,
  "nbformat_minor": 0
}
