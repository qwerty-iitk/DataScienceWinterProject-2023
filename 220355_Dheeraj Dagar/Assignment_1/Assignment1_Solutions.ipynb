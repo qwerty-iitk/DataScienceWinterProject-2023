{
  "nbformat": 4,
  "nbformat_minor": 0,
  "metadata": {
    "colab": {
      "provenance": []
    },
    "kernelspec": {
      "name": "python3",
      "display_name": "Python 3"
    },
    "language_info": {
      "name": "python"
    }
  },
  "cells": [
    {
      "cell_type": "markdown",
      "source": [
        "# Week-1 Assignment\n",
        "\n",
        "**Welcome to your first assignment for the SimuTech Winter Project 2022! I hope you are excited to implement and test everything you have learned up until now. There is an interesting set of questions for you to refine your acquired skills as you delve into hands-on coding and deepen your understanding of numpy, pandas, and data visualization libraries.**\n",
        "\n",
        "P.S. You might find use of functions which you have never used before. So feel free to google"
      ],
      "metadata": {
        "id": "UOzd0zRXW5Uv"
      }
    },
    {
      "cell_type": "markdown",
      "source": [
        "# Section0 : Importing Libraries"
      ],
      "metadata": {
        "id": "2XFUXyq9Y9TG"
      }
    },
    {
      "cell_type": "markdown",
      "source": [
        "*Let's begin by importing numpy, pandas and matplotlib.*"
      ],
      "metadata": {
        "id": "D_bzcLusjSO0"
      }
    },
    {
      "cell_type": "code",
      "source": [
        "import numpy as np\n",
        "import pandas as pd\n",
        "import matplotlib.pyplot as plt"
      ],
      "metadata": {
        "id": "jdwX7bI7aGeY"
      },
      "execution_count": null,
      "outputs": []
    },
    {
      "cell_type": "markdown",
      "source": [
        "# Section1 : Playing with Python and Numpy"
      ],
      "metadata": {
        "id": "LM25mz5ta-Q_"
      }
    },
    {
      "cell_type": "markdown",
      "source": [
        "### Q1. Matrix Multiplication"
      ],
      "metadata": {
        "id": "TcFQVqhAdQw_"
      }
    },
    {
      "cell_type": "markdown",
      "source": [
        "##### (i) Check if matrix multiplication is valid"
      ],
      "metadata": {
        "id": "6Dcai9pys0j8"
      }
    },
    {
      "cell_type": "code",
      "source": [
        "def isValid(A,B):\n",
        "  if A.shape[1] == B.shape[0]:\n",
        "      return True\n",
        "  return False"
      ],
      "metadata": {
        "id": "0qC4txIss3gG"
      },
      "execution_count": null,
      "outputs": []
    },
    {
      "cell_type": "markdown",
      "source": [
        "##### (ii) Using loops (without using numpy)"
      ],
      "metadata": {
        "id": "OPTfRGlTdXxa"
      }
    },
    {
      "cell_type": "code",
      "source": [
        "def matrix_multiply(A,B):\n",
        "   C = np.zeros((A.shape[0], B.shape[1]), dtype=int)\n",
        "   for i in range(A.shape[0]):\n",
        "     for j in range(B.shape[1]):\n",
        "        for k in range(A.shape[1]):\n",
        "           C[i,j] = C[i,j] + A[i,k]*B[k,j]\n",
        "   return C"
      ],
      "metadata": {
        "id": "V8F5ETsRct3S"
      },
      "execution_count": null,
      "outputs": []
    },
    {
      "cell_type": "markdown",
      "source": [
        "##### (iii) Using numpy"
      ],
      "metadata": {
        "id": "umUgUTSWdos8"
      }
    },
    {
      "cell_type": "code",
      "source": [
        "def matrix_multiply_2(A,B):\n",
        "  return A@B"
      ],
      "metadata": {
        "id": "-tdXlCHrduBP"
      },
      "execution_count": null,
      "outputs": []
    },
    {
      "cell_type": "markdown",
      "source": [
        "##### (iv) Testing your code\n",
        "\n",
        "Run the following cell to check if your functions are working properly.\n",
        "\n",
        "*Expected output:*\n",
        "[ [102 108 114]\n",
        " [246 261 276]\n",
        " [390 414 438]\n",
        " [534 567 600] ]"
      ],
      "metadata": {
        "id": "2nMFnl84edJG"
      }
    },
    {
      "cell_type": "code",
      "source": [
        "A = np.array([\n",
        "    [1, 2, 3],\n",
        "    [4, 5, 6],\n",
        "    [7, 8, 9],\n",
        "    [10, 11, 12]\n",
        "])\n",
        "\n",
        "B = np.array([\n",
        "    [13, 14, 15],\n",
        "    [16, 17, 18],\n",
        "    [19, 20, 21]\n",
        "])\n",
        "\n",
        "if isValid(A,B):\n",
        "  print(f\"Result using loops: {matrix_multiply(A,B)}\")\n",
        "  print(f\"Result using numpy: {matrix_multiply_2(A,B)}\")\n",
        "else:\n",
        "  print(f\"Matrix multiplication is not valid\")"
      ],
      "metadata": {
        "id": "09rX_Cm9ezmq",
        "colab": {
          "base_uri": "https://localhost:8080/"
        },
        "outputId": "0ed3f822-6280-4b07-fb42-a6f291acf314"
      },
      "execution_count": null,
      "outputs": [
        {
          "output_type": "stream",
          "name": "stdout",
          "text": [
            "Result using loops: [[102 108 114]\n",
            " [246 261 276]\n",
            " [390 414 438]\n",
            " [534 567 600]]\n",
            "Result using numpy: [[102 108 114]\n",
            " [246 261 276]\n",
            " [390 414 438]\n",
            " [534 567 600]]\n"
          ]
        }
      ]
    },
    {
      "cell_type": "markdown",
      "source": [
        "### Q2. Z-Score Normalisation"
      ],
      "metadata": {
        "id": "5hfP7Ao1fwqV"
      }
    },
    {
      "cell_type": "markdown",
      "source": [
        "Z-score normalization refers to the process of normalizing every value in a dataset such that the mean of all of the values is 0 and the standard deviation is 1.\n",
        "\n",
        "We use the following formula to perform a z-score normalization on every value in a dataset:\n",
        "\n",
        "New value = (x – μ) / σ\n",
        "\n",
        "where:\n",
        "\n",
        "x: Original value\n",
        "\n",
        "μ: Mean of data\n",
        "\n",
        "σ: Standard deviation of data"
      ],
      "metadata": {
        "id": "0e81Xx5Kw_CQ"
      }
    },
    {
      "cell_type": "markdown",
      "source": [
        "##### (i) Without using numpy"
      ],
      "metadata": {
        "id": "GP_MuyUbguSR"
      }
    },
    {
      "cell_type": "code",
      "source": [
        "def mean(x):\n",
        "    a = 0\n",
        "    for i in x:\n",
        "       a = a + i\n",
        "    return a/len(x)"
      ],
      "metadata": {
        "id": "0vix8qaaghwP"
      },
      "execution_count": null,
      "outputs": []
    },
    {
      "cell_type": "code",
      "source": [
        "def standard_deviation(x):\n",
        "  var = sum((np.array(x) - mean(x))**2)\n",
        "  return (var/len(x))**0.5"
      ],
      "metadata": {
        "id": "j1qabel-g_f5"
      },
      "execution_count": null,
      "outputs": []
    },
    {
      "cell_type": "code",
      "source": [
        "def zscore_normalisation(x):\n",
        "   zscore = (np.array(x) - mean(x))/standard_deviation(x)\n",
        "   return zscore"
      ],
      "metadata": {
        "id": "797ewbNqhEpY"
      },
      "execution_count": null,
      "outputs": []
    },
    {
      "cell_type": "markdown",
      "source": [
        "##### (ii) Using numpy\n",
        "\n",
        "Numpy has in_built functions for calculating mean and standard deviation"
      ],
      "metadata": {
        "id": "k8dq1wqRhbUB"
      }
    },
    {
      "cell_type": "code",
      "source": [
        "def zscore_normalisation_2(x):\n",
        "   x = np.array(x)\n",
        "   zscore = (x - np.mean(x))/np.std(x)\n",
        "   return zscore"
      ],
      "metadata": {
        "id": "WjxJTUDihsYg"
      },
      "execution_count": null,
      "outputs": []
    },
    {
      "cell_type": "markdown",
      "source": [
        "##### (iii) Testing your code"
      ],
      "metadata": {
        "id": "glRqKU-_1pue"
      }
    },
    {
      "cell_type": "markdown",
      "source": [
        "Run the following cell to check if your functions are working properly.\n",
        "\n",
        "*Expected Output:* [-1.06753267 -0.99745394 -0.99745394 -0.81057732 -0.41346451 -0.06307086\n",
        "  0.31068237  0.91803138  1.22170588  1.89913361]"
      ],
      "metadata": {
        "id": "Kl7XBymOigCU"
      }
    },
    {
      "cell_type": "code",
      "source": [
        "x = [4, 7, 7, 15, 32, 47, 63, 89, 102, 131]\n",
        "print(f\"Result without using numpy: {zscore_normalisation(x)}\")\n",
        "print(f\"Result using numpy: {zscore_normalisation_2(x)}\")"
      ],
      "metadata": {
        "id": "78ptZxf6ipZp",
        "colab": {
          "base_uri": "https://localhost:8080/"
        },
        "outputId": "c868b2e2-c86d-4ec7-fc7a-0b54ff38a3d0"
      },
      "execution_count": null,
      "outputs": [
        {
          "output_type": "stream",
          "name": "stdout",
          "text": [
            "Result without using numpy: [-1.06753267 -0.99745394 -0.99745394 -0.81057732 -0.41346451 -0.06307086\n",
            "  0.31068237  0.91803138  1.22170588  1.89913361]\n",
            "Result using numpy: [-1.06753267 -0.99745394 -0.99745394 -0.81057732 -0.41346451 -0.06307086\n",
            "  0.31068237  0.91803138  1.22170588  1.89913361]\n"
          ]
        }
      ]
    },
    {
      "cell_type": "markdown",
      "source": [
        "### Q3. Sigmoid fn and its derivative"
      ],
      "metadata": {
        "id": "0WVscJ0z14rp"
      }
    },
    {
      "cell_type": "markdown",
      "source": [
        "The sigmoid function is a mathematical function that maps any input value to a value between 0 and 1.\n",
        "\n",
        "It is defined mathematically as s(x) = 1/(1+e^(-x))."
      ],
      "metadata": {
        "id": "Jfntb0Rg94Tu"
      }
    },
    {
      "cell_type": "markdown",
      "source": [
        "##### (i) Write a fn to implement sigmoid fn"
      ],
      "metadata": {
        "id": "8SCAPkjO2m7u"
      }
    },
    {
      "cell_type": "code",
      "source": [
        "def sigmoidfn(x):\n",
        "   sigmoid = 1/(1 + np.exp(-x))\n",
        "   return sigmoid"
      ],
      "metadata": {
        "id": "jL_TRQFG2l5m"
      },
      "execution_count": null,
      "outputs": []
    },
    {
      "cell_type": "markdown",
      "source": [
        "##### (ii) Write a fn to implement derivative of sigmoid fn"
      ],
      "metadata": {
        "id": "t7KBbl7N3AUM"
      }
    },
    {
      "cell_type": "code",
      "source": [
        "def derivative(x):\n",
        "   derivative = np.exp(-x)*(sigmoidfn(x)**2)\n",
        "   return derivative"
      ],
      "metadata": {
        "id": "okjuOpba3KOJ"
      },
      "execution_count": null,
      "outputs": []
    },
    {
      "cell_type": "markdown",
      "source": [
        "##### (iii) Test your code"
      ],
      "metadata": {
        "id": "NdGTSpsp3mwr"
      }
    },
    {
      "cell_type": "markdown",
      "source": [
        "Run the following cell to check if your functions are working properly.\n",
        "\n",
        "*Expected output:*\n",
        "\n",
        "x on applying sigmoid activation fn is: [ [0.99987661 0.88079708 0.99330715 0.5        0.5       ]\n",
        " [0.99908895 0.99330715 0.5        0.5        0.5       ] ]\n",
        "\n",
        "x on applying derivative of sigmoid activation fn is: [ [-1.23379350e-04 -1.04993585e-01 -6.64805667e-03 -2.50000000e-01\n",
        "  -2.50000000e-01]\n",
        " [-9.10221180e-04 -6.64805667e-03 -2.50000000e-01 -2.50000000e-01\n",
        "  -2.50000000e-01] ]"
      ],
      "metadata": {
        "id": "lWY8RBex7gnd"
      }
    },
    {
      "cell_type": "code",
      "source": [
        "x = np.array([\n",
        "    [9,2,5,0,0],\n",
        "    [7,5,0,0,0]\n",
        "])\n",
        "print(f\"x on applying sigmoid activation fn is: {sigmoidfn(x)}\")\n",
        "print(f\"x on applying derivative of sigmoid activation fn is: {derivative(x)}\")"
      ],
      "metadata": {
        "id": "ssDGpmS33vdA",
        "colab": {
          "base_uri": "https://localhost:8080/"
        },
        "outputId": "6dde03f7-cbee-4a7b-f648-966ac3e4a1bf"
      },
      "execution_count": null,
      "outputs": [
        {
          "output_type": "stream",
          "name": "stdout",
          "text": [
            "x on applying sigmoid activation fn is: [[0.99987661 0.88079708 0.99330715 0.5        0.5       ]\n",
            " [0.99908895 0.99330715 0.5        0.5        0.5       ]]\n",
            "x on applying derivative of sigmoid activation fn is: [[1.23379350e-04 1.04993585e-01 6.64805667e-03 2.50000000e-01\n",
            "  2.50000000e-01]\n",
            " [9.10221180e-04 6.64805667e-03 2.50000000e-01 2.50000000e-01\n",
            "  2.50000000e-01]]\n"
          ]
        }
      ]
    },
    {
      "cell_type": "markdown",
      "source": [
        "# Section 2: Playing with Pandas"
      ],
      "metadata": {
        "id": "PMa0cseyZpa1"
      }
    },
    {
      "cell_type": "markdown",
      "source": [
        "###Read the csv file\n"
      ],
      "metadata": {
        "id": "i5Okb_jxZ_VW"
      }
    },
    {
      "cell_type": "code",
      "source": [
        "Data = pd.read_csv('/content/superheated_vapor_properties.csv')\n",
        "Data"
      ],
      "metadata": {
        "id": "aQgvyavrcM1l",
        "colab": {
          "base_uri": "https://localhost:8080/",
          "height": 443
        },
        "outputId": "cea20163-03d3-42bc-cd98-31b21b5b6b86"
      },
      "execution_count": null,
      "outputs": [
        {
          "output_type": "execute_result",
          "data": {
            "text/plain": [
              "     Pressure Property    Liq_Sat      Vap_Sat           75          100  \\\n",
              "0         1.0        V     1.0000  129200.0000  160640.0000  172180.0000   \n",
              "1         1.0        U    29.3340    2385.2000    2480.8000    2516.4000   \n",
              "2         1.0        H    29.3350    2514.4000    2641.5000    2688.6000   \n",
              "3         1.0        S     0.1060       8.9767       9.3828       9.5136   \n",
              "4        10.0        V     1.0100   14670.0000   16030.0000   17190.0000   \n",
              "..        ...      ...        ...          ...          ...          ...   \n",
              "539   11200.0        S     3.4440       5.5476          NaN          NaN   \n",
              "540   11400.0        V     1.5040      15.2840          NaN          NaN   \n",
              "541   11400.0        U  1450.0000    2527.2000          NaN          NaN   \n",
              "542   11400.0        H  1467.2000    2701.5000          NaN          NaN   \n",
              "543   11400.0        S     3.4575       5.5357          NaN          NaN   \n",
              "\n",
              "             125          150          175          200  ...        425  \\\n",
              "0    183720.0000  195270.0000  206810.0000  218350.0000  ...        NaN   \n",
              "1      2552.3000    2588.5000    2624.9000    2661.7000  ...        NaN   \n",
              "2      2736.0000    2783.7000    2831.7000    2880.1000  ...        NaN   \n",
              "3         9.6365       9.7527       9.8629       9.9679  ...        NaN   \n",
              "4     18350.0000   19510.0000   20660.0000   21820.0000  ...        NaN   \n",
              "..           ...          ...          ...          ...  ...        ...   \n",
              "539          NaN          NaN          NaN          NaN  ...     6.2491   \n",
              "540          NaN          NaN          NaN          NaN  ...    24.1040   \n",
              "541          NaN          NaN          NaN          NaN  ...  2873.1000   \n",
              "542          NaN          NaN          NaN          NaN  ...  3147.9000   \n",
              "543          NaN          NaN          NaN          NaN  ...     6.2367   \n",
              "\n",
              "             450        475          500        525          550        575  \\\n",
              "0    333730.0000        NaN  356810.0000        NaN  379880.0000        NaN   \n",
              "1      3049.9000        NaN    3132.4000        NaN    3216.7000        NaN   \n",
              "2      3383.6000        NaN    3489.2000        NaN    3596.5000        NaN   \n",
              "3        10.8200        NaN      10.9612        NaN      11.0957        NaN   \n",
              "4     33370.0000        NaN   35670.0000        NaN   37980.0000        NaN   \n",
              "..           ...        ...          ...        ...          ...        ...   \n",
              "539       6.3515     6.4452       6.5324     6.6147       6.6929     6.7679   \n",
              "540      25.5990    27.0100      28.3590    29.6610      30.9250    32.1600   \n",
              "541    2929.4000  2982.6000    3033.9000  3083.9000    3133.1000  3181.9000   \n",
              "542    3221.2000  3290.5000    3357.2000  3422.1000    3485.7000  3548.5000   \n",
              "543       6.3399     6.4341       6.5218     6.6043       6.6828     6.7580   \n",
              "\n",
              "             600        625          650  \n",
              "0    402960.0000        NaN  426040.0000  \n",
              "1      3302.6000        NaN    3390.3000  \n",
              "2      3705.6000        NaN    3816.4000  \n",
              "3        11.2243        NaN      11.3476  \n",
              "4     40290.0000        NaN   42600.0000  \n",
              "..           ...        ...          ...  \n",
              "539       6.8401     6.9099       6.9777  \n",
              "540      33.3700    34.5600      35.7330  \n",
              "541    3230.4000  3278.8000    3327.2000  \n",
              "542    3610.8000  3672.8000    3734.6000  \n",
              "543       6.8304     6.9004       6.9683  \n",
              "\n",
              "[544 rows x 37 columns]"
            ],
            "text/html": [
              "\n",
              "  <div id=\"df-7b67bf79-b3e6-4be9-9885-504a69cd16a5\" class=\"colab-df-container\">\n",
              "    <div>\n",
              "<style scoped>\n",
              "    .dataframe tbody tr th:only-of-type {\n",
              "        vertical-align: middle;\n",
              "    }\n",
              "\n",
              "    .dataframe tbody tr th {\n",
              "        vertical-align: top;\n",
              "    }\n",
              "\n",
              "    .dataframe thead th {\n",
              "        text-align: right;\n",
              "    }\n",
              "</style>\n",
              "<table border=\"1\" class=\"dataframe\">\n",
              "  <thead>\n",
              "    <tr style=\"text-align: right;\">\n",
              "      <th></th>\n",
              "      <th>Pressure</th>\n",
              "      <th>Property</th>\n",
              "      <th>Liq_Sat</th>\n",
              "      <th>Vap_Sat</th>\n",
              "      <th>75</th>\n",
              "      <th>100</th>\n",
              "      <th>125</th>\n",
              "      <th>150</th>\n",
              "      <th>175</th>\n",
              "      <th>200</th>\n",
              "      <th>...</th>\n",
              "      <th>425</th>\n",
              "      <th>450</th>\n",
              "      <th>475</th>\n",
              "      <th>500</th>\n",
              "      <th>525</th>\n",
              "      <th>550</th>\n",
              "      <th>575</th>\n",
              "      <th>600</th>\n",
              "      <th>625</th>\n",
              "      <th>650</th>\n",
              "    </tr>\n",
              "  </thead>\n",
              "  <tbody>\n",
              "    <tr>\n",
              "      <th>0</th>\n",
              "      <td>1.0</td>\n",
              "      <td>V</td>\n",
              "      <td>1.0000</td>\n",
              "      <td>129200.0000</td>\n",
              "      <td>160640.0000</td>\n",
              "      <td>172180.0000</td>\n",
              "      <td>183720.0000</td>\n",
              "      <td>195270.0000</td>\n",
              "      <td>206810.0000</td>\n",
              "      <td>218350.0000</td>\n",
              "      <td>...</td>\n",
              "      <td>NaN</td>\n",
              "      <td>333730.0000</td>\n",
              "      <td>NaN</td>\n",
              "      <td>356810.0000</td>\n",
              "      <td>NaN</td>\n",
              "      <td>379880.0000</td>\n",
              "      <td>NaN</td>\n",
              "      <td>402960.0000</td>\n",
              "      <td>NaN</td>\n",
              "      <td>426040.0000</td>\n",
              "    </tr>\n",
              "    <tr>\n",
              "      <th>1</th>\n",
              "      <td>1.0</td>\n",
              "      <td>U</td>\n",
              "      <td>29.3340</td>\n",
              "      <td>2385.2000</td>\n",
              "      <td>2480.8000</td>\n",
              "      <td>2516.4000</td>\n",
              "      <td>2552.3000</td>\n",
              "      <td>2588.5000</td>\n",
              "      <td>2624.9000</td>\n",
              "      <td>2661.7000</td>\n",
              "      <td>...</td>\n",
              "      <td>NaN</td>\n",
              "      <td>3049.9000</td>\n",
              "      <td>NaN</td>\n",
              "      <td>3132.4000</td>\n",
              "      <td>NaN</td>\n",
              "      <td>3216.7000</td>\n",
              "      <td>NaN</td>\n",
              "      <td>3302.6000</td>\n",
              "      <td>NaN</td>\n",
              "      <td>3390.3000</td>\n",
              "    </tr>\n",
              "    <tr>\n",
              "      <th>2</th>\n",
              "      <td>1.0</td>\n",
              "      <td>H</td>\n",
              "      <td>29.3350</td>\n",
              "      <td>2514.4000</td>\n",
              "      <td>2641.5000</td>\n",
              "      <td>2688.6000</td>\n",
              "      <td>2736.0000</td>\n",
              "      <td>2783.7000</td>\n",
              "      <td>2831.7000</td>\n",
              "      <td>2880.1000</td>\n",
              "      <td>...</td>\n",
              "      <td>NaN</td>\n",
              "      <td>3383.6000</td>\n",
              "      <td>NaN</td>\n",
              "      <td>3489.2000</td>\n",
              "      <td>NaN</td>\n",
              "      <td>3596.5000</td>\n",
              "      <td>NaN</td>\n",
              "      <td>3705.6000</td>\n",
              "      <td>NaN</td>\n",
              "      <td>3816.4000</td>\n",
              "    </tr>\n",
              "    <tr>\n",
              "      <th>3</th>\n",
              "      <td>1.0</td>\n",
              "      <td>S</td>\n",
              "      <td>0.1060</td>\n",
              "      <td>8.9767</td>\n",
              "      <td>9.3828</td>\n",
              "      <td>9.5136</td>\n",
              "      <td>9.6365</td>\n",
              "      <td>9.7527</td>\n",
              "      <td>9.8629</td>\n",
              "      <td>9.9679</td>\n",
              "      <td>...</td>\n",
              "      <td>NaN</td>\n",
              "      <td>10.8200</td>\n",
              "      <td>NaN</td>\n",
              "      <td>10.9612</td>\n",
              "      <td>NaN</td>\n",
              "      <td>11.0957</td>\n",
              "      <td>NaN</td>\n",
              "      <td>11.2243</td>\n",
              "      <td>NaN</td>\n",
              "      <td>11.3476</td>\n",
              "    </tr>\n",
              "    <tr>\n",
              "      <th>4</th>\n",
              "      <td>10.0</td>\n",
              "      <td>V</td>\n",
              "      <td>1.0100</td>\n",
              "      <td>14670.0000</td>\n",
              "      <td>16030.0000</td>\n",
              "      <td>17190.0000</td>\n",
              "      <td>18350.0000</td>\n",
              "      <td>19510.0000</td>\n",
              "      <td>20660.0000</td>\n",
              "      <td>21820.0000</td>\n",
              "      <td>...</td>\n",
              "      <td>NaN</td>\n",
              "      <td>33370.0000</td>\n",
              "      <td>NaN</td>\n",
              "      <td>35670.0000</td>\n",
              "      <td>NaN</td>\n",
              "      <td>37980.0000</td>\n",
              "      <td>NaN</td>\n",
              "      <td>40290.0000</td>\n",
              "      <td>NaN</td>\n",
              "      <td>42600.0000</td>\n",
              "    </tr>\n",
              "    <tr>\n",
              "      <th>...</th>\n",
              "      <td>...</td>\n",
              "      <td>...</td>\n",
              "      <td>...</td>\n",
              "      <td>...</td>\n",
              "      <td>...</td>\n",
              "      <td>...</td>\n",
              "      <td>...</td>\n",
              "      <td>...</td>\n",
              "      <td>...</td>\n",
              "      <td>...</td>\n",
              "      <td>...</td>\n",
              "      <td>...</td>\n",
              "      <td>...</td>\n",
              "      <td>...</td>\n",
              "      <td>...</td>\n",
              "      <td>...</td>\n",
              "      <td>...</td>\n",
              "      <td>...</td>\n",
              "      <td>...</td>\n",
              "      <td>...</td>\n",
              "      <td>...</td>\n",
              "    </tr>\n",
              "    <tr>\n",
              "      <th>539</th>\n",
              "      <td>11200.0</td>\n",
              "      <td>S</td>\n",
              "      <td>3.4440</td>\n",
              "      <td>5.5476</td>\n",
              "      <td>NaN</td>\n",
              "      <td>NaN</td>\n",
              "      <td>NaN</td>\n",
              "      <td>NaN</td>\n",
              "      <td>NaN</td>\n",
              "      <td>NaN</td>\n",
              "      <td>...</td>\n",
              "      <td>6.2491</td>\n",
              "      <td>6.3515</td>\n",
              "      <td>6.4452</td>\n",
              "      <td>6.5324</td>\n",
              "      <td>6.6147</td>\n",
              "      <td>6.6929</td>\n",
              "      <td>6.7679</td>\n",
              "      <td>6.8401</td>\n",
              "      <td>6.9099</td>\n",
              "      <td>6.9777</td>\n",
              "    </tr>\n",
              "    <tr>\n",
              "      <th>540</th>\n",
              "      <td>11400.0</td>\n",
              "      <td>V</td>\n",
              "      <td>1.5040</td>\n",
              "      <td>15.2840</td>\n",
              "      <td>NaN</td>\n",
              "      <td>NaN</td>\n",
              "      <td>NaN</td>\n",
              "      <td>NaN</td>\n",
              "      <td>NaN</td>\n",
              "      <td>NaN</td>\n",
              "      <td>...</td>\n",
              "      <td>24.1040</td>\n",
              "      <td>25.5990</td>\n",
              "      <td>27.0100</td>\n",
              "      <td>28.3590</td>\n",
              "      <td>29.6610</td>\n",
              "      <td>30.9250</td>\n",
              "      <td>32.1600</td>\n",
              "      <td>33.3700</td>\n",
              "      <td>34.5600</td>\n",
              "      <td>35.7330</td>\n",
              "    </tr>\n",
              "    <tr>\n",
              "      <th>541</th>\n",
              "      <td>11400.0</td>\n",
              "      <td>U</td>\n",
              "      <td>1450.0000</td>\n",
              "      <td>2527.2000</td>\n",
              "      <td>NaN</td>\n",
              "      <td>NaN</td>\n",
              "      <td>NaN</td>\n",
              "      <td>NaN</td>\n",
              "      <td>NaN</td>\n",
              "      <td>NaN</td>\n",
              "      <td>...</td>\n",
              "      <td>2873.1000</td>\n",
              "      <td>2929.4000</td>\n",
              "      <td>2982.6000</td>\n",
              "      <td>3033.9000</td>\n",
              "      <td>3083.9000</td>\n",
              "      <td>3133.1000</td>\n",
              "      <td>3181.9000</td>\n",
              "      <td>3230.4000</td>\n",
              "      <td>3278.8000</td>\n",
              "      <td>3327.2000</td>\n",
              "    </tr>\n",
              "    <tr>\n",
              "      <th>542</th>\n",
              "      <td>11400.0</td>\n",
              "      <td>H</td>\n",
              "      <td>1467.2000</td>\n",
              "      <td>2701.5000</td>\n",
              "      <td>NaN</td>\n",
              "      <td>NaN</td>\n",
              "      <td>NaN</td>\n",
              "      <td>NaN</td>\n",
              "      <td>NaN</td>\n",
              "      <td>NaN</td>\n",
              "      <td>...</td>\n",
              "      <td>3147.9000</td>\n",
              "      <td>3221.2000</td>\n",
              "      <td>3290.5000</td>\n",
              "      <td>3357.2000</td>\n",
              "      <td>3422.1000</td>\n",
              "      <td>3485.7000</td>\n",
              "      <td>3548.5000</td>\n",
              "      <td>3610.8000</td>\n",
              "      <td>3672.8000</td>\n",
              "      <td>3734.6000</td>\n",
              "    </tr>\n",
              "    <tr>\n",
              "      <th>543</th>\n",
              "      <td>11400.0</td>\n",
              "      <td>S</td>\n",
              "      <td>3.4575</td>\n",
              "      <td>5.5357</td>\n",
              "      <td>NaN</td>\n",
              "      <td>NaN</td>\n",
              "      <td>NaN</td>\n",
              "      <td>NaN</td>\n",
              "      <td>NaN</td>\n",
              "      <td>NaN</td>\n",
              "      <td>...</td>\n",
              "      <td>6.2367</td>\n",
              "      <td>6.3399</td>\n",
              "      <td>6.4341</td>\n",
              "      <td>6.5218</td>\n",
              "      <td>6.6043</td>\n",
              "      <td>6.6828</td>\n",
              "      <td>6.7580</td>\n",
              "      <td>6.8304</td>\n",
              "      <td>6.9004</td>\n",
              "      <td>6.9683</td>\n",
              "    </tr>\n",
              "  </tbody>\n",
              "</table>\n",
              "<p>544 rows × 37 columns</p>\n",
              "</div>\n",
              "    <div class=\"colab-df-buttons\">\n",
              "\n",
              "  <div class=\"colab-df-container\">\n",
              "    <button class=\"colab-df-convert\" onclick=\"convertToInteractive('df-7b67bf79-b3e6-4be9-9885-504a69cd16a5')\"\n",
              "            title=\"Convert this dataframe to an interactive table.\"\n",
              "            style=\"display:none;\">\n",
              "\n",
              "  <svg xmlns=\"http://www.w3.org/2000/svg\" height=\"24px\" viewBox=\"0 -960 960 960\">\n",
              "    <path d=\"M120-120v-720h720v720H120Zm60-500h600v-160H180v160Zm220 220h160v-160H400v160Zm0 220h160v-160H400v160ZM180-400h160v-160H180v160Zm440 0h160v-160H620v160ZM180-180h160v-160H180v160Zm440 0h160v-160H620v160Z\"/>\n",
              "  </svg>\n",
              "    </button>\n",
              "\n",
              "  <style>\n",
              "    .colab-df-container {\n",
              "      display:flex;\n",
              "      gap: 12px;\n",
              "    }\n",
              "\n",
              "    .colab-df-convert {\n",
              "      background-color: #E8F0FE;\n",
              "      border: none;\n",
              "      border-radius: 50%;\n",
              "      cursor: pointer;\n",
              "      display: none;\n",
              "      fill: #1967D2;\n",
              "      height: 32px;\n",
              "      padding: 0 0 0 0;\n",
              "      width: 32px;\n",
              "    }\n",
              "\n",
              "    .colab-df-convert:hover {\n",
              "      background-color: #E2EBFA;\n",
              "      box-shadow: 0px 1px 2px rgba(60, 64, 67, 0.3), 0px 1px 3px 1px rgba(60, 64, 67, 0.15);\n",
              "      fill: #174EA6;\n",
              "    }\n",
              "\n",
              "    .colab-df-buttons div {\n",
              "      margin-bottom: 4px;\n",
              "    }\n",
              "\n",
              "    [theme=dark] .colab-df-convert {\n",
              "      background-color: #3B4455;\n",
              "      fill: #D2E3FC;\n",
              "    }\n",
              "\n",
              "    [theme=dark] .colab-df-convert:hover {\n",
              "      background-color: #434B5C;\n",
              "      box-shadow: 0px 1px 3px 1px rgba(0, 0, 0, 0.15);\n",
              "      filter: drop-shadow(0px 1px 2px rgba(0, 0, 0, 0.3));\n",
              "      fill: #FFFFFF;\n",
              "    }\n",
              "  </style>\n",
              "\n",
              "    <script>\n",
              "      const buttonEl =\n",
              "        document.querySelector('#df-7b67bf79-b3e6-4be9-9885-504a69cd16a5 button.colab-df-convert');\n",
              "      buttonEl.style.display =\n",
              "        google.colab.kernel.accessAllowed ? 'block' : 'none';\n",
              "\n",
              "      async function convertToInteractive(key) {\n",
              "        const element = document.querySelector('#df-7b67bf79-b3e6-4be9-9885-504a69cd16a5');\n",
              "        const dataTable =\n",
              "          await google.colab.kernel.invokeFunction('convertToInteractive',\n",
              "                                                    [key], {});\n",
              "        if (!dataTable) return;\n",
              "\n",
              "        const docLinkHtml = 'Like what you see? Visit the ' +\n",
              "          '<a target=\"_blank\" href=https://colab.research.google.com/notebooks/data_table.ipynb>data table notebook</a>'\n",
              "          + ' to learn more about interactive tables.';\n",
              "        element.innerHTML = '';\n",
              "        dataTable['output_type'] = 'display_data';\n",
              "        await google.colab.output.renderOutput(dataTable, element);\n",
              "        const docLink = document.createElement('div');\n",
              "        docLink.innerHTML = docLinkHtml;\n",
              "        element.appendChild(docLink);\n",
              "      }\n",
              "    </script>\n",
              "  </div>\n",
              "\n",
              "\n",
              "<div id=\"df-31efbd0e-0c17-4d23-acc3-aa5b90889e4d\">\n",
              "  <button class=\"colab-df-quickchart\" onclick=\"quickchart('df-31efbd0e-0c17-4d23-acc3-aa5b90889e4d')\"\n",
              "            title=\"Suggest charts\"\n",
              "            style=\"display:none;\">\n",
              "\n",
              "<svg xmlns=\"http://www.w3.org/2000/svg\" height=\"24px\"viewBox=\"0 0 24 24\"\n",
              "     width=\"24px\">\n",
              "    <g>\n",
              "        <path d=\"M19 3H5c-1.1 0-2 .9-2 2v14c0 1.1.9 2 2 2h14c1.1 0 2-.9 2-2V5c0-1.1-.9-2-2-2zM9 17H7v-7h2v7zm4 0h-2V7h2v10zm4 0h-2v-4h2v4z\"/>\n",
              "    </g>\n",
              "</svg>\n",
              "  </button>\n",
              "\n",
              "<style>\n",
              "  .colab-df-quickchart {\n",
              "      --bg-color: #E8F0FE;\n",
              "      --fill-color: #1967D2;\n",
              "      --hover-bg-color: #E2EBFA;\n",
              "      --hover-fill-color: #174EA6;\n",
              "      --disabled-fill-color: #AAA;\n",
              "      --disabled-bg-color: #DDD;\n",
              "  }\n",
              "\n",
              "  [theme=dark] .colab-df-quickchart {\n",
              "      --bg-color: #3B4455;\n",
              "      --fill-color: #D2E3FC;\n",
              "      --hover-bg-color: #434B5C;\n",
              "      --hover-fill-color: #FFFFFF;\n",
              "      --disabled-bg-color: #3B4455;\n",
              "      --disabled-fill-color: #666;\n",
              "  }\n",
              "\n",
              "  .colab-df-quickchart {\n",
              "    background-color: var(--bg-color);\n",
              "    border: none;\n",
              "    border-radius: 50%;\n",
              "    cursor: pointer;\n",
              "    display: none;\n",
              "    fill: var(--fill-color);\n",
              "    height: 32px;\n",
              "    padding: 0;\n",
              "    width: 32px;\n",
              "  }\n",
              "\n",
              "  .colab-df-quickchart:hover {\n",
              "    background-color: var(--hover-bg-color);\n",
              "    box-shadow: 0 1px 2px rgba(60, 64, 67, 0.3), 0 1px 3px 1px rgba(60, 64, 67, 0.15);\n",
              "    fill: var(--button-hover-fill-color);\n",
              "  }\n",
              "\n",
              "  .colab-df-quickchart-complete:disabled,\n",
              "  .colab-df-quickchart-complete:disabled:hover {\n",
              "    background-color: var(--disabled-bg-color);\n",
              "    fill: var(--disabled-fill-color);\n",
              "    box-shadow: none;\n",
              "  }\n",
              "\n",
              "  .colab-df-spinner {\n",
              "    border: 2px solid var(--fill-color);\n",
              "    border-color: transparent;\n",
              "    border-bottom-color: var(--fill-color);\n",
              "    animation:\n",
              "      spin 1s steps(1) infinite;\n",
              "  }\n",
              "\n",
              "  @keyframes spin {\n",
              "    0% {\n",
              "      border-color: transparent;\n",
              "      border-bottom-color: var(--fill-color);\n",
              "      border-left-color: var(--fill-color);\n",
              "    }\n",
              "    20% {\n",
              "      border-color: transparent;\n",
              "      border-left-color: var(--fill-color);\n",
              "      border-top-color: var(--fill-color);\n",
              "    }\n",
              "    30% {\n",
              "      border-color: transparent;\n",
              "      border-left-color: var(--fill-color);\n",
              "      border-top-color: var(--fill-color);\n",
              "      border-right-color: var(--fill-color);\n",
              "    }\n",
              "    40% {\n",
              "      border-color: transparent;\n",
              "      border-right-color: var(--fill-color);\n",
              "      border-top-color: var(--fill-color);\n",
              "    }\n",
              "    60% {\n",
              "      border-color: transparent;\n",
              "      border-right-color: var(--fill-color);\n",
              "    }\n",
              "    80% {\n",
              "      border-color: transparent;\n",
              "      border-right-color: var(--fill-color);\n",
              "      border-bottom-color: var(--fill-color);\n",
              "    }\n",
              "    90% {\n",
              "      border-color: transparent;\n",
              "      border-bottom-color: var(--fill-color);\n",
              "    }\n",
              "  }\n",
              "</style>\n",
              "\n",
              "  <script>\n",
              "    async function quickchart(key) {\n",
              "      const quickchartButtonEl =\n",
              "        document.querySelector('#' + key + ' button');\n",
              "      quickchartButtonEl.disabled = true;  // To prevent multiple clicks.\n",
              "      quickchartButtonEl.classList.add('colab-df-spinner');\n",
              "      try {\n",
              "        const charts = await google.colab.kernel.invokeFunction(\n",
              "            'suggestCharts', [key], {});\n",
              "      } catch (error) {\n",
              "        console.error('Error during call to suggestCharts:', error);\n",
              "      }\n",
              "      quickchartButtonEl.classList.remove('colab-df-spinner');\n",
              "      quickchartButtonEl.classList.add('colab-df-quickchart-complete');\n",
              "    }\n",
              "    (() => {\n",
              "      let quickchartButtonEl =\n",
              "        document.querySelector('#df-31efbd0e-0c17-4d23-acc3-aa5b90889e4d button');\n",
              "      quickchartButtonEl.style.display =\n",
              "        google.colab.kernel.accessAllowed ? 'block' : 'none';\n",
              "    })();\n",
              "  </script>\n",
              "</div>\n",
              "\n",
              "  <div id=\"id_721539eb-4a44-497a-a51a-0a03a7f9484e\">\n",
              "    <style>\n",
              "      .colab-df-generate {\n",
              "        background-color: #E8F0FE;\n",
              "        border: none;\n",
              "        border-radius: 50%;\n",
              "        cursor: pointer;\n",
              "        display: none;\n",
              "        fill: #1967D2;\n",
              "        height: 32px;\n",
              "        padding: 0 0 0 0;\n",
              "        width: 32px;\n",
              "      }\n",
              "\n",
              "      .colab-df-generate:hover {\n",
              "        background-color: #E2EBFA;\n",
              "        box-shadow: 0px 1px 2px rgba(60, 64, 67, 0.3), 0px 1px 3px 1px rgba(60, 64, 67, 0.15);\n",
              "        fill: #174EA6;\n",
              "      }\n",
              "\n",
              "      [theme=dark] .colab-df-generate {\n",
              "        background-color: #3B4455;\n",
              "        fill: #D2E3FC;\n",
              "      }\n",
              "\n",
              "      [theme=dark] .colab-df-generate:hover {\n",
              "        background-color: #434B5C;\n",
              "        box-shadow: 0px 1px 3px 1px rgba(0, 0, 0, 0.15);\n",
              "        filter: drop-shadow(0px 1px 2px rgba(0, 0, 0, 0.3));\n",
              "        fill: #FFFFFF;\n",
              "      }\n",
              "    </style>\n",
              "    <button class=\"colab-df-generate\" onclick=\"generateWithVariable('Data')\"\n",
              "            title=\"Generate code using this dataframe.\"\n",
              "            style=\"display:none;\">\n",
              "\n",
              "  <svg xmlns=\"http://www.w3.org/2000/svg\" height=\"24px\"viewBox=\"0 0 24 24\"\n",
              "       width=\"24px\">\n",
              "    <path d=\"M7,19H8.4L18.45,9,17,7.55,7,17.6ZM5,21V16.75L18.45,3.32a2,2,0,0,1,2.83,0l1.4,1.43a1.91,1.91,0,0,1,.58,1.4,1.91,1.91,0,0,1-.58,1.4L9.25,21ZM18.45,9,17,7.55Zm-12,3A5.31,5.31,0,0,0,4.9,8.1,5.31,5.31,0,0,0,1,6.5,5.31,5.31,0,0,0,4.9,4.9,5.31,5.31,0,0,0,6.5,1,5.31,5.31,0,0,0,8.1,4.9,5.31,5.31,0,0,0,12,6.5,5.46,5.46,0,0,0,6.5,12Z\"/>\n",
              "  </svg>\n",
              "    </button>\n",
              "    <script>\n",
              "      (() => {\n",
              "      const buttonEl =\n",
              "        document.querySelector('#id_721539eb-4a44-497a-a51a-0a03a7f9484e button.colab-df-generate');\n",
              "      buttonEl.style.display =\n",
              "        google.colab.kernel.accessAllowed ? 'block' : 'none';\n",
              "\n",
              "      buttonEl.onclick = () => {\n",
              "        google.colab.notebook.generateWithVariable('Data');\n",
              "      }\n",
              "      })();\n",
              "    </script>\n",
              "  </div>\n",
              "\n",
              "    </div>\n",
              "  </div>\n"
            ]
          },
          "metadata": {},
          "execution_count": 393
        }
      ]
    },
    {
      "cell_type": "markdown",
      "source": [
        "###Display the shape of data frame\n"
      ],
      "metadata": {
        "id": "Zp8F3rk2cNxy"
      }
    },
    {
      "cell_type": "code",
      "source": [
        "print(Data.shape)"
      ],
      "metadata": {
        "id": "v3Q8kQkucgK0",
        "colab": {
          "base_uri": "https://localhost:8080/"
        },
        "outputId": "3a51f34f-21db-4667-bf7a-497c48d1c874"
      },
      "execution_count": null,
      "outputs": [
        {
          "output_type": "stream",
          "name": "stdout",
          "text": [
            "(544, 37)\n"
          ]
        }
      ]
    },
    {
      "cell_type": "markdown",
      "source": [
        "###Return an array containing names of all the columns"
      ],
      "metadata": {
        "id": "w49cp-8zcgd2"
      }
    },
    {
      "cell_type": "code",
      "source": [
        "print(list(Data.columns))"
      ],
      "metadata": {
        "id": "fz4HRb3JcsZp",
        "colab": {
          "base_uri": "https://localhost:8080/"
        },
        "outputId": "d109da73-15f7-45fb-8737-2a0f223afbde"
      },
      "execution_count": null,
      "outputs": [
        {
          "output_type": "stream",
          "name": "stdout",
          "text": [
            "['Pressure', 'Property', 'Liq_Sat', 'Vap_Sat', '75', '100', '125', '150', '175', '200', '220', '225', '240', '250', '260', '275', '280', '290', '300', '320', '325', '340', '350', '360', '375', '380', '400', '425', '450', '475', '500', '525', '550', '575', '600', '625', '650']\n"
          ]
        }
      ]
    },
    {
      "cell_type": "markdown",
      "source": [
        "###Display the number of null values in each column of the dataframe``\n",
        "\n"
      ],
      "metadata": {
        "id": "YkTH9tRWcrH-"
      }
    },
    {
      "cell_type": "code",
      "source": [
        "Data.isnull().sum()"
      ],
      "metadata": {
        "id": "GK9-PJPxc3Ot",
        "colab": {
          "base_uri": "https://localhost:8080/"
        },
        "outputId": "b0132da1-8d29-46b4-d8f5-64afb0d66912"
      },
      "execution_count": null,
      "outputs": [
        {
          "output_type": "execute_result",
          "data": {
            "text/plain": [
              "Pressure      0\n",
              "Property      0\n",
              "Liq_Sat       0\n",
              "Vap_Sat       0\n",
              "75          528\n",
              "100         508\n",
              "125         488\n",
              "150         448\n",
              "175         384\n",
              "200         320\n",
              "220         408\n",
              "225         400\n",
              "240         408\n",
              "250         344\n",
              "260         384\n",
              "275         340\n",
              "280         380\n",
              "290         488\n",
              "300          60\n",
              "320         480\n",
              "325         136\n",
              "340         476\n",
              "350          68\n",
              "360         476\n",
              "375         204\n",
              "380         476\n",
              "400           0\n",
              "425         204\n",
              "450           0\n",
              "475         204\n",
              "500           0\n",
              "525         272\n",
              "550           0\n",
              "575         340\n",
              "600           0\n",
              "625         476\n",
              "650           0\n",
              "dtype: int64"
            ]
          },
          "metadata": {},
          "execution_count": 396
        }
      ]
    },
    {
      "cell_type": "markdown",
      "source": [
        "###Create a column which contains the Pressure and Property columns, seperated with 'at' (For eg. V at 1, H at 101.325). Using this print the following:\n",
        "- Enthalpy at 75 kPa and 573 K\n",
        "- Entropy at 493 K and 250 kPa\n",
        "\n"
      ],
      "metadata": {
        "id": "Av-lcft2c3mx"
      }
    },
    {
      "cell_type": "code",
      "source": [
        "new_column = list(range(Data.shape[0]))\n",
        "for i in range(Data.shape[0]):\n",
        "  new_column[i] = Data.loc[i, 'Property'] + ' at ' + str(Data.loc[i, 'Pressure'])\n",
        "new_column = pd.Series(new_column)\n",
        "print('{} 75 kPa and 573 K'.format(new_column[2][:4]))\n",
        "print('{} 493 K and 250 kPa'.format(new_column[3][:4]))"
      ],
      "metadata": {
        "id": "B2AihQj_c32C",
        "colab": {
          "base_uri": "https://localhost:8080/"
        },
        "outputId": "8172dc35-7d31-4584-c7a4-bb473720a19f"
      },
      "execution_count": null,
      "outputs": [
        {
          "output_type": "stream",
          "name": "stdout",
          "text": [
            "H at 75 kPa and 573 K\n",
            "S at 493 K and 250 kPa\n"
          ]
        }
      ]
    },
    {
      "cell_type": "markdown",
      "source": [
        "###Find out the column with the highest number of missing values"
      ],
      "metadata": {
        "id": "GpLtXYRLc4Ho"
      }
    },
    {
      "cell_type": "code",
      "source": [
        "for i in range(Data.shape[0]):\n",
        "   if Data.isnull().sum()[i] == max(Data.isnull().sum()):\n",
        "      print(Data.columns[i])\n",
        "      break\n"
      ],
      "metadata": {
        "id": "q80Grgeyc4Xn",
        "colab": {
          "base_uri": "https://localhost:8080/"
        },
        "outputId": "1f0dfe88-dac9-45c4-b792-db8a88d57549"
      },
      "execution_count": null,
      "outputs": [
        {
          "output_type": "stream",
          "name": "stdout",
          "text": [
            "75\n"
          ]
        }
      ]
    },
    {
      "cell_type": "markdown",
      "source": [
        "###What is the average enthalpy of Sat. Liq. at all different pressures in the dataset ?"
      ],
      "metadata": {
        "id": "74NVHTTac4nv"
      }
    },
    {
      "cell_type": "code",
      "source": [
        "avg_H, x = 0, 0\n",
        "for i in range(Data.shape[0]):\n",
        "  if Data.loc[i, 'Property'] == 'H':\n",
        "    avg_H = avg_H + Data.loc[i, 'Liq_Sat']\n",
        "    x = x + 1\n",
        "print(avg_H/x)"
      ],
      "metadata": {
        "id": "g3mByhBDdpVr",
        "colab": {
          "base_uri": "https://localhost:8080/"
        },
        "outputId": "1b96f66e-131a-48a8-dde6-07a3badbe35b"
      },
      "execution_count": null,
      "outputs": [
        {
          "output_type": "stream",
          "name": "stdout",
          "text": [
            "936.9707720588237\n"
          ]
        }
      ]
    },
    {
      "cell_type": "markdown",
      "source": [
        "###Separate out the V,U,H,S data from the dataset into V_data, U_data, H_data, S_data"
      ],
      "metadata": {
        "id": "uS-SuqU8dpxg"
      }
    },
    {
      "cell_type": "code",
      "source": [
        "V_data = Data[Data['Property'] == 'V']\n",
        "U_data = Data[Data['Property'] == 'U']\n",
        "H_data = Data[Data['Property'] == 'H']\n",
        "S_data = Data[Data['Property'] == 'S']\n",
        "V_data = V_data.drop(\"Property\", axis=1)\n",
        "U_data = U_data.drop(\"Property\", axis=1)\n",
        "H_data = H_data.drop(\"Property\", axis=1)\n",
        "S_data = S_data.drop(\"Property\", axis=1)\n",
        "V_data = V_data.reset_index(drop=True)\n",
        "U_data = U_data.reset_index(drop=True)\n",
        "H_data = H_data.reset_index(drop=True)\n",
        "S_data = S_data.reset_index(drop=True)\n",
        "V_data"
      ],
      "metadata": {
        "id": "Sg3V9Toyd1Av",
        "colab": {
          "base_uri": "https://localhost:8080/",
          "height": 443
        },
        "outputId": "3a19a760-7629-4160-d38a-1505a08d5fbe"
      },
      "execution_count": null,
      "outputs": [
        {
          "output_type": "execute_result",
          "data": {
            "text/plain": [
              "     Pressure  Liq_Sat     Vap_Sat        75       100       125       150  \\\n",
              "0         1.0    1.000  129200.000  160640.0  172180.0  183720.0  195270.0   \n",
              "1        10.0    1.010   14670.000   16030.0   17190.0   18350.0   19510.0   \n",
              "2        20.0    1.017    7649.800    8000.0    8584.7    9167.1    9748.0   \n",
              "3        30.0    1.022    5229.300    5322.0    5714.4    6104.6    6493.2   \n",
              "4        40.0    1.027    3993.400       NaN    4279.2    4573.3    4865.8   \n",
              "..        ...      ...         ...       ...       ...       ...       ...   \n",
              "131   10600.0    1.474      16.778       NaN       NaN       NaN       NaN   \n",
              "132   10800.0    1.481      16.385       NaN       NaN       NaN       NaN   \n",
              "133   11000.0    1.489      16.006       NaN       NaN       NaN       NaN   \n",
              "134   11200.0    1.496      15.639       NaN       NaN       NaN       NaN   \n",
              "135   11400.0    1.504      15.284       NaN       NaN       NaN       NaN   \n",
              "\n",
              "          175       200  220  ...     425         450     475         500  \\\n",
              "0    206810.0  218350.0  NaN  ...     NaN  333730.000     NaN  356810.000   \n",
              "1     20660.0   21820.0  NaN  ...     NaN   33370.000     NaN   35670.000   \n",
              "2     10320.0   10900.0  NaN  ...     NaN   16680.000     NaN   17830.000   \n",
              "3      6880.8    7267.5  NaN  ...     NaN   11120.000     NaN   11890.000   \n",
              "4      5157.2    5447.8  NaN  ...     NaN    8340.100     NaN    8917.600   \n",
              "..        ...       ...  ...  ...     ...         ...     ...         ...   \n",
              "131       NaN       NaN  NaN  ...  26.276      27.834  29.313      30.732   \n",
              "132       NaN       NaN  NaN  ...  25.703      27.245  28.706      30.106   \n",
              "133       NaN       NaN  NaN  ...  25.151      26.676  28.120      29.503   \n",
              "134       NaN       NaN  NaN  ...  24.619      26.128  27.555      28.921   \n",
              "135       NaN       NaN  NaN  ...  24.104      25.599  27.010      28.359   \n",
              "\n",
              "        525         550     575         600     625         650  \n",
              "0       NaN  379880.000     NaN  402960.000     NaN  426040.000  \n",
              "1       NaN   37980.000     NaN   40290.000     NaN   42600.000  \n",
              "2       NaN   18990.000     NaN   20140.000     NaN   21300.000  \n",
              "3       NaN   12660.000     NaN   13430.000     NaN   14190.000  \n",
              "4       NaN    9494.900     NaN   10070.000     NaN   10640.000  \n",
              "..      ...         ...     ...         ...     ...         ...  \n",
              "131  32.106      33.444  34.753      36.039  37.304      38.552  \n",
              "132  31.461      32.779  34.069      35.335  36.580      37.808  \n",
              "133  30.839      32.139  33.410      34.656  35.882      37.091  \n",
              "134  30.240      31.521  32.774      34.002  35.210      36.400  \n",
              "135  29.661      30.925  32.160      33.370  34.560      35.733  \n",
              "\n",
              "[136 rows x 36 columns]"
            ],
            "text/html": [
              "\n",
              "  <div id=\"df-5a18e59e-39d8-4a0d-9c9e-8b2f80ce9753\" class=\"colab-df-container\">\n",
              "    <div>\n",
              "<style scoped>\n",
              "    .dataframe tbody tr th:only-of-type {\n",
              "        vertical-align: middle;\n",
              "    }\n",
              "\n",
              "    .dataframe tbody tr th {\n",
              "        vertical-align: top;\n",
              "    }\n",
              "\n",
              "    .dataframe thead th {\n",
              "        text-align: right;\n",
              "    }\n",
              "</style>\n",
              "<table border=\"1\" class=\"dataframe\">\n",
              "  <thead>\n",
              "    <tr style=\"text-align: right;\">\n",
              "      <th></th>\n",
              "      <th>Pressure</th>\n",
              "      <th>Liq_Sat</th>\n",
              "      <th>Vap_Sat</th>\n",
              "      <th>75</th>\n",
              "      <th>100</th>\n",
              "      <th>125</th>\n",
              "      <th>150</th>\n",
              "      <th>175</th>\n",
              "      <th>200</th>\n",
              "      <th>220</th>\n",
              "      <th>...</th>\n",
              "      <th>425</th>\n",
              "      <th>450</th>\n",
              "      <th>475</th>\n",
              "      <th>500</th>\n",
              "      <th>525</th>\n",
              "      <th>550</th>\n",
              "      <th>575</th>\n",
              "      <th>600</th>\n",
              "      <th>625</th>\n",
              "      <th>650</th>\n",
              "    </tr>\n",
              "  </thead>\n",
              "  <tbody>\n",
              "    <tr>\n",
              "      <th>0</th>\n",
              "      <td>1.0</td>\n",
              "      <td>1.000</td>\n",
              "      <td>129200.000</td>\n",
              "      <td>160640.0</td>\n",
              "      <td>172180.0</td>\n",
              "      <td>183720.0</td>\n",
              "      <td>195270.0</td>\n",
              "      <td>206810.0</td>\n",
              "      <td>218350.0</td>\n",
              "      <td>NaN</td>\n",
              "      <td>...</td>\n",
              "      <td>NaN</td>\n",
              "      <td>333730.000</td>\n",
              "      <td>NaN</td>\n",
              "      <td>356810.000</td>\n",
              "      <td>NaN</td>\n",
              "      <td>379880.000</td>\n",
              "      <td>NaN</td>\n",
              "      <td>402960.000</td>\n",
              "      <td>NaN</td>\n",
              "      <td>426040.000</td>\n",
              "    </tr>\n",
              "    <tr>\n",
              "      <th>1</th>\n",
              "      <td>10.0</td>\n",
              "      <td>1.010</td>\n",
              "      <td>14670.000</td>\n",
              "      <td>16030.0</td>\n",
              "      <td>17190.0</td>\n",
              "      <td>18350.0</td>\n",
              "      <td>19510.0</td>\n",
              "      <td>20660.0</td>\n",
              "      <td>21820.0</td>\n",
              "      <td>NaN</td>\n",
              "      <td>...</td>\n",
              "      <td>NaN</td>\n",
              "      <td>33370.000</td>\n",
              "      <td>NaN</td>\n",
              "      <td>35670.000</td>\n",
              "      <td>NaN</td>\n",
              "      <td>37980.000</td>\n",
              "      <td>NaN</td>\n",
              "      <td>40290.000</td>\n",
              "      <td>NaN</td>\n",
              "      <td>42600.000</td>\n",
              "    </tr>\n",
              "    <tr>\n",
              "      <th>2</th>\n",
              "      <td>20.0</td>\n",
              "      <td>1.017</td>\n",
              "      <td>7649.800</td>\n",
              "      <td>8000.0</td>\n",
              "      <td>8584.7</td>\n",
              "      <td>9167.1</td>\n",
              "      <td>9748.0</td>\n",
              "      <td>10320.0</td>\n",
              "      <td>10900.0</td>\n",
              "      <td>NaN</td>\n",
              "      <td>...</td>\n",
              "      <td>NaN</td>\n",
              "      <td>16680.000</td>\n",
              "      <td>NaN</td>\n",
              "      <td>17830.000</td>\n",
              "      <td>NaN</td>\n",
              "      <td>18990.000</td>\n",
              "      <td>NaN</td>\n",
              "      <td>20140.000</td>\n",
              "      <td>NaN</td>\n",
              "      <td>21300.000</td>\n",
              "    </tr>\n",
              "    <tr>\n",
              "      <th>3</th>\n",
              "      <td>30.0</td>\n",
              "      <td>1.022</td>\n",
              "      <td>5229.300</td>\n",
              "      <td>5322.0</td>\n",
              "      <td>5714.4</td>\n",
              "      <td>6104.6</td>\n",
              "      <td>6493.2</td>\n",
              "      <td>6880.8</td>\n",
              "      <td>7267.5</td>\n",
              "      <td>NaN</td>\n",
              "      <td>...</td>\n",
              "      <td>NaN</td>\n",
              "      <td>11120.000</td>\n",
              "      <td>NaN</td>\n",
              "      <td>11890.000</td>\n",
              "      <td>NaN</td>\n",
              "      <td>12660.000</td>\n",
              "      <td>NaN</td>\n",
              "      <td>13430.000</td>\n",
              "      <td>NaN</td>\n",
              "      <td>14190.000</td>\n",
              "    </tr>\n",
              "    <tr>\n",
              "      <th>4</th>\n",
              "      <td>40.0</td>\n",
              "      <td>1.027</td>\n",
              "      <td>3993.400</td>\n",
              "      <td>NaN</td>\n",
              "      <td>4279.2</td>\n",
              "      <td>4573.3</td>\n",
              "      <td>4865.8</td>\n",
              "      <td>5157.2</td>\n",
              "      <td>5447.8</td>\n",
              "      <td>NaN</td>\n",
              "      <td>...</td>\n",
              "      <td>NaN</td>\n",
              "      <td>8340.100</td>\n",
              "      <td>NaN</td>\n",
              "      <td>8917.600</td>\n",
              "      <td>NaN</td>\n",
              "      <td>9494.900</td>\n",
              "      <td>NaN</td>\n",
              "      <td>10070.000</td>\n",
              "      <td>NaN</td>\n",
              "      <td>10640.000</td>\n",
              "    </tr>\n",
              "    <tr>\n",
              "      <th>...</th>\n",
              "      <td>...</td>\n",
              "      <td>...</td>\n",
              "      <td>...</td>\n",
              "      <td>...</td>\n",
              "      <td>...</td>\n",
              "      <td>...</td>\n",
              "      <td>...</td>\n",
              "      <td>...</td>\n",
              "      <td>...</td>\n",
              "      <td>...</td>\n",
              "      <td>...</td>\n",
              "      <td>...</td>\n",
              "      <td>...</td>\n",
              "      <td>...</td>\n",
              "      <td>...</td>\n",
              "      <td>...</td>\n",
              "      <td>...</td>\n",
              "      <td>...</td>\n",
              "      <td>...</td>\n",
              "      <td>...</td>\n",
              "      <td>...</td>\n",
              "    </tr>\n",
              "    <tr>\n",
              "      <th>131</th>\n",
              "      <td>10600.0</td>\n",
              "      <td>1.474</td>\n",
              "      <td>16.778</td>\n",
              "      <td>NaN</td>\n",
              "      <td>NaN</td>\n",
              "      <td>NaN</td>\n",
              "      <td>NaN</td>\n",
              "      <td>NaN</td>\n",
              "      <td>NaN</td>\n",
              "      <td>NaN</td>\n",
              "      <td>...</td>\n",
              "      <td>26.276</td>\n",
              "      <td>27.834</td>\n",
              "      <td>29.313</td>\n",
              "      <td>30.732</td>\n",
              "      <td>32.106</td>\n",
              "      <td>33.444</td>\n",
              "      <td>34.753</td>\n",
              "      <td>36.039</td>\n",
              "      <td>37.304</td>\n",
              "      <td>38.552</td>\n",
              "    </tr>\n",
              "    <tr>\n",
              "      <th>132</th>\n",
              "      <td>10800.0</td>\n",
              "      <td>1.481</td>\n",
              "      <td>16.385</td>\n",
              "      <td>NaN</td>\n",
              "      <td>NaN</td>\n",
              "      <td>NaN</td>\n",
              "      <td>NaN</td>\n",
              "      <td>NaN</td>\n",
              "      <td>NaN</td>\n",
              "      <td>NaN</td>\n",
              "      <td>...</td>\n",
              "      <td>25.703</td>\n",
              "      <td>27.245</td>\n",
              "      <td>28.706</td>\n",
              "      <td>30.106</td>\n",
              "      <td>31.461</td>\n",
              "      <td>32.779</td>\n",
              "      <td>34.069</td>\n",
              "      <td>35.335</td>\n",
              "      <td>36.580</td>\n",
              "      <td>37.808</td>\n",
              "    </tr>\n",
              "    <tr>\n",
              "      <th>133</th>\n",
              "      <td>11000.0</td>\n",
              "      <td>1.489</td>\n",
              "      <td>16.006</td>\n",
              "      <td>NaN</td>\n",
              "      <td>NaN</td>\n",
              "      <td>NaN</td>\n",
              "      <td>NaN</td>\n",
              "      <td>NaN</td>\n",
              "      <td>NaN</td>\n",
              "      <td>NaN</td>\n",
              "      <td>...</td>\n",
              "      <td>25.151</td>\n",
              "      <td>26.676</td>\n",
              "      <td>28.120</td>\n",
              "      <td>29.503</td>\n",
              "      <td>30.839</td>\n",
              "      <td>32.139</td>\n",
              "      <td>33.410</td>\n",
              "      <td>34.656</td>\n",
              "      <td>35.882</td>\n",
              "      <td>37.091</td>\n",
              "    </tr>\n",
              "    <tr>\n",
              "      <th>134</th>\n",
              "      <td>11200.0</td>\n",
              "      <td>1.496</td>\n",
              "      <td>15.639</td>\n",
              "      <td>NaN</td>\n",
              "      <td>NaN</td>\n",
              "      <td>NaN</td>\n",
              "      <td>NaN</td>\n",
              "      <td>NaN</td>\n",
              "      <td>NaN</td>\n",
              "      <td>NaN</td>\n",
              "      <td>...</td>\n",
              "      <td>24.619</td>\n",
              "      <td>26.128</td>\n",
              "      <td>27.555</td>\n",
              "      <td>28.921</td>\n",
              "      <td>30.240</td>\n",
              "      <td>31.521</td>\n",
              "      <td>32.774</td>\n",
              "      <td>34.002</td>\n",
              "      <td>35.210</td>\n",
              "      <td>36.400</td>\n",
              "    </tr>\n",
              "    <tr>\n",
              "      <th>135</th>\n",
              "      <td>11400.0</td>\n",
              "      <td>1.504</td>\n",
              "      <td>15.284</td>\n",
              "      <td>NaN</td>\n",
              "      <td>NaN</td>\n",
              "      <td>NaN</td>\n",
              "      <td>NaN</td>\n",
              "      <td>NaN</td>\n",
              "      <td>NaN</td>\n",
              "      <td>NaN</td>\n",
              "      <td>...</td>\n",
              "      <td>24.104</td>\n",
              "      <td>25.599</td>\n",
              "      <td>27.010</td>\n",
              "      <td>28.359</td>\n",
              "      <td>29.661</td>\n",
              "      <td>30.925</td>\n",
              "      <td>32.160</td>\n",
              "      <td>33.370</td>\n",
              "      <td>34.560</td>\n",
              "      <td>35.733</td>\n",
              "    </tr>\n",
              "  </tbody>\n",
              "</table>\n",
              "<p>136 rows × 36 columns</p>\n",
              "</div>\n",
              "    <div class=\"colab-df-buttons\">\n",
              "\n",
              "  <div class=\"colab-df-container\">\n",
              "    <button class=\"colab-df-convert\" onclick=\"convertToInteractive('df-5a18e59e-39d8-4a0d-9c9e-8b2f80ce9753')\"\n",
              "            title=\"Convert this dataframe to an interactive table.\"\n",
              "            style=\"display:none;\">\n",
              "\n",
              "  <svg xmlns=\"http://www.w3.org/2000/svg\" height=\"24px\" viewBox=\"0 -960 960 960\">\n",
              "    <path d=\"M120-120v-720h720v720H120Zm60-500h600v-160H180v160Zm220 220h160v-160H400v160Zm0 220h160v-160H400v160ZM180-400h160v-160H180v160Zm440 0h160v-160H620v160ZM180-180h160v-160H180v160Zm440 0h160v-160H620v160Z\"/>\n",
              "  </svg>\n",
              "    </button>\n",
              "\n",
              "  <style>\n",
              "    .colab-df-container {\n",
              "      display:flex;\n",
              "      gap: 12px;\n",
              "    }\n",
              "\n",
              "    .colab-df-convert {\n",
              "      background-color: #E8F0FE;\n",
              "      border: none;\n",
              "      border-radius: 50%;\n",
              "      cursor: pointer;\n",
              "      display: none;\n",
              "      fill: #1967D2;\n",
              "      height: 32px;\n",
              "      padding: 0 0 0 0;\n",
              "      width: 32px;\n",
              "    }\n",
              "\n",
              "    .colab-df-convert:hover {\n",
              "      background-color: #E2EBFA;\n",
              "      box-shadow: 0px 1px 2px rgba(60, 64, 67, 0.3), 0px 1px 3px 1px rgba(60, 64, 67, 0.15);\n",
              "      fill: #174EA6;\n",
              "    }\n",
              "\n",
              "    .colab-df-buttons div {\n",
              "      margin-bottom: 4px;\n",
              "    }\n",
              "\n",
              "    [theme=dark] .colab-df-convert {\n",
              "      background-color: #3B4455;\n",
              "      fill: #D2E3FC;\n",
              "    }\n",
              "\n",
              "    [theme=dark] .colab-df-convert:hover {\n",
              "      background-color: #434B5C;\n",
              "      box-shadow: 0px 1px 3px 1px rgba(0, 0, 0, 0.15);\n",
              "      filter: drop-shadow(0px 1px 2px rgba(0, 0, 0, 0.3));\n",
              "      fill: #FFFFFF;\n",
              "    }\n",
              "  </style>\n",
              "\n",
              "    <script>\n",
              "      const buttonEl =\n",
              "        document.querySelector('#df-5a18e59e-39d8-4a0d-9c9e-8b2f80ce9753 button.colab-df-convert');\n",
              "      buttonEl.style.display =\n",
              "        google.colab.kernel.accessAllowed ? 'block' : 'none';\n",
              "\n",
              "      async function convertToInteractive(key) {\n",
              "        const element = document.querySelector('#df-5a18e59e-39d8-4a0d-9c9e-8b2f80ce9753');\n",
              "        const dataTable =\n",
              "          await google.colab.kernel.invokeFunction('convertToInteractive',\n",
              "                                                    [key], {});\n",
              "        if (!dataTable) return;\n",
              "\n",
              "        const docLinkHtml = 'Like what you see? Visit the ' +\n",
              "          '<a target=\"_blank\" href=https://colab.research.google.com/notebooks/data_table.ipynb>data table notebook</a>'\n",
              "          + ' to learn more about interactive tables.';\n",
              "        element.innerHTML = '';\n",
              "        dataTable['output_type'] = 'display_data';\n",
              "        await google.colab.output.renderOutput(dataTable, element);\n",
              "        const docLink = document.createElement('div');\n",
              "        docLink.innerHTML = docLinkHtml;\n",
              "        element.appendChild(docLink);\n",
              "      }\n",
              "    </script>\n",
              "  </div>\n",
              "\n",
              "\n",
              "<div id=\"df-edcb166e-06d7-415c-bd32-b39f0429fb92\">\n",
              "  <button class=\"colab-df-quickchart\" onclick=\"quickchart('df-edcb166e-06d7-415c-bd32-b39f0429fb92')\"\n",
              "            title=\"Suggest charts\"\n",
              "            style=\"display:none;\">\n",
              "\n",
              "<svg xmlns=\"http://www.w3.org/2000/svg\" height=\"24px\"viewBox=\"0 0 24 24\"\n",
              "     width=\"24px\">\n",
              "    <g>\n",
              "        <path d=\"M19 3H5c-1.1 0-2 .9-2 2v14c0 1.1.9 2 2 2h14c1.1 0 2-.9 2-2V5c0-1.1-.9-2-2-2zM9 17H7v-7h2v7zm4 0h-2V7h2v10zm4 0h-2v-4h2v4z\"/>\n",
              "    </g>\n",
              "</svg>\n",
              "  </button>\n",
              "\n",
              "<style>\n",
              "  .colab-df-quickchart {\n",
              "      --bg-color: #E8F0FE;\n",
              "      --fill-color: #1967D2;\n",
              "      --hover-bg-color: #E2EBFA;\n",
              "      --hover-fill-color: #174EA6;\n",
              "      --disabled-fill-color: #AAA;\n",
              "      --disabled-bg-color: #DDD;\n",
              "  }\n",
              "\n",
              "  [theme=dark] .colab-df-quickchart {\n",
              "      --bg-color: #3B4455;\n",
              "      --fill-color: #D2E3FC;\n",
              "      --hover-bg-color: #434B5C;\n",
              "      --hover-fill-color: #FFFFFF;\n",
              "      --disabled-bg-color: #3B4455;\n",
              "      --disabled-fill-color: #666;\n",
              "  }\n",
              "\n",
              "  .colab-df-quickchart {\n",
              "    background-color: var(--bg-color);\n",
              "    border: none;\n",
              "    border-radius: 50%;\n",
              "    cursor: pointer;\n",
              "    display: none;\n",
              "    fill: var(--fill-color);\n",
              "    height: 32px;\n",
              "    padding: 0;\n",
              "    width: 32px;\n",
              "  }\n",
              "\n",
              "  .colab-df-quickchart:hover {\n",
              "    background-color: var(--hover-bg-color);\n",
              "    box-shadow: 0 1px 2px rgba(60, 64, 67, 0.3), 0 1px 3px 1px rgba(60, 64, 67, 0.15);\n",
              "    fill: var(--button-hover-fill-color);\n",
              "  }\n",
              "\n",
              "  .colab-df-quickchart-complete:disabled,\n",
              "  .colab-df-quickchart-complete:disabled:hover {\n",
              "    background-color: var(--disabled-bg-color);\n",
              "    fill: var(--disabled-fill-color);\n",
              "    box-shadow: none;\n",
              "  }\n",
              "\n",
              "  .colab-df-spinner {\n",
              "    border: 2px solid var(--fill-color);\n",
              "    border-color: transparent;\n",
              "    border-bottom-color: var(--fill-color);\n",
              "    animation:\n",
              "      spin 1s steps(1) infinite;\n",
              "  }\n",
              "\n",
              "  @keyframes spin {\n",
              "    0% {\n",
              "      border-color: transparent;\n",
              "      border-bottom-color: var(--fill-color);\n",
              "      border-left-color: var(--fill-color);\n",
              "    }\n",
              "    20% {\n",
              "      border-color: transparent;\n",
              "      border-left-color: var(--fill-color);\n",
              "      border-top-color: var(--fill-color);\n",
              "    }\n",
              "    30% {\n",
              "      border-color: transparent;\n",
              "      border-left-color: var(--fill-color);\n",
              "      border-top-color: var(--fill-color);\n",
              "      border-right-color: var(--fill-color);\n",
              "    }\n",
              "    40% {\n",
              "      border-color: transparent;\n",
              "      border-right-color: var(--fill-color);\n",
              "      border-top-color: var(--fill-color);\n",
              "    }\n",
              "    60% {\n",
              "      border-color: transparent;\n",
              "      border-right-color: var(--fill-color);\n",
              "    }\n",
              "    80% {\n",
              "      border-color: transparent;\n",
              "      border-right-color: var(--fill-color);\n",
              "      border-bottom-color: var(--fill-color);\n",
              "    }\n",
              "    90% {\n",
              "      border-color: transparent;\n",
              "      border-bottom-color: var(--fill-color);\n",
              "    }\n",
              "  }\n",
              "</style>\n",
              "\n",
              "  <script>\n",
              "    async function quickchart(key) {\n",
              "      const quickchartButtonEl =\n",
              "        document.querySelector('#' + key + ' button');\n",
              "      quickchartButtonEl.disabled = true;  // To prevent multiple clicks.\n",
              "      quickchartButtonEl.classList.add('colab-df-spinner');\n",
              "      try {\n",
              "        const charts = await google.colab.kernel.invokeFunction(\n",
              "            'suggestCharts', [key], {});\n",
              "      } catch (error) {\n",
              "        console.error('Error during call to suggestCharts:', error);\n",
              "      }\n",
              "      quickchartButtonEl.classList.remove('colab-df-spinner');\n",
              "      quickchartButtonEl.classList.add('colab-df-quickchart-complete');\n",
              "    }\n",
              "    (() => {\n",
              "      let quickchartButtonEl =\n",
              "        document.querySelector('#df-edcb166e-06d7-415c-bd32-b39f0429fb92 button');\n",
              "      quickchartButtonEl.style.display =\n",
              "        google.colab.kernel.accessAllowed ? 'block' : 'none';\n",
              "    })();\n",
              "  </script>\n",
              "</div>\n",
              "\n",
              "  <div id=\"id_d0961509-baec-479c-a94f-139b46631205\">\n",
              "    <style>\n",
              "      .colab-df-generate {\n",
              "        background-color: #E8F0FE;\n",
              "        border: none;\n",
              "        border-radius: 50%;\n",
              "        cursor: pointer;\n",
              "        display: none;\n",
              "        fill: #1967D2;\n",
              "        height: 32px;\n",
              "        padding: 0 0 0 0;\n",
              "        width: 32px;\n",
              "      }\n",
              "\n",
              "      .colab-df-generate:hover {\n",
              "        background-color: #E2EBFA;\n",
              "        box-shadow: 0px 1px 2px rgba(60, 64, 67, 0.3), 0px 1px 3px 1px rgba(60, 64, 67, 0.15);\n",
              "        fill: #174EA6;\n",
              "      }\n",
              "\n",
              "      [theme=dark] .colab-df-generate {\n",
              "        background-color: #3B4455;\n",
              "        fill: #D2E3FC;\n",
              "      }\n",
              "\n",
              "      [theme=dark] .colab-df-generate:hover {\n",
              "        background-color: #434B5C;\n",
              "        box-shadow: 0px 1px 3px 1px rgba(0, 0, 0, 0.15);\n",
              "        filter: drop-shadow(0px 1px 2px rgba(0, 0, 0, 0.3));\n",
              "        fill: #FFFFFF;\n",
              "      }\n",
              "    </style>\n",
              "    <button class=\"colab-df-generate\" onclick=\"generateWithVariable('V_data')\"\n",
              "            title=\"Generate code using this dataframe.\"\n",
              "            style=\"display:none;\">\n",
              "\n",
              "  <svg xmlns=\"http://www.w3.org/2000/svg\" height=\"24px\"viewBox=\"0 0 24 24\"\n",
              "       width=\"24px\">\n",
              "    <path d=\"M7,19H8.4L18.45,9,17,7.55,7,17.6ZM5,21V16.75L18.45,3.32a2,2,0,0,1,2.83,0l1.4,1.43a1.91,1.91,0,0,1,.58,1.4,1.91,1.91,0,0,1-.58,1.4L9.25,21ZM18.45,9,17,7.55Zm-12,3A5.31,5.31,0,0,0,4.9,8.1,5.31,5.31,0,0,0,1,6.5,5.31,5.31,0,0,0,4.9,4.9,5.31,5.31,0,0,0,6.5,1,5.31,5.31,0,0,0,8.1,4.9,5.31,5.31,0,0,0,12,6.5,5.46,5.46,0,0,0,6.5,12Z\"/>\n",
              "  </svg>\n",
              "    </button>\n",
              "    <script>\n",
              "      (() => {\n",
              "      const buttonEl =\n",
              "        document.querySelector('#id_d0961509-baec-479c-a94f-139b46631205 button.colab-df-generate');\n",
              "      buttonEl.style.display =\n",
              "        google.colab.kernel.accessAllowed ? 'block' : 'none';\n",
              "\n",
              "      buttonEl.onclick = () => {\n",
              "        google.colab.notebook.generateWithVariable('V_data');\n",
              "      }\n",
              "      })();\n",
              "    </script>\n",
              "  </div>\n",
              "\n",
              "    </div>\n",
              "  </div>\n"
            ]
          },
          "metadata": {},
          "execution_count": 400
        }
      ]
    },
    {
      "cell_type": "markdown",
      "source": [
        "#Section 3: PLotting the PLOTS"
      ],
      "metadata": {
        "id": "Ghkj0-0-d1W7"
      }
    },
    {
      "cell_type": "markdown",
      "source": [
        "###Plot the properties (specific volume, specific internal energy, specific enthalpy, specific entropy) vs Pressure for saturated liquid.\n",
        "\n",
        "Note:\n",
        "- Try using the subplot feature of matplotlib(Explore it!!)\n",
        "- Provide appropriate title, labels, markersize and other parameters to the plot"
      ],
      "metadata": {
        "id": "ka0qrDcZeAL6"
      }
    },
    {
      "cell_type": "code",
      "source": [
        "fig, ax = plt.subplots(2, 2)\n",
        "ax[0, 0].plot(V_data['Pressure'], V_data['Liq_Sat'])\n",
        "ax[0, 1].plot(U_data['Pressure'], U_data['Liq_Sat'])\n",
        "ax[1, 0].plot(H_data['Pressure'], H_data['Liq_Sat'])\n",
        "ax[1, 1].plot(S_data['Pressure'], S_data['Liq_Sat'])\n",
        "ax[0, 0].set_title('Specific Volume vs Pressure')\n",
        "ax[0, 0].set_xlabel('Pressure')\n",
        "ax[0, 0].set_ylabel('Specific Volume')\n",
        "ax[0, 1].set_title('Specific Internal Energy vs Pressure')\n",
        "ax[0, 1].set_xlabel('Pressure')\n",
        "ax[0, 1].set_ylabel('Specific Internal Energy')\n",
        "ax[1, 0].set_title('Specific Enthalpy vs Pressure')\n",
        "ax[1, 0].set_xlabel('Pressure')\n",
        "ax[1, 0].set_ylabel('Specific Enthalpy')\n",
        "ax[1, 1].set_title('Specific Entropy vs Pressure')\n",
        "ax[1, 1].set_xlabel('Pressure')\n",
        "ax[1, 1].set_ylabel('Specific Entropy')\n",
        "\n",
        "fig.tight_layout(pad = 2.0)\n",
        "plt.show()"
      ],
      "metadata": {
        "id": "XbKdm-cUePKA",
        "colab": {
          "base_uri": "https://localhost:8080/",
          "height": 461
        },
        "outputId": "c5b3d9ce-1a7c-49d5-fd28-d5e6879144e3"
      },
      "execution_count": null,
      "outputs": [
        {
          "output_type": "display_data",
          "data": {
            "text/plain": [
              "<Figure size 640x480 with 4 Axes>"
            ],
            "image/png": "[encoded data removed]"
          },
          "metadata": {}
        }
      ]
    },
    {
      "cell_type": "markdown",
      "source": [
        "###Plot the specific volume of saturated liquid between 300 kPa and 1500 kPa"
      ],
      "metadata": {
        "id": "SCLRji6TeQgh"
      }
    },
    {
      "cell_type": "code",
      "source": [
        "plt.plot(V_data['Pressure'], V_data['Liq_Sat'])\n",
        "plt.xlim(300,1500)\n",
        "plt.xlabel('Pressure')\n",
        "plt.ylabel('Specific Volume')\n",
        "plt.title('Specific Volume of Saturated Liquid vs Pressure')\n",
        "plt.show()"
      ],
      "metadata": {
        "id": "u6DyyI7MeYgE",
        "colab": {
          "base_uri": "https://localhost:8080/",
          "height": 472
        },
        "outputId": "5ddd5ecb-4bb7-4420-86a0-3057f9c598ce"
      },
      "execution_count": null,
      "outputs": [
        {
          "output_type": "display_data",
          "data": {
            "text/plain": [
              "<Figure size 640x480 with 1 Axes>"
            ],
            "image/png": "[encoded data removed]"
          },
          "metadata": {}
        }
      ]
    },
    {
      "cell_type": "markdown",
      "source": [
        "#Linear Regression\n",
        "You're given a 100 data points generated from the function\n",
        "$y=mx+c$. Some noise is added to the y values.\n",
        "\n",
        "**Task:** Estimate the values of m and c using linear regression. Write a suitable cost function and update the parameters."
      ],
      "metadata": {
        "id": "6N_8T4KnfnOG"
      }
    },
    {
      "cell_type": "code",
      "source": [
        " # Generation of data points\n",
        "x = np.random.rand(100)*100\n",
        "y = -4*x+15\n",
        "y = y+np.random.randn(100)*30\n",
        "plt.scatter(x,y)\n",
        "plt.show()"
      ],
      "metadata": {
        "id": "qK0CKt8WfuO9",
        "colab": {
          "base_uri": "https://localhost:8080/",
          "height": 430
        },
        "outputId": "ff9c1654-eec1-4ef6-ad36-ec12d3ec494e"
      },
      "execution_count": null,
      "outputs": [
        {
          "output_type": "display_data",
          "data": {
            "text/plain": [
              "<Figure size 640x480 with 1 Axes>"
            ],
            "image/png": "[encoded data removed]"
          },
          "metadata": {}
        }
      ]
    },
    {
      "cell_type": "code",
      "source": [
        "m, c = 0, 0\n",
        "predictions = m*x + c\n",
        "\n",
        "def cost_function(m,c):\n",
        "   cost_func = 0\n",
        "   for i in range(len(x)):\n",
        "     cost_func += ((m*x[i] + c - y[i])**2)/2\n",
        "   return cost_func\n",
        "print(cost_function(m,c))\n",
        "#Function for updating parameter\n",
        "def update_function_c(m,c):\n",
        "   update_in_c = 0\n",
        "   for i in range(len(x)):\n",
        "     update_in_c += -learning_rate*((m*x[i] + c) - y[i])\n",
        "   return update_in_c\n",
        "\n",
        "def update_function_m(m,c):\n",
        "   update_in_m = 0\n",
        "   for i in range(len(x)):\n",
        "     update_in_m += -learning_rate*(((m*x[i] + c) -y[i])*x[i])\n",
        "   return update_in_m"
      ],
      "metadata": {
        "id": "0lyjPEfmiC-e",
        "colab": {
          "base_uri": "https://localhost:8080/"
        },
        "outputId": "ff3642b1-2e72-4d18-8d8c-0b7a0b3e72c5"
      },
      "execution_count": null,
      "outputs": [
        {
          "output_type": "stream",
          "name": "stdout",
          "text": [
            "2232356.852630447\n"
          ]
        }
      ]
    },
    {
      "cell_type": "markdown",
      "source": [
        "Run the model"
      ],
      "metadata": {
        "id": "JPy839WUiOvz"
      }
    },
    {
      "cell_type": "code",
      "source": [
        "epochs = 80000\n",
        "learning_rate = 0.000003\n",
        "for i in range(epochs):\n",
        "   c = c + update_function_c(m,c)\n",
        "   m = m + update_function_m(m,c)\n",
        "print(cost_function(m,c))"
      ],
      "metadata": {
        "id": "sf8s00SUiYhN",
        "colab": {
          "base_uri": "https://localhost:8080/"
        },
        "outputId": "1ecfbe46-9439-427f-820a-d7564a5aab62"
      },
      "execution_count": null,
      "outputs": [
        {
          "output_type": "stream",
          "name": "stdout",
          "text": [
            "39735.9562392313\n"
          ]
        }
      ]
    },
    {
      "cell_type": "code",
      "source": [
        "print(m,c)  # value should be close to (-4,15)"
      ],
      "metadata": {
        "id": "_g7W3mloilGn",
        "colab": {
          "base_uri": "https://localhost:8080/"
        },
        "outputId": "dc5c6225-a693-4246-9619-e304fc18a25c"
      },
      "execution_count": null,
      "outputs": [
        {
          "output_type": "stream",
          "name": "stdout",
          "text": [
            "-3.9553988678460317 16.694000838768975\n"
          ]
        }
      ]
    }
  ]
}