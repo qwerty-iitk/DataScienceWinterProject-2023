{
  "nbformat": 4,
  "nbformat_minor": 0,
  "metadata": {
    "colab": {
      "provenance": []
    },
    "kernelspec": {
      "name": "python3",
      "display_name": "Python 3"
    },
    "language_info": {
      "name": "python"
    }
  },
  "cells": [
    {
      "cell_type": "markdown",
      "source": [
        "# Week-1 Assignment\n",
        "\n",
        "**Welcome to your first assignment for the SimuTech Winter Project 2022! I hope you are excited to implement and test everything you have learned up until now. There is an interesting set of questions for you to refine your acquired skills as you delve into hands-on coding and deepen your understanding of numpy, pandas, and data visualization libraries.**\n",
        "\n",
        "P.S. You might find use of functions which you have never used before.So feel free to google"
      ],
      "metadata": {
        "id": "UOzd0zRXW5Uv"
      }
    },
    {
      "cell_type": "markdown",
      "source": [
        "# Section0 : Importing Libraries"
      ],
      "metadata": {
        "id": "2XFUXyq9Y9TG"
      }
    },
    {
      "cell_type": "markdown",
      "source": [
        "*Let's begin by importing numpy, pandas and matplotlib.*"
      ],
      "metadata": {
        "id": "D_bzcLusjSO0"
      }
    },
    {
      "cell_type": "code",
      "source": [
        "import numpy as np\n",
        "import pandas as pd\n",
        "import matplotlib.pyplot as plt\n",
        "import math"
      ],
      "metadata": {
        "id": "jdwX7bI7aGeY"
      },
      "execution_count": 67,
      "outputs": []
    },
    {
      "cell_type": "markdown",
      "source": [
        "# Section1 : Playing with Python and Numpy"
      ],
      "metadata": {
        "id": "LM25mz5ta-Q_"
      }
    },
    {
      "cell_type": "markdown",
      "source": [
        "### Q1. Matrix Multiplication"
      ],
      "metadata": {
        "id": "TcFQVqhAdQw_"
      }
    },
    {
      "cell_type": "markdown",
      "source": [
        "##### (i) Check if matrix multiplication is valid"
      ],
      "metadata": {
        "id": "6Dcai9pys0j8"
      }
    },
    {
      "cell_type": "code",
      "source": [
        "def isValid(A,B):\n",
        "  num_cols_A = len(A[0])\n",
        "  num_rows_B = len(B)\n",
        "  return num_cols_A == num_rows_B"
      ],
      "metadata": {
        "id": "0qC4txIss3gG"
      },
      "execution_count": 68,
      "outputs": []
    },
    {
      "cell_type": "markdown",
      "source": [
        "##### (ii) Using loops (without using numpy)"
      ],
      "metadata": {
        "id": "OPTfRGlTdXxa"
      }
    },
    {
      "cell_type": "code",
      "source": [
        "def matrix_multiply(A,B):\n",
        "  result = [[0 for _ in range(len(B[0]))] for _ in range(len(A))]\n",
        "  for i in range(len(A)):\n",
        "        for j in range(len(B[0])):\n",
        "            for k in range(len(B)):\n",
        "                result[i][j] += A[i][k] * B[k][j]\n",
        "\n",
        "  return result"
      ],
      "metadata": {
        "id": "V8F5ETsRct3S"
      },
      "execution_count": 69,
      "outputs": []
    },
    {
      "cell_type": "markdown",
      "source": [
        "##### (iii) Using numpy"
      ],
      "metadata": {
        "id": "umUgUTSWdos8"
      }
    },
    {
      "cell_type": "code",
      "source": [
        "def matrix_multiply_2(A,B):\n",
        "  return np.dot(A,B)"
      ],
      "metadata": {
        "id": "-tdXlCHrduBP"
      },
      "execution_count": 70,
      "outputs": []
    },
    {
      "cell_type": "markdown",
      "source": [
        "##### (iv) Testing your code\n",
        "\n",
        "Run the following cell to check if your functions are working properly.\n",
        "\n",
        "*Expected output:*\n",
        "[ [102 108 114]\n",
        " [246 261 276]\n",
        " [390 414 438]\n",
        " [534 567 600] ]"
      ],
      "metadata": {
        "id": "2nMFnl84edJG"
      }
    },
    {
      "cell_type": "code",
      "source": [
        "A = np.array([\n",
        "    [1, 2, 3],\n",
        "    [4, 5, 6],\n",
        "    [7, 8, 9],\n",
        "    [10, 11, 12]\n",
        "])\n",
        "\n",
        "B = np.array([\n",
        "    [13, 14, 15],\n",
        "    [16, 17, 18],\n",
        "    [19, 20, 21]\n",
        "])\n",
        "\n",
        "if isValid(A,B):\n",
        "  print(f\"Result using loops: {matrix_multiply(A,B)}\")\n",
        "  print(f\"Result using numpy: {matrix_multiply_2(A,B)}\")\n",
        "else:\n",
        "  print(f\"Matrix multiplication is not valid\")"
      ],
      "metadata": {
        "id": "09rX_Cm9ezmq",
        "colab": {
          "base_uri": "https://localhost:8080/"
        },
        "outputId": "b6c17705-60fd-428d-af29-1afefb1c9155"
      },
      "execution_count": 71,
      "outputs": [
        {
          "output_type": "stream",
          "name": "stdout",
          "text": [
            "Result using loops: [[102, 108, 114], [246, 261, 276], [390, 414, 438], [534, 567, 600]]\n",
            "Result using numpy: [[102 108 114]\n",
            " [246 261 276]\n",
            " [390 414 438]\n",
            " [534 567 600]]\n"
          ]
        }
      ]
    },
    {
      "cell_type": "markdown",
      "source": [
        "### Q2. Z-Score Normalisation"
      ],
      "metadata": {
        "id": "5hfP7Ao1fwqV"
      }
    },
    {
      "cell_type": "markdown",
      "source": [
        "Z-score normalization refers to the process of normalizing every value in a dataset such that the mean of all of the values is 0 and the standard deviation is 1.\n",
        "\n",
        "We use the following formula to perform a z-score normalization on every value in a dataset:\n",
        "\n",
        "New value = (x – μ) / σ\n",
        "\n",
        "where:\n",
        "\n",
        "x: Original value\n",
        "\n",
        "μ: Mean of data\n",
        "\n",
        "σ: Standard deviation of data"
      ],
      "metadata": {
        "id": "0e81Xx5Kw_CQ"
      }
    },
    {
      "cell_type": "markdown",
      "source": [
        "##### (i) Without using numpy"
      ],
      "metadata": {
        "id": "GP_MuyUbguSR"
      }
    },
    {
      "cell_type": "code",
      "source": [
        "def mean(x):\n",
        "  return sum(x)/len(x)"
      ],
      "metadata": {
        "id": "0vix8qaaghwP"
      },
      "execution_count": 72,
      "outputs": []
    },
    {
      "cell_type": "code",
      "source": [
        "def standard_deviation(x):\n",
        "  mu = mean(x)\n",
        "  squared_diff = [(i - mu) ** 2 for i in x]\n",
        "  mean_squared_diff = sum(squared_diff) / len(x)\n",
        "  std_deviation = mean_squared_diff ** 0.5\n",
        "  return std_deviation"
      ],
      "metadata": {
        "id": "j1qabel-g_f5"
      },
      "execution_count": 73,
      "outputs": []
    },
    {
      "cell_type": "code",
      "source": [
        "def zscore_normalisation(x):\n",
        "   mu = mean(x)\n",
        "   sig = standard_deviation(x)\n",
        "   normalised = [(i - mu)/sig for i in x]\n",
        "   return normalised"
      ],
      "metadata": {
        "id": "797ewbNqhEpY"
      },
      "execution_count": 74,
      "outputs": []
    },
    {
      "cell_type": "markdown",
      "source": [
        "##### (ii) Using numpy\n",
        "\n",
        "Numpy has in_built functions for calculating mean and standard deviation"
      ],
      "metadata": {
        "id": "k8dq1wqRhbUB"
      }
    },
    {
      "cell_type": "code",
      "source": [
        "def zscore_normalisation_2(x):\n",
        "  mu = np.mean(x)\n",
        "  sig = np.std(x)\n",
        "  normalised = [(i - mu)/sig for i in x]\n",
        "  return normalised"
      ],
      "metadata": {
        "id": "WjxJTUDihsYg"
      },
      "execution_count": 75,
      "outputs": []
    },
    {
      "cell_type": "markdown",
      "source": [
        "##### (iii) Testing your code"
      ],
      "metadata": {
        "id": "glRqKU-_1pue"
      }
    },
    {
      "cell_type": "markdown",
      "source": [
        "Run the following cell to check if your functions are working properly.\n",
        "\n",
        "*Expected Output:* [-1.06753267 -0.99745394 -0.99745394 -0.81057732 -0.41346451 -0.06307086\n",
        "  0.31068237  0.91803138  1.22170588  1.89913361]"
      ],
      "metadata": {
        "id": "Kl7XBymOigCU"
      }
    },
    {
      "cell_type": "code",
      "source": [
        "x = [4, 7, 7, 15, 32, 47, 63, 89, 102, 131]\n",
        "print(f\"Result without using numpy: {zscore_normalisation(x)}\")\n",
        "print(f\"Result using numpy: {zscore_normalisation_2(x)}\")"
      ],
      "metadata": {
        "id": "78ptZxf6ipZp",
        "colab": {
          "base_uri": "https://localhost:8080/"
        },
        "outputId": "0d2892de-f82b-4ac6-c2eb-4c94222fea6d"
      },
      "execution_count": 76,
      "outputs": [
        {
          "output_type": "stream",
          "name": "stdout",
          "text": [
            "Result without using numpy: [-1.0675326683028088, -0.9974539373420117, -0.9974539373420117, -0.8105773214465528, -0.41346451266870277, -0.06307085786471743, 0.3106823739262003, 0.9180313755864415, 1.2217058764165623, 1.8991336090376005]\n",
            "Result using numpy: [-1.0675326683028088, -0.9974539373420117, -0.9974539373420117, -0.8105773214465528, -0.41346451266870277, -0.06307085786471743, 0.3106823739262003, 0.9180313755864415, 1.2217058764165623, 1.8991336090376005]\n"
          ]
        }
      ]
    },
    {
      "cell_type": "markdown",
      "source": [
        "### Q3. Sigmoid fn and its derivative"
      ],
      "metadata": {
        "id": "0WVscJ0z14rp"
      }
    },
    {
      "cell_type": "markdown",
      "source": [
        "The sigmoid function is a mathematical function that maps any input value to a value between 0 and 1.\n",
        "\n",
        "It is defined mathematically as s(x) = 1/(1+e^(-x))."
      ],
      "metadata": {
        "id": "Jfntb0Rg94Tu"
      }
    },
    {
      "cell_type": "markdown",
      "source": [
        "##### (i) Write a fn to implement sigmoid fn"
      ],
      "metadata": {
        "id": "8SCAPkjO2m7u"
      }
    },
    {
      "cell_type": "code",
      "source": [
        "def sigmoidfn(x):\n",
        "  return 1/(1+np.exp(-x))"
      ],
      "metadata": {
        "id": "jL_TRQFG2l5m"
      },
      "execution_count": 77,
      "outputs": []
    },
    {
      "cell_type": "markdown",
      "source": [
        "##### (ii) Write a fn to implement derivative of sigmoid fn"
      ],
      "metadata": {
        "id": "t7KBbl7N3AUM"
      }
    },
    {
      "cell_type": "code",
      "source": [
        "def derivative(x):\n",
        "  s = sigmoidfn(x)\n",
        "  return s*(1-s)"
      ],
      "metadata": {
        "id": "okjuOpba3KOJ"
      },
      "execution_count": 78,
      "outputs": []
    },
    {
      "cell_type": "markdown",
      "source": [
        "##### (iii) Test your code"
      ],
      "metadata": {
        "id": "NdGTSpsp3mwr"
      }
    },
    {
      "cell_type": "markdown",
      "source": [
        "Run the following cell to check if your functions are working properly.\n",
        "\n",
        "*Expected output:*\n",
        "\n",
        "x on applying sigmoid activation fn is: [ [0.99987661 0.88079708 0.99330715 0.5        0.5       ]\n",
        " [0.99908895 0.99330715 0.5        0.5        0.5       ] ]\n",
        "\n",
        "x on applying derivative of sigmoid activation fn is: [ [-1.23379350e-04 -1.04993585e-01 -6.64805667e-03 -2.50000000e-01\n",
        "  -2.50000000e-01]\n",
        " [-9.10221180e-04 -6.64805667e-03 -2.50000000e-01 -2.50000000e-01\n",
        "  -2.50000000e-01] ]"
      ],
      "metadata": {
        "id": "lWY8RBex7gnd"
      }
    },
    {
      "cell_type": "code",
      "source": [
        "x = np.array([\n",
        "    [9,2,5,0,0],\n",
        "    [7,5,0,0,0]\n",
        "])\n",
        "print(f\"x on applying sigmoid activation fn is: {sigmoidfn(x)}\")\n",
        "print(f\"x on applying derivative of sigmoid activation fn is: {derivative(x)}\")"
      ],
      "metadata": {
        "id": "ssDGpmS33vdA",
        "colab": {
          "base_uri": "https://localhost:8080/"
        },
        "outputId": "8eedf8eb-7996-46d1-bdd9-624bd298648d"
      },
      "execution_count": 79,
      "outputs": [
        {
          "output_type": "stream",
          "name": "stdout",
          "text": [
            "x on applying sigmoid activation fn is: [[0.99987661 0.88079708 0.99330715 0.5        0.5       ]\n",
            " [0.99908895 0.99330715 0.5        0.5        0.5       ]]\n",
            "x on applying derivative of sigmoid activation fn is: [[1.23379350e-04 1.04993585e-01 6.64805667e-03 2.50000000e-01\n",
            "  2.50000000e-01]\n",
            " [9.10221180e-04 6.64805667e-03 2.50000000e-01 2.50000000e-01\n",
            "  2.50000000e-01]]\n"
          ]
        }
      ]
    },
    {
      "cell_type": "markdown",
      "source": [
        "# Section 2: Playing with Pandas"
      ],
      "metadata": {
        "id": "PMa0cseyZpa1"
      }
    },
    {
      "cell_type": "markdown",
      "source": [
        "###Read the csv file\n"
      ],
      "metadata": {
        "id": "i5Okb_jxZ_VW"
      }
    },
    {
      "cell_type": "code",
      "source": [
        "file_path = \"superheated_vapor_properties.csv\"\n",
        "df = pd.read_csv(file_path)"
      ],
      "metadata": {
        "id": "aQgvyavrcM1l"
      },
      "execution_count": 80,
      "outputs": []
    },
    {
      "cell_type": "markdown",
      "source": [
        "###Display the shape of data frame\n"
      ],
      "metadata": {
        "id": "Zp8F3rk2cNxy"
      }
    },
    {
      "cell_type": "code",
      "source": [
        "print(\"Shape of the CSV file:\", df.shape)"
      ],
      "metadata": {
        "id": "v3Q8kQkucgK0",
        "colab": {
          "base_uri": "https://localhost:8080/"
        },
        "outputId": "acf57866-2477-43e7-dcb3-2b5f7f315d0b"
      },
      "execution_count": 81,
      "outputs": [
        {
          "output_type": "stream",
          "name": "stdout",
          "text": [
            "Shape of the CSV file: (544, 37)\n"
          ]
        }
      ]
    },
    {
      "cell_type": "markdown",
      "source": [
        "###Return an array containing names of all the columns"
      ],
      "metadata": {
        "id": "w49cp-8zcgd2"
      }
    },
    {
      "cell_type": "code",
      "source": [
        "column_names = df.columns.to_numpy()\n",
        "print(column_names)"
      ],
      "metadata": {
        "id": "fz4HRb3JcsZp",
        "colab": {
          "base_uri": "https://localhost:8080/"
        },
        "outputId": "4e74c485-c70c-4668-bbda-edc246146e1b"
      },
      "execution_count": 82,
      "outputs": [
        {
          "output_type": "stream",
          "name": "stdout",
          "text": [
            "['Pressure' 'Property' 'Liq_Sat' 'Vap_Sat' '75' '100' '125' '150' '175'\n",
            " '200' '220' '225' '240' '250' '260' '275' '280' '290' '300' '320' '325'\n",
            " '340' '350' '360' '375' '380' '400' '425' '450' '475' '500' '525' '550'\n",
            " '575' '600' '625' '650']\n"
          ]
        }
      ]
    },
    {
      "cell_type": "markdown",
      "source": [
        "###Display the number of null values in each column of the dataframe``\n",
        "\n"
      ],
      "metadata": {
        "id": "YkTH9tRWcrH-"
      }
    },
    {
      "cell_type": "code",
      "source": [
        "null_counts = df.isnull().sum()\n",
        "print(null_counts)"
      ],
      "metadata": {
        "id": "GK9-PJPxc3Ot",
        "colab": {
          "base_uri": "https://localhost:8080/"
        },
        "outputId": "1a16e732-084e-4241-8bb2-b78ed397d026"
      },
      "execution_count": 83,
      "outputs": [
        {
          "output_type": "stream",
          "name": "stdout",
          "text": [
            "Pressure      0\n",
            "Property      0\n",
            "Liq_Sat       0\n",
            "Vap_Sat       0\n",
            "75          528\n",
            "100         508\n",
            "125         488\n",
            "150         448\n",
            "175         384\n",
            "200         320\n",
            "220         408\n",
            "225         400\n",
            "240         408\n",
            "250         344\n",
            "260         384\n",
            "275         340\n",
            "280         380\n",
            "290         488\n",
            "300          60\n",
            "320         480\n",
            "325         136\n",
            "340         476\n",
            "350          68\n",
            "360         476\n",
            "375         204\n",
            "380         476\n",
            "400           0\n",
            "425         204\n",
            "450           0\n",
            "475         204\n",
            "500           0\n",
            "525         272\n",
            "550           0\n",
            "575         340\n",
            "600           0\n",
            "625         476\n",
            "650           0\n",
            "dtype: int64\n"
          ]
        }
      ]
    },
    {
      "cell_type": "markdown",
      "source": [
        "###Create a column which contains the Pressure and Property columns, seperated with 'at' (For eg. V at 1, H at 101.325). Using this print the following:\n",
        "- Enthalpy at 75 kPa and 573 K\n",
        "- Entropy at 493 K and 250 kPa\n",
        "\n"
      ],
      "metadata": {
        "id": "Av-lcft2c3mx"
      }
    },
    {
      "cell_type": "code",
      "source": [
        "df['Combined'] = df['Property'] + ' at ' + df['Pressure'].astype(str)\n",
        "print(df['Combined'])\n",
        "\n",
        "df1 = df[df['Combined']=='H at 75.0']\n",
        "df1 = df1.reset_index(drop=True)\n",
        "print(f\"Enthalpy at 75 kPa and 573 K: {(df1['550']+df1['600'])/2}\")\n",
        "df2 = df[df['Combined']=='S at 250.0']\n",
        "df2 = df2.reset_index(drop=True)\n",
        "print(f\"Enthalpy at 493 K and 250 kPa: {df2['500']}\")"
      ],
      "metadata": {
        "id": "B2AihQj_c32C",
        "colab": {
          "base_uri": "https://localhost:8080/"
        },
        "outputId": "8c56a94a-d947-4de6-dd88-10dd6d57e7d0"
      },
      "execution_count": 84,
      "outputs": [
        {
          "output_type": "stream",
          "name": "stdout",
          "text": [
            "0          V at 1.0\n",
            "1          U at 1.0\n",
            "2          H at 1.0\n",
            "3          S at 1.0\n",
            "4         V at 10.0\n",
            "           ...     \n",
            "539    S at 11200.0\n",
            "540    V at 11400.0\n",
            "541    U at 11400.0\n",
            "542    H at 11400.0\n",
            "543    S at 11400.0\n",
            "Name: Combined, Length: 544, dtype: object\n",
            "Enthalpy at 75 kPa and 573 K: 0    3650.4\n",
            "dtype: float64\n",
            "Enthalpy at 493 K and 250 kPa: 0    8.4104\n",
            "Name: 500, dtype: float64\n"
          ]
        }
      ]
    },
    {
      "cell_type": "markdown",
      "source": [
        "###Find out the column with the highest number of missing values"
      ],
      "metadata": {
        "id": "GpLtXYRLc4Ho"
      }
    },
    {
      "cell_type": "code",
      "source": [
        "max_missing_column = null_counts.idxmax()\n",
        "print(max_missing_column)"
      ],
      "metadata": {
        "id": "q80Grgeyc4Xn",
        "colab": {
          "base_uri": "https://localhost:8080/"
        },
        "outputId": "869d69aa-7ad6-42ee-9594-cb58c878837c"
      },
      "execution_count": 85,
      "outputs": [
        {
          "output_type": "stream",
          "name": "stdout",
          "text": [
            "75\n"
          ]
        }
      ]
    },
    {
      "cell_type": "markdown",
      "source": [
        "###What is the average enthalpy of Sat. Liq. at all different pressures in the dataset ?"
      ],
      "metadata": {
        "id": "74NVHTTac4nv"
      }
    },
    {
      "cell_type": "code",
      "source": [
        "print(df['Liq_Sat'].mean())"
      ],
      "metadata": {
        "id": "g3mByhBDdpVr",
        "colab": {
          "base_uri": "https://localhost:8080/"
        },
        "outputId": "d34d00fc-e712-4baa-f74d-e97db6ce01ed"
      },
      "execution_count": 86,
      "outputs": [
        {
          "output_type": "stream",
          "name": "stdout",
          "text": [
            "468.2353709558824\n"
          ]
        }
      ]
    },
    {
      "cell_type": "markdown",
      "source": [
        "###Separate out the V,U,H,S data from the dataset into V_data, U_data, H_data, S_data"
      ],
      "metadata": {
        "id": "uS-SuqU8dpxg"
      }
    },
    {
      "cell_type": "code",
      "source": [
        "V_data = df[df['Property'] == 'V']\n",
        "U_data = df[df['Property'] == 'U']\n",
        "H_data = df[df['Property'] == 'H']\n",
        "S_data = df[df['Property'] == 'S']\n",
        "\n",
        "print(\"V_data:\")\n",
        "print(V_data.head())\n",
        "\n",
        "print(\"\\nU_data:\")\n",
        "print(U_data.head())\n",
        "\n",
        "print(\"\\nH_data:\")\n",
        "print(H_data.head())\n",
        "\n",
        "print(\"\\nS_data:\")\n",
        "print(S_data.head())"
      ],
      "metadata": {
        "id": "Sg3V9Toyd1Av",
        "colab": {
          "base_uri": "https://localhost:8080/"
        },
        "outputId": "c3053633-1596-43b0-cf1e-8eeafa80b05c"
      },
      "execution_count": 87,
      "outputs": [
        {
          "output_type": "stream",
          "name": "stdout",
          "text": [
            "V_data:\n",
            "    Pressure Property  Liq_Sat   Vap_Sat        75       100       125  \\\n",
            "0        1.0        V    1.000  129200.0  160640.0  172180.0  183720.0   \n",
            "4       10.0        V    1.010   14670.0   16030.0   17190.0   18350.0   \n",
            "8       20.0        V    1.017    7649.8    8000.0    8584.7    9167.1   \n",
            "12      30.0        V    1.022    5229.3    5322.0    5714.4    6104.6   \n",
            "16      40.0        V    1.027    3993.4       NaN    4279.2    4573.3   \n",
            "\n",
            "         150       175       200  ...       450  475       500  525       550  \\\n",
            "0   195270.0  206810.0  218350.0  ...  333730.0  NaN  356810.0  NaN  379880.0   \n",
            "4    19510.0   20660.0   21820.0  ...   33370.0  NaN   35670.0  NaN   37980.0   \n",
            "8     9748.0   10320.0   10900.0  ...   16680.0  NaN   17830.0  NaN   18990.0   \n",
            "12    6493.2    6880.8    7267.5  ...   11120.0  NaN   11890.0  NaN   12660.0   \n",
            "16    4865.8    5157.2    5447.8  ...    8340.1  NaN    8917.6  NaN    9494.9   \n",
            "\n",
            "    575       600  625       650   Combined  \n",
            "0   NaN  402960.0  NaN  426040.0   V at 1.0  \n",
            "4   NaN   40290.0  NaN   42600.0  V at 10.0  \n",
            "8   NaN   20140.0  NaN   21300.0  V at 20.0  \n",
            "12  NaN   13430.0  NaN   14190.0  V at 30.0  \n",
            "16  NaN   10070.0  NaN   10640.0  V at 40.0  \n",
            "\n",
            "[5 rows x 38 columns]\n",
            "\n",
            "U_data:\n",
            "    Pressure Property  Liq_Sat  Vap_Sat      75     100     125     150  \\\n",
            "1        1.0        U   29.334   2385.2  2480.8  2516.4  2552.3  2588.5   \n",
            "5       10.0        U  191.822   2438.0  2479.7  2515.6  2551.6  2588.0   \n",
            "9       20.0        U  251.432   2456.9  2478.4  2514.6  2550.9  2587.4   \n",
            "13      30.0        U  289.271   2468.6  2477.1  2513.6  2550.2  2586.8   \n",
            "17      40.0        U  317.609   2477.1     NaN  2512.6  2549.4  2586.2   \n",
            "\n",
            "       175     200  ...     450  475     500  525     550  575     600  625  \\\n",
            "1   2624.9  2661.7  ...  3049.9  NaN  3132.4  NaN  3216.7  NaN  3302.6  NaN   \n",
            "5   2624.5  2661.4  ...  3049.8  NaN  3132.3  NaN  3216.6  NaN  3302.6  NaN   \n",
            "9   2624.1  2661.0  ...  3049.7  NaN  3132.3  NaN  3216.5  NaN  3302.5  NaN   \n",
            "13  2623.6  2660.7  ...  3049.6  NaN  3132.2  NaN  3216.5  NaN  3302.5  NaN   \n",
            "17  2623.2  2660.3  ...  3049.5  NaN  3132.1  NaN  3216.4  NaN  3302.4  NaN   \n",
            "\n",
            "       650   Combined  \n",
            "1   3390.3   U at 1.0  \n",
            "5   3390.3  U at 10.0  \n",
            "9   3390.2  U at 20.0  \n",
            "13  3390.2  U at 30.0  \n",
            "17  3390.1  U at 40.0  \n",
            "\n",
            "[5 rows x 38 columns]\n",
            "\n",
            "H_data:\n",
            "    Pressure Property  Liq_Sat  Vap_Sat      75     100     125     150  \\\n",
            "2        1.0        H   29.335   2514.4  2641.5  2688.6  2736.0  2783.7   \n",
            "6       10.0        H  191.832   2584.8  2640.0  2687.5  2735.2  2783.1   \n",
            "10      20.0        H  251.453   2609.9  2638.4  2686.3  2734.2  2782.3   \n",
            "14      30.0        H  289.302   2625.4  2636.8  2685.1  2733.3  2781.6   \n",
            "18      40.0        H  317.650   2636.9     NaN  2683.8  2732.3  2780.9   \n",
            "\n",
            "       175     200  ...     450  475     500  525     550  575     600  625  \\\n",
            "2   2831.7  2880.1  ...  3383.6  NaN  3489.2  NaN  3596.5  NaN  3705.6  NaN   \n",
            "6   2831.2  2879.6  ...  3383.5  NaN  3489.1  NaN  3596.5  NaN  3705.5  NaN   \n",
            "10  2830.6  2879.2  ...  3383.4  NaN  3489.0  NaN  3596.4  NaN  3705.4  NaN   \n",
            "14  2830.0  2878.7  ...  3383.3  NaN  3488.9  NaN  3596.3  NaN  3705.4  NaN   \n",
            "18  2829.5  2878.2  ...  3383.1  NaN  3488.8  NaN  3596.2  NaN  3705.3  NaN   \n",
            "\n",
            "       650   Combined  \n",
            "2   3816.4   H at 1.0  \n",
            "6   3816.3  H at 10.0  \n",
            "10  3816.2  H at 20.0  \n",
            "14  3816.2  H at 30.0  \n",
            "18  3816.1  H at 40.0  \n",
            "\n",
            "[5 rows x 38 columns]\n",
            "\n",
            "S_data:\n",
            "    Pressure Property  Liq_Sat  Vap_Sat      75     100     125     150  \\\n",
            "3        1.0        S   0.1060   8.9767  9.3828  9.5136  9.6365  9.7527   \n",
            "7       10.0        S   0.6493   8.1511  8.3168  8.4486  8.5722  8.6888   \n",
            "11      20.0        S   0.8321   7.9094  7.9933  8.1261  8.2504  8.3676   \n",
            "15      30.0        S   0.9441   7.7695  7.8024  7.9363  8.0614  8.1791   \n",
            "19      40.0        S   1.0261   7.6709     NaN  7.8009  7.9268  8.0450   \n",
            "\n",
            "       175     200  ...      450  475      500  525      550  575      600  \\\n",
            "3   9.8629  9.9679  ...  10.8200  NaN  10.9612  NaN  11.0957  NaN  11.2243   \n",
            "7   8.7994  8.9045  ...   9.7572  NaN   9.8984  NaN  10.0329  NaN  10.1616   \n",
            "11  8.4785  8.5839  ...   9.4372  NaN   9.5784  NaN   9.7130  NaN   9.8416   \n",
            "15  8.2903  8.3960  ...   9.2499  NaN   9.3912  NaN   9.5257  NaN   9.6544   \n",
            "19  8.1566  8.2624  ...   9.1170  NaN   9.2583  NaN   9.3929  NaN   9.5216   \n",
            "\n",
            "    625      650   Combined  \n",
            "3   NaN  11.3476   S at 1.0  \n",
            "7   NaN  10.2849  S at 10.0  \n",
            "11  NaN   9.9650  S at 20.0  \n",
            "15  NaN   9.7778  S at 30.0  \n",
            "19  NaN   9.6450  S at 40.0  \n",
            "\n",
            "[5 rows x 38 columns]\n"
          ]
        }
      ]
    },
    {
      "cell_type": "markdown",
      "source": [
        "#Section 3: PLotting the PLOTS"
      ],
      "metadata": {
        "id": "Ghkj0-0-d1W7"
      }
    },
    {
      "cell_type": "markdown",
      "source": [
        "###Plot the properties (specific volume, specific internal energy, specific enthalpy, specific entropy) vs Pressure for saturated liquid.\n",
        "\n",
        "Note:\n",
        "- Try using the subplot feature of matplotlib(Explore it!!)\n",
        "- Provide appropriate title, labels, markersize and other parameters to the plot"
      ],
      "metadata": {
        "id": "ka0qrDcZeAL6"
      }
    },
    {
      "cell_type": "code",
      "source": [
        "sat_liq_rows_V = df[df['Property'] == 'V']\n",
        "sat_liq_rows_U = df[df['Property'] == 'U']\n",
        "sat_liq_rows_H = df[df['Property'] == 'H']\n",
        "sat_liq_rows_S = df[df['Property'] == 'S']\n",
        "\n",
        "fig, axs = plt.subplots(2, 2, figsize=(10, 8))\n",
        "\n",
        "axs[0, 0].scatter(sat_liq_rows_V['Pressure'], sat_liq_rows_V['Liq_Sat'], marker='*', color='blue', label='Specific Volume')\n",
        "axs[0, 0].set_title('Specific Volume vs Pressure')\n",
        "axs[0, 0].set_xlabel('Pressure')\n",
        "axs[0, 0].set_ylabel('Specific Volume')\n",
        "\n",
        "axs[0, 1].scatter(sat_liq_rows_U['Pressure'], sat_liq_rows_U['Liq_Sat'], marker='*', color='green', label='Specific Internal Energy')\n",
        "axs[0, 1].set_title('Specific Internal Energy vs Pressure')\n",
        "axs[0, 1].set_xlabel('Pressure')\n",
        "axs[0, 1].set_ylabel('Specific Internal Energy')\n",
        "\n",
        "axs[1, 0].scatter(sat_liq_rows_H['Pressure'], sat_liq_rows_H['Liq_Sat'], marker='*', color='red', label='Specific Enthalpy')\n",
        "axs[1, 0].set_title('Specific Enthalpy vs Pressure')\n",
        "axs[1, 0].set_xlabel('Pressure')\n",
        "axs[1, 0].set_ylabel('Specific Enthalpy')\n",
        "\n",
        "axs[1, 1].scatter(sat_liq_rows_S['Pressure'], sat_liq_rows_S['Liq_Sat'], marker='*', color='purple', label='Specific Entropy')\n",
        "axs[1, 1].set_title('Specific Entropy vs Pressure')\n",
        "axs[1, 1].set_xlabel('Pressure')\n",
        "axs[1, 1].set_ylabel('Specific Entropy')\n",
        "\n",
        "plt.tight_layout()\n",
        "plt.show()"
      ],
      "metadata": {
        "id": "XbKdm-cUePKA",
        "colab": {
          "base_uri": "https://localhost:8080/",
          "height": 807
        },
        "outputId": "81aefffd-c1f1-4dec-b399-954f38540a09"
      },
      "execution_count": 88,
      "outputs": [
        {
          "output_type": "display_data",
          "data": {
            "text/plain": [
              "<Figure size 1000x800 with 4 Axes>"
            ],
            "image/png": "[encoded data removed]"
          },
          "metadata": {}
        }
      ]
    },
    {
      "cell_type": "markdown",
      "source": [
        "###Plot the specific volume of saturated liquid between 300 kPa and 1500 kPa"
      ],
      "metadata": {
        "id": "SCLRji6TeQgh"
      }
    },
    {
      "cell_type": "code",
      "source": [
        "pressure_range = (df['Pressure'] >= 300) & (df['Pressure'] <= 1500)\n",
        "sat_liq_range = df[(df['Property'] == 'V') & pressure_range]\n",
        "\n",
        "plt.scatter(sat_liq_range['Pressure'], sat_liq_range['Liq_Sat'], marker='*', color='blue')\n",
        "plt.title('Specific Volume of Saturated Liquid (300 kPa to 1500 kPa)')\n",
        "plt.xlabel('Pressure (kPa)')\n",
        "plt.ylabel('Specific Volume')\n",
        "plt.grid(True)\n",
        "plt.show()"
      ],
      "metadata": {
        "id": "u6DyyI7MeYgE",
        "colab": {
          "base_uri": "https://localhost:8080/",
          "height": 472
        },
        "outputId": "b8339e26-ffc5-4ecc-afce-bca6b0feb3cb"
      },
      "execution_count": 89,
      "outputs": [
        {
          "output_type": "display_data",
          "data": {
            "text/plain": [
              "<Figure size 640x480 with 1 Axes>"
            ],
            "image/png": "[encoded data removed]"
          },
          "metadata": {}
        }
      ]
    },
    {
      "cell_type": "markdown",
      "source": [
        "#Linear Regression\n",
        "You're given a 100 data points generated from the function\n",
        "$y=mx+c$. Some noise is added to the y values.\n",
        "\n",
        "**Task:** Estimate the values of m and c using linear regression. Write a suitable cost function and update the parameters."
      ],
      "metadata": {
        "id": "6N_8T4KnfnOG"
      }
    },
    {
      "cell_type": "code",
      "source": [
        " # Generation of data points\n",
        "x_ = np.random.rand(100)*100\n",
        "y_ = -4*x_+15\n",
        "y_ = y_+np.random.randn(100)*30\n",
        "plt.scatter(x_,y_, marker='*', color='blue')"
      ],
      "metadata": {
        "id": "qK0CKt8WfuO9",
        "colab": {
          "base_uri": "https://localhost:8080/",
          "height": 447
        },
        "outputId": "0c9de792-f0b4-4e64-f1a6-53623e816c64"
      },
      "execution_count": 90,
      "outputs": [
        {
          "output_type": "execute_result",
          "data": {
            "text/plain": [
              "<matplotlib.collections.PathCollection at 0x7a6c34b2a290>"
            ]
          },
          "metadata": {},
          "execution_count": 90
        },
        {
          "output_type": "display_data",
          "data": {
            "text/plain": [
              "<Figure size 640x480 with 1 Axes>"
            ],
            "image/png": "[encoded data removed]"
          },
          "metadata": {}
        }
      ]
    },
    {
      "cell_type": "code",
      "source": [
        "# Initialisng parameters m and c such that the best fit line is given by y = m*x+c\n",
        "m = 0\n",
        "c = 0\n",
        "\n",
        "#Cost function to be minimised\n",
        "def compute_cost(x, y, w, b):\n",
        "    a = x.shape[0]\n",
        "    cost = 0\n",
        "    for i in range(a):\n",
        "        f_wb = w * x[i] + b\n",
        "        cost = cost + (f_wb - y[i])**2\n",
        "    total_cost = 1 / (2 * a) * cost\n",
        "    return total_cost\n",
        "\n",
        "def compute_gradient(x, y, w, b):\n",
        "    a = x.shape[0]\n",
        "    dj_dw = 0\n",
        "    dj_db = 0\n",
        "    for i in range(a):\n",
        "        f_wb = w * x[i] + b\n",
        "        dj_dw_i = (f_wb - y[i]) * x[i]\n",
        "        dj_db_i = f_wb - y[i]\n",
        "        dj_db += dj_db_i\n",
        "        dj_dw += dj_dw_i\n",
        "    dj_dw = dj_dw / a\n",
        "    dj_db = dj_db / a\n",
        "    return dj_dw, dj_db\n",
        "\n",
        "#Function for updating parameter\n",
        "def gradient_descent(x, y, w_in, b_in, alpha, num_iters, cost_function, gradient_function):\n",
        "\n",
        "    J_history = []\n",
        "    p_history = []\n",
        "    b = b_in\n",
        "    w = w_in\n",
        "    for i in range(num_iters):\n",
        "        dj_dw, dj_db = gradient_function(x, y, w , b)\n",
        "        b = b - alpha * dj_db\n",
        "        w = w - alpha * dj_dw\n",
        "        if i<100000:\n",
        "            J_history.append( cost_function(x, y, w , b))\n",
        "            p_history.append([w,b])\n",
        "        current_cost = cost_function(x, y, w, b)\n",
        "    return w, b, J_history, p_history"
      ],
      "metadata": {
        "id": "0lyjPEfmiC-e"
      },
      "execution_count": 91,
      "outputs": []
    },
    {
      "cell_type": "markdown",
      "source": [
        "Run the model"
      ],
      "metadata": {
        "id": "JPy839WUiOvz"
      }
    },
    {
      "cell_type": "code",
      "source": [
        "w_init = m\n",
        "b_init = c\n",
        "# define number of iterations for minimising cost function\n",
        "iterations = 50000\n",
        "\n",
        "# define the learning rate\n",
        "learning_rate = 1.0e-4\n",
        "\n",
        "# run the model\n",
        "w_final, b_final, J_hist, p_hist = gradient_descent(x_ ,y_, w_init, b_init, learning_rate,\n",
        "                                                    iterations, compute_cost, compute_gradient)\n",
        "print(f\"(m,c) found by gradient descent: ({w_final},{b_final})\")\n",
        "m = w_final\n",
        "c = b_final\n",
        "\n",
        "# The final answer can change somewhat, as we need to change and see if the specific pair of\n",
        "# learning rate and iterations can work so some error in answer may appear"
      ],
      "metadata": {
        "id": "sf8s00SUiYhN",
        "colab": {
          "base_uri": "https://localhost:8080/"
        },
        "outputId": "090538a4-cfd3-4a1f-8eba-5e81ce39f84d"
      },
      "execution_count": 92,
      "outputs": [
        {
          "output_type": "stream",
          "name": "stdout",
          "text": [
            "(m,c) found by gradient descent: (-4.005747638436121,16.743636715870224)\n"
          ]
        }
      ]
    },
    {
      "cell_type": "code",
      "source": [
        "print(m,c)  # value should be close to (-4,15)"
      ],
      "metadata": {
        "id": "_g7W3mloilGn",
        "colab": {
          "base_uri": "https://localhost:8080/"
        },
        "outputId": "87572c0a-67ad-4d00-ff43-fb8c87091582"
      },
      "execution_count": 93,
      "outputs": [
        {
          "output_type": "stream",
          "name": "stdout",
          "text": [
            "-4.005747638436121 16.743636715870224\n"
          ]
        }
      ]
    }
  ]
}