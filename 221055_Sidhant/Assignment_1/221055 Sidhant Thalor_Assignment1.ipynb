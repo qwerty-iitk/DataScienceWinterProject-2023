{
  "nbformat": 4,
  "nbformat_minor": 0,
  "metadata": {
    "colab": {
      "provenance": []
    },
    "kernelspec": {
      "name": "python3",
      "display_name": "Python 3"
    },
    "language_info": {
      "name": "python"
    }
  },
  "cells": [
    {
      "cell_type": "markdown",
      "source": [
        "# Week-1 Assignment\n",
        "\n",
        "**Welcome to your first assignment for the SimuTech Winter Project 2022! I hope you are excited to implement and test everything you have learned up until now. There is an interesting set of questions for you to refine your acquired skills as you delve into hands-on coding and deepen your understanding of numpy, pandas, and data visualization libraries.**\n",
        "\n",
        "P.S. You might find use of functions which you have never used before.So feel free to google"
      ],
      "metadata": {
        "id": "UOzd0zRXW5Uv"
      }
    },
    {
      "cell_type": "markdown",
      "source": [
        "# Section0 : Importing Libraries"
      ],
      "metadata": {
        "id": "2XFUXyq9Y9TG"
      }
    },
    {
      "cell_type": "markdown",
      "source": [
        "*Let's begin by importing numpy, pandas and matplotlib.*"
      ],
      "metadata": {
        "id": "D_bzcLusjSO0"
      }
    },
    {
      "cell_type": "code",
      "source": [
        "import numpy as np\n",
        "import pandas as pd\n",
        "import matplotlib.pyplot as plt"
      ],
      "metadata": {
        "id": "jdwX7bI7aGeY"
      },
      "execution_count": 116,
      "outputs": []
    },
    {
      "cell_type": "markdown",
      "source": [
        "# Section1 : Playing with Python and Numpy"
      ],
      "metadata": {
        "id": "LM25mz5ta-Q_"
      }
    },
    {
      "cell_type": "markdown",
      "source": [
        "### Q1. Matrix Multiplication"
      ],
      "metadata": {
        "id": "TcFQVqhAdQw_"
      }
    },
    {
      "cell_type": "markdown",
      "source": [
        "##### (i) Check if matrix multiplication is valid"
      ],
      "metadata": {
        "id": "6Dcai9pys0j8"
      }
    },
    {
      "cell_type": "code",
      "source": [
        "def isValid(A,B):\n",
        "  rows_b = len(B)\n",
        "  cols_a = len(A[0])\n",
        "  if cols_a==rows_b:\n",
        "    return True"
      ],
      "metadata": {
        "id": "0qC4txIss3gG"
      },
      "execution_count": 117,
      "outputs": []
    },
    {
      "cell_type": "markdown",
      "source": [
        "##### (ii) Using loops (without using numpy)"
      ],
      "metadata": {
        "id": "OPTfRGlTdXxa"
      }
    },
    {
      "cell_type": "code",
      "source": [
        "def matrix_multiply(A,B):\n",
        "  rows_a = len(A)\n",
        "  rows_b = len(B)\n",
        "  cols_a = len(A[0])\n",
        "  cols_b =len(B[0])\n",
        "  result = [[0 for _ in range(cols_b)] for _ in range(rows_a)]\n",
        "\n",
        "  for i in range(rows_a):\n",
        "        for j in range(cols_b):\n",
        "            for k in range(cols_a):\n",
        "                result[i][j] += A[i][k] * B[k][j]\n",
        "  return result\n"
      ],
      "metadata": {
        "id": "V8F5ETsRct3S"
      },
      "execution_count": 118,
      "outputs": []
    },
    {
      "cell_type": "markdown",
      "source": [
        "##### (iii) Using numpy"
      ],
      "metadata": {
        "id": "umUgUTSWdos8"
      }
    },
    {
      "cell_type": "code",
      "source": [
        "def matrix_multiply_2(A,B):\n",
        "  return np.dot(A,B)"
      ],
      "metadata": {
        "id": "-tdXlCHrduBP"
      },
      "execution_count": 119,
      "outputs": []
    },
    {
      "cell_type": "markdown",
      "source": [
        "##### (iv) Testing your code\n",
        "\n",
        "Run the following cell to check if your functions are working properly.\n",
        "\n",
        "*Expected output:*\n",
        "[ [102 108 114]\n",
        " [246 261 276]\n",
        " [390 414 438]\n",
        " [534 567 600] ]"
      ],
      "metadata": {
        "id": "2nMFnl84edJG"
      }
    },
    {
      "cell_type": "code",
      "source": [
        "A = np.array([\n",
        "    [1, 2, 3],\n",
        "    [4, 5, 6],\n",
        "    [7, 8, 9],\n",
        "    [10, 11, 12]\n",
        "])\n",
        "\n",
        "B = np.array([\n",
        "    [13, 14, 15],\n",
        "    [16, 17, 18],\n",
        "    [19, 20, 21]\n",
        "])\n",
        "\n",
        "if isValid(A,B):\n",
        "  print(f\"Result using loops: {matrix_multiply(A,B)}\")\n",
        "  print(f\"Result using numpy: {matrix_multiply_2(A,B)}\")\n",
        "else:\n",
        "  print(f\"Matrix multiplication is not valid\")"
      ],
      "metadata": {
        "id": "09rX_Cm9ezmq",
        "outputId": "1c37cf24-443c-4637-d0df-58fdda214c6a",
        "colab": {
          "base_uri": "https://localhost:8080/"
        }
      },
      "execution_count": 120,
      "outputs": [
        {
          "output_type": "stream",
          "name": "stdout",
          "text": [
            "Result using loops: [[102, 108, 114], [246, 261, 276], [390, 414, 438], [534, 567, 600]]\n",
            "Result using numpy: [[102 108 114]\n",
            " [246 261 276]\n",
            " [390 414 438]\n",
            " [534 567 600]]\n"
          ]
        }
      ]
    },
    {
      "cell_type": "markdown",
      "source": [
        "### Q2. Z-Score Normalisation"
      ],
      "metadata": {
        "id": "5hfP7Ao1fwqV"
      }
    },
    {
      "cell_type": "markdown",
      "source": [
        "Z-score normalization refers to the process of normalizing every value in a dataset such that the mean of all of the values is 0 and the standard deviation is 1.\n",
        "\n",
        "We use the following formula to perform a z-score normalization on every value in a dataset:\n",
        "\n",
        "New value = (x – μ) / σ\n",
        "\n",
        "where:\n",
        "\n",
        "x: Original value\n",
        "\n",
        "μ: Mean of data\n",
        "\n",
        "σ: Standard deviation of data"
      ],
      "metadata": {
        "id": "0e81Xx5Kw_CQ"
      }
    },
    {
      "cell_type": "markdown",
      "source": [
        "##### (i) Without using numpy"
      ],
      "metadata": {
        "id": "GP_MuyUbguSR"
      }
    },
    {
      "cell_type": "code",
      "source": [
        "def mean(x):\n",
        "  return sum(x) / len(x)\n",
        "print(mean(x = [4, 7, 7, 15, 32, 47, 63, 89, 102, 131]))"
      ],
      "metadata": {
        "id": "0vix8qaaghwP",
        "colab": {
          "base_uri": "https://localhost:8080/"
        },
        "outputId": "7130aaf2-5dd9-49f5-e88e-d2936a4d895b"
      },
      "execution_count": 121,
      "outputs": [
        {
          "output_type": "stream",
          "name": "stdout",
          "text": [
            "49.7\n"
          ]
        }
      ]
    },
    {
      "cell_type": "code",
      "source": [
        "def standard_deviation(x):\n",
        "  n = len(x)\n",
        "  if n <= 1:\n",
        "    return None\n",
        "  mean = sum(x)/len(x)\n",
        "  variance = sum((i - mean) ** 2 for i in x) / (n)\n",
        "  return variance ** 0.5\n",
        "print(standard_deviation(x = [4, 7, 7, 15, 32, 47, 63, 89, 102, 131]))"
      ],
      "metadata": {
        "id": "JtM4gjLlNo9s",
        "colab": {
          "base_uri": "https://localhost:8080/"
        },
        "outputId": "25b713fa-c3ff-4685-ff9a-d97774c0c82a"
      },
      "execution_count": 122,
      "outputs": [
        {
          "output_type": "stream",
          "name": "stdout",
          "text": [
            "42.8089943820221\n"
          ]
        }
      ]
    },
    {
      "cell_type": "code",
      "source": [
        "def zscore_normalisation(x):\n",
        "  mean = sum(x)/len(x)\n",
        "  std = standard_deviation(x)\n",
        "\n",
        "  if mean is None or std is None or std == 0:\n",
        "    return None\n",
        "\n",
        "  normalized_data = [(i - mean) / std for i in x]\n",
        "  return normalized_data"
      ],
      "metadata": {
        "id": "UcP1s8ndNqov"
      },
      "execution_count": 123,
      "outputs": []
    },
    {
      "cell_type": "markdown",
      "source": [
        "##### (ii) Using numpy\n",
        "\n",
        "Numpy has in_built functions for calculating mean and standard deviation"
      ],
      "metadata": {
        "id": "k8dq1wqRhbUB"
      }
    },
    {
      "cell_type": "code",
      "source": [
        "def zscore_normalisation_2(x):\n",
        "  mean = np.mean(x)\n",
        "  std = np.std(x, ddof=1)\n",
        "  if std == 0:\n",
        "    return None\n",
        "  normalized_data = (x - mean) / std\n",
        "  return normalized_data"
      ],
      "metadata": {
        "id": "WjxJTUDihsYg"
      },
      "execution_count": 124,
      "outputs": []
    },
    {
      "cell_type": "markdown",
      "source": [
        "##### (iii) Testing your code"
      ],
      "metadata": {
        "id": "glRqKU-_1pue"
      }
    },
    {
      "cell_type": "markdown",
      "source": [
        "Run the following cell to check if your functions are working properly.\n",
        "\n",
        "*Expected Output:* [-1.06753267 -0.99745394 -0.99745394 -0.81057732 -0.41346451 -0.06307086\n",
        "  0.31068237  0.91803138  1.22170588  1.89913361]"
      ],
      "metadata": {
        "id": "Kl7XBymOigCU"
      }
    },
    {
      "cell_type": "code",
      "source": [
        "x = [4, 7, 7, 15, 32, 47, 63, 89, 102, 131]\n",
        "print(f\"Result without using numpy: {zscore_normalisation(x)}\")\n",
        "print(f\"Result using numpy: {zscore_normalisation_2(x)}\")"
      ],
      "metadata": {
        "id": "78ptZxf6ipZp",
        "colab": {
          "base_uri": "https://localhost:8080/"
        },
        "outputId": "6202be0f-120d-489f-de3c-41b1f69734f3"
      },
      "execution_count": 125,
      "outputs": [
        {
          "output_type": "stream",
          "name": "stdout",
          "text": [
            "Result without using numpy: [-1.0675326683028088, -0.9974539373420117, -0.9974539373420117, -0.8105773214465528, -0.41346451266870277, -0.06307085786471743, 0.3106823739262003, 0.9180313755864415, 1.2217058764165623, 1.8991336090376005]\n",
            "Result using numpy: [-1.01275041 -0.94626789 -0.94626789 -0.76898117 -0.39224688 -0.05983427\n",
            "  0.29473918  0.87092103  1.15901196  1.80167634]\n"
          ]
        }
      ]
    },
    {
      "cell_type": "markdown",
      "source": [
        "### Q3. Sigmoid fn and its derivative"
      ],
      "metadata": {
        "id": "0WVscJ0z14rp"
      }
    },
    {
      "cell_type": "markdown",
      "source": [
        "The sigmoid function is a mathematical function that maps any input value to a value between 0 and 1.\n",
        "\n",
        "It is defined mathematically as s(x) = 1/(1+e^(-x))."
      ],
      "metadata": {
        "id": "Jfntb0Rg94Tu"
      }
    },
    {
      "cell_type": "markdown",
      "source": [
        "##### (i) Write a fn to implement sigmoid fn"
      ],
      "metadata": {
        "id": "8SCAPkjO2m7u"
      }
    },
    {
      "cell_type": "code",
      "source": [
        "def sigmoidfn(x):\n",
        "  return 1 / (1 + np.exp(-x))"
      ],
      "metadata": {
        "id": "jL_TRQFG2l5m"
      },
      "execution_count": 126,
      "outputs": []
    },
    {
      "cell_type": "markdown",
      "source": [
        "##### (ii) Write a fn to implement derivative of sigmoid fn"
      ],
      "metadata": {
        "id": "t7KBbl7N3AUM"
      }
    },
    {
      "cell_type": "code",
      "source": [
        "def derivative(x):\n",
        "  s = sigmoidfn(x)\n",
        "  return -s * (1 - s)"
      ],
      "metadata": {
        "id": "okjuOpba3KOJ"
      },
      "execution_count": 127,
      "outputs": []
    },
    {
      "cell_type": "markdown",
      "source": [
        "##### (iii) Test your code"
      ],
      "metadata": {
        "id": "NdGTSpsp3mwr"
      }
    },
    {
      "cell_type": "markdown",
      "source": [
        "Run the following cell to check if your functions are working properly.\n",
        "\n",
        "*Expected output:*\n",
        "\n",
        "x on applying sigmoid activation fn is: [ [0.99987661 0.88079708 0.99330715 0.5        0.5       ]\n",
        " [0.99908895 0.99330715 0.5        0.5        0.5       ] ]\n",
        "\n",
        "x on applying derivative of sigmoid activation fn is: [ [-1.23379350e-04 -1.04993585e-01 -6.64805667e-03 -2.50000000e-01\n",
        "  -2.50000000e-01]\n",
        " [-9.10221180e-04 -6.64805667e-03 -2.50000000e-01 -2.50000000e-01\n",
        "  -2.50000000e-01] ]"
      ],
      "metadata": {
        "id": "lWY8RBex7gnd"
      }
    },
    {
      "cell_type": "code",
      "source": [
        "x = np.array([\n",
        "    [9,2,5,0,0],\n",
        "    [7,5,0,0,0]\n",
        "])\n",
        "print(f\"x on applying sigmoid activation fn is: {sigmoidfn(x)}\")\n",
        "print(f\"x on applying derivative of sigmoid activation fn is: {derivative(x)}\")"
      ],
      "metadata": {
        "id": "ssDGpmS33vdA",
        "colab": {
          "base_uri": "https://localhost:8080/"
        },
        "outputId": "bc22243f-3a35-4d61-d61c-699bd7c31843"
      },
      "execution_count": 128,
      "outputs": [
        {
          "output_type": "stream",
          "name": "stdout",
          "text": [
            "x on applying sigmoid activation fn is: [[0.99987661 0.88079708 0.99330715 0.5        0.5       ]\n",
            " [0.99908895 0.99330715 0.5        0.5        0.5       ]]\n",
            "x on applying derivative of sigmoid activation fn is: [[-1.23379350e-04 -1.04993585e-01 -6.64805667e-03 -2.50000000e-01\n",
            "  -2.50000000e-01]\n",
            " [-9.10221180e-04 -6.64805667e-03 -2.50000000e-01 -2.50000000e-01\n",
            "  -2.50000000e-01]]\n"
          ]
        }
      ]
    },
    {
      "cell_type": "markdown",
      "source": [
        "# Section 2: Playing with Pandas"
      ],
      "metadata": {
        "id": "PMa0cseyZpa1"
      }
    },
    {
      "cell_type": "markdown",
      "source": [
        "###Read the csv file\n"
      ],
      "metadata": {
        "id": "i5Okb_jxZ_VW"
      }
    },
    {
      "cell_type": "code",
      "source": [
        "csv_file_path = '/content/superheated_vapor_properties.csv'"
      ],
      "metadata": {
        "id": "aQgvyavrcM1l"
      },
      "execution_count": 129,
      "outputs": []
    },
    {
      "cell_type": "markdown",
      "source": [
        "###Display the shape of data frame\n"
      ],
      "metadata": {
        "id": "Zp8F3rk2cNxy"
      }
    },
    {
      "cell_type": "code",
      "source": [
        "df = pd.read_csv(csv_file_path)\n",
        "print(df.shape)"
      ],
      "metadata": {
        "id": "v3Q8kQkucgK0",
        "colab": {
          "base_uri": "https://localhost:8080/"
        },
        "outputId": "322b7272-5b72-4866-fcfa-f006586889b6"
      },
      "execution_count": 130,
      "outputs": [
        {
          "output_type": "stream",
          "name": "stdout",
          "text": [
            "(544, 37)\n"
          ]
        }
      ]
    },
    {
      "cell_type": "markdown",
      "source": [
        "###Return an array containing names of all the columns"
      ],
      "metadata": {
        "id": "w49cp-8zcgd2"
      }
    },
    {
      "cell_type": "code",
      "source": [
        "column_names_array = df.columns.to_numpy()\n",
        "print(column_names_array)"
      ],
      "metadata": {
        "id": "fz4HRb3JcsZp",
        "colab": {
          "base_uri": "https://localhost:8080/"
        },
        "outputId": "158ae21e-0828-442b-bb56-394aa5f36f46"
      },
      "execution_count": 131,
      "outputs": [
        {
          "output_type": "stream",
          "name": "stdout",
          "text": [
            "['Pressure' 'Property' 'Liq_Sat' 'Vap_Sat' '75' '100' '125' '150' '175'\n",
            " '200' '220' '225' '240' '250' '260' '275' '280' '290' '300' '320' '325'\n",
            " '340' '350' '360' '375' '380' '400' '425' '450' '475' '500' '525' '550'\n",
            " '575' '600' '625' '650']\n"
          ]
        }
      ]
    },
    {
      "cell_type": "markdown",
      "source": [
        "###Display the number of null values in each column of the dataframe``\n",
        "\n"
      ],
      "metadata": {
        "id": "YkTH9tRWcrH-"
      }
    },
    {
      "cell_type": "code",
      "source": [
        "null_values_count = df.isnull().sum()\n",
        "print(null_values_count)"
      ],
      "metadata": {
        "id": "GK9-PJPxc3Ot",
        "colab": {
          "base_uri": "https://localhost:8080/"
        },
        "outputId": "900b73c9-401a-4a73-ef56-e50387505376"
      },
      "execution_count": 132,
      "outputs": [
        {
          "output_type": "stream",
          "name": "stdout",
          "text": [
            "Pressure      0\n",
            "Property      0\n",
            "Liq_Sat       0\n",
            "Vap_Sat       0\n",
            "75          528\n",
            "100         508\n",
            "125         488\n",
            "150         448\n",
            "175         384\n",
            "200         320\n",
            "220         408\n",
            "225         400\n",
            "240         408\n",
            "250         344\n",
            "260         384\n",
            "275         340\n",
            "280         380\n",
            "290         488\n",
            "300          60\n",
            "320         480\n",
            "325         136\n",
            "340         476\n",
            "350          68\n",
            "360         476\n",
            "375         204\n",
            "380         476\n",
            "400           0\n",
            "425         204\n",
            "450           0\n",
            "475         204\n",
            "500           0\n",
            "525         272\n",
            "550           0\n",
            "575         340\n",
            "600           0\n",
            "625         476\n",
            "650           0\n",
            "dtype: int64\n"
          ]
        }
      ]
    },
    {
      "cell_type": "markdown",
      "source": [
        "###Create a column which contains the Pressure and Property columns, seperated with 'at' (For eg. V at 1, H at 101.325). Using this print the following:\n",
        "- Enthalpy at 75 kPa and 573 K\n",
        "- Entropy at 493 K and 250 kPa\n",
        "\n"
      ],
      "metadata": {
        "id": "Av-lcft2c3mx"
      }
    },
    {
      "cell_type": "code",
      "source": [
        "pressure_col = (df['Pressure'][:])\n",
        "property_col = (df['Property'][:])\n",
        "new_col = []\n",
        "for i in range (0,len(property_col)):\n",
        "  new_col.append((str(property_col[i])+\" at \"+str(pressure_col[i])))\n",
        "new_col = np.array(new_col).T\n",
        "df['Pressure and Property'] = new_col\n",
        "print(df['Pressure and Property'])\n",
        "def findRow(a):\n",
        "  return np.where(new_col==a)[0][0]\n",
        "def findCol(a):\n",
        "  return df.columns.get_loc(a)\n",
        "def interpolate(at_value,a,b,val_a,val_b):\n",
        "  return val_a+((at_value-a)/(b-a))*(val_b-val_a)\n",
        "findRow1 = findRow('H at 75.0')\n",
        "findCol1 = findCol('550')\n",
        "findCol2 = findCol('600')\n",
        "val1 = df.iloc[findRow1][findCol1]\n",
        "val2 = df.iloc[findRow1][findCol2]\n",
        "print(interpolate(573,550,600,val1,val2))\n",
        "findCol3 = findCol('450')\n",
        "findCol4 = findCol('500')\n",
        "findRow2 = findRow('S at 250.0')\n",
        "val3 = df.iloc[findRow2][findCol3]\n",
        "val4 = df.iloc[findRow2][findCol4]\n",
        "print(interpolate(493,450,500,val3,val4))"
      ],
      "metadata": {
        "colab": {
          "base_uri": "https://localhost:8080/"
        },
        "id": "sK9V8lJrTtx2",
        "outputId": "bed7164d-5e97-4c8a-a0cb-f37801bc6e07"
      },
      "execution_count": 133,
      "outputs": [
        {
          "output_type": "stream",
          "name": "stdout",
          "text": [
            "0          V at 1.0\n",
            "1          U at 1.0\n",
            "2          H at 1.0\n",
            "3          S at 1.0\n",
            "4         V at 10.0\n",
            "           ...     \n",
            "539    S at 11200.0\n",
            "540    V at 11400.0\n",
            "541    U at 11400.0\n",
            "542    H at 11400.0\n",
            "543    S at 11400.0\n",
            "Name: Pressure and Property, Length: 544, dtype: object\n",
            "3646.032\n",
            "8.390547999999999\n"
          ]
        }
      ]
    },
    {
      "cell_type": "markdown",
      "source": [
        "###Find out the column with the highest number of missing values"
      ],
      "metadata": {
        "id": "GpLtXYRLc4Ho"
      }
    },
    {
      "cell_type": "code",
      "source": [
        "column_with_most_missing_values = df.isnull().sum().idxmax()\n",
        "max_missing_value_count = df.isnull().sum().max()\n",
        "print(f\"'{column_with_most_missing_values}' with {max_missing_value_count} missing values.\")"
      ],
      "metadata": {
        "id": "q80Grgeyc4Xn",
        "colab": {
          "base_uri": "https://localhost:8080/"
        },
        "outputId": "2a4ea680-11c5-4979-a936-055343ccc78f"
      },
      "execution_count": 134,
      "outputs": [
        {
          "output_type": "stream",
          "name": "stdout",
          "text": [
            "'75' with 528 missing values.\n"
          ]
        }
      ]
    },
    {
      "cell_type": "markdown",
      "source": [
        "###What is the average enthalpy of Sat. Liq. at all different pressures in the dataset ?"
      ],
      "metadata": {
        "id": "74NVHTTac4nv"
      }
    },
    {
      "cell_type": "code",
      "source": [
        "enthalpy_data = df[(df['Property'] == 'H')]\n",
        "\n",
        "average_enthalpy = enthalpy_data['Liq_Sat'].mean()\n",
        "\n",
        "print(\"Average Enthalpy in Saturated Liquid:\")\n",
        "print(average_enthalpy)"
      ],
      "metadata": {
        "id": "g3mByhBDdpVr",
        "colab": {
          "base_uri": "https://localhost:8080/"
        },
        "outputId": "c87f98a9-460b-4552-d0ed-d4fb9760c467"
      },
      "execution_count": 135,
      "outputs": [
        {
          "output_type": "stream",
          "name": "stdout",
          "text": [
            "Average Enthalpy in Saturated Liquid:\n",
            "936.9707720588235\n"
          ]
        }
      ]
    },
    {
      "cell_type": "markdown",
      "source": [
        "###Separate out the V,U,H,S data from the dataset into V_data, U_data, H_data, S_data"
      ],
      "metadata": {
        "id": "uS-SuqU8dpxg"
      }
    },
    {
      "cell_type": "code",
      "source": [
        "V_data = df[(df['Property'] == 'V')]\n",
        "U_data = df[(df['Property'] == 'U')]\n",
        "H_data = df[(df['Property'] == 'H')]\n",
        "S_data = df[(df['Property'] == 'S')]\n"
      ],
      "metadata": {
        "id": "Sg3V9Toyd1Av"
      },
      "execution_count": 136,
      "outputs": []
    },
    {
      "cell_type": "markdown",
      "source": [
        "#Section 3: PLotting the PLOTS"
      ],
      "metadata": {
        "id": "Ghkj0-0-d1W7"
      }
    },
    {
      "cell_type": "markdown",
      "source": [
        "###Plot the properties (specific volume, specific internal energy, specific enthalpy, specific entropy) vs Pressure for saturated liquid.\n",
        "\n",
        "Note:\n",
        "- Try using the subplot feature of matplotlib(Explore it!!)\n",
        "- Provide appropriate title, labels, markersize and other parameters to the plot"
      ],
      "metadata": {
        "id": "ka0qrDcZeAL6"
      }
    },
    {
      "cell_type": "code",
      "source": [
        "plt.subplots(2,2,figsize=(10,10))\n",
        "plt.suptitle('Plots of various properties for Sat Liq')\n",
        "\n",
        "plt.subplot(2,2,1)\n",
        "plt.grid()\n",
        "plt.plot(V_data['Liq_Sat'],V_data['Pressure'])\n",
        "plt.title(\"V v/s P\")\n",
        "plt.xlabel(\"Specific Volume\")\n",
        "plt.ylabel(\"Pressure\")\n",
        "\n",
        "plt.subplot(2,2,2)\n",
        "plt.grid()\n",
        "plt.plot(U_data['Liq_Sat'],V_data['Pressure'])\n",
        "plt.title(\"U v/s P\")\n",
        "plt.xlabel(\"Specific Internal Energy\")\n",
        "plt.ylabel(\"Pressure\")\n",
        "\n",
        "plt.subplot(2,2,3)\n",
        "plt.grid()\n",
        "plt.plot(H_data['Liq_Sat'],V_data['Pressure'])\n",
        "plt.title(\"H v/s P\")\n",
        "plt.xlabel(\"Specific Enthalpy\")\n",
        "plt.ylabel(\"Pressure\")\n",
        "\n",
        "plt.subplot(2,2,4)\n",
        "plt.grid()\n",
        "plt.plot(S_data['Liq_Sat'],V_data['Pressure'])\n",
        "plt.title(\"S v/s P\")\n",
        "plt.xlabel(\"Specific Entropy\")\n",
        "plt.ylabel(\"Pressure\")\n",
        "\n",
        "plt.show()"
      ],
      "metadata": {
        "id": "XbKdm-cUePKA",
        "colab": {
          "base_uri": "https://localhost:8080/",
          "height": 950
        },
        "outputId": "db4e2916-8ba5-47f3-fd98-cc42c45cb902"
      },
      "execution_count": 137,
      "outputs": [
        {
          "output_type": "display_data",
          "data": {
            "text/plain": [
              "<Figure size 1000x1000 with 4 Axes>"
            ],
            "image/png": "[encoded data removed]"
          },
          "metadata": {}
        }
      ]
    },
    {
      "cell_type": "markdown",
      "source": [
        "###Plot the specific volume of saturated liquid between 300 kPa and 1500 kPa"
      ],
      "metadata": {
        "id": "SCLRji6TeQgh"
      }
    },
    {
      "cell_type": "code",
      "source": [
        "startRow = np.where(V_data['Pressure']==300)[0][0]\n",
        "endRow = np.where(V_data['Pressure']==1500)[0][0]\n",
        "\n",
        "plt.grid()\n",
        "plt.plot(V_data[startRow:endRow+1]['Liq_Sat'],V_data[startRow:endRow+1]['Pressure'])\n",
        "plt.title(\"V v/s P between 300 and 1500 kPa\")\n",
        "plt.xlabel(\"Specific Volume\")\n",
        "plt.ylabel(\"Pressure\")\n",
        "plt.show()"
      ],
      "metadata": {
        "id": "u6DyyI7MeYgE",
        "colab": {
          "base_uri": "https://localhost:8080/",
          "height": 472
        },
        "outputId": "e93347fd-29a7-423b-9867-07a6d24430f6"
      },
      "execution_count": 138,
      "outputs": [
        {
          "output_type": "display_data",
          "data": {
            "text/plain": [
              "<Figure size 640x480 with 1 Axes>"
            ],
            "image/png": "[encoded data removed]"
          },
          "metadata": {}
        }
      ]
    },
    {
      "cell_type": "markdown",
      "source": [
        "#Linear Regression\n",
        "You're given a 100 data points generated from the function\n",
        "$y=mx+c$. Some noise is added to the y values.\n",
        "\n",
        "**Task:** Estimate the values of m and c using linear regression. Write a suitable cost function and update the parameters."
      ],
      "metadata": {
        "id": "6N_8T4KnfnOG"
      }
    },
    {
      "cell_type": "code",
      "source": [
        " # Generation of data points\n",
        "x = np.random.rand(100)*100\n",
        "y = -4*x+15\n",
        "y = y+np.random.randn(100)*30\n",
        "plt.scatter(x,y)"
      ],
      "metadata": {
        "id": "qK0CKt8WfuO9",
        "colab": {
          "base_uri": "https://localhost:8080/",
          "height": 447
        },
        "outputId": "e7d76643-44e1-4f8f-becf-54cc371686a4"
      },
      "execution_count": 139,
      "outputs": [
        {
          "output_type": "execute_result",
          "data": {
            "text/plain": [
              "<matplotlib.collections.PathCollection at 0x7a01513b3df0>"
            ]
          },
          "metadata": {},
          "execution_count": 139
        },
        {
          "output_type": "display_data",
          "data": {
            "text/plain": [
              "<Figure size 640x480 with 1 Axes>"
            ],
            "image/png": "[encoded data removed]"
          },
          "metadata": {}
        }
      ]
    },
    {
      "cell_type": "code",
      "source": [
        "m=0\n",
        "c=0\n",
        "def model(m,c,x,y,learning_rate,epochs):\n",
        "  cost_func = np.mean(((m*x+c)-y)**2)\n",
        "  for i in range(epochs):\n",
        "    dm = 2*np.mean(x*(m*x+c-y))\n",
        "    dc = 2*np.mean(m*x+c-y)\n",
        "    m = m - learning_rate*(dm)\n",
        "    c = c - learning_rate*(dc)\n",
        "  return m,c"
      ],
      "metadata": {
        "id": "0lyjPEfmiC-e"
      },
      "execution_count": 140,
      "outputs": []
    },
    {
      "cell_type": "markdown",
      "source": [
        "Run the model"
      ],
      "metadata": {
        "id": "JPy839WUiOvz"
      }
    },
    {
      "cell_type": "code",
      "source": [
        "epochs = 1000000\n",
        "learning_rate = 0.0001\n",
        "m,c = model(m,c,x,y,learning_rate,epochs)"
      ],
      "metadata": {
        "id": "sf8s00SUiYhN"
      },
      "execution_count": 141,
      "outputs": []
    },
    {
      "cell_type": "code",
      "source": [
        "print(m,c)  # value should be close to (-4,15)"
      ],
      "metadata": {
        "id": "_g7W3mloilGn",
        "colab": {
          "base_uri": "https://localhost:8080/"
        },
        "outputId": "8f9ba79f-e3a6-4d67-8b50-f43e82ee34ac"
      },
      "execution_count": 142,
      "outputs": [
        {
          "output_type": "stream",
          "name": "stdout",
          "text": [
            "-3.9428582656660778 12.38949852783538\n"
          ]
        }
      ]
    },
    {
      "cell_type": "code",
      "source": [
        "plt.scatter(x, y,label='Data points')\n",
        "plt.plot(x, m*x+c,color = 'magenta', label='Best Fit Line')\n",
        "plt.legend()\n",
        "plt.show()"
      ],
      "metadata": {
        "colab": {
          "base_uri": "https://localhost:8080/",
          "height": 430
        },
        "id": "RnEgvWqWFbMK",
        "outputId": "65e13294-e8c9-42f2-9897-a586a4c4eb85"
      },
      "execution_count": 143,
      "outputs": [
        {
          "output_type": "display_data",
          "data": {
            "text/plain": [
              "<Figure size 640x480 with 1 Axes>"
            ],
            "image/png": "[encoded data removed]"
          },
          "metadata": {}
        }
      ]
    }
  ]
}