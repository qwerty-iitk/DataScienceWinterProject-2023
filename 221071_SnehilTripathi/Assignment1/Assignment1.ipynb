{
  "nbformat": 4,
  "nbformat_minor": 0,
  "metadata": {
    "colab": {
      "provenance": []
    },
    "kernelspec": {
      "name": "python3",
      "display_name": "Python 3"
    },
    "language_info": {
      "name": "python"
    }
  },
  "cells": [
    {
      "cell_type": "markdown",
      "source": [
        "# Week-1 Assignment\n",
        "\n",
        "**Welcome to your first assignment for the SimuTech Winter Project 2022! I hope you are excited to implement and test everything you have learned up until now. There is an interesting set of questions for you to refine your acquired skills as you delve into hands-on coding and deepen your understanding of numpy, pandas, and data visualization libraries.**\n",
        "\n",
        "P.S. You might find use of functions which you have never used before.So feel free to google"
      ],
      "metadata": {
        "id": "UOzd0zRXW5Uv"
      }
    },
    {
      "cell_type": "code",
      "source": [
        "from google.colab import drive\n",
        "drive.mount('/content/drive')"
      ],
      "metadata": {
        "id": "quOk2Txvgp9V"
      },
      "execution_count": null,
      "outputs": []
    },
    {
      "cell_type": "markdown",
      "source": [
        "# Section0 : Importing Libraries"
      ],
      "metadata": {
        "id": "2XFUXyq9Y9TG"
      }
    },
    {
      "cell_type": "markdown",
      "source": [
        "*Let's begin by importing numpy, pandas and matplotlib.*"
      ],
      "metadata": {
        "id": "D_bzcLusjSO0"
      }
    },
    {
      "cell_type": "code",
      "source": [
        "#your code here\n",
        "import numpy as np\n",
        "import pandas as pd\n",
        "import matplotlib.pyplot as plt"
      ],
      "metadata": {
        "id": "jdwX7bI7aGeY"
      },
      "execution_count": null,
      "outputs": []
    },
    {
      "cell_type": "markdown",
      "source": [
        "# Section1 : Playing with Python and Numpy"
      ],
      "metadata": {
        "id": "LM25mz5ta-Q_"
      }
    },
    {
      "cell_type": "markdown",
      "source": [
        "### Q1. Matrix Multiplication"
      ],
      "metadata": {
        "id": "TcFQVqhAdQw_"
      }
    },
    {
      "cell_type": "markdown",
      "source": [
        "##### (i) Check if matrix multiplication is valid"
      ],
      "metadata": {
        "id": "6Dcai9pys0j8"
      }
    },
    {
      "cell_type": "code",
      "source": [
        "def isValid(A,B):\n",
        "  #your code here\n",
        "  return len(A[0]) == len(B)\n",
        "  if isValid(A,B):\n",
        "    print ('Matrix multiplication is valid!')\n",
        "  else\n",
        "    print ('Matrix multiplication is not valid!')"
      ],
      "metadata": {
        "id": "0qC4txIss3gG"
      },
      "execution_count": null,
      "outputs": []
    },
    {
      "cell_type": "markdown",
      "source": [
        "##### (ii) Using loops (without using numpy)"
      ],
      "metadata": {
        "id": "OPTfRGlTdXxa"
      }
    },
    {
      "cell_type": "code",
      "source": [
        "def matrix_multiply(A,B):\n",
        "  #your code here\n",
        "  return len(A[0]) == len(B)\n",
        "  if matrix_multiply(A,B):\n",
        "    result = [[0] * len(B[0]) for _ in range(len(A))]\n",
        "    for i in range(len(A)):\n",
        "        for j in range(len(B[0])):\n",
        "            for k in range(len(B)):\n",
        "                result[i][j] += A[i][k] * B[k][j]\n",
        "    print(\"Result:\")\n",
        "    for row in result:\n",
        "        print(row)\n"
      ],
      "metadata": {
        "id": "V8F5ETsRct3S"
      },
      "execution_count": null,
      "outputs": []
    },
    {
      "cell_type": "markdown",
      "source": [
        "##### (iii) Using numpy"
      ],
      "metadata": {
        "id": "umUgUTSWdos8"
      }
    },
    {
      "cell_type": "code",
      "source": [
        "def matrix_multiply_2(A,B):\n",
        "  #your code here\n",
        "  import numpy as np\n",
        "  # Supposing that matrix multiplication is already valid.\n",
        "  result = np.dot(A, B)\n",
        "    print(\"Result:\")\n",
        "    print(result)"
      ],
      "metadata": {
        "id": "-tdXlCHrduBP"
      },
      "execution_count": null,
      "outputs": []
    },
    {
      "cell_type": "markdown",
      "source": [
        "##### (iv) Testing your code\n",
        "\n",
        "Run the following cell to check if your functions are working properly.\n",
        "\n",
        "*Expected output:*\n",
        "[ [102 108 114]\n",
        " [246 261 276]\n",
        " [390 414 438]\n",
        " [534 567 600] ]"
      ],
      "metadata": {
        "id": "2nMFnl84edJG"
      }
    },
    {
      "cell_type": "code",
      "source": [
        "A = np.array([\n",
        "    [1, 2, 3],\n",
        "    [4, 5, 6],\n",
        "    [7, 8, 9],\n",
        "    [10, 11, 12]\n",
        "])\n",
        "\n",
        "B = np.array([\n",
        "    [13, 14, 15],\n",
        "    [16, 17, 18],\n",
        "    [19, 20, 21]\n",
        "])\n",
        "\n",
        "if isValid(A,B):\n",
        "  print(f\"Result using loops: {matrix_multiply(A,B)}\")\n",
        "  print(f\"Result using numpy: {matrix_multiply_2(A,B)}\")\n",
        "else:\n",
        "  print(f\"Matrix multiplication is not valid\")\n",
        "\n",
        "#Using loops\n",
        "def matrix_multiply(A,B):\n",
        "\n",
        "  return len(A[0]) == len(B)\n",
        "\n",
        "A = [\n",
        "    [1, 2, 3],\n",
        "    [4, 5, 6],\n",
        "    [7, 8, 9],\n",
        "    [10, 11, 12]\n",
        "]\n",
        "\n",
        "B = [\n",
        "    [13, 14, 15],\n",
        "    [16, 17, 18],\n",
        "    [19, 20, 21]\n",
        "]\n",
        "\n",
        "if matrix_multiply(A,B):\n",
        "    result = [[0] * len(B[0]) for _ in range(len(A))]\n",
        "    for i in range(len(A)):\n",
        "        for j in range(len(B[0])):\n",
        "            for k in range(len(B)):\n",
        "                result[i][j] += A[i][k] * B[k][j]\n",
        "    print(\"Result:\")\n",
        "    for row in result:\n",
        "        print(row)\n",
        "\n",
        "#Using numpy\n",
        "import numpy as np\n",
        "\n",
        "A = np.array([\n",
        "    [1, 2, 3],\n",
        "    [4, 5, 6],\n",
        "    [7, 8, 9],\n",
        "    [10, 11, 12]\n",
        "])\n",
        "\n",
        "B = np.array([\n",
        "    [13, 14, 15],\n",
        "    [16, 17, 18],\n",
        "    [19, 20, 21]\n",
        "])\n",
        "\n",
        "# Check if matrix multiplication is valid\n",
        "if A.shape[1] == B.shape[0]:\n",
        "    result = np.dot(A, B)\n",
        "    print(\"Result:\")\n",
        "    print(result)\n",
        "\n"
      ],
      "metadata": {
        "id": "09rX_Cm9ezmq"
      },
      "execution_count": null,
      "outputs": []
    },
    {
      "cell_type": "markdown",
      "source": [
        "### Q2. Z-Score Normalisation"
      ],
      "metadata": {
        "id": "5hfP7Ao1fwqV"
      }
    },
    {
      "cell_type": "markdown",
      "source": [
        "Z-score normalization refers to the process of normalizing every value in a dataset such that the mean of all of the values is 0 and the standard deviation is 1.\n",
        "\n",
        "We use the following formula to perform a z-score normalization on every value in a dataset:\n",
        "\n",
        "New value = (x – μ) / σ\n",
        "\n",
        "where:\n",
        "\n",
        "x: Original value\n",
        "\n",
        "μ: Mean of data\n",
        "\n",
        "σ: Standard deviation of data"
      ],
      "metadata": {
        "id": "0e81Xx5Kw_CQ"
      }
    },
    {
      "cell_type": "markdown",
      "source": [
        "##### (i) Without using numpy"
      ],
      "metadata": {
        "id": "GP_MuyUbguSR"
      }
    },
    {
      "cell_type": "code",
      "source": [
        "def mean(x):\n",
        "  #your code here\n",
        "\n",
        "  #for a particular dataset \"x\"\n",
        "  mean(x) = sum(x) / len(x)"
      ],
      "metadata": {
        "id": "0vix8qaaghwP"
      },
      "execution_count": null,
      "outputs": []
    },
    {
      "cell_type": "code",
      "source": [
        "def standard_deviation(x):\n",
        "  #your code here\n",
        "\n",
        "  #for a particular dataset \"x\"\n",
        "  standard_deviation(x) = (sum((y - mean(x)) ** 2 for y in x) / len(x)) ** 0.5\n"
      ],
      "metadata": {
        "id": "j1qabel-g_f5"
      },
      "execution_count": null,
      "outputs": []
    },
    {
      "cell_type": "code",
      "source": [
        "def zscore_normalisation(x):\n",
        "  #your code here\n",
        "\n",
        "  zscore_normalisation(x) = [(y - mean(x)) / standard_deviation(x) for y in x]"
      ],
      "metadata": {
        "id": "797ewbNqhEpY"
      },
      "execution_count": null,
      "outputs": []
    },
    {
      "cell_type": "markdown",
      "source": [
        "##### (ii) Using numpy\n",
        "\n",
        "Numpy has in_built functions for calculating mean and standard deviation"
      ],
      "metadata": {
        "id": "k8dq1wqRhbUB"
      }
    },
    {
      "cell_type": "code",
      "source": [
        "def zscore_normalisation_2(x):\n",
        "  #your code here\n",
        "\n",
        "  import numpy as np\n",
        "  # Calculate mean and standard deviation\n",
        "  mean = np.mean(x)\n",
        "  standard_deviation = np.std(x)\n",
        "\n",
        "  # Z-score normalisation\n",
        "  zscore_normalisation_2(x) = (x - mean) / standard_deviation\n",
        "\n",
        "  print(\"Original data:\", x)\n",
        "  print(\"zscore_normalisation_2:\", zscore_normalisation_2(x))"
      ],
      "metadata": {
        "id": "WjxJTUDihsYg"
      },
      "execution_count": null,
      "outputs": []
    },
    {
      "cell_type": "markdown",
      "source": [
        "##### (iii) Testing your code"
      ],
      "metadata": {
        "id": "glRqKU-_1pue"
      }
    },
    {
      "cell_type": "markdown",
      "source": [
        "Run the following cell to check if your functions are working properly.\n",
        "\n",
        "*Expected Output:* [-1.06753267 -0.99745394 -0.99745394 -0.81057732 -0.41346451 -0.06307086\n",
        "  0.31068237  0.91803138  1.22170588  1.89913361]"
      ],
      "metadata": {
        "id": "Kl7XBymOigCU"
      }
    },
    {
      "cell_type": "code",
      "source": [
        "x = [4, 7, 7, 15, 32, 47, 63, 89, 102, 131]\n",
        "print(f\"Result without using numpy: {zscore_normalisation(x)}\")\n",
        "print(f\"Result using numpy: {zscore_normalisation_2(x)}\")\n",
        "\n",
        "#Without using numpy\n",
        "# Sample data\n",
        "x = [4, 7, 7, 15, 32, 47, 63, 89, 102, 131]\n",
        "\n",
        "# Calculate mean and standard deviation\n",
        "mean = sum(x) / len(x)\n",
        "standard_deviation = (sum((y - mean) ** 2 for y in x) / len(x)) ** 0.5\n",
        "\n",
        "# Z-score normalization\n",
        "zscore_normalisation = [(y - mean) / standard_deviation for y in x]\n",
        "\n",
        "print(\"x:\", x)\n",
        "print(\"zscore_normalisation:\", zscore_normalisation)\n",
        "\n",
        "# Using numpy\n",
        "import numpy as np\n",
        "\n",
        "x = np.array([4, 7, 7, 15, 32, 47, 63, 89, 102, 131])\n",
        "# Calculate mean and standard deviation\n",
        "mean = np.mean(x)\n",
        "standard_deviation = np.std(x)\n",
        "\n",
        "# Z-score normalisation\n",
        "zscore_normalisation_2(x) = (x - mean) / standard_deviation\n",
        "\n",
        "print(\"x:\", x)\n",
        "print(\"zscore_normalisation_2:\", zscore_normalisation_2(x))\n",
        "\n"
      ],
      "metadata": {
        "id": "78ptZxf6ipZp"
      },
      "execution_count": null,
      "outputs": []
    },
    {
      "cell_type": "markdown",
      "source": [
        "### Q3. Sigmoid fn and its derivative"
      ],
      "metadata": {
        "id": "0WVscJ0z14rp"
      }
    },
    {
      "cell_type": "markdown",
      "source": [
        "The sigmoid function is a mathematical function that maps any input value to a value between 0 and 1.\n",
        "\n",
        "It is defined mathematically as s(x) = 1/(1+e^(-x))."
      ],
      "metadata": {
        "id": "Jfntb0Rg94Tu"
      }
    },
    {
      "cell_type": "markdown",
      "source": [
        "##### (i) Write a fn to implement sigmoid fn"
      ],
      "metadata": {
        "id": "8SCAPkjO2m7u"
      }
    },
    {
      "cell_type": "code",
      "source": [
        "#Assuming input value to be a single data but not an array, we have to import math library!\n",
        "import math\n",
        "def sigmoidfn(x):\n",
        "  #your code here\n",
        "  return 1 / (1 + math.exp(-x))"
      ],
      "metadata": {
        "id": "jL_TRQFG2l5m"
      },
      "execution_count": null,
      "outputs": []
    },
    {
      "cell_type": "markdown",
      "source": [
        "##### (ii) Write a fn to implement derivative of sigmoid fn"
      ],
      "metadata": {
        "id": "t7KBbl7N3AUM"
      }
    },
    {
      "cell_type": "code",
      "source": [
        "def derivative(x):\n",
        "  #your code here\n",
        "  return sigmoidfn(x) * (1 - sigmoidfn(x))\n",
        "\n",
        "  #Alternative method\n",
        "  import math\n",
        "  def derivative(x):\n",
        "  return math.exp(x)/((1 + math.exp(x)) ** 2)"
      ],
      "metadata": {
        "id": "okjuOpba3KOJ"
      },
      "execution_count": null,
      "outputs": []
    },
    {
      "cell_type": "markdown",
      "source": [
        "##### (iii) Test your code"
      ],
      "metadata": {
        "id": "NdGTSpsp3mwr"
      }
    },
    {
      "cell_type": "markdown",
      "source": [
        "Run the following cell to check if your functions are working properly.\n",
        "\n",
        "*Expected output:*\n",
        "\n",
        "x on applying sigmoid activation fn is: [ [0.99987661 0.88079708 0.99330715 0.5        0.5       ]\n",
        " [0.99908895 0.99330715 0.5        0.5        0.5       ] ]\n",
        "\n",
        "x on applying derivative of sigmoid activation fn is: [ [-1.23379350e-04 -1.04993585e-01 -6.64805667e-03 -2.50000000e-01\n",
        "  -2.50000000e-01]\n",
        " [-9.10221180e-04 -6.64805667e-03 -2.50000000e-01 -2.50000000e-01\n",
        "  -2.50000000e-01] ]"
      ],
      "metadata": {
        "id": "lWY8RBex7gnd"
      }
    },
    {
      "cell_type": "code",
      "source": [
        "x = np.array([\n",
        "    [9,2,5,0,0],\n",
        "    [7,5,0,0,0]\n",
        "])\n",
        "print(f\"x on applying sigmoid activation fn is: {sigmoidfn(x)}\")\n",
        "print(f\"x on applying derivative of sigmoid activation fn is: {derivative(x)}\")\n",
        "\n",
        "#For sigmoidfn(x)\n",
        "import numpy as np\n",
        "\n",
        "def sigmoidfn(x):\n",
        "    return 1 / (1 + np.exp(-x))\n",
        "\n",
        "x = np.array([\n",
        "    [9,2,5,0,0],\n",
        "    [7,5,0,0,0]\n",
        "])\n",
        "result = sigmoidfn(x)\n",
        "\n",
        "print(\"Input array:\", x)\n",
        "print(\"x on applying sigmoid activation fn is:\", result)\n",
        "\n",
        "\n",
        "#For derivative(x) i.e. derivative of sigmoid function (x)\n",
        "import numpy as np\n",
        "\n",
        "def sigmoidfn(x):\n",
        "    return 1 / (1 + np.exp(-x))\n",
        "\n",
        "def derivative(x):\n",
        "    return sigmoidfn(x) * (1 - sigmoidfn(x))\n",
        "\n",
        "x = np.array([\n",
        "    [9,2,5,0,0],\n",
        "    [7,5,0,0,0]\n",
        "])\n",
        "result = derivative(x)\n",
        "\n",
        "print(\"Input array:\", x)\n",
        "print(\"x on applying derivative of sigmoid activation fn is:\", result)"
      ],
      "metadata": {
        "id": "ssDGpmS33vdA"
      },
      "execution_count": null,
      "outputs": []
    },
    {
      "cell_type": "markdown",
      "source": [
        "# Section 2: Playing with Pandas"
      ],
      "metadata": {
        "id": "PMa0cseyZpa1"
      }
    },
    {
      "cell_type": "markdown",
      "source": [
        "###Read the csv file\n"
      ],
      "metadata": {
        "id": "i5Okb_jxZ_VW"
      }
    },
    {
      "cell_type": "code",
      "source": [
        "df = pd.read_csv(\"superheated_vapor_properties.csv\")\n"
      ],
      "metadata": {
        "id": "aQgvyavrcM1l",
        "colab": {
          "base_uri": "https://localhost:8080/",
          "height": 443
        },
        "outputId": "eae892d8-9fb5-491d-80b4-abb68fbea28e"
      },
      "execution_count": null,
      "outputs": [
        {
          "output_type": "execute_result",
          "data": {
            "text/plain": [
              "     Pressure Property    Liq_Sat      Vap_Sat           75          100  \\\n",
              "0         1.0        V     1.0000  129200.0000  160640.0000  172180.0000   \n",
              "1         1.0        U    29.3340    2385.2000    2480.8000    2516.4000   \n",
              "2         1.0        H    29.3350    2514.4000    2641.5000    2688.6000   \n",
              "3         1.0        S     0.1060       8.9767       9.3828       9.5136   \n",
              "4        10.0        V     1.0100   14670.0000   16030.0000   17190.0000   \n",
              "..        ...      ...        ...          ...          ...          ...   \n",
              "539   11200.0        S     3.4440       5.5476          NaN          NaN   \n",
              "540   11400.0        V     1.5040      15.2840          NaN          NaN   \n",
              "541   11400.0        U  1450.0000    2527.2000          NaN          NaN   \n",
              "542   11400.0        H  1467.2000    2701.5000          NaN          NaN   \n",
              "543   11400.0        S     3.4575       5.5357          NaN          NaN   \n",
              "\n",
              "             125          150          175          200  ...        425  \\\n",
              "0    183720.0000  195270.0000  206810.0000  218350.0000  ...        NaN   \n",
              "1      2552.3000    2588.5000    2624.9000    2661.7000  ...        NaN   \n",
              "2      2736.0000    2783.7000    2831.7000    2880.1000  ...        NaN   \n",
              "3         9.6365       9.7527       9.8629       9.9679  ...        NaN   \n",
              "4     18350.0000   19510.0000   20660.0000   21820.0000  ...        NaN   \n",
              "..           ...          ...          ...          ...  ...        ...   \n",
              "539          NaN          NaN          NaN          NaN  ...     6.2491   \n",
              "540          NaN          NaN          NaN          NaN  ...    24.1040   \n",
              "541          NaN          NaN          NaN          NaN  ...  2873.1000   \n",
              "542          NaN          NaN          NaN          NaN  ...  3147.9000   \n",
              "543          NaN          NaN          NaN          NaN  ...     6.2367   \n",
              "\n",
              "             450        475          500        525          550        575  \\\n",
              "0    333730.0000        NaN  356810.0000        NaN  379880.0000        NaN   \n",
              "1      3049.9000        NaN    3132.4000        NaN    3216.7000        NaN   \n",
              "2      3383.6000        NaN    3489.2000        NaN    3596.5000        NaN   \n",
              "3        10.8200        NaN      10.9612        NaN      11.0957        NaN   \n",
              "4     33370.0000        NaN   35670.0000        NaN   37980.0000        NaN   \n",
              "..           ...        ...          ...        ...          ...        ...   \n",
              "539       6.3515     6.4452       6.5324     6.6147       6.6929     6.7679   \n",
              "540      25.5990    27.0100      28.3590    29.6610      30.9250    32.1600   \n",
              "541    2929.4000  2982.6000    3033.9000  3083.9000    3133.1000  3181.9000   \n",
              "542    3221.2000  3290.5000    3357.2000  3422.1000    3485.7000  3548.5000   \n",
              "543       6.3399     6.4341       6.5218     6.6043       6.6828     6.7580   \n",
              "\n",
              "             600        625          650  \n",
              "0    402960.0000        NaN  426040.0000  \n",
              "1      3302.6000        NaN    3390.3000  \n",
              "2      3705.6000        NaN    3816.4000  \n",
              "3        11.2243        NaN      11.3476  \n",
              "4     40290.0000        NaN   42600.0000  \n",
              "..           ...        ...          ...  \n",
              "539       6.8401     6.9099       6.9777  \n",
              "540      33.3700    34.5600      35.7330  \n",
              "541    3230.4000  3278.8000    3327.2000  \n",
              "542    3610.8000  3672.8000    3734.6000  \n",
              "543       6.8304     6.9004       6.9683  \n",
              "\n",
              "[544 rows x 37 columns]"
            ],
            "text/html": [
              "\n",
              "  <div id=\"df-ccdd40d6-9c69-4be5-a21a-99951069e9e2\" class=\"colab-df-container\">\n",
              "    <div>\n",
              "<style scoped>\n",
              "    .dataframe tbody tr th:only-of-type {\n",
              "        vertical-align: middle;\n",
              "    }\n",
              "\n",
              "    .dataframe tbody tr th {\n",
              "        vertical-align: top;\n",
              "    }\n",
              "\n",
              "    .dataframe thead th {\n",
              "        text-align: right;\n",
              "    }\n",
              "</style>\n",
              "<table border=\"1\" class=\"dataframe\">\n",
              "  <thead>\n",
              "    <tr style=\"text-align: right;\">\n",
              "      <th></th>\n",
              "      <th>Pressure</th>\n",
              "      <th>Property</th>\n",
              "      <th>Liq_Sat</th>\n",
              "      <th>Vap_Sat</th>\n",
              "      <th>75</th>\n",
              "      <th>100</th>\n",
              "      <th>125</th>\n",
              "      <th>150</th>\n",
              "      <th>175</th>\n",
              "      <th>200</th>\n",
              "      <th>...</th>\n",
              "      <th>425</th>\n",
              "      <th>450</th>\n",
              "      <th>475</th>\n",
              "      <th>500</th>\n",
              "      <th>525</th>\n",
              "      <th>550</th>\n",
              "      <th>575</th>\n",
              "      <th>600</th>\n",
              "      <th>625</th>\n",
              "      <th>650</th>\n",
              "    </tr>\n",
              "  </thead>\n",
              "  <tbody>\n",
              "    <tr>\n",
              "      <th>0</th>\n",
              "      <td>1.0</td>\n",
              "      <td>V</td>\n",
              "      <td>1.0000</td>\n",
              "      <td>129200.0000</td>\n",
              "      <td>160640.0000</td>\n",
              "      <td>172180.0000</td>\n",
              "      <td>183720.0000</td>\n",
              "      <td>195270.0000</td>\n",
              "      <td>206810.0000</td>\n",
              "      <td>218350.0000</td>\n",
              "      <td>...</td>\n",
              "      <td>NaN</td>\n",
              "      <td>333730.0000</td>\n",
              "      <td>NaN</td>\n",
              "      <td>356810.0000</td>\n",
              "      <td>NaN</td>\n",
              "      <td>379880.0000</td>\n",
              "      <td>NaN</td>\n",
              "      <td>402960.0000</td>\n",
              "      <td>NaN</td>\n",
              "      <td>426040.0000</td>\n",
              "    </tr>\n",
              "    <tr>\n",
              "      <th>1</th>\n",
              "      <td>1.0</td>\n",
              "      <td>U</td>\n",
              "      <td>29.3340</td>\n",
              "      <td>2385.2000</td>\n",
              "      <td>2480.8000</td>\n",
              "      <td>2516.4000</td>\n",
              "      <td>2552.3000</td>\n",
              "      <td>2588.5000</td>\n",
              "      <td>2624.9000</td>\n",
              "      <td>2661.7000</td>\n",
              "      <td>...</td>\n",
              "      <td>NaN</td>\n",
              "      <td>3049.9000</td>\n",
              "      <td>NaN</td>\n",
              "      <td>3132.4000</td>\n",
              "      <td>NaN</td>\n",
              "      <td>3216.7000</td>\n",
              "      <td>NaN</td>\n",
              "      <td>3302.6000</td>\n",
              "      <td>NaN</td>\n",
              "      <td>3390.3000</td>\n",
              "    </tr>\n",
              "    <tr>\n",
              "      <th>2</th>\n",
              "      <td>1.0</td>\n",
              "      <td>H</td>\n",
              "      <td>29.3350</td>\n",
              "      <td>2514.4000</td>\n",
              "      <td>2641.5000</td>\n",
              "      <td>2688.6000</td>\n",
              "      <td>2736.0000</td>\n",
              "      <td>2783.7000</td>\n",
              "      <td>2831.7000</td>\n",
              "      <td>2880.1000</td>\n",
              "      <td>...</td>\n",
              "      <td>NaN</td>\n",
              "      <td>3383.6000</td>\n",
              "      <td>NaN</td>\n",
              "      <td>3489.2000</td>\n",
              "      <td>NaN</td>\n",
              "      <td>3596.5000</td>\n",
              "      <td>NaN</td>\n",
              "      <td>3705.6000</td>\n",
              "      <td>NaN</td>\n",
              "      <td>3816.4000</td>\n",
              "    </tr>\n",
              "    <tr>\n",
              "      <th>3</th>\n",
              "      <td>1.0</td>\n",
              "      <td>S</td>\n",
              "      <td>0.1060</td>\n",
              "      <td>8.9767</td>\n",
              "      <td>9.3828</td>\n",
              "      <td>9.5136</td>\n",
              "      <td>9.6365</td>\n",
              "      <td>9.7527</td>\n",
              "      <td>9.8629</td>\n",
              "      <td>9.9679</td>\n",
              "      <td>...</td>\n",
              "      <td>NaN</td>\n",
              "      <td>10.8200</td>\n",
              "      <td>NaN</td>\n",
              "      <td>10.9612</td>\n",
              "      <td>NaN</td>\n",
              "      <td>11.0957</td>\n",
              "      <td>NaN</td>\n",
              "      <td>11.2243</td>\n",
              "      <td>NaN</td>\n",
              "      <td>11.3476</td>\n",
              "    </tr>\n",
              "    <tr>\n",
              "      <th>4</th>\n",
              "      <td>10.0</td>\n",
              "      <td>V</td>\n",
              "      <td>1.0100</td>\n",
              "      <td>14670.0000</td>\n",
              "      <td>16030.0000</td>\n",
              "      <td>17190.0000</td>\n",
              "      <td>18350.0000</td>\n",
              "      <td>19510.0000</td>\n",
              "      <td>20660.0000</td>\n",
              "      <td>21820.0000</td>\n",
              "      <td>...</td>\n",
              "      <td>NaN</td>\n",
              "      <td>33370.0000</td>\n",
              "      <td>NaN</td>\n",
              "      <td>35670.0000</td>\n",
              "      <td>NaN</td>\n",
              "      <td>37980.0000</td>\n",
              "      <td>NaN</td>\n",
              "      <td>40290.0000</td>\n",
              "      <td>NaN</td>\n",
              "      <td>42600.0000</td>\n",
              "    </tr>\n",
              "    <tr>\n",
              "      <th>...</th>\n",
              "      <td>...</td>\n",
              "      <td>...</td>\n",
              "      <td>...</td>\n",
              "      <td>...</td>\n",
              "      <td>...</td>\n",
              "      <td>...</td>\n",
              "      <td>...</td>\n",
              "      <td>...</td>\n",
              "      <td>...</td>\n",
              "      <td>...</td>\n",
              "      <td>...</td>\n",
              "      <td>...</td>\n",
              "      <td>...</td>\n",
              "      <td>...</td>\n",
              "      <td>...</td>\n",
              "      <td>...</td>\n",
              "      <td>...</td>\n",
              "      <td>...</td>\n",
              "      <td>...</td>\n",
              "      <td>...</td>\n",
              "      <td>...</td>\n",
              "    </tr>\n",
              "    <tr>\n",
              "      <th>539</th>\n",
              "      <td>11200.0</td>\n",
              "      <td>S</td>\n",
              "      <td>3.4440</td>\n",
              "      <td>5.5476</td>\n",
              "      <td>NaN</td>\n",
              "      <td>NaN</td>\n",
              "      <td>NaN</td>\n",
              "      <td>NaN</td>\n",
              "      <td>NaN</td>\n",
              "      <td>NaN</td>\n",
              "      <td>...</td>\n",
              "      <td>6.2491</td>\n",
              "      <td>6.3515</td>\n",
              "      <td>6.4452</td>\n",
              "      <td>6.5324</td>\n",
              "      <td>6.6147</td>\n",
              "      <td>6.6929</td>\n",
              "      <td>6.7679</td>\n",
              "      <td>6.8401</td>\n",
              "      <td>6.9099</td>\n",
              "      <td>6.9777</td>\n",
              "    </tr>\n",
              "    <tr>\n",
              "      <th>540</th>\n",
              "      <td>11400.0</td>\n",
              "      <td>V</td>\n",
              "      <td>1.5040</td>\n",
              "      <td>15.2840</td>\n",
              "      <td>NaN</td>\n",
              "      <td>NaN</td>\n",
              "      <td>NaN</td>\n",
              "      <td>NaN</td>\n",
              "      <td>NaN</td>\n",
              "      <td>NaN</td>\n",
              "      <td>...</td>\n",
              "      <td>24.1040</td>\n",
              "      <td>25.5990</td>\n",
              "      <td>27.0100</td>\n",
              "      <td>28.3590</td>\n",
              "      <td>29.6610</td>\n",
              "      <td>30.9250</td>\n",
              "      <td>32.1600</td>\n",
              "      <td>33.3700</td>\n",
              "      <td>34.5600</td>\n",
              "      <td>35.7330</td>\n",
              "    </tr>\n",
              "    <tr>\n",
              "      <th>541</th>\n",
              "      <td>11400.0</td>\n",
              "      <td>U</td>\n",
              "      <td>1450.0000</td>\n",
              "      <td>2527.2000</td>\n",
              "      <td>NaN</td>\n",
              "      <td>NaN</td>\n",
              "      <td>NaN</td>\n",
              "      <td>NaN</td>\n",
              "      <td>NaN</td>\n",
              "      <td>NaN</td>\n",
              "      <td>...</td>\n",
              "      <td>2873.1000</td>\n",
              "      <td>2929.4000</td>\n",
              "      <td>2982.6000</td>\n",
              "      <td>3033.9000</td>\n",
              "      <td>3083.9000</td>\n",
              "      <td>3133.1000</td>\n",
              "      <td>3181.9000</td>\n",
              "      <td>3230.4000</td>\n",
              "      <td>3278.8000</td>\n",
              "      <td>3327.2000</td>\n",
              "    </tr>\n",
              "    <tr>\n",
              "      <th>542</th>\n",
              "      <td>11400.0</td>\n",
              "      <td>H</td>\n",
              "      <td>1467.2000</td>\n",
              "      <td>2701.5000</td>\n",
              "      <td>NaN</td>\n",
              "      <td>NaN</td>\n",
              "      <td>NaN</td>\n",
              "      <td>NaN</td>\n",
              "      <td>NaN</td>\n",
              "      <td>NaN</td>\n",
              "      <td>...</td>\n",
              "      <td>3147.9000</td>\n",
              "      <td>3221.2000</td>\n",
              "      <td>3290.5000</td>\n",
              "      <td>3357.2000</td>\n",
              "      <td>3422.1000</td>\n",
              "      <td>3485.7000</td>\n",
              "      <td>3548.5000</td>\n",
              "      <td>3610.8000</td>\n",
              "      <td>3672.8000</td>\n",
              "      <td>3734.6000</td>\n",
              "    </tr>\n",
              "    <tr>\n",
              "      <th>543</th>\n",
              "      <td>11400.0</td>\n",
              "      <td>S</td>\n",
              "      <td>3.4575</td>\n",
              "      <td>5.5357</td>\n",
              "      <td>NaN</td>\n",
              "      <td>NaN</td>\n",
              "      <td>NaN</td>\n",
              "      <td>NaN</td>\n",
              "      <td>NaN</td>\n",
              "      <td>NaN</td>\n",
              "      <td>...</td>\n",
              "      <td>6.2367</td>\n",
              "      <td>6.3399</td>\n",
              "      <td>6.4341</td>\n",
              "      <td>6.5218</td>\n",
              "      <td>6.6043</td>\n",
              "      <td>6.6828</td>\n",
              "      <td>6.7580</td>\n",
              "      <td>6.8304</td>\n",
              "      <td>6.9004</td>\n",
              "      <td>6.9683</td>\n",
              "    </tr>\n",
              "  </tbody>\n",
              "</table>\n",
              "<p>544 rows × 37 columns</p>\n",
              "</div>\n",
              "    <div class=\"colab-df-buttons\">\n",
              "\n",
              "  <div class=\"colab-df-container\">\n",
              "    <button class=\"colab-df-convert\" onclick=\"convertToInteractive('df-ccdd40d6-9c69-4be5-a21a-99951069e9e2')\"\n",
              "            title=\"Convert this dataframe to an interactive table.\"\n",
              "            style=\"display:none;\">\n",
              "\n",
              "  <svg xmlns=\"http://www.w3.org/2000/svg\" height=\"24px\" viewBox=\"0 -960 960 960\">\n",
              "    <path d=\"M120-120v-720h720v720H120Zm60-500h600v-160H180v160Zm220 220h160v-160H400v160Zm0 220h160v-160H400v160ZM180-400h160v-160H180v160Zm440 0h160v-160H620v160ZM180-180h160v-160H180v160Zm440 0h160v-160H620v160Z\"/>\n",
              "  </svg>\n",
              "    </button>\n",
              "\n",
              "  <style>\n",
              "    .colab-df-container {\n",
              "      display:flex;\n",
              "      gap: 12px;\n",
              "    }\n",
              "\n",
              "    .colab-df-convert {\n",
              "      background-color: #E8F0FE;\n",
              "      border: none;\n",
              "      border-radius: 50%;\n",
              "      cursor: pointer;\n",
              "      display: none;\n",
              "      fill: #1967D2;\n",
              "      height: 32px;\n",
              "      padding: 0 0 0 0;\n",
              "      width: 32px;\n",
              "    }\n",
              "\n",
              "    .colab-df-convert:hover {\n",
              "      background-color: #E2EBFA;\n",
              "      box-shadow: 0px 1px 2px rgba(60, 64, 67, 0.3), 0px 1px 3px 1px rgba(60, 64, 67, 0.15);\n",
              "      fill: #174EA6;\n",
              "    }\n",
              "\n",
              "    .colab-df-buttons div {\n",
              "      margin-bottom: 4px;\n",
              "    }\n",
              "\n",
              "    [theme=dark] .colab-df-convert {\n",
              "      background-color: #3B4455;\n",
              "      fill: #D2E3FC;\n",
              "    }\n",
              "\n",
              "    [theme=dark] .colab-df-convert:hover {\n",
              "      background-color: #434B5C;\n",
              "      box-shadow: 0px 1px 3px 1px rgba(0, 0, 0, 0.15);\n",
              "      filter: drop-shadow(0px 1px 2px rgba(0, 0, 0, 0.3));\n",
              "      fill: #FFFFFF;\n",
              "    }\n",
              "  </style>\n",
              "\n",
              "    <script>\n",
              "      const buttonEl =\n",
              "        document.querySelector('#df-ccdd40d6-9c69-4be5-a21a-99951069e9e2 button.colab-df-convert');\n",
              "      buttonEl.style.display =\n",
              "        google.colab.kernel.accessAllowed ? 'block' : 'none';\n",
              "\n",
              "      async function convertToInteractive(key) {\n",
              "        const element = document.querySelector('#df-ccdd40d6-9c69-4be5-a21a-99951069e9e2');\n",
              "        const dataTable =\n",
              "          await google.colab.kernel.invokeFunction('convertToInteractive',\n",
              "                                                    [key], {});\n",
              "        if (!dataTable) return;\n",
              "\n",
              "        const docLinkHtml = 'Like what you see? Visit the ' +\n",
              "          '<a target=\"_blank\" href=https://colab.research.google.com/notebooks/data_table.ipynb>data table notebook</a>'\n",
              "          + ' to learn more about interactive tables.';\n",
              "        element.innerHTML = '';\n",
              "        dataTable['output_type'] = 'display_data';\n",
              "        await google.colab.output.renderOutput(dataTable, element);\n",
              "        const docLink = document.createElement('div');\n",
              "        docLink.innerHTML = docLinkHtml;\n",
              "        element.appendChild(docLink);\n",
              "      }\n",
              "    </script>\n",
              "  </div>\n",
              "\n",
              "\n",
              "<div id=\"df-cdbb9775-3e3f-4a06-8f6c-731de69fd699\">\n",
              "  <button class=\"colab-df-quickchart\" onclick=\"quickchart('df-cdbb9775-3e3f-4a06-8f6c-731de69fd699')\"\n",
              "            title=\"Suggest charts\"\n",
              "            style=\"display:none;\">\n",
              "\n",
              "<svg xmlns=\"http://www.w3.org/2000/svg\" height=\"24px\"viewBox=\"0 0 24 24\"\n",
              "     width=\"24px\">\n",
              "    <g>\n",
              "        <path d=\"M19 3H5c-1.1 0-2 .9-2 2v14c0 1.1.9 2 2 2h14c1.1 0 2-.9 2-2V5c0-1.1-.9-2-2-2zM9 17H7v-7h2v7zm4 0h-2V7h2v10zm4 0h-2v-4h2v4z\"/>\n",
              "    </g>\n",
              "</svg>\n",
              "  </button>\n",
              "\n",
              "<style>\n",
              "  .colab-df-quickchart {\n",
              "      --bg-color: #E8F0FE;\n",
              "      --fill-color: #1967D2;\n",
              "      --hover-bg-color: #E2EBFA;\n",
              "      --hover-fill-color: #174EA6;\n",
              "      --disabled-fill-color: #AAA;\n",
              "      --disabled-bg-color: #DDD;\n",
              "  }\n",
              "\n",
              "  [theme=dark] .colab-df-quickchart {\n",
              "      --bg-color: #3B4455;\n",
              "      --fill-color: #D2E3FC;\n",
              "      --hover-bg-color: #434B5C;\n",
              "      --hover-fill-color: #FFFFFF;\n",
              "      --disabled-bg-color: #3B4455;\n",
              "      --disabled-fill-color: #666;\n",
              "  }\n",
              "\n",
              "  .colab-df-quickchart {\n",
              "    background-color: var(--bg-color);\n",
              "    border: none;\n",
              "    border-radius: 50%;\n",
              "    cursor: pointer;\n",
              "    display: none;\n",
              "    fill: var(--fill-color);\n",
              "    height: 32px;\n",
              "    padding: 0;\n",
              "    width: 32px;\n",
              "  }\n",
              "\n",
              "  .colab-df-quickchart:hover {\n",
              "    background-color: var(--hover-bg-color);\n",
              "    box-shadow: 0 1px 2px rgba(60, 64, 67, 0.3), 0 1px 3px 1px rgba(60, 64, 67, 0.15);\n",
              "    fill: var(--button-hover-fill-color);\n",
              "  }\n",
              "\n",
              "  .colab-df-quickchart-complete:disabled,\n",
              "  .colab-df-quickchart-complete:disabled:hover {\n",
              "    background-color: var(--disabled-bg-color);\n",
              "    fill: var(--disabled-fill-color);\n",
              "    box-shadow: none;\n",
              "  }\n",
              "\n",
              "  .colab-df-spinner {\n",
              "    border: 2px solid var(--fill-color);\n",
              "    border-color: transparent;\n",
              "    border-bottom-color: var(--fill-color);\n",
              "    animation:\n",
              "      spin 1s steps(1) infinite;\n",
              "  }\n",
              "\n",
              "  @keyframes spin {\n",
              "    0% {\n",
              "      border-color: transparent;\n",
              "      border-bottom-color: var(--fill-color);\n",
              "      border-left-color: var(--fill-color);\n",
              "    }\n",
              "    20% {\n",
              "      border-color: transparent;\n",
              "      border-left-color: var(--fill-color);\n",
              "      border-top-color: var(--fill-color);\n",
              "    }\n",
              "    30% {\n",
              "      border-color: transparent;\n",
              "      border-left-color: var(--fill-color);\n",
              "      border-top-color: var(--fill-color);\n",
              "      border-right-color: var(--fill-color);\n",
              "    }\n",
              "    40% {\n",
              "      border-color: transparent;\n",
              "      border-right-color: var(--fill-color);\n",
              "      border-top-color: var(--fill-color);\n",
              "    }\n",
              "    60% {\n",
              "      border-color: transparent;\n",
              "      border-right-color: var(--fill-color);\n",
              "    }\n",
              "    80% {\n",
              "      border-color: transparent;\n",
              "      border-right-color: var(--fill-color);\n",
              "      border-bottom-color: var(--fill-color);\n",
              "    }\n",
              "    90% {\n",
              "      border-color: transparent;\n",
              "      border-bottom-color: var(--fill-color);\n",
              "    }\n",
              "  }\n",
              "</style>\n",
              "\n",
              "  <script>\n",
              "    async function quickchart(key) {\n",
              "      const quickchartButtonEl =\n",
              "        document.querySelector('#' + key + ' button');\n",
              "      quickchartButtonEl.disabled = true;  // To prevent multiple clicks.\n",
              "      quickchartButtonEl.classList.add('colab-df-spinner');\n",
              "      try {\n",
              "        const charts = await google.colab.kernel.invokeFunction(\n",
              "            'suggestCharts', [key], {});\n",
              "      } catch (error) {\n",
              "        console.error('Error during call to suggestCharts:', error);\n",
              "      }\n",
              "      quickchartButtonEl.classList.remove('colab-df-spinner');\n",
              "      quickchartButtonEl.classList.add('colab-df-quickchart-complete');\n",
              "    }\n",
              "    (() => {\n",
              "      let quickchartButtonEl =\n",
              "        document.querySelector('#df-cdbb9775-3e3f-4a06-8f6c-731de69fd699 button');\n",
              "      quickchartButtonEl.style.display =\n",
              "        google.colab.kernel.accessAllowed ? 'block' : 'none';\n",
              "    })();\n",
              "  </script>\n",
              "</div>\n",
              "\n",
              "  <div id=\"id_b454aaed-5930-49eb-b977-b48c5a2bf14f\">\n",
              "    <style>\n",
              "      .colab-df-generate {\n",
              "        background-color: #E8F0FE;\n",
              "        border: none;\n",
              "        border-radius: 50%;\n",
              "        cursor: pointer;\n",
              "        display: none;\n",
              "        fill: #1967D2;\n",
              "        height: 32px;\n",
              "        padding: 0 0 0 0;\n",
              "        width: 32px;\n",
              "      }\n",
              "\n",
              "      .colab-df-generate:hover {\n",
              "        background-color: #E2EBFA;\n",
              "        box-shadow: 0px 1px 2px rgba(60, 64, 67, 0.3), 0px 1px 3px 1px rgba(60, 64, 67, 0.15);\n",
              "        fill: #174EA6;\n",
              "      }\n",
              "\n",
              "      [theme=dark] .colab-df-generate {\n",
              "        background-color: #3B4455;\n",
              "        fill: #D2E3FC;\n",
              "      }\n",
              "\n",
              "      [theme=dark] .colab-df-generate:hover {\n",
              "        background-color: #434B5C;\n",
              "        box-shadow: 0px 1px 3px 1px rgba(0, 0, 0, 0.15);\n",
              "        filter: drop-shadow(0px 1px 2px rgba(0, 0, 0, 0.3));\n",
              "        fill: #FFFFFF;\n",
              "      }\n",
              "    </style>\n",
              "    <button class=\"colab-df-generate\" onclick=\"generateWithVariable('df')\"\n",
              "            title=\"Generate code using this dataframe.\"\n",
              "            style=\"display:none;\">\n",
              "\n",
              "  <svg xmlns=\"http://www.w3.org/2000/svg\" height=\"24px\"viewBox=\"0 0 24 24\"\n",
              "       width=\"24px\">\n",
              "    <path d=\"M7,19H8.4L18.45,9,17,7.55,7,17.6ZM5,21V16.75L18.45,3.32a2,2,0,0,1,2.83,0l1.4,1.43a1.91,1.91,0,0,1,.58,1.4,1.91,1.91,0,0,1-.58,1.4L9.25,21ZM18.45,9,17,7.55Zm-12,3A5.31,5.31,0,0,0,4.9,8.1,5.31,5.31,0,0,0,1,6.5,5.31,5.31,0,0,0,4.9,4.9,5.31,5.31,0,0,0,6.5,1,5.31,5.31,0,0,0,8.1,4.9,5.31,5.31,0,0,0,12,6.5,5.46,5.46,0,0,0,6.5,12Z\"/>\n",
              "  </svg>\n",
              "    </button>\n",
              "    <script>\n",
              "      (() => {\n",
              "      const buttonEl =\n",
              "        document.querySelector('#id_b454aaed-5930-49eb-b977-b48c5a2bf14f button.colab-df-generate');\n",
              "      buttonEl.style.display =\n",
              "        google.colab.kernel.accessAllowed ? 'block' : 'none';\n",
              "\n",
              "      buttonEl.onclick = () => {\n",
              "        google.colab.notebook.generateWithVariable('df');\n",
              "      }\n",
              "      })();\n",
              "    </script>\n",
              "  </div>\n",
              "\n",
              "    </div>\n",
              "  </div>\n"
            ]
          },
          "metadata": {},
          "execution_count": 2
        }
      ]
    },
    {
      "cell_type": "markdown",
      "source": [
        "###Display the shape of data frame\n"
      ],
      "metadata": {
        "id": "Zp8F3rk2cNxy"
      }
    },
    {
      "cell_type": "code",
      "source": [
        "#your code here\n",
        "print('Shape of data frame:', df.shape)"
      ],
      "metadata": {
        "id": "v3Q8kQkucgK0"
      },
      "execution_count": null,
      "outputs": []
    },
    {
      "cell_type": "markdown",
      "source": [
        "###Return an array containing names of all the columns"
      ],
      "metadata": {
        "id": "w49cp-8zcgd2"
      }
    },
    {
      "cell_type": "code",
      "source": [
        "#your code here\n",
        "column_names = df.columns.to_numpy()\n",
        "print(\"Names of all columns:\", column_names)"
      ],
      "metadata": {
        "id": "fz4HRb3JcsZp"
      },
      "execution_count": null,
      "outputs": []
    },
    {
      "cell_type": "markdown",
      "source": [
        "###Display the number of null values in each column of the dataframe``\n",
        "\n"
      ],
      "metadata": {
        "id": "YkTH9tRWcrH-"
      }
    },
    {
      "cell_type": "code",
      "source": [
        "#your code here\n",
        "no_of_null_values = df.isnull().sum()\n",
        "print(\"Number of null values in each column:\")\n",
        "print(no_of_null_values)"
      ],
      "metadata": {
        "id": "GK9-PJPxc3Ot"
      },
      "execution_count": null,
      "outputs": []
    },
    {
      "cell_type": "markdown",
      "source": [
        "###Create a column which contains the Pressure and Property columns, seperated with 'at' (For eg. V at 1, H at 101.325). Using this print the following:\n",
        "- Enthalpy at 75 kPa and 573 K\n",
        "- Entropy at 493 K and 250 kPa\n",
        "\n"
      ],
      "metadata": {
        "id": "Av-lcft2c3mx"
      }
    },
    {
      "cell_type": "code",
      "source": [
        "df['Property at Pressure']=df['Property'] + \" at \" + df['Pressure'].astype(str)\n",
        "idx1=df[df['Property at Pressure']=='V at 10.0'].index\n",
        "df['75'].loc[idx1].item()"
      ],
      "metadata": {
        "id": "B2AihQj_c32C",
        "colab": {
          "base_uri": "https://localhost:8080/"
        },
        "outputId": "6b67f33c-8627-4fe0-f3f8-f86b0f12a35a"
      },
      "execution_count": null,
      "outputs": [
        {
          "output_type": "execute_result",
          "data": {
            "text/plain": [
              "16030.0"
            ]
          },
          "metadata": {},
          "execution_count": 10
        }
      ]
    },
    {
      "cell_type": "markdown",
      "source": [
        "###Find out the column with the highest number of missing values"
      ],
      "metadata": {
        "id": "GpLtXYRLc4Ho"
      }
    },
    {
      "cell_type": "code",
      "source": [
        "#your code here\n",
        "col_with_highest_missing_values = df.isnull().sum().idxmax()\n",
        "print(\"Column with the highest number of missing values:\", col_with_highest_missing_values)"
      ],
      "metadata": {
        "id": "q80Grgeyc4Xn"
      },
      "execution_count": null,
      "outputs": []
    },
    {
      "cell_type": "markdown",
      "source": [
        "###What is the average enthalpy of Sat. Liq. at all different pressures in the dataset ?"
      ],
      "metadata": {
        "id": "74NVHTTac4nv"
      }
    },
    {
      "cell_type": "code",
      "source": [
        "print(df['Liq_Sat'].iloc[2::4].mean())"
      ],
      "metadata": {
        "id": "g3mByhBDdpVr",
        "colab": {
          "base_uri": "https://localhost:8080/"
        },
        "outputId": "afe4042b-7870-4323-d239-973506267f05"
      },
      "execution_count": null,
      "outputs": [
        {
          "output_type": "stream",
          "name": "stdout",
          "text": [
            "936.9707720588235\n"
          ]
        }
      ]
    },
    {
      "cell_type": "markdown",
      "source": [
        "###Separate out the V,U,H,S data from the dataset into V_data, U_data, H_data, S_data"
      ],
      "metadata": {
        "id": "uS-SuqU8dpxg"
      }
    },
    {
      "cell_type": "code",
      "source": [
        "#your code here"
      ],
      "metadata": {
        "id": "Sg3V9Toyd1Av"
      },
      "execution_count": null,
      "outputs": []
    },
    {
      "cell_type": "markdown",
      "source": [
        "#Section 3: PLotting the PLOTS"
      ],
      "metadata": {
        "id": "Ghkj0-0-d1W7"
      }
    },
    {
      "cell_type": "markdown",
      "source": [
        "###Plot the properties (specific volume, specific internal energy, specific enthalpy, specific entropy) vs Pressure for saturated liquid.\n",
        "\n",
        "Note:\n",
        "- Try using the subplot feature of matplotlib(Explore it!!)\n",
        "- Provide appropriate title, labels, markersize and other parameters to the plot"
      ],
      "metadata": {
        "id": "ka0qrDcZeAL6"
      }
    },
    {
      "cell_type": "code",
      "source": [
        "#your code here"
      ],
      "metadata": {
        "id": "XbKdm-cUePKA"
      },
      "execution_count": null,
      "outputs": []
    },
    {
      "cell_type": "markdown",
      "source": [
        "###Plot the specific volume of saturated liquid between 300 kPa and 1500 kPa"
      ],
      "metadata": {
        "id": "SCLRji6TeQgh"
      }
    },
    {
      "cell_type": "code",
      "source": [
        "#your code here"
      ],
      "metadata": {
        "id": "u6DyyI7MeYgE"
      },
      "execution_count": null,
      "outputs": []
    },
    {
      "cell_type": "markdown",
      "source": [
        "#Linear Regression\n",
        "You're given a 100 data points generated from the function\n",
        "$y=mx+c$. Some noise is added to the y values.\n",
        "\n",
        "**Task:** Estimate the values of m and c using linear regression. Write a suitable cost function and update the parameters."
      ],
      "metadata": {
        "id": "6N_8T4KnfnOG"
      }
    },
    {
      "cell_type": "code",
      "source": [
        " # Generation of data points\n",
        "x = np.random.rand(100)*100\n",
        "y = -4*x+15\n",
        "y = y+np.random.randn(100)*30\n",
        "plt.scatter(x,y)"
      ],
      "metadata": {
        "id": "qK0CKt8WfuO9"
      },
      "execution_count": null,
      "outputs": []
    },
    {
      "cell_type": "code",
      "source": [
        "# Initialize parameters for the best-fit line y = mx + c\n",
        "m0 = 1.0  # Initial value for slope\n",
        "c0 = 0.0  # Initial value for y-intercept\n",
        "\n",
        "print(\"Initial value for m:\", m0)\n",
        "print(\"Initial value for c:\", c0)\n",
        "\n",
        "\n",
        "# Cost function to be minimised\n",
        "import numpy as np\n",
        "\n",
        "# Linear regression model: y = mx + c\n",
        "def linear_regression(m, x, c):\n",
        "    return m*x + c\n",
        "\n",
        "# Mean Squared Error cost function\n",
        "def cost_function(y, m, x, c):\n",
        "    pred = linear_regression(m, x, c)\n",
        "    mse = np.mean((pred - y)**2)\n",
        "    return mse\n",
        "\n",
        "#Function for updating parameter\n"
      ],
      "metadata": {
        "id": "0lyjPEfmiC-e"
      },
      "execution_count": null,
      "outputs": []
    },
    {
      "cell_type": "markdown",
      "source": [
        "Run the model"
      ],
      "metadata": {
        "id": "JPy839WUiOvz"
      }
    },
    {
      "cell_type": "code",
      "source": [
        "# define number of iterations for minimising cost function\n",
        "\n",
        "# define the learning rate #\n",
        "\n",
        "# run the model"
      ],
      "metadata": {
        "id": "sf8s00SUiYhN"
      },
      "execution_count": null,
      "outputs": []
    },
    {
      "cell_type": "code",
      "source": [
        "print(m,c)  # value should be close to (-4,15)"
      ],
      "metadata": {
        "id": "_g7W3mloilGn"
      },
      "execution_count": null,
      "outputs": []
    }
  ]
}