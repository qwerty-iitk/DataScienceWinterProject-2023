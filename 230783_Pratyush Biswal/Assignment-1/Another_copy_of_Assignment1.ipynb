{
  "cells": [
    {
      "cell_type": "markdown",
      "metadata": {
        "id": "UOzd0zRXW5Uv"
      },
      "source": [
        "# Week-1 Assignment\n",
        "\n",
        "**Welcome to your first assignment for the SimuTech Winter Project 2022! I hope you are excited to implement and test everything you have learned up until now. There is an interesting set of questions for you to refine your acquired skills as you delve into hands-on coding and deepen your understanding of numpy, pandas, and data visualization libraries.**\n",
        "\n",
        "P.S. You might find use of functions which you have never used before.So feel free to google"
      ]
    },
    {
      "cell_type": "code",
      "execution_count": null,
      "metadata": {
        "colab": {
          "base_uri": "https://localhost:8080/"
        },
        "id": "quOk2Txvgp9V",
        "outputId": "c9c02f5c-3f0d-4544-f599-413c4fe6759f"
      },
      "outputs": [
        {
          "name": "stdout",
          "output_type": "stream",
          "text": [
            "Mounted at /content/drive\n"
          ]
        }
      ],
      "source": [
        "from google.colab import drive\n",
        "drive.mount('/content/drive')"
      ]
    },
    {
      "cell_type": "markdown",
      "metadata": {
        "id": "2XFUXyq9Y9TG"
      },
      "source": [
        "# Section0 : Importing Libraries"
      ]
    },
    {
      "cell_type": "markdown",
      "metadata": {
        "id": "D_bzcLusjSO0"
      },
      "source": [
        "*Let's begin by importing numpy, pandas and matplotlib.*"
      ]
    },
    {
      "cell_type": "code",
      "execution_count": 5,
      "metadata": {
        "id": "jdwX7bI7aGeY"
      },
      "outputs": [],
      "source": [
        "#your code here\n",
        "import numpy as np\n",
        "import pandas as pd\n",
        "import matplotlib.pyplot as plt"
      ]
    },
    {
      "cell_type": "markdown",
      "metadata": {
        "id": "LM25mz5ta-Q_"
      },
      "source": [
        "# Section1 : Playing with Python and Numpy"
      ]
    },
    {
      "cell_type": "markdown",
      "metadata": {
        "id": "TcFQVqhAdQw_"
      },
      "source": [
        "### Q1. Matrix Multiplication"
      ]
    },
    {
      "cell_type": "markdown",
      "metadata": {
        "id": "6Dcai9pys0j8"
      },
      "source": [
        "##### (i) Check if matrix multiplication is valid"
      ]
    },
    {
      "cell_type": "code",
      "execution_count": 72,
      "metadata": {
        "id": "0qC4txIss3gG"
      },
      "outputs": [],
      "source": [
        "import numpy as np\n",
        "\n",
        "def isValid(A, B):\n",
        "  \n",
        "  \n",
        "  a,b=np.shape(A)\n",
        "  c,d=np.shape(B)\n",
        "  if(b==c):\n",
        "    return True\n",
        "  elif(a==b==c==d):\n",
        "    return True\n",
        "  else:\n",
        "    return False \n",
        "  \n",
        " \n"
      ]
    },
    {
      "cell_type": "markdown",
      "metadata": {
        "id": "OPTfRGlTdXxa"
      },
      "source": [
        "##### (ii) Using loops (without using numpy)"
      ]
    },
    {
      "cell_type": "code",
      "execution_count": 92,
      "metadata": {
        "id": "V8F5ETsRct3S"
      },
      "outputs": [],
      "source": [
        "def matrix_multiply(A,B):\n",
        "    a,b=np.shape(A)\n",
        "    c,d=np.shape(B)\n",
        "    matrix=np.zeros((a,d))\n",
        "    i=0\n",
        "    while i<a:\n",
        "        j=0\n",
        "        while j<b:\n",
        "            k=0\n",
        "            while k<d:\n",
        "                t=0\n",
        "                t=t+(A[i][j]*B[j][k]) \n",
        "            k=k+1\n",
        "        j=j+1\n",
        "    i=i+1               \n",
        "    matrix[i][k]=t      \n",
        "    return matrix    \n",
        "    c"
      ]
    },
    {
      "cell_type": "markdown",
      "metadata": {
        "id": "umUgUTSWdos8"
      },
      "source": [
        "##### (iii) Using numpy"
      ]
    },
    {
      "cell_type": "code",
      "execution_count": 48,
      "metadata": {
        "id": "-tdXlCHrduBP"
      },
      "outputs": [],
      "source": [
        "def matrix_multiply_2(A,B):\n",
        "  import numpy as np\n",
        "  C=np.dot(A, B)\n",
        "  print(C)\n"
      ]
    },
    {
      "cell_type": "markdown",
      "metadata": {
        "id": "2nMFnl84edJG"
      },
      "source": [
        "##### (iv) Testing your code\n",
        "\n",
        "Run the following cell to check if your functions are working properly.\n",
        "\n",
        "*Expected output:*\n",
        "[ [102 108 114]\n",
        " [246 261 276]\n",
        " [390 414 438]\n",
        " [534 567 600] ]"
      ]
    },
    {
      "cell_type": "code",
      "execution_count": 93,
      "metadata": {
        "id": "09rX_Cm9ezmq"
      },
      "outputs": [
        {
          "ename": "KeyboardInterrupt",
          "evalue": "",
          "output_type": "error",
          "traceback": [
            "\u001b[1;31m---------------------------------------------------------------------------\u001b[0m",
            "\u001b[1;31mKeyboardInterrupt\u001b[0m                         Traceback (most recent call last)",
            "Cell \u001b[1;32mIn[93], line 15\u001b[0m\n\u001b[0;32m      8\u001b[0m B \u001b[38;5;241m=\u001b[39m np\u001b[38;5;241m.\u001b[39marray([\n\u001b[0;32m      9\u001b[0m     [\u001b[38;5;241m13\u001b[39m, \u001b[38;5;241m14\u001b[39m, \u001b[38;5;241m15\u001b[39m],\n\u001b[0;32m     10\u001b[0m     [\u001b[38;5;241m16\u001b[39m, \u001b[38;5;241m17\u001b[39m, \u001b[38;5;241m18\u001b[39m],\n\u001b[0;32m     11\u001b[0m     [\u001b[38;5;241m19\u001b[39m, \u001b[38;5;241m20\u001b[39m, \u001b[38;5;241m21\u001b[39m]\n\u001b[0;32m     12\u001b[0m ])\n\u001b[0;32m     14\u001b[0m \u001b[38;5;28;01mif\u001b[39;00m isValid(A,B):\n\u001b[1;32m---> 15\u001b[0m   \u001b[38;5;28mprint\u001b[39m(\u001b[38;5;124mf\u001b[39m\u001b[38;5;124m\"\u001b[39m\u001b[38;5;124mResult using loops: \u001b[39m\u001b[38;5;132;01m{\u001b[39;00m\u001b[43mmatrix_multiply\u001b[49m\u001b[43m(\u001b[49m\u001b[43mA\u001b[49m\u001b[43m,\u001b[49m\u001b[43mB\u001b[49m\u001b[43m)\u001b[49m\u001b[38;5;132;01m}\u001b[39;00m\u001b[38;5;124m\"\u001b[39m)\n\u001b[0;32m     16\u001b[0m   \u001b[38;5;28mprint\u001b[39m(\u001b[38;5;124mf\u001b[39m\u001b[38;5;124m\"\u001b[39m\u001b[38;5;124mResult using numpy: \u001b[39m\u001b[38;5;132;01m{\u001b[39;00mmatrix_multiply_2(A,B)\u001b[38;5;132;01m}\u001b[39;00m\u001b[38;5;124m\"\u001b[39m)\n\u001b[0;32m     17\u001b[0m \u001b[38;5;28;01melse\u001b[39;00m:\n",
            "Cell \u001b[1;32mIn[92], line 10\u001b[0m, in \u001b[0;36mmatrix_multiply\u001b[1;34m(A, B)\u001b[0m\n\u001b[0;32m      8\u001b[0m \u001b[38;5;28;01mwhile\u001b[39;00m j\u001b[38;5;241m<\u001b[39mb:\n\u001b[0;32m      9\u001b[0m     k\u001b[38;5;241m=\u001b[39m\u001b[38;5;241m0\u001b[39m\n\u001b[1;32m---> 10\u001b[0m     \u001b[38;5;28;01mwhile\u001b[39;00m k\u001b[38;5;241m<\u001b[39md:\n\u001b[0;32m     11\u001b[0m         t\u001b[38;5;241m=\u001b[39m\u001b[38;5;241m0\u001b[39m\n\u001b[0;32m     12\u001b[0m         t\u001b[38;5;241m=\u001b[39mt\u001b[38;5;241m+\u001b[39m(A[i][j]\u001b[38;5;241m*\u001b[39mB[j][k]) \n",
            "\u001b[1;31mKeyboardInterrupt\u001b[0m: "
          ]
        }
      ],
      "source": [
        "A = np.array([\n",
        "    [1, 2, 3],\n",
        "    [4, 5, 6],\n",
        "    [7, 8, 9],\n",
        "    [10, 11, 12]\n",
        "])\n",
        "\n",
        "B = np.array([\n",
        "    [13, 14, 15],\n",
        "    [16, 17, 18],\n",
        "    [19, 20, 21]\n",
        "])\n",
        "\n",
        "if isValid(A,B):\n",
        "  print(f\"Result using loops: {matrix_multiply(A,B)}\")\n",
        "  print(f\"Result using numpy: {matrix_multiply_2(A,B)}\")\n",
        "else:\n",
        "  print(f\"Matrix multiplication is not valid\")"
      ]
    },
    {
      "cell_type": "markdown",
      "metadata": {
        "id": "5hfP7Ao1fwqV"
      },
      "source": [
        "### Q2. Z-Score Normalisation"
      ]
    },
    {
      "cell_type": "markdown",
      "metadata": {
        "id": "0e81Xx5Kw_CQ"
      },
      "source": [
        "Z-score normalization refers to the process of normalizing every value in a dataset such that the mean of all of the values is 0 and the standard deviation is 1.\n",
        "\n",
        "We use the following formula to perform a z-score normalization on every value in a dataset:\n",
        "\n",
        "New value = (x – μ) / σ\n",
        "\n",
        "where:\n",
        "\n",
        "x: Original value\n",
        "\n",
        "μ: Mean of data\n",
        "\n",
        "σ: Standard deviation of data"
      ]
    },
    {
      "cell_type": "markdown",
      "metadata": {
        "id": "GP_MuyUbguSR"
      },
      "source": [
        "##### (i) Without using numpy"
      ]
    },
    {
      "cell_type": "code",
      "execution_count": 94,
      "metadata": {
        "id": "0vix8qaaghwP"
      },
      "outputs": [],
      "source": [
        "def mean(x):\n",
        "  sum(x)/len(x)\n"
      ]
    },
    {
      "cell_type": "code",
      "execution_count": 95,
      "metadata": {
        "id": "j1qabel-g_f5"
      },
      "outputs": [],
      "source": [
        "def standard_deviation(x):\n",
        "    return (sum((xi - mean(x))**2 for xi in x)/len(x))**0.5\n",
        "\n",
        "  "
      ]
    },
    {
      "cell_type": "code",
      "execution_count": 99,
      "metadata": {
        "id": "797ewbNqhEpY"
      },
      "outputs": [],
      "source": [
        "def zscore_normalisation(x):\n",
        "  return ((xi - mean(x))/standard_deviation(x) for xi in x)"
      ]
    },
    {
      "cell_type": "markdown",
      "metadata": {
        "id": "k8dq1wqRhbUB"
      },
      "source": [
        "##### (ii) Using numpy\n",
        "\n",
        "Numpy has in_built functions for calculating mean and standard deviation"
      ]
    },
    {
      "cell_type": "code",
      "execution_count": 97,
      "metadata": {
        "id": "WjxJTUDihsYg"
      },
      "outputs": [],
      "source": [
        "def zscore_normalisation_2(x):\n",
        "  return (x-np.mean(x))/np.std(x)"
      ]
    },
    {
      "cell_type": "markdown",
      "metadata": {
        "id": "glRqKU-_1pue"
      },
      "source": [
        "##### (iii) Testing your code"
      ]
    },
    {
      "cell_type": "markdown",
      "metadata": {
        "id": "Kl7XBymOigCU"
      },
      "source": [
        "Run the following cell to check if your functions are working properly.\n",
        "\n",
        "*Expected Output:* [-1.06753267 -0.99745394 -0.99745394 -0.81057732 -0.41346451 -0.06307086\n",
        "  0.31068237  0.91803138  1.22170588  1.89913361]"
      ]
    },
    {
      "cell_type": "code",
      "execution_count": 100,
      "metadata": {
        "id": "78ptZxf6ipZp"
      },
      "outputs": [
        {
          "name": "stdout",
          "output_type": "stream",
          "text": [
            "Result without using numpy: <generator object zscore_normalisation.<locals>.<genexpr> at 0x00000252DEAF5EE0>\n",
            "Result using numpy: [-1.06753267 -0.99745394 -0.99745394 -0.81057732 -0.41346451 -0.06307086\n",
            "  0.31068237  0.91803138  1.22170588  1.89913361]\n"
          ]
        }
      ],
      "source": [
        "x = [4, 7, 7, 15, 32, 47, 63, 89, 102, 131]\n",
        "print(f\"Result without using numpy: {zscore_normalisation(x)}\")\n",
        "print(f\"Result using numpy: {zscore_normalisation_2(x)}\")"
      ]
    },
    {
      "cell_type": "markdown",
      "metadata": {
        "id": "0WVscJ0z14rp"
      },
      "source": [
        "### Q3. Sigmoid fn and its derivative"
      ]
    },
    {
      "cell_type": "markdown",
      "metadata": {
        "id": "Jfntb0Rg94Tu"
      },
      "source": [
        "The sigmoid function is a mathematical function that maps any input value to a value between 0 and 1.\n",
        "\n",
        "It is defined mathematically as s(x) = 1/(1+e^(-x))."
      ]
    },
    {
      "cell_type": "markdown",
      "metadata": {
        "id": "8SCAPkjO2m7u"
      },
      "source": [
        "##### (i) Write a fn to implement sigmoid fn"
      ]
    },
    {
      "cell_type": "code",
      "execution_count": 101,
      "metadata": {
        "id": "jL_TRQFG2l5m"
      },
      "outputs": [],
      "source": [
        "def sigmoidfn(x):\n",
        "  return 1/(1+np.exp(-x))"
      ]
    },
    {
      "cell_type": "markdown",
      "metadata": {
        "id": "t7KBbl7N3AUM"
      },
      "source": [
        "##### (ii) Write a fn to implement derivative of sigmoid fn"
      ]
    },
    {
      "cell_type": "code",
      "execution_count": 102,
      "metadata": {
        "id": "okjuOpba3KOJ"
      },
      "outputs": [],
      "source": [
        "def derivative(x):\n",
        "  return (1-sigmoidfn(x))*sigmoidfn(x)"
      ]
    },
    {
      "cell_type": "markdown",
      "metadata": {
        "id": "NdGTSpsp3mwr"
      },
      "source": [
        "##### (iii) Test your code"
      ]
    },
    {
      "cell_type": "markdown",
      "metadata": {
        "id": "lWY8RBex7gnd"
      },
      "source": [
        "Run the following cell to check if your functions are working properly.\n",
        "\n",
        "*Expected output:*\n",
        "\n",
        "x on applying sigmoid activation fn is: [ [0.99987661 0.88079708 0.99330715 0.5        0.5       ]\n",
        " [0.99908895 0.99330715 0.5        0.5        0.5       ] ]\n",
        "\n",
        "x on applying derivative of sigmoid activation fn is: [ [-1.23379350e-04 -1.04993585e-01 -6.64805667e-03 -2.50000000e-01\n",
        "  -2.50000000e-01]\n",
        " [-9.10221180e-04 -6.64805667e-03 -2.50000000e-01 -2.50000000e-01\n",
        "  -2.50000000e-01] ]"
      ]
    },
    {
      "cell_type": "code",
      "execution_count": 103,
      "metadata": {
        "id": "ssDGpmS33vdA"
      },
      "outputs": [
        {
          "name": "stdout",
          "output_type": "stream",
          "text": [
            "x on applying sigmoid activation fn is: [[0.99987661 0.88079708 0.99330715 0.5        0.5       ]\n",
            " [0.99908895 0.99330715 0.5        0.5        0.5       ]]\n",
            "x on applying derivative of sigmoid activation fn is: [[1.23379350e-04 1.04993585e-01 6.64805667e-03 2.50000000e-01\n",
            "  2.50000000e-01]\n",
            " [9.10221180e-04 6.64805667e-03 2.50000000e-01 2.50000000e-01\n",
            "  2.50000000e-01]]\n"
          ]
        }
      ],
      "source": [
        "x = np.array([\n",
        "    [9,2,5,0,0],\n",
        "    [7,5,0,0,0]\n",
        "])\n",
        "print(f\"x on applying sigmoid activation fn is: {sigmoidfn(x)}\")\n",
        "print(f\"x on applying derivative of sigmoid activation fn is: {derivative(x)}\")"
      ]
    },
    {
      "cell_type": "markdown",
      "metadata": {
        "id": "PMa0cseyZpa1"
      },
      "source": [
        "# Section 2: Playing with Pandas"
      ]
    },
    {
      "cell_type": "markdown",
      "metadata": {
        "id": "i5Okb_jxZ_VW"
      },
      "source": [
        "###Read the csv file\n"
      ]
    },
    {
      "cell_type": "code",
      "execution_count": 108,
      "metadata": {
        "id": "aQgvyavrcM1l"
      },
      "outputs": [
        {
          "data": {
            "text/html": [
              "<div>\n",
              "<style scoped>\n",
              "    .dataframe tbody tr th:only-of-type {\n",
              "        vertical-align: middle;\n",
              "    }\n",
              "\n",
              "    .dataframe tbody tr th {\n",
              "        vertical-align: top;\n",
              "    }\n",
              "\n",
              "    .dataframe thead th {\n",
              "        text-align: right;\n",
              "    }\n",
              "</style>\n",
              "<table border=\"1\" class=\"dataframe\">\n",
              "  <thead>\n",
              "    <tr style=\"text-align: right;\">\n",
              "      <th></th>\n",
              "      <th>Pressure</th>\n",
              "      <th>Property</th>\n",
              "      <th>Liq_Sat</th>\n",
              "      <th>Vap_Sat</th>\n",
              "      <th>75</th>\n",
              "      <th>100</th>\n",
              "      <th>125</th>\n",
              "      <th>150</th>\n",
              "      <th>175</th>\n",
              "      <th>200</th>\n",
              "      <th>...</th>\n",
              "      <th>425</th>\n",
              "      <th>450</th>\n",
              "      <th>475</th>\n",
              "      <th>500</th>\n",
              "      <th>525</th>\n",
              "      <th>550</th>\n",
              "      <th>575</th>\n",
              "      <th>600</th>\n",
              "      <th>625</th>\n",
              "      <th>650</th>\n",
              "    </tr>\n",
              "  </thead>\n",
              "  <tbody>\n",
              "    <tr>\n",
              "      <th>0</th>\n",
              "      <td>1.0</td>\n",
              "      <td>V</td>\n",
              "      <td>1.0000</td>\n",
              "      <td>129200.0000</td>\n",
              "      <td>160640.0000</td>\n",
              "      <td>172180.0000</td>\n",
              "      <td>183720.0000</td>\n",
              "      <td>195270.0000</td>\n",
              "      <td>206810.0000</td>\n",
              "      <td>218350.0000</td>\n",
              "      <td>...</td>\n",
              "      <td>NaN</td>\n",
              "      <td>333730.0000</td>\n",
              "      <td>NaN</td>\n",
              "      <td>356810.0000</td>\n",
              "      <td>NaN</td>\n",
              "      <td>379880.0000</td>\n",
              "      <td>NaN</td>\n",
              "      <td>402960.0000</td>\n",
              "      <td>NaN</td>\n",
              "      <td>426040.0000</td>\n",
              "    </tr>\n",
              "    <tr>\n",
              "      <th>1</th>\n",
              "      <td>1.0</td>\n",
              "      <td>U</td>\n",
              "      <td>29.3340</td>\n",
              "      <td>2385.2000</td>\n",
              "      <td>2480.8000</td>\n",
              "      <td>2516.4000</td>\n",
              "      <td>2552.3000</td>\n",
              "      <td>2588.5000</td>\n",
              "      <td>2624.9000</td>\n",
              "      <td>2661.7000</td>\n",
              "      <td>...</td>\n",
              "      <td>NaN</td>\n",
              "      <td>3049.9000</td>\n",
              "      <td>NaN</td>\n",
              "      <td>3132.4000</td>\n",
              "      <td>NaN</td>\n",
              "      <td>3216.7000</td>\n",
              "      <td>NaN</td>\n",
              "      <td>3302.6000</td>\n",
              "      <td>NaN</td>\n",
              "      <td>3390.3000</td>\n",
              "    </tr>\n",
              "    <tr>\n",
              "      <th>2</th>\n",
              "      <td>1.0</td>\n",
              "      <td>H</td>\n",
              "      <td>29.3350</td>\n",
              "      <td>2514.4000</td>\n",
              "      <td>2641.5000</td>\n",
              "      <td>2688.6000</td>\n",
              "      <td>2736.0000</td>\n",
              "      <td>2783.7000</td>\n",
              "      <td>2831.7000</td>\n",
              "      <td>2880.1000</td>\n",
              "      <td>...</td>\n",
              "      <td>NaN</td>\n",
              "      <td>3383.6000</td>\n",
              "      <td>NaN</td>\n",
              "      <td>3489.2000</td>\n",
              "      <td>NaN</td>\n",
              "      <td>3596.5000</td>\n",
              "      <td>NaN</td>\n",
              "      <td>3705.6000</td>\n",
              "      <td>NaN</td>\n",
              "      <td>3816.4000</td>\n",
              "    </tr>\n",
              "    <tr>\n",
              "      <th>3</th>\n",
              "      <td>1.0</td>\n",
              "      <td>S</td>\n",
              "      <td>0.1060</td>\n",
              "      <td>8.9767</td>\n",
              "      <td>9.3828</td>\n",
              "      <td>9.5136</td>\n",
              "      <td>9.6365</td>\n",
              "      <td>9.7527</td>\n",
              "      <td>9.8629</td>\n",
              "      <td>9.9679</td>\n",
              "      <td>...</td>\n",
              "      <td>NaN</td>\n",
              "      <td>10.8200</td>\n",
              "      <td>NaN</td>\n",
              "      <td>10.9612</td>\n",
              "      <td>NaN</td>\n",
              "      <td>11.0957</td>\n",
              "      <td>NaN</td>\n",
              "      <td>11.2243</td>\n",
              "      <td>NaN</td>\n",
              "      <td>11.3476</td>\n",
              "    </tr>\n",
              "    <tr>\n",
              "      <th>4</th>\n",
              "      <td>10.0</td>\n",
              "      <td>V</td>\n",
              "      <td>1.0100</td>\n",
              "      <td>14670.0000</td>\n",
              "      <td>16030.0000</td>\n",
              "      <td>17190.0000</td>\n",
              "      <td>18350.0000</td>\n",
              "      <td>19510.0000</td>\n",
              "      <td>20660.0000</td>\n",
              "      <td>21820.0000</td>\n",
              "      <td>...</td>\n",
              "      <td>NaN</td>\n",
              "      <td>33370.0000</td>\n",
              "      <td>NaN</td>\n",
              "      <td>35670.0000</td>\n",
              "      <td>NaN</td>\n",
              "      <td>37980.0000</td>\n",
              "      <td>NaN</td>\n",
              "      <td>40290.0000</td>\n",
              "      <td>NaN</td>\n",
              "      <td>42600.0000</td>\n",
              "    </tr>\n",
              "    <tr>\n",
              "      <th>...</th>\n",
              "      <td>...</td>\n",
              "      <td>...</td>\n",
              "      <td>...</td>\n",
              "      <td>...</td>\n",
              "      <td>...</td>\n",
              "      <td>...</td>\n",
              "      <td>...</td>\n",
              "      <td>...</td>\n",
              "      <td>...</td>\n",
              "      <td>...</td>\n",
              "      <td>...</td>\n",
              "      <td>...</td>\n",
              "      <td>...</td>\n",
              "      <td>...</td>\n",
              "      <td>...</td>\n",
              "      <td>...</td>\n",
              "      <td>...</td>\n",
              "      <td>...</td>\n",
              "      <td>...</td>\n",
              "      <td>...</td>\n",
              "      <td>...</td>\n",
              "    </tr>\n",
              "    <tr>\n",
              "      <th>539</th>\n",
              "      <td>11200.0</td>\n",
              "      <td>S</td>\n",
              "      <td>3.4440</td>\n",
              "      <td>5.5476</td>\n",
              "      <td>NaN</td>\n",
              "      <td>NaN</td>\n",
              "      <td>NaN</td>\n",
              "      <td>NaN</td>\n",
              "      <td>NaN</td>\n",
              "      <td>NaN</td>\n",
              "      <td>...</td>\n",
              "      <td>6.2491</td>\n",
              "      <td>6.3515</td>\n",
              "      <td>6.4452</td>\n",
              "      <td>6.5324</td>\n",
              "      <td>6.6147</td>\n",
              "      <td>6.6929</td>\n",
              "      <td>6.7679</td>\n",
              "      <td>6.8401</td>\n",
              "      <td>6.9099</td>\n",
              "      <td>6.9777</td>\n",
              "    </tr>\n",
              "    <tr>\n",
              "      <th>540</th>\n",
              "      <td>11400.0</td>\n",
              "      <td>V</td>\n",
              "      <td>1.5040</td>\n",
              "      <td>15.2840</td>\n",
              "      <td>NaN</td>\n",
              "      <td>NaN</td>\n",
              "      <td>NaN</td>\n",
              "      <td>NaN</td>\n",
              "      <td>NaN</td>\n",
              "      <td>NaN</td>\n",
              "      <td>...</td>\n",
              "      <td>24.1040</td>\n",
              "      <td>25.5990</td>\n",
              "      <td>27.0100</td>\n",
              "      <td>28.3590</td>\n",
              "      <td>29.6610</td>\n",
              "      <td>30.9250</td>\n",
              "      <td>32.1600</td>\n",
              "      <td>33.3700</td>\n",
              "      <td>34.5600</td>\n",
              "      <td>35.7330</td>\n",
              "    </tr>\n",
              "    <tr>\n",
              "      <th>541</th>\n",
              "      <td>11400.0</td>\n",
              "      <td>U</td>\n",
              "      <td>1450.0000</td>\n",
              "      <td>2527.2000</td>\n",
              "      <td>NaN</td>\n",
              "      <td>NaN</td>\n",
              "      <td>NaN</td>\n",
              "      <td>NaN</td>\n",
              "      <td>NaN</td>\n",
              "      <td>NaN</td>\n",
              "      <td>...</td>\n",
              "      <td>2873.1000</td>\n",
              "      <td>2929.4000</td>\n",
              "      <td>2982.6000</td>\n",
              "      <td>3033.9000</td>\n",
              "      <td>3083.9000</td>\n",
              "      <td>3133.1000</td>\n",
              "      <td>3181.9000</td>\n",
              "      <td>3230.4000</td>\n",
              "      <td>3278.8000</td>\n",
              "      <td>3327.2000</td>\n",
              "    </tr>\n",
              "    <tr>\n",
              "      <th>542</th>\n",
              "      <td>11400.0</td>\n",
              "      <td>H</td>\n",
              "      <td>1467.2000</td>\n",
              "      <td>2701.5000</td>\n",
              "      <td>NaN</td>\n",
              "      <td>NaN</td>\n",
              "      <td>NaN</td>\n",
              "      <td>NaN</td>\n",
              "      <td>NaN</td>\n",
              "      <td>NaN</td>\n",
              "      <td>...</td>\n",
              "      <td>3147.9000</td>\n",
              "      <td>3221.2000</td>\n",
              "      <td>3290.5000</td>\n",
              "      <td>3357.2000</td>\n",
              "      <td>3422.1000</td>\n",
              "      <td>3485.7000</td>\n",
              "      <td>3548.5000</td>\n",
              "      <td>3610.8000</td>\n",
              "      <td>3672.8000</td>\n",
              "      <td>3734.6000</td>\n",
              "    </tr>\n",
              "    <tr>\n",
              "      <th>543</th>\n",
              "      <td>11400.0</td>\n",
              "      <td>S</td>\n",
              "      <td>3.4575</td>\n",
              "      <td>5.5357</td>\n",
              "      <td>NaN</td>\n",
              "      <td>NaN</td>\n",
              "      <td>NaN</td>\n",
              "      <td>NaN</td>\n",
              "      <td>NaN</td>\n",
              "      <td>NaN</td>\n",
              "      <td>...</td>\n",
              "      <td>6.2367</td>\n",
              "      <td>6.3399</td>\n",
              "      <td>6.4341</td>\n",
              "      <td>6.5218</td>\n",
              "      <td>6.6043</td>\n",
              "      <td>6.6828</td>\n",
              "      <td>6.7580</td>\n",
              "      <td>6.8304</td>\n",
              "      <td>6.9004</td>\n",
              "      <td>6.9683</td>\n",
              "    </tr>\n",
              "  </tbody>\n",
              "</table>\n",
              "<p>544 rows × 37 columns</p>\n",
              "</div>"
            ],
            "text/plain": [
              "     Pressure Property    Liq_Sat      Vap_Sat           75          100  \\\n",
              "0         1.0        V     1.0000  129200.0000  160640.0000  172180.0000   \n",
              "1         1.0        U    29.3340    2385.2000    2480.8000    2516.4000   \n",
              "2         1.0        H    29.3350    2514.4000    2641.5000    2688.6000   \n",
              "3         1.0        S     0.1060       8.9767       9.3828       9.5136   \n",
              "4        10.0        V     1.0100   14670.0000   16030.0000   17190.0000   \n",
              "..        ...      ...        ...          ...          ...          ...   \n",
              "539   11200.0        S     3.4440       5.5476          NaN          NaN   \n",
              "540   11400.0        V     1.5040      15.2840          NaN          NaN   \n",
              "541   11400.0        U  1450.0000    2527.2000          NaN          NaN   \n",
              "542   11400.0        H  1467.2000    2701.5000          NaN          NaN   \n",
              "543   11400.0        S     3.4575       5.5357          NaN          NaN   \n",
              "\n",
              "             125          150          175          200  ...        425  \\\n",
              "0    183720.0000  195270.0000  206810.0000  218350.0000  ...        NaN   \n",
              "1      2552.3000    2588.5000    2624.9000    2661.7000  ...        NaN   \n",
              "2      2736.0000    2783.7000    2831.7000    2880.1000  ...        NaN   \n",
              "3         9.6365       9.7527       9.8629       9.9679  ...        NaN   \n",
              "4     18350.0000   19510.0000   20660.0000   21820.0000  ...        NaN   \n",
              "..           ...          ...          ...          ...  ...        ...   \n",
              "539          NaN          NaN          NaN          NaN  ...     6.2491   \n",
              "540          NaN          NaN          NaN          NaN  ...    24.1040   \n",
              "541          NaN          NaN          NaN          NaN  ...  2873.1000   \n",
              "542          NaN          NaN          NaN          NaN  ...  3147.9000   \n",
              "543          NaN          NaN          NaN          NaN  ...     6.2367   \n",
              "\n",
              "             450        475          500        525          550        575  \\\n",
              "0    333730.0000        NaN  356810.0000        NaN  379880.0000        NaN   \n",
              "1      3049.9000        NaN    3132.4000        NaN    3216.7000        NaN   \n",
              "2      3383.6000        NaN    3489.2000        NaN    3596.5000        NaN   \n",
              "3        10.8200        NaN      10.9612        NaN      11.0957        NaN   \n",
              "4     33370.0000        NaN   35670.0000        NaN   37980.0000        NaN   \n",
              "..           ...        ...          ...        ...          ...        ...   \n",
              "539       6.3515     6.4452       6.5324     6.6147       6.6929     6.7679   \n",
              "540      25.5990    27.0100      28.3590    29.6610      30.9250    32.1600   \n",
              "541    2929.4000  2982.6000    3033.9000  3083.9000    3133.1000  3181.9000   \n",
              "542    3221.2000  3290.5000    3357.2000  3422.1000    3485.7000  3548.5000   \n",
              "543       6.3399     6.4341       6.5218     6.6043       6.6828     6.7580   \n",
              "\n",
              "             600        625          650  \n",
              "0    402960.0000        NaN  426040.0000  \n",
              "1      3302.6000        NaN    3390.3000  \n",
              "2      3705.6000        NaN    3816.4000  \n",
              "3        11.2243        NaN      11.3476  \n",
              "4     40290.0000        NaN   42600.0000  \n",
              "..           ...        ...          ...  \n",
              "539       6.8401     6.9099       6.9777  \n",
              "540      33.3700    34.5600      35.7330  \n",
              "541    3230.4000  3278.8000    3327.2000  \n",
              "542    3610.8000  3672.8000    3734.6000  \n",
              "543       6.8304     6.9004       6.9683  \n",
              "\n",
              "[544 rows x 37 columns]"
            ]
          },
          "execution_count": 108,
          "metadata": {},
          "output_type": "execute_result"
        }
      ],
      "source": [
        "import pandas as pd\n",
        "df = pd.read_csv(\"superheated_vapor_properties.csv\")\n",
        "df"
      ]
    },
    {
      "cell_type": "markdown",
      "metadata": {
        "id": "Zp8F3rk2cNxy"
      },
      "source": [
        "###Display the shape of data frame\n"
      ]
    },
    {
      "cell_type": "code",
      "execution_count": 109,
      "metadata": {
        "id": "v3Q8kQkucgK0"
      },
      "outputs": [
        {
          "data": {
            "text/plain": [
              "(544, 37)"
            ]
          },
          "execution_count": 109,
          "metadata": {},
          "output_type": "execute_result"
        }
      ],
      "source": [
        "data=pd.DataFrame(df)\n",
        "data.shape\n"
      ]
    },
    {
      "cell_type": "markdown",
      "metadata": {
        "id": "w49cp-8zcgd2"
      },
      "source": [
        "###Return an array containing names of all the columns"
      ]
    },
    {
      "cell_type": "code",
      "execution_count": 110,
      "metadata": {
        "id": "fz4HRb3JcsZp"
      },
      "outputs": [
        {
          "data": {
            "text/plain": [
              "array(['Pressure', 'Property', 'Liq_Sat', 'Vap_Sat', '75', '100', '125',\n",
              "       '150', '175', '200', '220', '225', '240', '250', '260', '275',\n",
              "       '280', '290', '300', '320', '325', '340', '350', '360', '375',\n",
              "       '380', '400', '425', '450', '475', '500', '525', '550', '575',\n",
              "       '600', '625', '650'], dtype=object)"
            ]
          },
          "execution_count": 110,
          "metadata": {},
          "output_type": "execute_result"
        }
      ],
      "source": [
        "np.array(data.columns)"
      ]
    },
    {
      "cell_type": "markdown",
      "metadata": {
        "id": "YkTH9tRWcrH-"
      },
      "source": [
        "###Display the number of null values in each column of the dataframe``\n",
        "\n"
      ]
    },
    {
      "cell_type": "code",
      "execution_count": 111,
      "metadata": {
        "id": "GK9-PJPxc3Ot"
      },
      "outputs": [
        {
          "data": {
            "text/html": [
              "<div>\n",
              "<style scoped>\n",
              "    .dataframe tbody tr th:only-of-type {\n",
              "        vertical-align: middle;\n",
              "    }\n",
              "\n",
              "    .dataframe tbody tr th {\n",
              "        vertical-align: top;\n",
              "    }\n",
              "\n",
              "    .dataframe thead th {\n",
              "        text-align: right;\n",
              "    }\n",
              "</style>\n",
              "<table border=\"1\" class=\"dataframe\">\n",
              "  <thead>\n",
              "    <tr style=\"text-align: right;\">\n",
              "      <th></th>\n",
              "      <th>Pressure</th>\n",
              "      <th>Property</th>\n",
              "      <th>Liq_Sat</th>\n",
              "      <th>Vap_Sat</th>\n",
              "      <th>75</th>\n",
              "      <th>100</th>\n",
              "      <th>125</th>\n",
              "      <th>150</th>\n",
              "      <th>175</th>\n",
              "      <th>200</th>\n",
              "      <th>...</th>\n",
              "      <th>425</th>\n",
              "      <th>450</th>\n",
              "      <th>475</th>\n",
              "      <th>500</th>\n",
              "      <th>525</th>\n",
              "      <th>550</th>\n",
              "      <th>575</th>\n",
              "      <th>600</th>\n",
              "      <th>625</th>\n",
              "      <th>650</th>\n",
              "    </tr>\n",
              "  </thead>\n",
              "  <tbody>\n",
              "    <tr>\n",
              "      <th>0</th>\n",
              "      <td>False</td>\n",
              "      <td>False</td>\n",
              "      <td>False</td>\n",
              "      <td>False</td>\n",
              "      <td>False</td>\n",
              "      <td>False</td>\n",
              "      <td>False</td>\n",
              "      <td>False</td>\n",
              "      <td>False</td>\n",
              "      <td>False</td>\n",
              "      <td>...</td>\n",
              "      <td>True</td>\n",
              "      <td>False</td>\n",
              "      <td>True</td>\n",
              "      <td>False</td>\n",
              "      <td>True</td>\n",
              "      <td>False</td>\n",
              "      <td>True</td>\n",
              "      <td>False</td>\n",
              "      <td>True</td>\n",
              "      <td>False</td>\n",
              "    </tr>\n",
              "    <tr>\n",
              "      <th>1</th>\n",
              "      <td>False</td>\n",
              "      <td>False</td>\n",
              "      <td>False</td>\n",
              "      <td>False</td>\n",
              "      <td>False</td>\n",
              "      <td>False</td>\n",
              "      <td>False</td>\n",
              "      <td>False</td>\n",
              "      <td>False</td>\n",
              "      <td>False</td>\n",
              "      <td>...</td>\n",
              "      <td>True</td>\n",
              "      <td>False</td>\n",
              "      <td>True</td>\n",
              "      <td>False</td>\n",
              "      <td>True</td>\n",
              "      <td>False</td>\n",
              "      <td>True</td>\n",
              "      <td>False</td>\n",
              "      <td>True</td>\n",
              "      <td>False</td>\n",
              "    </tr>\n",
              "    <tr>\n",
              "      <th>2</th>\n",
              "      <td>False</td>\n",
              "      <td>False</td>\n",
              "      <td>False</td>\n",
              "      <td>False</td>\n",
              "      <td>False</td>\n",
              "      <td>False</td>\n",
              "      <td>False</td>\n",
              "      <td>False</td>\n",
              "      <td>False</td>\n",
              "      <td>False</td>\n",
              "      <td>...</td>\n",
              "      <td>True</td>\n",
              "      <td>False</td>\n",
              "      <td>True</td>\n",
              "      <td>False</td>\n",
              "      <td>True</td>\n",
              "      <td>False</td>\n",
              "      <td>True</td>\n",
              "      <td>False</td>\n",
              "      <td>True</td>\n",
              "      <td>False</td>\n",
              "    </tr>\n",
              "    <tr>\n",
              "      <th>3</th>\n",
              "      <td>False</td>\n",
              "      <td>False</td>\n",
              "      <td>False</td>\n",
              "      <td>False</td>\n",
              "      <td>False</td>\n",
              "      <td>False</td>\n",
              "      <td>False</td>\n",
              "      <td>False</td>\n",
              "      <td>False</td>\n",
              "      <td>False</td>\n",
              "      <td>...</td>\n",
              "      <td>True</td>\n",
              "      <td>False</td>\n",
              "      <td>True</td>\n",
              "      <td>False</td>\n",
              "      <td>True</td>\n",
              "      <td>False</td>\n",
              "      <td>True</td>\n",
              "      <td>False</td>\n",
              "      <td>True</td>\n",
              "      <td>False</td>\n",
              "    </tr>\n",
              "    <tr>\n",
              "      <th>4</th>\n",
              "      <td>False</td>\n",
              "      <td>False</td>\n",
              "      <td>False</td>\n",
              "      <td>False</td>\n",
              "      <td>False</td>\n",
              "      <td>False</td>\n",
              "      <td>False</td>\n",
              "      <td>False</td>\n",
              "      <td>False</td>\n",
              "      <td>False</td>\n",
              "      <td>...</td>\n",
              "      <td>True</td>\n",
              "      <td>False</td>\n",
              "      <td>True</td>\n",
              "      <td>False</td>\n",
              "      <td>True</td>\n",
              "      <td>False</td>\n",
              "      <td>True</td>\n",
              "      <td>False</td>\n",
              "      <td>True</td>\n",
              "      <td>False</td>\n",
              "    </tr>\n",
              "    <tr>\n",
              "      <th>...</th>\n",
              "      <td>...</td>\n",
              "      <td>...</td>\n",
              "      <td>...</td>\n",
              "      <td>...</td>\n",
              "      <td>...</td>\n",
              "      <td>...</td>\n",
              "      <td>...</td>\n",
              "      <td>...</td>\n",
              "      <td>...</td>\n",
              "      <td>...</td>\n",
              "      <td>...</td>\n",
              "      <td>...</td>\n",
              "      <td>...</td>\n",
              "      <td>...</td>\n",
              "      <td>...</td>\n",
              "      <td>...</td>\n",
              "      <td>...</td>\n",
              "      <td>...</td>\n",
              "      <td>...</td>\n",
              "      <td>...</td>\n",
              "      <td>...</td>\n",
              "    </tr>\n",
              "    <tr>\n",
              "      <th>539</th>\n",
              "      <td>False</td>\n",
              "      <td>False</td>\n",
              "      <td>False</td>\n",
              "      <td>False</td>\n",
              "      <td>True</td>\n",
              "      <td>True</td>\n",
              "      <td>True</td>\n",
              "      <td>True</td>\n",
              "      <td>True</td>\n",
              "      <td>True</td>\n",
              "      <td>...</td>\n",
              "      <td>False</td>\n",
              "      <td>False</td>\n",
              "      <td>False</td>\n",
              "      <td>False</td>\n",
              "      <td>False</td>\n",
              "      <td>False</td>\n",
              "      <td>False</td>\n",
              "      <td>False</td>\n",
              "      <td>False</td>\n",
              "      <td>False</td>\n",
              "    </tr>\n",
              "    <tr>\n",
              "      <th>540</th>\n",
              "      <td>False</td>\n",
              "      <td>False</td>\n",
              "      <td>False</td>\n",
              "      <td>False</td>\n",
              "      <td>True</td>\n",
              "      <td>True</td>\n",
              "      <td>True</td>\n",
              "      <td>True</td>\n",
              "      <td>True</td>\n",
              "      <td>True</td>\n",
              "      <td>...</td>\n",
              "      <td>False</td>\n",
              "      <td>False</td>\n",
              "      <td>False</td>\n",
              "      <td>False</td>\n",
              "      <td>False</td>\n",
              "      <td>False</td>\n",
              "      <td>False</td>\n",
              "      <td>False</td>\n",
              "      <td>False</td>\n",
              "      <td>False</td>\n",
              "    </tr>\n",
              "    <tr>\n",
              "      <th>541</th>\n",
              "      <td>False</td>\n",
              "      <td>False</td>\n",
              "      <td>False</td>\n",
              "      <td>False</td>\n",
              "      <td>True</td>\n",
              "      <td>True</td>\n",
              "      <td>True</td>\n",
              "      <td>True</td>\n",
              "      <td>True</td>\n",
              "      <td>True</td>\n",
              "      <td>...</td>\n",
              "      <td>False</td>\n",
              "      <td>False</td>\n",
              "      <td>False</td>\n",
              "      <td>False</td>\n",
              "      <td>False</td>\n",
              "      <td>False</td>\n",
              "      <td>False</td>\n",
              "      <td>False</td>\n",
              "      <td>False</td>\n",
              "      <td>False</td>\n",
              "    </tr>\n",
              "    <tr>\n",
              "      <th>542</th>\n",
              "      <td>False</td>\n",
              "      <td>False</td>\n",
              "      <td>False</td>\n",
              "      <td>False</td>\n",
              "      <td>True</td>\n",
              "      <td>True</td>\n",
              "      <td>True</td>\n",
              "      <td>True</td>\n",
              "      <td>True</td>\n",
              "      <td>True</td>\n",
              "      <td>...</td>\n",
              "      <td>False</td>\n",
              "      <td>False</td>\n",
              "      <td>False</td>\n",
              "      <td>False</td>\n",
              "      <td>False</td>\n",
              "      <td>False</td>\n",
              "      <td>False</td>\n",
              "      <td>False</td>\n",
              "      <td>False</td>\n",
              "      <td>False</td>\n",
              "    </tr>\n",
              "    <tr>\n",
              "      <th>543</th>\n",
              "      <td>False</td>\n",
              "      <td>False</td>\n",
              "      <td>False</td>\n",
              "      <td>False</td>\n",
              "      <td>True</td>\n",
              "      <td>True</td>\n",
              "      <td>True</td>\n",
              "      <td>True</td>\n",
              "      <td>True</td>\n",
              "      <td>True</td>\n",
              "      <td>...</td>\n",
              "      <td>False</td>\n",
              "      <td>False</td>\n",
              "      <td>False</td>\n",
              "      <td>False</td>\n",
              "      <td>False</td>\n",
              "      <td>False</td>\n",
              "      <td>False</td>\n",
              "      <td>False</td>\n",
              "      <td>False</td>\n",
              "      <td>False</td>\n",
              "    </tr>\n",
              "  </tbody>\n",
              "</table>\n",
              "<p>544 rows × 37 columns</p>\n",
              "</div>"
            ],
            "text/plain": [
              "     Pressure  Property  Liq_Sat  Vap_Sat     75    100    125    150    175  \\\n",
              "0       False     False    False    False  False  False  False  False  False   \n",
              "1       False     False    False    False  False  False  False  False  False   \n",
              "2       False     False    False    False  False  False  False  False  False   \n",
              "3       False     False    False    False  False  False  False  False  False   \n",
              "4       False     False    False    False  False  False  False  False  False   \n",
              "..        ...       ...      ...      ...    ...    ...    ...    ...    ...   \n",
              "539     False     False    False    False   True   True   True   True   True   \n",
              "540     False     False    False    False   True   True   True   True   True   \n",
              "541     False     False    False    False   True   True   True   True   True   \n",
              "542     False     False    False    False   True   True   True   True   True   \n",
              "543     False     False    False    False   True   True   True   True   True   \n",
              "\n",
              "       200  ...    425    450    475    500    525    550    575    600  \\\n",
              "0    False  ...   True  False   True  False   True  False   True  False   \n",
              "1    False  ...   True  False   True  False   True  False   True  False   \n",
              "2    False  ...   True  False   True  False   True  False   True  False   \n",
              "3    False  ...   True  False   True  False   True  False   True  False   \n",
              "4    False  ...   True  False   True  False   True  False   True  False   \n",
              "..     ...  ...    ...    ...    ...    ...    ...    ...    ...    ...   \n",
              "539   True  ...  False  False  False  False  False  False  False  False   \n",
              "540   True  ...  False  False  False  False  False  False  False  False   \n",
              "541   True  ...  False  False  False  False  False  False  False  False   \n",
              "542   True  ...  False  False  False  False  False  False  False  False   \n",
              "543   True  ...  False  False  False  False  False  False  False  False   \n",
              "\n",
              "       625    650  \n",
              "0     True  False  \n",
              "1     True  False  \n",
              "2     True  False  \n",
              "3     True  False  \n",
              "4     True  False  \n",
              "..     ...    ...  \n",
              "539  False  False  \n",
              "540  False  False  \n",
              "541  False  False  \n",
              "542  False  False  \n",
              "543  False  False  \n",
              "\n",
              "[544 rows x 37 columns]"
            ]
          },
          "execution_count": 111,
          "metadata": {},
          "output_type": "execute_result"
        }
      ],
      "source": [
        "data.isnull()"
      ]
    },
    {
      "cell_type": "markdown",
      "metadata": {
        "id": "Av-lcft2c3mx"
      },
      "source": [
        "###Create a column which contains the Pressure and Property columns, seperated with 'at' (For eg. V at 1, H at 101.325). Using this print the following:\n",
        "- Enthalpy at 75 kPa and 573 K\n",
        "- Entropy at 493 K and 250 kPa\n",
        "\n"
      ]
    },
    {
      "cell_type": "code",
      "execution_count": 125,
      "metadata": {
        "id": "B2AihQj_c32C"
      },
      "outputs": [
        {
          "name": "stdout",
          "output_type": "stream",
          "text": [
            "3075.1\n",
            "nan\n"
          ]
        }
      ],
      "source": [
        "df['Property at Pressure']=df['Property'] + \" at \" + df['Pressure'].astype(str)\n",
        "\n",
        "idx1=df[df['Property at Pressure']=='H at 75.0'].index\n",
        "k=df['300'].loc[idx1].item()\n",
        "print(f\"{k}\")\n",
        "\n",
        "idx2=df[df['Property at Pressure']=='S at 250.0'].index\n",
        "l=df['220'].loc[idx2].item()\n",
        "print(f\"{l}\")"
      ]
    },
    {
      "cell_type": "markdown",
      "metadata": {
        "id": "GpLtXYRLc4Ho"
      },
      "source": [
        "###Find out the column with the highest number of missing values"
      ]
    },
    {
      "cell_type": "code",
      "execution_count": 131,
      "metadata": {
        "id": "q80Grgeyc4Xn"
      },
      "outputs": [
        {
          "ename": "NameError",
          "evalue": "name 'nan' is not defined",
          "output_type": "error",
          "traceback": [
            "\u001b[1;31m---------------------------------------------------------------------------\u001b[0m",
            "\u001b[1;31mNameError\u001b[0m                                 Traceback (most recent call last)",
            "Cell \u001b[1;32mIn[131], line 1\u001b[0m\n\u001b[1;32m----> 1\u001b[0m \u001b[38;5;28mprint\u001b[39m(\u001b[38;5;28mmax\u001b[39m(\u001b[43mnan\u001b[49m,key\u001b[38;5;241m=\u001b[39mnan\u001b[38;5;241m.\u001b[39mget))\n",
            "\u001b[1;31mNameError\u001b[0m: name 'nan' is not defined"
          ]
        }
      ],
      "source": []
    },
    {
      "cell_type": "markdown",
      "metadata": {
        "id": "74NVHTTac4nv"
      },
      "source": [
        "###What is the average enthalpy of Sat. Liq. at all different pressures in the dataset ?"
      ]
    },
    {
      "cell_type": "code",
      "execution_count": 132,
      "metadata": {
        "id": "g3mByhBDdpVr"
      },
      "outputs": [
        {
          "name": "stdout",
          "output_type": "stream",
          "text": [
            "936.9707720588235\n"
          ]
        }
      ],
      "source": [
        "print(df['Liq_Sat'].iloc[2::4].mean())"
      ]
    },
    {
      "cell_type": "markdown",
      "metadata": {
        "id": "uS-SuqU8dpxg"
      },
      "source": [
        "###Separate out the V,U,H,S data from the dataset into V_data, U_data, H_data, S_data"
      ]
    },
    {
      "cell_type": "code",
      "execution_count": 133,
      "metadata": {
        "id": "Sg3V9Toyd1Av"
      },
      "outputs": [],
      "source": [
        "grouped = data.groupby(data.Property)\n",
        "V_data = grouped.get_group(\"V\")\n",
        "U_data = grouped.get_group(\"U\")\n",
        "H_data = grouped.get_group(\"H\")\n",
        "S_data = grouped.get_group(\"S\")"
      ]
    },
    {
      "cell_type": "markdown",
      "metadata": {
        "id": "Ghkj0-0-d1W7"
      },
      "source": [
        "#Section 3: PLotting the PLOTS"
      ]
    },
    {
      "cell_type": "markdown",
      "metadata": {
        "id": "ka0qrDcZeAL6"
      },
      "source": [
        "###Plot the properties (specific volume, specific internal energy, specific enthalpy, specific entropy) vs Pressure for saturated liquid.\n",
        "\n",
        "Note:\n",
        "- Try using the subplot feature of matplotlib(Explore it!!)\n",
        "- Provide appropriate title, labels, markersize and other parameters to the plot"
      ]
    },
    {
      "cell_type": "code",
      "execution_count": null,
      "metadata": {
        "id": "XbKdm-cUePKA"
      },
      "outputs": [],
      "source": [
        "#Need some more time to understand matplotlib."
      ]
    },
    {
      "cell_type": "markdown",
      "metadata": {
        "id": "SCLRji6TeQgh"
      },
      "source": [
        "###Plot the specific volume of saturated liquid between 300 kPa and 1500 kPa"
      ]
    },
    {
      "cell_type": "code",
      "execution_count": null,
      "metadata": {
        "id": "u6DyyI7MeYgE"
      },
      "outputs": [],
      "source": [
        "#your code here"
      ]
    },
    {
      "cell_type": "markdown",
      "metadata": {
        "id": "6N_8T4KnfnOG"
      },
      "source": [
        "#Linear Regression\n",
        "You're given a 100 data points generated from the function\n",
        "$y=mx+c$. Some noise is added to the y values.\n",
        "\n",
        "**Task:** Estimate the values of m and c using linear regression. Write a suitable cost function and update the parameters."
      ]
    },
    {
      "cell_type": "code",
      "execution_count": 135,
      "metadata": {
        "id": "qK0CKt8WfuO9"
      },
      "outputs": [
        {
          "ename": "NameError",
          "evalue": "name 'plt' is not defined",
          "output_type": "error",
          "traceback": [
            "\u001b[1;31m---------------------------------------------------------------------------\u001b[0m",
            "\u001b[1;31mNameError\u001b[0m                                 Traceback (most recent call last)",
            "Cell \u001b[1;32mIn[135], line 5\u001b[0m\n\u001b[0;32m      3\u001b[0m y \u001b[38;5;241m=\u001b[39m \u001b[38;5;241m-\u001b[39m\u001b[38;5;241m4\u001b[39m\u001b[38;5;241m*\u001b[39mx\u001b[38;5;241m+\u001b[39m\u001b[38;5;241m15\u001b[39m\n\u001b[0;32m      4\u001b[0m y \u001b[38;5;241m=\u001b[39m y\u001b[38;5;241m+\u001b[39mnp\u001b[38;5;241m.\u001b[39mrandom\u001b[38;5;241m.\u001b[39mrandn(\u001b[38;5;241m100\u001b[39m)\u001b[38;5;241m*\u001b[39m\u001b[38;5;241m30\u001b[39m\n\u001b[1;32m----> 5\u001b[0m \u001b[43mplt\u001b[49m\u001b[38;5;241m.\u001b[39mscatter(x,y)\n",
            "\u001b[1;31mNameError\u001b[0m: name 'plt' is not defined"
          ]
        }
      ],
      "source": [
        " # Generation of data points\n",
        "x = np.random.rand(100)*100\n",
        "y = -4*x+15\n",
        "y = y+np.random.randn(100)*30\n",
        "plt.scatter(x,y)"
      ]
    },
    {
      "cell_type": "code",
      "execution_count": null,
      "metadata": {
        "id": "0lyjPEfmiC-e"
      },
      "outputs": [],
      "source": [
        "# Initialisng parameters m and c such that the best fit line is given by y = m*x+c\n",
        "\n",
        "#Cost function to be minimised\n",
        "\n",
        "#Function for updating parameter\n"
      ]
    },
    {
      "cell_type": "markdown",
      "metadata": {
        "id": "JPy839WUiOvz"
      },
      "source": [
        "Run the model"
      ]
    },
    {
      "cell_type": "code",
      "execution_count": null,
      "metadata": {
        "id": "sf8s00SUiYhN"
      },
      "outputs": [],
      "source": [
        "# define number of iterations for minimising cost function\n",
        "\n",
        "# define the learning rate #\n",
        "\n",
        "# run the model"
      ]
    },
    {
      "cell_type": "code",
      "execution_count": null,
      "metadata": {
        "id": "_g7W3mloilGn"
      },
      "outputs": [],
      "source": [
        "print(m,c)  # value should be close to (-4,15)"
      ]
    }
  ],
  "metadata": {
    "colab": {
      "provenance": []
    },
    "kernelspec": {
      "display_name": "Python 3",
      "name": "python3"
    },
    "language_info": {
      "codemirror_mode": {
        "name": "ipython",
        "version": 3
      },
      "file_extension": ".py",
      "mimetype": "text/x-python",
      "name": "python",
      "nbconvert_exporter": "python",
      "pygments_lexer": "ipython3",
      "version": "3.12.1"
    }
  },
  "nbformat": 4,
  "nbformat_minor": 0
}
