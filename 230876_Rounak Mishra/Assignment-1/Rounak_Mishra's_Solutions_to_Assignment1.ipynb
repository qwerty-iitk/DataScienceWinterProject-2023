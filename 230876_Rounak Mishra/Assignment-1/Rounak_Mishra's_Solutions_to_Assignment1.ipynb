{
  "nbformat": 4,
  "nbformat_minor": 0,
  "metadata": {
    "colab": {
      "provenance": [],
      "include_colab_link": true
    },
    "kernelspec": {
      "name": "python3",
      "display_name": "Python 3"
    },
    "language_info": {
      "name": "python"
    }
  },
  "cells": [
    {
      "cell_type": "markdown",
      "metadata": {
        "id": "view-in-github",
        "colab_type": "text"
      },
      "source": [
        "<a href=\"https://colab.research.google.com/github/RounakMishra9905/DataScienceWinterProject-2023-Rounak-Mishra-/blob/main/230876_Rounak%20Mishra/Assignment-1/Rounak_Mishra's_Solutions_to_Assignment1.ipynb\" target=\"_parent\"><img src=\"https://colab.research.google.com/assets/colab-badge.svg\" alt=\"Open In Colab\"/></a>"
      ]
    },
    {
      "cell_type": "markdown",
      "source": [
        "# Week-1 Assignment\n",
        "\n",
        "**Welcome to your first assignment for the SimuTech Winter Project 2022! I hope you are excited to implement and test everything you have learned up until now. There is an interesting set of questions for you to refine your acquired skills as you delve into hands-on coding and deepen your understanding of numpy, pandas, and data visualization libraries.**\n",
        "\n",
        "P.S. You might find use of functions which you have never used before.So feel free to google"
      ],
      "metadata": {
        "id": "UOzd0zRXW5Uv"
      }
    },
    {
      "cell_type": "markdown",
      "source": [
        "# Section0 : Importing Libraries"
      ],
      "metadata": {
        "id": "2XFUXyq9Y9TG"
      }
    },
    {
      "cell_type": "markdown",
      "source": [
        "*Let's begin by importing numpy, pandas and matplotlib.*"
      ],
      "metadata": {
        "id": "D_bzcLusjSO0"
      }
    },
    {
      "cell_type": "code",
      "source": [
        "import pandas\n",
        "import numpy as np\n",
        "import matplotlib.pyplot as plt"
      ],
      "metadata": {
        "id": "jdwX7bI7aGeY"
      },
      "execution_count": null,
      "outputs": []
    },
    {
      "cell_type": "markdown",
      "source": [
        "# Section1 : Playing with Python and Numpy"
      ],
      "metadata": {
        "id": "LM25mz5ta-Q_"
      }
    },
    {
      "cell_type": "markdown",
      "source": [
        "### Q1. Matrix Multiplication"
      ],
      "metadata": {
        "id": "TcFQVqhAdQw_"
      }
    },
    {
      "cell_type": "markdown",
      "source": [
        "##### (i) Check if matrix multiplication is valid"
      ],
      "metadata": {
        "id": "6Dcai9pys0j8"
      }
    },
    {
      "cell_type": "code",
      "source": [
        "def isValid(A,B):\n",
        "  A=list(A)\n",
        "  B=list(B)\n",
        "  if len(A[0])==len(B):\n",
        "   return True\n",
        "  else:\n",
        "   return False"
      ],
      "metadata": {
        "id": "0qC4txIss3gG"
      },
      "execution_count": null,
      "outputs": []
    },
    {
      "cell_type": "markdown",
      "source": [
        "##### (ii) Using loops (without using numpy)"
      ],
      "metadata": {
        "id": "OPTfRGlTdXxa"
      }
    },
    {
      "cell_type": "code",
      "source": [
        "def matrix_multiply(A,B):\n",
        "  A=list(A)\n",
        "  B=list(B)\n",
        "  result_matrix = [[0 for _ in range(len(B[0]))] for _ in range(len(A))]\n",
        "\n",
        "  for i in range(len(A)):\n",
        "    for j in range(len(B[0])):\n",
        "      for k in range(len(B)):\n",
        "        result_matrix[i][j]+=(A[i][k]*B[k][j])\n",
        "  return result_matrix"
      ],
      "metadata": {
        "id": "V8F5ETsRct3S"
      },
      "execution_count": null,
      "outputs": []
    },
    {
      "cell_type": "markdown",
      "source": [
        "##### (iii) Using numpy"
      ],
      "metadata": {
        "id": "umUgUTSWdos8"
      }
    },
    {
      "cell_type": "code",
      "source": [
        "def matrix_multiply_2(A,B):\n",
        "  C=np.dot(A,B)\n",
        "  return C"
      ],
      "metadata": {
        "id": "-tdXlCHrduBP"
      },
      "execution_count": null,
      "outputs": []
    },
    {
      "cell_type": "markdown",
      "source": [
        "##### (iv) Testing your code\n",
        "\n",
        "Run the following cell to check if your functions are working properly.\n",
        "\n",
        "*Expected output:*\n",
        "[ [102 108 114]\n",
        " [246 261 276]\n",
        " [390 414 438]\n",
        " [534 567 600] ]"
      ],
      "metadata": {
        "id": "2nMFnl84edJG"
      }
    },
    {
      "cell_type": "code",
      "source": [
        "A = np.array([\n",
        "    [1, 2, 3],\n",
        "    [4, 5, 6],\n",
        "    [7, 8, 9],\n",
        "    [10, 11, 12]\n",
        "])\n",
        "\n",
        "B = np.array([\n",
        "    [13, 14, 15],\n",
        "    [16, 17, 18],\n",
        "    [19, 20, 21]\n",
        "])\n",
        "\n",
        "if isValid(A,B):\n",
        "  print(f\"Result using loops: {matrix_multiply(A,B)}\")\n",
        "  print(f\"Result using numpy: {matrix_multiply_2(A,B)}\")\n",
        "else:\n",
        "  print(f\"Matrix multiplication is not valid\")"
      ],
      "metadata": {
        "id": "09rX_Cm9ezmq",
        "colab": {
          "base_uri": "https://localhost:8080/"
        },
        "outputId": "26e773b9-450f-4af2-d212-19c5e9fa8c24"
      },
      "execution_count": null,
      "outputs": [
        {
          "output_type": "stream",
          "name": "stdout",
          "text": [
            "Result using loops: [[102, 108, 114], [246, 261, 276], [390, 414, 438], [534, 567, 600]]\n",
            "Result using numpy: [[102 108 114]\n",
            " [246 261 276]\n",
            " [390 414 438]\n",
            " [534 567 600]]\n"
          ]
        }
      ]
    },
    {
      "cell_type": "markdown",
      "source": [
        "### Q2. Z-Score Normalisation"
      ],
      "metadata": {
        "id": "5hfP7Ao1fwqV"
      }
    },
    {
      "cell_type": "markdown",
      "source": [
        "Z-score normalization refers to the process of normalizing every value in a dataset such that the mean of all of the values is 0 and the standard deviation is 1.\n",
        "\n",
        "We use the following formula to perform a z-score normalization on every value in a dataset:\n",
        "\n",
        "New value = (x – μ) / σ\n",
        "\n",
        "where:\n",
        "\n",
        "x: Original value\n",
        "\n",
        "μ: Mean of data\n",
        "\n",
        "σ: Standard deviation of data"
      ],
      "metadata": {
        "id": "0e81Xx5Kw_CQ"
      }
    },
    {
      "cell_type": "markdown",
      "source": [
        "##### (i) Without using numpy"
      ],
      "metadata": {
        "id": "GP_MuyUbguSR"
      }
    },
    {
      "cell_type": "code",
      "source": [
        "mean_value=0\n",
        "standard_deviation_value=0\n",
        "def mean(x):\n",
        "  global mean_value\n",
        "  sum=0\n",
        "  for i in x:\n",
        "    sum+=i\n",
        "  mean_value+=sum/(len(x))\n",
        "  return mean_value"
      ],
      "metadata": {
        "id": "0vix8qaaghwP"
      },
      "execution_count": null,
      "outputs": []
    },
    {
      "cell_type": "code",
      "source": [
        "def standard_deviation(x):\n",
        " global mean_value\n",
        " global standard_deviation_value\n",
        " squares_of_deviations=0\n",
        " for i in x:\n",
        "  squares_of_deviations+=(i-mean_value)**2\n",
        " standard_deviation_value+=(squares_of_deviations/(len(x)))**0.5\n",
        " return standard_deviation_value"
      ],
      "metadata": {
        "id": "j1qabel-g_f5"
      },
      "execution_count": null,
      "outputs": []
    },
    {
      "cell_type": "code",
      "source": [
        "def zscore_normalisation(x):\n",
        "  global mean_value\n",
        "  global standard_deviation_value\n",
        "  mean(x)\n",
        "  standard_deviation(x)\n",
        "  answer=[]\n",
        "  for i in x:\n",
        "   new_value=(i-mean_value)/(standard_deviation_value)\n",
        "   answer.append(new_value)\n",
        "  return answer"
      ],
      "metadata": {
        "id": "797ewbNqhEpY"
      },
      "execution_count": null,
      "outputs": []
    },
    {
      "cell_type": "markdown",
      "source": [
        "##### (ii) Using numpy\n",
        "\n",
        "Numpy has in_built functions for calculating mean and standard deviation"
      ],
      "metadata": {
        "id": "k8dq1wqRhbUB"
      }
    },
    {
      "cell_type": "code",
      "source": [
        "def zscore_normalisation_2(x):\n",
        "  answer_1=[]\n",
        "  mean_2=np.mean(x)\n",
        "  standard_deviation_2=np.std(x)\n",
        "  for i in x:\n",
        "    difference_of_values_and_mean_2=(i-mean_2)\n",
        "    z_score=difference_of_values_and_mean_2/(standard_deviation_2)\n",
        "    answer_1.append(z_score)\n",
        "  return answer_1"
      ],
      "metadata": {
        "id": "WjxJTUDihsYg"
      },
      "execution_count": null,
      "outputs": []
    },
    {
      "cell_type": "markdown",
      "source": [
        "##### (iii) Testing your code"
      ],
      "metadata": {
        "id": "glRqKU-_1pue"
      }
    },
    {
      "cell_type": "markdown",
      "source": [
        "Run the following cell to check if your functions are working properly.\n",
        "\n",
        "*Expected Output:* [-1.06753267 -0.99745394 -0.99745394 -0.81057732 -0.41346451 -0.06307086\n",
        "  0.31068237  0.91803138  1.22170588  1.89913361]"
      ],
      "metadata": {
        "id": "Kl7XBymOigCU"
      }
    },
    {
      "cell_type": "code",
      "source": [
        "x = [4, 7, 7, 15, 32, 47, 63, 89, 102, 131]\n",
        "print(f\"Result without using numpy: {zscore_normalisation(x)}\")\n",
        "print(f\"Result using numpy: {zscore_normalisation_2(x)}\")"
      ],
      "metadata": {
        "id": "78ptZxf6ipZp",
        "colab": {
          "base_uri": "https://localhost:8080/"
        },
        "outputId": "2c290967-3b00-439d-89ce-f5d31a80a53f"
      },
      "execution_count": null,
      "outputs": [
        {
          "output_type": "stream",
          "name": "stdout",
          "text": [
            "Result without using numpy: [-1.0675326683028088, -0.9974539373420117, -0.9974539373420117, -0.8105773214465528, -0.41346451266870277, -0.06307085786471743, 0.3106823739262003, 0.9180313755864415, 1.2217058764165623, 1.8991336090376005]\n",
            "Result using numpy: [-1.0675326683028088, -0.9974539373420117, -0.9974539373420117, -0.8105773214465528, -0.41346451266870277, -0.06307085786471743, 0.3106823739262003, 0.9180313755864415, 1.2217058764165623, 1.8991336090376005]\n"
          ]
        }
      ]
    },
    {
      "cell_type": "markdown",
      "source": [
        "### Q3. Sigmoid fn and its derivative"
      ],
      "metadata": {
        "id": "0WVscJ0z14rp"
      }
    },
    {
      "cell_type": "markdown",
      "source": [
        "The sigmoid function is a mathematical function that maps any input value to a value between 0 and 1.\n",
        "\n",
        "It is defined mathematically as s(x) = 1/(1+e^(-x))."
      ],
      "metadata": {
        "id": "Jfntb0Rg94Tu"
      }
    },
    {
      "cell_type": "markdown",
      "source": [
        "##### (i) Write a fn to implement sigmoid fn"
      ],
      "metadata": {
        "id": "8SCAPkjO2m7u"
      }
    },
    {
      "cell_type": "code",
      "source": [
        "import math\n",
        "def sigmoidfn(x):\n",
        "  global result\n",
        "  result=[[0 for _ in range(len(x[0]))] for _ in range(len(x))]\n",
        "  for i in range(len(x)):\n",
        "    for j in range(len(x[0])):\n",
        "      result[i][j]+=1/(1+math.exp(-(x[i][j])))\n",
        "  return result"
      ],
      "metadata": {
        "id": "jL_TRQFG2l5m"
      },
      "execution_count": null,
      "outputs": []
    },
    {
      "cell_type": "markdown",
      "source": [
        "##### (ii) Write a fn to implement derivative of sigmoid fn"
      ],
      "metadata": {
        "id": "t7KBbl7N3AUM"
      }
    },
    {
      "cell_type": "code",
      "source": [
        "def derivative(x):\n",
        "  global result\n",
        "  sigmoidfn(x)\n",
        "  result1=[[0 for _ in range(len(x[0]))] for _ in range(len(x))]\n",
        "  for i in range(len(x)):\n",
        "   for j in range(len(x[0])):\n",
        "     result1[i][j] += math.exp(-(result[i][j])) / ((1 + math.exp(-(result[i][j]))) ** 2)\n",
        "  return result1"
      ],
      "metadata": {
        "id": "okjuOpba3KOJ"
      },
      "execution_count": null,
      "outputs": []
    },
    {
      "cell_type": "markdown",
      "source": [
        "##### (iii) Test your code"
      ],
      "metadata": {
        "id": "NdGTSpsp3mwr"
      }
    },
    {
      "cell_type": "markdown",
      "source": [
        "Run the following cell to check if your functions are working properly.\n",
        "\n",
        "*Expected output:*\n",
        "\n",
        "x on applying sigmoid activation fn is: [ [0.99987661 0.88079708 0.99330715 0.5        0.5       ]\n",
        " [0.99908895 0.99330715 0.5        0.5        0.5       ] ]\n",
        "\n",
        "x on applying derivative of sigmoid activation fn is: [ [-1.23379350e-04 -1.04993585e-01 -6.64805667e-03 -2.50000000e-01\n",
        "  -2.50000000e-01]\n",
        " [-9.10221180e-04 -6.64805667e-03 -2.50000000e-01 -2.50000000e-01\n",
        "  -2.50000000e-01] ]"
      ],
      "metadata": {
        "id": "lWY8RBex7gnd"
      }
    },
    {
      "cell_type": "code",
      "source": [
        "x = np.array([\n",
        "    [9,2,5,0,0],\n",
        "    [7,5,0,0,0]\n",
        "])\n",
        "print(f\"x on applying sigmoid activation fn is: {sigmoidfn(x)}\")\n",
        "print(result)\n",
        "print(f\"x on applying derivative of sigmoid activation fn is: {derivative(x)}\")"
      ],
      "metadata": {
        "id": "ssDGpmS33vdA",
        "colab": {
          "base_uri": "https://localhost:8080/"
        },
        "outputId": "4dc2f63f-048d-4fe7-ba96-1fd71198d738"
      },
      "execution_count": null,
      "outputs": [
        {
          "output_type": "stream",
          "name": "stdout",
          "text": [
            "x on applying sigmoid activation fn is: [[0.9998766054240137, 0.8807970779778823, 0.9933071490757153, 0.5, 0.5], [0.9990889488055994, 0.9933071490757153, 0.5, 0.5, 0.5]]\n",
            "[[0.9998766054240137, 0.8807970779778823, 0.9933071490757153, 0.5, 0.5], [0.9990889488055994, 0.9933071490757153, 0.5, 0.5, 0.5]]\n",
            "x on applying derivative of sigmoid activation fn is: [[0.19662314432575478, 0.20715622948838924, 0.1972192332349812, 0.2350037122015945, 0.2350037122015945], [0.19669469462508457, 0.1972192332349812, 0.2350037122015945, 0.2350037122015945, 0.2350037122015945]]\n"
          ]
        }
      ]
    },
    {
      "cell_type": "markdown",
      "source": [
        "# Section 2: Playing with Pandas"
      ],
      "metadata": {
        "id": "PMa0cseyZpa1"
      }
    },
    {
      "cell_type": "markdown",
      "source": [
        "###Read the csv file\n"
      ],
      "metadata": {
        "id": "i5Okb_jxZ_VW"
      }
    },
    {
      "cell_type": "code",
      "source": [
        "a=pandas.read_csv(\"/superheated_vapor_properties.csv\")"
      ],
      "metadata": {
        "id": "aQgvyavrcM1l"
      },
      "execution_count": null,
      "outputs": []
    },
    {
      "cell_type": "code",
      "source": [
        "from google.colab import drive\n",
        "drive.mount('/content/drive')"
      ],
      "metadata": {
        "colab": {
          "base_uri": "https://localhost:8080/"
        },
        "id": "Fx9cT-vxqJt1",
        "outputId": "c9164131-d229-4457-f221-83e1f1829437"
      },
      "execution_count": null,
      "outputs": [
        {
          "output_type": "stream",
          "name": "stdout",
          "text": [
            "Drive already mounted at /content/drive; to attempt to forcibly remount, call drive.mount(\"/content/drive\", force_remount=True).\n"
          ]
        }
      ]
    },
    {
      "cell_type": "markdown",
      "source": [
        "###Display the shape of data frame\n"
      ],
      "metadata": {
        "id": "Zp8F3rk2cNxy"
      }
    },
    {
      "cell_type": "code",
      "source": [
        "shape1=a.shape\n",
        "print(shape1)\n"
      ],
      "metadata": {
        "id": "v3Q8kQkucgK0",
        "colab": {
          "base_uri": "https://localhost:8080/"
        },
        "outputId": "e22bcb77-9375-4a50-c278-7d18583884f0"
      },
      "execution_count": null,
      "outputs": [
        {
          "output_type": "stream",
          "name": "stdout",
          "text": [
            "(544, 37)\n"
          ]
        }
      ]
    },
    {
      "cell_type": "markdown",
      "source": [
        "###Return an array containing names of all the columns"
      ],
      "metadata": {
        "id": "w49cp-8zcgd2"
      }
    },
    {
      "cell_type": "code",
      "source": [
        "column_names=list(a.columns)\n",
        "array_of_names=np.array(column_names)\n",
        "print(array_of_names)\n",
        "\n",
        "\n"
      ],
      "metadata": {
        "id": "fz4HRb3JcsZp",
        "colab": {
          "base_uri": "https://localhost:8080/"
        },
        "outputId": "569b9979-d07f-4cb8-d87a-dca2cad50cb9"
      },
      "execution_count": null,
      "outputs": [
        {
          "output_type": "stream",
          "name": "stdout",
          "text": [
            "['Pressure' 'Property' 'Liq_Sat' 'Vap_Sat' '75' '100' '125' '150' '175'\n",
            " '200' '220' '225' '240' '250' '260' '275' '280' '290' '300' '320' '325'\n",
            " '340' '350' '360' '375' '380' '400' '425' '450' '475' '500' '525' '550'\n",
            " '575' '600' '625' '650']\n"
          ]
        }
      ]
    },
    {
      "cell_type": "markdown",
      "source": [
        "###Display the number of null values in each column of the dataframe``\n",
        "\n"
      ],
      "metadata": {
        "id": "YkTH9tRWcrH-"
      }
    },
    {
      "cell_type": "code",
      "source": [
        "for column in a.columns:\n",
        "  null_number=0\n",
        "  for value in a[column]:\n",
        "    if pandas.isnull(value):\n",
        "      null_number+=1\n",
        "  print(f\"Column '{column}' has {null_number} null values.\")\n",
        "\n",
        "\n"
      ],
      "metadata": {
        "id": "GK9-PJPxc3Ot",
        "colab": {
          "base_uri": "https://localhost:8080/"
        },
        "outputId": "f26184ed-f383-4e89-ccbf-38d1666e3eb3"
      },
      "execution_count": null,
      "outputs": [
        {
          "output_type": "stream",
          "name": "stdout",
          "text": [
            "Column 'Pressure' has 0 null values.\n",
            "Column 'Property' has 0 null values.\n",
            "Column 'Liq_Sat' has 0 null values.\n",
            "Column 'Vap_Sat' has 0 null values.\n",
            "Column '75' has 528 null values.\n",
            "Column '100' has 508 null values.\n",
            "Column '125' has 488 null values.\n",
            "Column '150' has 448 null values.\n",
            "Column '175' has 384 null values.\n",
            "Column '200' has 320 null values.\n",
            "Column '220' has 408 null values.\n",
            "Column '225' has 400 null values.\n",
            "Column '240' has 408 null values.\n",
            "Column '250' has 344 null values.\n",
            "Column '260' has 384 null values.\n",
            "Column '275' has 340 null values.\n",
            "Column '280' has 380 null values.\n",
            "Column '290' has 488 null values.\n",
            "Column '300' has 60 null values.\n",
            "Column '320' has 480 null values.\n",
            "Column '325' has 136 null values.\n",
            "Column '340' has 476 null values.\n",
            "Column '350' has 68 null values.\n",
            "Column '360' has 476 null values.\n",
            "Column '375' has 204 null values.\n",
            "Column '380' has 476 null values.\n",
            "Column '400' has 0 null values.\n",
            "Column '425' has 204 null values.\n",
            "Column '450' has 0 null values.\n",
            "Column '475' has 204 null values.\n",
            "Column '500' has 0 null values.\n",
            "Column '525' has 272 null values.\n",
            "Column '550' has 0 null values.\n",
            "Column '575' has 340 null values.\n",
            "Column '600' has 0 null values.\n",
            "Column '625' has 476 null values.\n",
            "Column '650' has 0 null values.\n"
          ]
        }
      ]
    },
    {
      "cell_type": "markdown",
      "source": [
        "###Create a column which contains the Pressure and Property columns, seperated with 'at' (For eg. V at 1, H at 101.325). Using this print the following:\n",
        "- Enthalpy at 75 kPa and 573 K\n",
        "- Entropy at 493 K and 250 kPa\n",
        "\n"
      ],
      "metadata": {
        "id": "Av-lcft2c3mx"
      }
    },
    {
      "cell_type": "code",
      "source": [
        "a[\"Property at Pressure\"]=a.apply(lambda row:f\"{row['Property']} at {row['Pressure']}\",axis=1)\n",
        "print(a[\"Property at Pressure\"])\n",
        "print(f\"{a[(a['Pressure'] == 75) & (a['Property'] == 'H')]['Property at Pressure'].values[0]} KPa and 573 K is : {a[(a['Pressure'] == 75) & (a['Property'] == 'H')]['300'].values[0]}\")\n",
        "#Hello Zainab,Rounak here.I am assuming the 300 column represents 573K and so on(for the next bit of this question).\n",
        "print(f\"{a[(a['Pressure'] == 250) & (a['Property'] == 'S')]['Property at Pressure'].values[0]} KPa and 493 K is : {a[(a['Pressure'] == 75) & (a['Property'] == 'H')]['220'].values[0]}\")\n",
        "\n",
        "\n",
        "\n",
        "\n"
      ],
      "metadata": {
        "id": "B2AihQj_c32C",
        "colab": {
          "base_uri": "https://localhost:8080/"
        },
        "outputId": "322f99e1-97ea-4c5c-e8e9-948c78b70a0f"
      },
      "execution_count": null,
      "outputs": [
        {
          "output_type": "stream",
          "name": "stdout",
          "text": [
            "0          V at 1.0\n",
            "1          U at 1.0\n",
            "2          H at 1.0\n",
            "3          S at 1.0\n",
            "4         V at 10.0\n",
            "           ...     \n",
            "539    S at 11200.0\n",
            "540    V at 11400.0\n",
            "541    U at 11400.0\n",
            "542    H at 11400.0\n",
            "543    S at 11400.0\n",
            "Name: Property at Pressure, Length: 544, dtype: object\n",
            "H at 75.0 KPa and 573 K is : 3075.1\n",
            "S at 250.0 KPa and 493 K is : nan\n"
          ]
        }
      ]
    },
    {
      "cell_type": "markdown",
      "source": [
        "###Find out the column with the highest number of missing values"
      ],
      "metadata": {
        "id": "GpLtXYRLc4Ho"
      }
    },
    {
      "cell_type": "code",
      "source": [
        "column_with_max_null_values=a\n",
        "max_null_values=0\n",
        "for column in a.columns:\n",
        "  null_number=0\n",
        "  for value in a[column]:\n",
        "    if pandas.isnull(value):\n",
        "      null_number+=1\n",
        "    if null_number>max_null_values:\n",
        "      column_with_max_null_values=column\n",
        "      max_null_values=null_number\n",
        "print(f\"Column '{column_with_max_null_values}' has the highest number of missing values,it being {max_null_values}.\")\n",
        "\n"
      ],
      "metadata": {
        "id": "q80Grgeyc4Xn",
        "colab": {
          "base_uri": "https://localhost:8080/"
        },
        "outputId": "4450a871-1646-4b04-fd7d-2a9480cb2ac7"
      },
      "execution_count": null,
      "outputs": [
        {
          "output_type": "stream",
          "name": "stdout",
          "text": [
            "Column '75' has the highest number of missing values,it being 528.\n"
          ]
        }
      ]
    },
    {
      "cell_type": "markdown",
      "source": [
        "###What is the average enthalpy of Sat. Liq. at all different pressures in the dataset ?"
      ],
      "metadata": {
        "id": "74NVHTTac4nv"
      }
    },
    {
      "cell_type": "code",
      "source": [
        "total_sum_of_enthalpies=0\n",
        "for enthalpy_of_sat_liq in a[\"Liq_Sat\"]:\n",
        "  total_sum_of_enthalpies+=enthalpy_of_sat_liq\n",
        "average_enthalpy=total_sum_of_enthalpies/(len(a[\"Liq_Sat\"]))\n",
        "print(f\"The average enthalpy Sat. Liq. at all different pressures in the dataset is {average_enthalpy}\")"
      ],
      "metadata": {
        "id": "g3mByhBDdpVr",
        "colab": {
          "base_uri": "https://localhost:8080/"
        },
        "outputId": "ac837eec-ef37-4fa9-d9d3-4920600bb32d"
      },
      "execution_count": null,
      "outputs": [
        {
          "output_type": "stream",
          "name": "stdout",
          "text": [
            "The average enthalpy Sat. Liq. at all different pressures in the dataset is 468.2353709558823\n"
          ]
        }
      ]
    },
    {
      "cell_type": "markdown",
      "source": [
        "###Separate out the V,U,H,S data from the dataset into V_data, U_data, H_data, S_data"
      ],
      "metadata": {
        "id": "uS-SuqU8dpxg"
      }
    },
    {
      "cell_type": "code",
      "source": [
        "V_data = a[a['Property'] == 'V']\n",
        "U_data = a[a['Property'] == 'U']\n",
        "H_data = a[a['Property'] == 'H']\n",
        "S_data = a[a['Property'] == 'S']\n",
        "print(V_data)\n",
        "print(U_data)\n",
        "print(H_data)\n",
        "print(S_data)"
      ],
      "metadata": {
        "id": "Sg3V9Toyd1Av",
        "colab": {
          "base_uri": "https://localhost:8080/"
        },
        "outputId": "f40ca782-38d9-4a1c-e1cb-a7ff9b9997ad"
      },
      "execution_count": null,
      "outputs": [
        {
          "output_type": "stream",
          "name": "stdout",
          "text": [
            "     Pressure Property  Liq_Sat     Vap_Sat        75       100       125  \\\n",
            "0         1.0        V    1.000  129200.000  160640.0  172180.0  183720.0   \n",
            "4        10.0        V    1.010   14670.000   16030.0   17190.0   18350.0   \n",
            "8        20.0        V    1.017    7649.800    8000.0    8584.7    9167.1   \n",
            "12       30.0        V    1.022    5229.300    5322.0    5714.4    6104.6   \n",
            "16       40.0        V    1.027    3993.400       NaN    4279.2    4573.3   \n",
            "..        ...      ...      ...         ...       ...       ...       ...   \n",
            "524   10600.0        V    1.474      16.778       NaN       NaN       NaN   \n",
            "528   10800.0        V    1.481      16.385       NaN       NaN       NaN   \n",
            "532   11000.0        V    1.489      16.006       NaN       NaN       NaN   \n",
            "536   11200.0        V    1.496      15.639       NaN       NaN       NaN   \n",
            "540   11400.0        V    1.504      15.284       NaN       NaN       NaN   \n",
            "\n",
            "          150       175       200  ...         450     475         500  \\\n",
            "0    195270.0  206810.0  218350.0  ...  333730.000     NaN  356810.000   \n",
            "4     19510.0   20660.0   21820.0  ...   33370.000     NaN   35670.000   \n",
            "8      9748.0   10320.0   10900.0  ...   16680.000     NaN   17830.000   \n",
            "12     6493.2    6880.8    7267.5  ...   11120.000     NaN   11890.000   \n",
            "16     4865.8    5157.2    5447.8  ...    8340.100     NaN    8917.600   \n",
            "..        ...       ...       ...  ...         ...     ...         ...   \n",
            "524       NaN       NaN       NaN  ...      27.834  29.313      30.732   \n",
            "528       NaN       NaN       NaN  ...      27.245  28.706      30.106   \n",
            "532       NaN       NaN       NaN  ...      26.676  28.120      29.503   \n",
            "536       NaN       NaN       NaN  ...      26.128  27.555      28.921   \n",
            "540       NaN       NaN       NaN  ...      25.599  27.010      28.359   \n",
            "\n",
            "        525         550     575         600     625         650  \\\n",
            "0       NaN  379880.000     NaN  402960.000     NaN  426040.000   \n",
            "4       NaN   37980.000     NaN   40290.000     NaN   42600.000   \n",
            "8       NaN   18990.000     NaN   20140.000     NaN   21300.000   \n",
            "12      NaN   12660.000     NaN   13430.000     NaN   14190.000   \n",
            "16      NaN    9494.900     NaN   10070.000     NaN   10640.000   \n",
            "..      ...         ...     ...         ...     ...         ...   \n",
            "524  32.106      33.444  34.753      36.039  37.304      38.552   \n",
            "528  31.461      32.779  34.069      35.335  36.580      37.808   \n",
            "532  30.839      32.139  33.410      34.656  35.882      37.091   \n",
            "536  30.240      31.521  32.774      34.002  35.210      36.400   \n",
            "540  29.661      30.925  32.160      33.370  34.560      35.733   \n",
            "\n",
            "     Property at Pressure  \n",
            "0                V at 1.0  \n",
            "4               V at 10.0  \n",
            "8               V at 20.0  \n",
            "12              V at 30.0  \n",
            "16              V at 40.0  \n",
            "..                    ...  \n",
            "524          V at 10600.0  \n",
            "528          V at 10800.0  \n",
            "532          V at 11000.0  \n",
            "536          V at 11200.0  \n",
            "540          V at 11400.0  \n",
            "\n",
            "[136 rows x 38 columns]\n",
            "     Pressure Property   Liq_Sat  Vap_Sat      75     100     125     150  \\\n",
            "1         1.0        U    29.334   2385.2  2480.8  2516.4  2552.3  2588.5   \n",
            "5        10.0        U   191.822   2438.0  2479.7  2515.6  2551.6  2588.0   \n",
            "9        20.0        U   251.432   2456.9  2478.4  2514.6  2550.9  2587.4   \n",
            "13       30.0        U   289.271   2468.6  2477.1  2513.6  2550.2  2586.8   \n",
            "17       40.0        U   317.609   2477.1     NaN  2512.6  2549.4  2586.2   \n",
            "..        ...      ...       ...      ...     ...     ...     ...     ...   \n",
            "525   10600.0        U  1418.100   2539.0     NaN     NaN     NaN     NaN   \n",
            "529   10800.0        U  1426.200   2536.2     NaN     NaN     NaN     NaN   \n",
            "533   11000.0        U  1434.200   2533.2     NaN     NaN     NaN     NaN   \n",
            "537   11200.0        U  1442.100   2530.3     NaN     NaN     NaN     NaN   \n",
            "541   11400.0        U  1450.000   2527.2     NaN     NaN     NaN     NaN   \n",
            "\n",
            "        175     200  ...     450     475     500     525     550     575  \\\n",
            "1    2624.9  2661.7  ...  3049.9     NaN  3132.4     NaN  3216.7     NaN   \n",
            "5    2624.5  2661.4  ...  3049.8     NaN  3132.3     NaN  3216.6     NaN   \n",
            "9    2624.1  2661.0  ...  3049.7     NaN  3132.3     NaN  3216.5     NaN   \n",
            "13   2623.6  2660.7  ...  3049.6     NaN  3132.2     NaN  3216.5     NaN   \n",
            "17   2623.2  2660.3  ...  3049.5     NaN  3132.1     NaN  3216.4     NaN   \n",
            "..      ...     ...  ...     ...     ...     ...     ...     ...     ...   \n",
            "525     NaN     NaN  ...  2939.1  2991.1  3041.4  3090.7  3139.3  3187.5   \n",
            "529     NaN     NaN  ...  2936.7  2989.0  3039.6  3089.0  3137.8  3186.1   \n",
            "533     NaN     NaN  ...  2934.3  2986.9  3037.7  3087.3  3136.2  3184.7   \n",
            "537     NaN     NaN  ...  2931.8  2984.8  3035.8  3085.6  3134.7  3183.3   \n",
            "541     NaN     NaN  ...  2929.4  2982.6  3033.9  3083.9  3133.1  3181.9   \n",
            "\n",
            "        600     625     650  Property at Pressure  \n",
            "1    3302.6     NaN  3390.3              U at 1.0  \n",
            "5    3302.6     NaN  3390.3             U at 10.0  \n",
            "9    3302.5     NaN  3390.2             U at 20.0  \n",
            "13   3302.5     NaN  3390.2             U at 30.0  \n",
            "17   3302.4     NaN  3390.1             U at 40.0  \n",
            "..      ...     ...     ...                   ...  \n",
            "525  3235.6  3283.6  3331.7          U at 10600.0  \n",
            "529  3234.3  3282.4  3330.6          U at 10800.0  \n",
            "533  3233.0  3281.2  3329.5          U at 11000.0  \n",
            "537  3231.7  3280.0  3328.4          U at 11200.0  \n",
            "541  3230.4  3278.8  3327.2          U at 11400.0  \n",
            "\n",
            "[136 rows x 38 columns]\n",
            "     Pressure Property   Liq_Sat  Vap_Sat      75     100     125     150  \\\n",
            "2         1.0        H    29.335   2514.4  2641.5  2688.6  2736.0  2783.7   \n",
            "6        10.0        H   191.832   2584.8  2640.0  2687.5  2735.2  2783.1   \n",
            "10       20.0        H   251.453   2609.9  2638.4  2686.3  2734.2  2782.3   \n",
            "14       30.0        H   289.302   2625.4  2636.8  2685.1  2733.3  2781.6   \n",
            "18       40.0        H   317.650   2636.9     NaN  2683.8  2732.3  2780.9   \n",
            "..        ...      ...       ...      ...     ...     ...     ...     ...   \n",
            "526   10600.0        H  1433.700   2716.9     NaN     NaN     NaN     NaN   \n",
            "530   10800.0        H  1442.200   2713.1     NaN     NaN     NaN     NaN   \n",
            "534   11000.0        H  1450.600   2709.3     NaN     NaN     NaN     NaN   \n",
            "538   11200.0        H  1458.900   2705.4     NaN     NaN     NaN     NaN   \n",
            "542   11400.0        H  1467.200   2701.5     NaN     NaN     NaN     NaN   \n",
            "\n",
            "        175     200  ...     450     475     500     525     550     575  \\\n",
            "2    2831.7  2880.1  ...  3383.6     NaN  3489.2     NaN  3596.5     NaN   \n",
            "6    2831.2  2879.6  ...  3383.5     NaN  3489.1     NaN  3596.5     NaN   \n",
            "10   2830.6  2879.2  ...  3383.4     NaN  3489.0     NaN  3596.4     NaN   \n",
            "14   2830.0  2878.7  ...  3383.3     NaN  3488.9     NaN  3596.3     NaN   \n",
            "18   2829.5  2878.2  ...  3383.1     NaN  3488.8     NaN  3596.2     NaN   \n",
            "..      ...     ...  ...     ...     ...     ...     ...     ...     ...   \n",
            "526     NaN     NaN  ...  3234.1  3301.8  3367.2  3431.0  3493.8  3555.9   \n",
            "530     NaN     NaN  ...  3230.9  3299.0  3364.7  3428.8  3491.8  3554.1   \n",
            "534     NaN     NaN  ...  3227.7  3296.2  3362.2  3426.5  3489.7  3552.2   \n",
            "538     NaN     NaN  ...  3224.5  3293.4  3359.7  3424.3  3487.7  3550.4   \n",
            "542     NaN     NaN  ...  3221.2  3290.5  3357.2  3422.1  3485.7  3548.5   \n",
            "\n",
            "        600     625     650  Property at Pressure  \n",
            "2    3705.6     NaN  3816.4              H at 1.0  \n",
            "6    3705.5     NaN  3816.3             H at 10.0  \n",
            "10   3705.4     NaN  3816.2             H at 20.0  \n",
            "14   3705.4     NaN  3816.2             H at 30.0  \n",
            "18   3705.3     NaN  3816.1             H at 40.0  \n",
            "..      ...     ...     ...                   ...  \n",
            "526  3617.6  3679.1  3740.4          H at 10600.0  \n",
            "530  3615.9  3677.5  3738.9          H at 10800.0  \n",
            "534  3614.2  3675.9  3737.5          H at 11000.0  \n",
            "538  3612.5  3674.4  3736.0          H at 11200.0  \n",
            "542  3610.8  3672.8  3734.6          H at 11400.0  \n",
            "\n",
            "[136 rows x 38 columns]\n",
            "     Pressure Property  Liq_Sat  Vap_Sat      75     100     125     150  \\\n",
            "3         1.0        S   0.1060   8.9767  9.3828  9.5136  9.6365  9.7527   \n",
            "7        10.0        S   0.6493   8.1511  8.3168  8.4486  8.5722  8.6888   \n",
            "11       20.0        S   0.8321   7.9094  7.9933  8.1261  8.2504  8.3676   \n",
            "15       30.0        S   0.9441   7.7695  7.8024  7.9363  8.0614  8.1791   \n",
            "19       40.0        S   1.0261   7.6709     NaN  7.8009  7.9268  8.0450   \n",
            "..        ...      ...      ...      ...     ...     ...     ...     ...   \n",
            "527   10600.0        S   3.4029   5.5835     NaN     NaN     NaN     NaN   \n",
            "531   10800.0        S   3.4167   5.5715     NaN     NaN     NaN     NaN   \n",
            "535   11000.0        S   3.4304   5.5595     NaN     NaN     NaN     NaN   \n",
            "539   11200.0        S   3.4440   5.5476     NaN     NaN     NaN     NaN   \n",
            "543   11400.0        S   3.4575   5.5357     NaN     NaN     NaN     NaN   \n",
            "\n",
            "        175     200  ...      450     475      500     525      550     575  \\\n",
            "3    9.8629  9.9679  ...  10.8200     NaN  10.9612     NaN  11.0957     NaN   \n",
            "7    8.7994  8.9045  ...   9.7572     NaN   9.8984     NaN  10.0329     NaN   \n",
            "11   8.4785  8.5839  ...   9.4372     NaN   9.5784     NaN   9.7130     NaN   \n",
            "15   8.2903  8.3960  ...   9.2499     NaN   9.3912     NaN   9.5257     NaN   \n",
            "19   8.1566  8.2624  ...   9.1170     NaN   9.2583     NaN   9.3929     NaN   \n",
            "..      ...     ...  ...      ...     ...      ...     ...      ...     ...   \n",
            "527     NaN     NaN  ...   6.3872  6.4793   6.5652  6.6465   6.7239  6.7983   \n",
            "531     NaN     NaN  ...   6.3752  6.4678   6.5542  6.6357   6.7134  6.7880   \n",
            "535     NaN     NaN  ...   6.3633  6.4564   6.5432  6.6251   6.7031  6.7779   \n",
            "539     NaN     NaN  ...   6.3515  6.4452   6.5324  6.6147   6.6929  6.7679   \n",
            "543     NaN     NaN  ...   6.3399  6.4341   6.5218  6.6043   6.6828  6.7580   \n",
            "\n",
            "         600     625      650  Property at Pressure  \n",
            "3    11.2243     NaN  11.3476              S at 1.0  \n",
            "7    10.1616     NaN  10.2849             S at 10.0  \n",
            "11    9.8416     NaN   9.9650             S at 20.0  \n",
            "15    9.6544     NaN   9.7778             S at 30.0  \n",
            "19    9.5216     NaN   9.6450             S at 40.0  \n",
            "..       ...     ...      ...                   ...  \n",
            "527   6.8700  6.9394   7.0067          S at 10600.0  \n",
            "531   6.8599  6.9294   6.9969          S at 10800.0  \n",
            "535   6.8499  6.9196   6.9872          S at 11000.0  \n",
            "539   6.8401  6.9099   6.9777          S at 11200.0  \n",
            "543   6.8304  6.9004   6.9683          S at 11400.0  \n",
            "\n",
            "[136 rows x 38 columns]\n"
          ]
        }
      ]
    },
    {
      "cell_type": "markdown",
      "source": [
        "#Section 3: PLotting the PLOTS"
      ],
      "metadata": {
        "id": "Ghkj0-0-d1W7"
      }
    },
    {
      "cell_type": "markdown",
      "source": [
        "###Plot the properties (specific volume, specific internal energy, specific enthalpy, specific entropy) vs Pressure for saturated liquid.\n",
        "\n",
        "Note:\n",
        "- Try using the subplot feature of matplotlib(Explore it!!)\n",
        "- Provide appropriate title, labels, markersize and other parameters to the plot"
      ],
      "metadata": {
        "id": "ka0qrDcZeAL6"
      }
    },
    {
      "cell_type": "code",
      "source": [
        "plt.figure(figsize=(12, 8))\n",
        "\n",
        "\n",
        "plt.subplot(2, 2, 1)\n",
        "plt.plot(a['Pressure'][a['Property'] == 'V'], marker='o', linestyle='-', color='b')\n",
        "plt.title('Specific Volume vs Pressure')\n",
        "plt.xlabel('Pressure')\n",
        "plt.ylabel('Specific Volume')\n",
        "plt.ylim(0, max(a['Pressure'][a['Property'] == 'V']) + 10)\n",
        "\n",
        "\n",
        "plt.subplot(2, 2, 2)\n",
        "plt.plot(a['Pressure'][a['Property'] == 'U'], marker='o', linestyle='-', color='r')\n",
        "plt.title('Specific Internal Energy vs Pressure')\n",
        "plt.xlabel('Pressure')\n",
        "plt.ylabel('Specific Internal Energy')\n",
        "plt.ylim(0, max(a['Pressure'][a['Property'] == 'U']) + 10)\n",
        "\n",
        "\n",
        "plt.subplot(2, 2, 3)\n",
        "plt.plot(a['Pressure'][a['Property'] == 'H'], marker='o', linestyle='-', color='g')\n",
        "plt.title('Specific Enthalpy vs Pressure')\n",
        "plt.xlabel('Pressure')\n",
        "plt.ylabel('Specific Enthalpy')\n",
        "plt.ylim(0, max(a['Pressure'][a['Property'] == 'H']) + 10)\n",
        "\n",
        "\n",
        "plt.subplot(2, 2, 4)\n",
        "plt.plot(a['Pressure'][a['Property'] == 'S'], marker='o', linestyle='-', color='purple')\n",
        "plt.title('Specific Entropy vs Pressure')\n",
        "plt.xlabel('Pressure')\n",
        "plt.ylabel('Specific Entropy')\n",
        "plt.ylim(0, max(a['Pressure'][a['Property'] == 'S']) + 10)\n",
        "\n",
        "\n",
        "plt.tight_layout()\n",
        "plt.show()\n"
      ],
      "metadata": {
        "id": "XbKdm-cUePKA",
        "colab": {
          "base_uri": "https://localhost:8080/",
          "height": 807
        },
        "outputId": "e2283226-1e21-44fb-e143-bd02df39ceaa"
      },
      "execution_count": null,
      "outputs": [
        {
          "output_type": "display_data",
          "data": {
            "text/plain": [
              "<Figure size 1200x800 with 4 Axes>"
            ],
            "image/png": "[encoded data removed]"
          },
          "metadata": {}
        }
      ]
    },
    {
      "cell_type": "markdown",
      "source": [
        "###Plot the specific volume of saturated liquid between 300 kPa and 1500 kPa"
      ],
      "metadata": {
        "id": "SCLRji6TeQgh"
      }
    },
    {
      "cell_type": "code",
      "source": [
        "required_data = a[(a['Pressure'] >= 300) & (a['Pressure'] <= 1500) & (a['Property'] == 'V')]\n",
        "\n",
        "plt.figure(figsize=(8, 6))\n",
        "plt.plot(required_data['Pressure'], required_data['Liq_Sat'], marker='o', linestyle='-', color='b')\n",
        "plt.title('Specific Volume of Saturated Liquid')\n",
        "plt.xlabel('Pressure (kPa)')\n",
        "plt.ylabel('Specific Volume (units)')\n",
        "\n",
        "plt.grid(True)\n",
        "plt.show()"
      ],
      "metadata": {
        "id": "u6DyyI7MeYgE",
        "colab": {
          "base_uri": "https://localhost:8080/",
          "height": 564
        },
        "outputId": "4990a5c1-f9b5-494a-b818-5625993288ef"
      },
      "execution_count": null,
      "outputs": [
        {
          "output_type": "display_data",
          "data": {
            "text/plain": [
              "<Figure size 800x600 with 1 Axes>"
            ],
            "image/png": "[encoded data removed]"
          },
          "metadata": {}
        }
      ]
    },
    {
      "cell_type": "markdown",
      "source": [
        "#Linear Regression\n",
        "You're given a 100 data points generated from the function\n",
        "$y=mx+c$. Some noise is added to the y values.\n",
        "\n",
        "**Task:** Estimate the values of m and c using linear regression. Write a suitable cost function and update the parameters."
      ],
      "metadata": {
        "id": "6N_8T4KnfnOG"
      }
    },
    {
      "cell_type": "code",
      "source": [
        " # Generation of data points\n",
        "x = np.random.rand(100)*100\n",
        "y = -4*x+15\n",
        "y = y+np.random.randn(100)*30\n",
        "plt.scatter(x,y)"
      ],
      "metadata": {
        "id": "qK0CKt8WfuO9",
        "colab": {
          "base_uri": "https://localhost:8080/",
          "height": 448
        },
        "outputId": "91ab1ba4-d1db-455f-c330-1fd7b23d6cb4"
      },
      "execution_count": null,
      "outputs": [
        {
          "output_type": "execute_result",
          "data": {
            "text/plain": [
              "<matplotlib.collections.PathCollection at 0x7eef5909e290>"
            ]
          },
          "metadata": {},
          "execution_count": 55
        },
        {
          "output_type": "display_data",
          "data": {
            "text/plain": [
              "<Figure size 640x480 with 1 Axes>"
            ],
            "image/png": "[encoded data removed]"
          },
          "metadata": {}
        }
      ]
    },
    {
      "cell_type": "code",
      "source": [
        "x1=np.array(x)\n",
        "y1=np.array(y)\n",
        "sum_x1=0\n",
        "sum_y1=0\n",
        "for i in x1:\n",
        "  sum_x1+=i\n",
        "for i in y1:\n",
        "  sum_y1+=i\n",
        "mean_x=sum_x1/(len(x1))\n",
        "mean_y=sum_y1/(len(y1))\n",
        "x_deviations=[]\n",
        "y_deviations=[]\n",
        "squares_of_deviations_in_x=[]\n",
        "for i in x1:\n",
        "  deviation=(i-mean_x)\n",
        "  x_deviations.append(deviation)\n",
        "  squares_of_deviations_in_x.append(deviation**2)\n",
        "for i in y1:\n",
        "  deviation=(i-mean_y)\n",
        "  y_deviations.append(deviation)\n",
        "product_of_deviations=np.multiply(np.array(x_deviations),np.array(y_deviations))\n",
        "sum_of_product_of_deviations=0\n",
        "for i in product_of_deviations:\n",
        "  sum_of_product_of_deviations+=i\n",
        "sum_of_squares_of_deviations_from_x=0\n",
        "for i in squares_of_deviations_in_x:\n",
        "  sum_of_squares_of_deviations_from_x+=i\n",
        "\n",
        "\n"
      ],
      "metadata": {
        "id": "0lyjPEfmiC-e"
      },
      "execution_count": null,
      "outputs": []
    },
    {
      "cell_type": "markdown",
      "source": [
        "Run the model"
      ],
      "metadata": {
        "id": "JPy839WUiOvz"
      }
    },
    {
      "cell_type": "code",
      "source": [
        "m=sum_of_product_of_deviations/sum_of_squares_of_deviations_from_x\n",
        "c=mean_y-(m*mean_x)"
      ],
      "metadata": {
        "id": "sf8s00SUiYhN"
      },
      "execution_count": null,
      "outputs": []
    },
    {
      "cell_type": "code",
      "source": [
        "print(m,c)  # value should be close to (-4,15)"
      ],
      "metadata": {
        "id": "_g7W3mloilGn",
        "colab": {
          "base_uri": "https://localhost:8080/"
        },
        "outputId": "8e977d88-f2ad-4721-a68c-7132ad4b1303"
      },
      "execution_count": null,
      "outputs": [
        {
          "output_type": "stream",
          "name": "stdout",
          "text": [
            "-3.9706910246168405 9.657296275549015\n"
          ]
        }
      ]
    }
  ]
}