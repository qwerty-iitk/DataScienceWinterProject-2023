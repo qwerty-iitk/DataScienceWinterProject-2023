{
  "cells": [
    {
      "cell_type": "markdown",
      "metadata": {
        "id": "UOzd0zRXW5Uv"
      },
      "source": [
        "# Week-1 Assignment\n",
        "\n",
        "**Welcome to your first assignment for the SimuTech Winter Project 2022! I hope you are excited to implement and test everything you have learned up until now. There is an interesting set of questions for you to refine your acquired skills as you delve into hands-on coding and deepen your understanding of numpy, pandas, and data visualization libraries.**\n",
        "\n",
        "P.S. You might find use of functions which you have never used before.So feel free to google"
      ]
    },
    {
      "cell_type": "markdown",
      "metadata": {
        "id": "2XFUXyq9Y9TG"
      },
      "source": [
        "# Section0 : Importing Libraries"
      ]
    },
    {
      "cell_type": "markdown",
      "metadata": {
        "id": "D_bzcLusjSO0"
      },
      "source": [
        "*Let's begin by importing numpy, pandas and matplotlib.*"
      ]
    },
    {
      "cell_type": "code",
      "execution_count": 176,
      "metadata": {
        "id": "jdwX7bI7aGeY"
      },
      "outputs": [],
      "source": [
        "import numpy\n",
        "import pandas\n",
        "import matplotlib"
      ]
    },
    {
      "cell_type": "markdown",
      "metadata": {
        "id": "LM25mz5ta-Q_"
      },
      "source": [
        "# Section1 : Playing with Python and Numpy"
      ]
    },
    {
      "cell_type": "markdown",
      "metadata": {
        "id": "TcFQVqhAdQw_"
      },
      "source": [
        "### Q1. Matrix Multiplication"
      ]
    },
    {
      "cell_type": "markdown",
      "metadata": {
        "id": "6Dcai9pys0j8"
      },
      "source": [
        "##### (i) Check if matrix multiplication is valid"
      ]
    },
    {
      "cell_type": "code",
      "execution_count": 177,
      "metadata": {
        "colab": {
          "base_uri": "https://localhost:8080/"
        },
        "id": "0qC4txIss3gG",
        "outputId": "2110211d-6066-42bb-f490-b6ab65babd65"
      },
      "outputs": [
        {
          "output_type": "stream",
          "name": "stdout",
          "text": [
            "Matrix multiplication is valid\n"
          ]
        }
      ],
      "source": [
        "def isValid(a, b):\n",
        "  return len(a[0]) == len(b)\n",
        "\n",
        "A = [[1, 2], [3, 4]]\n",
        "B = [[5, 6, 7], [8, 9, 10]]\n",
        "\n",
        "if isValid:\n",
        "  print(\"Matrix multiplication is valid\")\n",
        "else:\n",
        "  print(\"Matrix multiplication is invalid\")\n",
        "\n"
      ]
    },
    {
      "cell_type": "markdown",
      "metadata": {
        "id": "OPTfRGlTdXxa"
      },
      "source": [
        "##### (ii) Using loops (without using numpy)"
      ]
    },
    {
      "cell_type": "code",
      "execution_count": 178,
      "metadata": {
        "colab": {
          "base_uri": "https://localhost:8080/",
          "height": 53
        },
        "id": "V8F5ETsRct3S",
        "outputId": "206f12b7-0fed-450c-9141-8292f7973697"
      },
      "outputs": [
        {
          "output_type": "execute_result",
          "data": {
            "text/plain": [
              "'\\nA = np.array([\\n    [1, 2, 3],\\n    [4, 5, 6],\\n    [7, 8, 9],\\n    [10, 11, 12]\\n])\\n\\nB = np.array([\\n    [13, 14, 15],\\n    [16, 17, 18],\\n    [19, 20, 21]\\n])\\n\\nproduct = matrix_multiply(A, B)\\n\\nprint(\"Product: \")\\nfor row in product:\\n  print(row)\\n'"
            ],
            "application/vnd.google.colaboratory.intrinsic+json": {
              "type": "string"
            }
          },
          "metadata": {},
          "execution_count": 178
        }
      ],
      "source": [
        "def isValid(a, b):\n",
        "    return len(a[0]) == len(b)\n",
        "\n",
        "def matrix_multiply(A, B):\n",
        "    product_matrix = [[0 for _ in range(len(B[0]))] for _ in range(len(A))]\n",
        "\n",
        "    for i in range(len(product_matrix)):\n",
        "        for j in range(len(product_matrix[0])):\n",
        "            for k in range(len(A[0])):\n",
        "                product_matrix[i][j] += A[i][k] * B[k][j]\n",
        "    return product_matrix\n",
        "'''\n",
        "A = np.array([\n",
        "    [1, 2, 3],\n",
        "    [4, 5, 6],\n",
        "    [7, 8, 9],\n",
        "    [10, 11, 12]\n",
        "])\n",
        "\n",
        "B = np.array([\n",
        "    [13, 14, 15],\n",
        "    [16, 17, 18],\n",
        "    [19, 20, 21]\n",
        "])\n",
        "\n",
        "product = matrix_multiply(A, B)\n",
        "\n",
        "print(\"Product: \")\n",
        "for row in product:\n",
        "  print(row)\n",
        "'''\n"
      ]
    },
    {
      "cell_type": "markdown",
      "metadata": {
        "id": "umUgUTSWdos8"
      },
      "source": [
        "##### (iii) Using numpy"
      ]
    },
    {
      "cell_type": "code",
      "execution_count": 179,
      "metadata": {
        "colab": {
          "base_uri": "https://localhost:8080/"
        },
        "id": "-tdXlCHrduBP",
        "outputId": "2d17e46a-123f-43b3-d372-cbb539fdf757"
      },
      "outputs": [
        {
          "output_type": "execute_result",
          "data": {
            "text/plain": [
              "array([[21, 24, 27],\n",
              "       [47, 54, 61]])"
            ]
          },
          "metadata": {},
          "execution_count": 179
        }
      ],
      "source": [
        "import numpy as np\n",
        "\n",
        "def matrix_multiply_2(A,B):\n",
        "  return np.dot(A,B)\n",
        "\n",
        "'''\n",
        "A = np.array([\n",
        "    [1, 2, 3],\n",
        "    [4, 5, 6],\n",
        "    [7, 8, 9],\n",
        "    [10, 11, 12]\n",
        "])\n",
        "\n",
        "B = np.array([\n",
        "    [13, 14, 15],\n",
        "    [16, 17, 18],\n",
        "    [19, 20, 21]\n",
        "])\n",
        "'''\n",
        "\n",
        "matrix_multiply_2(A,B)"
      ]
    },
    {
      "cell_type": "markdown",
      "metadata": {
        "id": "2nMFnl84edJG"
      },
      "source": [
        "##### (iv) Testing your code\n",
        "\n",
        "Run the following cell to check if your functions are working properly.\n",
        "\n",
        "*Expected output:*\n",
        "[ [102 108 114]\n",
        " [246 261 276]\n",
        " [390 414 438]\n",
        " [534 567 600] ]"
      ]
    },
    {
      "cell_type": "code",
      "execution_count": 180,
      "metadata": {
        "colab": {
          "base_uri": "https://localhost:8080/"
        },
        "id": "09rX_Cm9ezmq",
        "outputId": "164d85c0-0715-4d2d-a379-bd101fc0a447"
      },
      "outputs": [
        {
          "output_type": "stream",
          "name": "stdout",
          "text": [
            "Result using loops:\n",
            "[[102, 108, 114], [246, 261, 276], [390, 414, 438], [534, 567, 600]]\n",
            "Result using numpy:\n",
            "[[102 108 114]\n",
            " [246 261 276]\n",
            " [390 414 438]\n",
            " [534 567 600]]\n"
          ]
        }
      ],
      "source": [
        "import numpy as np\n",
        "\n",
        "def isValid(a, b):\n",
        "    return len(a[0]) == len(b)\n",
        "\n",
        "def matrix_multiply(A, B):\n",
        "    product_matrix = [[0 for _ in range(len(B[0]))] for _ in range(len(A))]\n",
        "\n",
        "    for i in range(len(product_matrix)):\n",
        "        for j in range(len(product_matrix[0])):\n",
        "            for k in range(len(A[0])):\n",
        "                product_matrix[i][j] += A[i][k] * B[k][j]\n",
        "    return product_matrix\n",
        "\n",
        "def matrix_multiply_2(A, B):\n",
        "    return np.dot(A, B)\n",
        "\n",
        "A = np.array([\n",
        "    [1, 2, 3],\n",
        "    [4, 5, 6],\n",
        "    [7, 8, 9],\n",
        "    [10, 11, 12]\n",
        "])\n",
        "\n",
        "B = np.array([\n",
        "    [13, 14, 15],\n",
        "    [16, 17, 18],\n",
        "    [19, 20, 21]\n",
        "])\n",
        "\n",
        "if isValid(A, B):\n",
        "    print(f\"Result using loops:\\n{matrix_multiply(A, B)}\")\n",
        "    print(f\"Result using numpy:\\n{matrix_multiply_2(A, B)}\")\n",
        "else:\n",
        "    print(\"Matrix multiplication is not valid\")"
      ]
    },
    {
      "cell_type": "markdown",
      "metadata": {
        "id": "5hfP7Ao1fwqV"
      },
      "source": [
        "### Q2. Z-Score Normalisation"
      ]
    },
    {
      "cell_type": "markdown",
      "metadata": {
        "id": "0e81Xx5Kw_CQ"
      },
      "source": [
        "Z-score normalization refers to the process of normalizing every value in a dataset such that the mean of all of the values is 0 and the standard deviation is 1.\n",
        "\n",
        "We use the following formula to perform a z-score normalization on every value in a dataset:\n",
        "\n",
        "New value = (x – μ) / σ\n",
        "\n",
        "where:\n",
        "\n",
        "x: Original value\n",
        "\n",
        "μ: Mean of data\n",
        "\n",
        "σ: Standard deviation of data"
      ]
    },
    {
      "cell_type": "markdown",
      "metadata": {
        "id": "GP_MuyUbguSR"
      },
      "source": [
        "##### (i) Without using numpy"
      ]
    },
    {
      "cell_type": "code",
      "execution_count": 181,
      "metadata": {
        "colab": {
          "base_uri": "https://localhost:8080/",
          "height": 36
        },
        "id": "0vix8qaaghwP",
        "outputId": "0966b0a8-4393-493e-9a86-eafb88722601"
      },
      "outputs": [
        {
          "output_type": "execute_result",
          "data": {
            "text/plain": [
              "'\\ndata = [2, 4, 6, 8, 10]\\nresult_mean = mean(data)\\nprint(result_mean)\\n'"
            ],
            "application/vnd.google.colaboratory.intrinsic+json": {
              "type": "string"
            }
          },
          "metadata": {},
          "execution_count": 181
        }
      ],
      "source": [
        "def mean(x):\n",
        "  summation=sum(x)\n",
        "  average=summation/len(x)\n",
        "  return average\n",
        "'''\n",
        "data = [2, 4, 6, 8, 10]\n",
        "result_mean = mean(data)\n",
        "print(result_mean)\n",
        "'''"
      ]
    },
    {
      "cell_type": "code",
      "execution_count": 182,
      "metadata": {
        "colab": {
          "base_uri": "https://localhost:8080/",
          "height": 36
        },
        "id": "j1qabel-g_f5",
        "outputId": "be9285d2-6fad-4151-d18f-58c870f9b350"
      },
      "outputs": [
        {
          "output_type": "execute_result",
          "data": {
            "text/plain": [
              "'\\ndata = [2, 4, 6, 8, 10]\\nresult_std_dev = standard_deviation(data)\\nprint(result_std_dev)\\n'"
            ],
            "application/vnd.google.colaboratory.intrinsic+json": {
              "type": "string"
            }
          },
          "metadata": {},
          "execution_count": 182
        }
      ],
      "source": [
        "def standard_deviation(x):\n",
        "  avg = sum(x) / len(x)\n",
        "  squared_diff_sum = sum((y - avg) ** 2 for y in x)\n",
        "  variance = squared_diff_sum / (len(x))\n",
        "  return variance**0.5\n",
        "'''\n",
        "data = [2, 4, 6, 8, 10]\n",
        "result_std_dev = standard_deviation(data)\n",
        "print(result_std_dev)\n",
        "'''"
      ]
    },
    {
      "cell_type": "code",
      "execution_count": 183,
      "metadata": {
        "colab": {
          "base_uri": "https://localhost:8080/",
          "height": 36
        },
        "id": "797ewbNqhEpY",
        "outputId": "8285b947-25c1-4ef9-b5a2-0ebcac3c6c08"
      },
      "outputs": [
        {
          "output_type": "execute_result",
          "data": {
            "text/plain": [
              "'\\noriginal_data = [4, 7, 7, 15, 32, 47, 63, 89, 102, 131]\\nnormalized_data = zscore_normalisation(original_data)\\nprint(normalized_data)\\n'"
            ],
            "application/vnd.google.colaboratory.intrinsic+json": {
              "type": "string"
            }
          },
          "metadata": {},
          "execution_count": 183
        }
      ],
      "source": [
        "def zscore_normalisation(x):\n",
        "  avg = sum(x) / len(x)\n",
        "  variance = sum((y - avg) ** 2 for y in x) / (len(x))\n",
        "  std_dev = variance ** 0.5\n",
        "  normalized_data = [(y - avg) / std_dev for y in x]\n",
        "  return normalized_data\n",
        "'''\n",
        "original_data = [4, 7, 7, 15, 32, 47, 63, 89, 102, 131]\n",
        "normalized_data = zscore_normalisation(original_data)\n",
        "print(normalized_data)\n",
        "'''"
      ]
    },
    {
      "cell_type": "markdown",
      "metadata": {
        "id": "k8dq1wqRhbUB"
      },
      "source": [
        "##### (ii) Using numpy\n",
        "\n",
        "Numpy has in_built functions for calculating mean and standard deviation"
      ]
    },
    {
      "cell_type": "code",
      "execution_count": 184,
      "metadata": {
        "colab": {
          "base_uri": "https://localhost:8080/",
          "height": 36
        },
        "id": "WjxJTUDihsYg",
        "outputId": "166ab14f-4d64-4b61-ee2d-de0214ac9e1c"
      },
      "outputs": [
        {
          "output_type": "execute_result",
          "data": {
            "text/plain": [
              "'\\noriginal_data = [4, 7, 7, 15, 32, 47, 63, 89, 102, 131]\\nnormalized_data_np = zscore_normalisation_2(original_data)\\nprint(normalized_data_np)\\n'"
            ],
            "application/vnd.google.colaboratory.intrinsic+json": {
              "type": "string"
            }
          },
          "metadata": {},
          "execution_count": 184
        }
      ],
      "source": [
        "def zscore_normalisation_2(x):\n",
        "  normalized_data = (np.array(x) - np.mean(x)) / (np.std(x))\n",
        "  return normalized_data\n",
        "'''\n",
        "original_data = [4, 7, 7, 15, 32, 47, 63, 89, 102, 131]\n",
        "normalized_data_np = zscore_normalisation_2(original_data)\n",
        "print(normalized_data_np)\n",
        "'''"
      ]
    },
    {
      "cell_type": "markdown",
      "metadata": {
        "id": "glRqKU-_1pue"
      },
      "source": [
        "##### (iii) Testing your code"
      ]
    },
    {
      "cell_type": "markdown",
      "metadata": {
        "id": "Kl7XBymOigCU"
      },
      "source": [
        "Run the following cell to check if your functions are working properly.\n",
        "\n",
        "*Expected Output:* [-1.06753267 -0.99745394 -0.99745394 -0.81057732 -0.41346451 -0.06307086\n",
        "  0.31068237  0.91803138  1.22170588  1.89913361]"
      ]
    },
    {
      "cell_type": "code",
      "execution_count": 185,
      "metadata": {
        "colab": {
          "base_uri": "https://localhost:8080/"
        },
        "id": "78ptZxf6ipZp",
        "outputId": "076a765b-08c0-47a7-e6f6-294748967424"
      },
      "outputs": [
        {
          "output_type": "stream",
          "name": "stdout",
          "text": [
            "Result without using numpy: [-1.0675326683028088, -0.9974539373420117, -0.9974539373420117, -0.8105773214465528, -0.41346451266870277, -0.06307085786471743, 0.3106823739262003, 0.9180313755864415, 1.2217058764165623, 1.8991336090376005]\n",
            "Result using numpy: [-1.06753267 -0.99745394 -0.99745394 -0.81057732 -0.41346451 -0.06307086\n",
            "  0.31068237  0.91803138  1.22170588  1.89913361]\n"
          ]
        }
      ],
      "source": [
        "import numpy as np\n",
        "def zscore_normalisation(x):\n",
        "  avg = sum(x) / len(x)\n",
        "  variance = sum((y - avg) ** 2 for y in x) / (len(x))\n",
        "  std_dev = variance ** 0.5\n",
        "  normalized_data = [(y - avg) / std_dev for y in x]\n",
        "  return normalized_data\n",
        "def zscore_normalisation_2(x):\n",
        "  normalized_data = (np.array(x) - np.mean(x)) / (np.std(x))\n",
        "  return normalized_data\n",
        "\n",
        "x = [4, 7, 7, 15, 32, 47, 63, 89, 102, 131]\n",
        "print(f\"Result without using numpy: {zscore_normalisation(x)}\")\n",
        "print(f\"Result using numpy: {zscore_normalisation_2(x)}\")"
      ]
    },
    {
      "cell_type": "markdown",
      "metadata": {
        "id": "0WVscJ0z14rp"
      },
      "source": [
        "### Q3. Sigmoid fn and its derivative"
      ]
    },
    {
      "cell_type": "markdown",
      "metadata": {
        "id": "Jfntb0Rg94Tu"
      },
      "source": [
        "The sigmoid function is a mathematical function that maps any input value to a value between 0 and 1.\n",
        "\n",
        "It is defined mathematically as s(x) = 1/(1+e^(-x))."
      ]
    },
    {
      "cell_type": "markdown",
      "metadata": {
        "id": "8SCAPkjO2m7u"
      },
      "source": [
        "##### (i) Write a fn to implement sigmoid fn"
      ]
    },
    {
      "cell_type": "code",
      "execution_count": 186,
      "metadata": {
        "colab": {
          "base_uri": "https://localhost:8080/",
          "height": 36
        },
        "id": "jL_TRQFG2l5m",
        "outputId": "db8d0d77-5d49-417b-ab2a-fd0eb21247ba"
      },
      "outputs": [
        {
          "output_type": "execute_result",
          "data": {
            "text/plain": [
              "'\\nx = np.array([\\n    [9,2,5,0,0],\\n    [7,5,0,0,0]\\n])\\nprint(sigmoidfn(x))\\n'"
            ],
            "application/vnd.google.colaboratory.intrinsic+json": {
              "type": "string"
            }
          },
          "metadata": {},
          "execution_count": 186
        }
      ],
      "source": [
        "import numpy as np\n",
        "def sigmoidfn(x):\n",
        "  return 1/(1+np.exp(-x))\n",
        "'''\n",
        "x = np.array([\n",
        "    [9,2,5,0,0],\n",
        "    [7,5,0,0,0]\n",
        "])\n",
        "print(sigmoidfn(x))\n",
        "'''"
      ]
    },
    {
      "cell_type": "markdown",
      "metadata": {
        "id": "t7KBbl7N3AUM"
      },
      "source": [
        "##### (ii) Write a fn to implement derivative of sigmoid fn"
      ]
    },
    {
      "cell_type": "code",
      "execution_count": 187,
      "metadata": {
        "colab": {
          "base_uri": "https://localhost:8080/",
          "height": 36
        },
        "id": "okjuOpba3KOJ",
        "outputId": "d294db2a-179a-48b9-90ef-a9796803462d"
      },
      "outputs": [
        {
          "output_type": "execute_result",
          "data": {
            "text/plain": [
              "'\\nx = np.array([\\n    [9,2,5,0,0],\\n    [7,5,0,0,0]\\n])\\n\\nprint(derivative(x))\\n'"
            ],
            "application/vnd.google.colaboratory.intrinsic+json": {
              "type": "string"
            }
          },
          "metadata": {},
          "execution_count": 187
        }
      ],
      "source": [
        "import numpy as np\n",
        "\n",
        "def sigmoidfn(x):\n",
        "  return 1/(1+np.exp(-x))\n",
        "\n",
        "def derivative(x):\n",
        "  sigmoid_x = sigmoidfn(x)\n",
        "  derivative = sigmoid_x * (sigmoid_x - 1) #can be shown mathematically\n",
        "  return derivative\n",
        "'''\n",
        "x = np.array([\n",
        "    [9,2,5,0,0],\n",
        "    [7,5,0,0,0]\n",
        "])\n",
        "\n",
        "print(derivative(x))\n",
        "'''"
      ]
    },
    {
      "cell_type": "markdown",
      "metadata": {
        "id": "NdGTSpsp3mwr"
      },
      "source": [
        "##### (iii) Test your code"
      ]
    },
    {
      "cell_type": "markdown",
      "metadata": {
        "id": "lWY8RBex7gnd"
      },
      "source": [
        "Run the following cell to check if your functions are working properly.\n",
        "\n",
        "*Expected output:*\n",
        "\n",
        "x on applying sigmoid activation fn is: [ [0.99987661 0.88079708 0.99330715 0.5        0.5       ]\n",
        " [0.99908895 0.99330715 0.5        0.5        0.5       ] ]\n",
        "\n",
        "x on applying derivative of sigmoid activation fn is: [ [-1.23379350e-04 -1.04993585e-01 -6.64805667e-03 -2.50000000e-01\n",
        "  -2.50000000e-01]\n",
        " [-9.10221180e-04 -6.64805667e-03 -2.50000000e-01 -2.50000000e-01\n",
        "  -2.50000000e-01] ]"
      ]
    },
    {
      "cell_type": "code",
      "execution_count": 188,
      "metadata": {
        "colab": {
          "base_uri": "https://localhost:8080/"
        },
        "id": "ssDGpmS33vdA",
        "outputId": "05504ab9-7b28-4afd-88db-d57e77f60af8"
      },
      "outputs": [
        {
          "output_type": "stream",
          "name": "stdout",
          "text": [
            "x on applying sigmoid activation fn is: [[0.99987661 0.88079708 0.99330715 0.5        0.5       ]\n",
            " [0.99908895 0.99330715 0.5        0.5        0.5       ]]\n",
            "x on applying derivative of sigmoid activation fn is: [[-1.23379350e-04 -1.04993585e-01 -6.64805667e-03 -2.50000000e-01\n",
            "  -2.50000000e-01]\n",
            " [-9.10221180e-04 -6.64805667e-03 -2.50000000e-01 -2.50000000e-01\n",
            "  -2.50000000e-01]]\n"
          ]
        }
      ],
      "source": [
        "import numpy as np\n",
        "\n",
        "def sigmoidfn(x):\n",
        "  return 1/(1+np.exp(-x))\n",
        "\n",
        "def derivative(x):\n",
        "  sigmoid_x = sigmoidfn(x)\n",
        "  derivative = sigmoid_x * (sigmoid_x - 1)\n",
        "  return derivative\n",
        "\n",
        "x = np.array([\n",
        "    [9,2,5,0,0],\n",
        "    [7,5,0,0,0]\n",
        "])\n",
        "print(f\"x on applying sigmoid activation fn is: {sigmoidfn(x)}\")\n",
        "print(f\"x on applying derivative of sigmoid activation fn is: {derivative(x)}\")"
      ]
    },
    {
      "cell_type": "markdown",
      "metadata": {
        "id": "PMa0cseyZpa1"
      },
      "source": [
        "# Section 2: Playing with Pandas"
      ]
    },
    {
      "cell_type": "markdown",
      "metadata": {
        "id": "i5Okb_jxZ_VW"
      },
      "source": [
        "###Read the csv file\n"
      ]
    },
    {
      "cell_type": "code",
      "execution_count": 189,
      "metadata": {
        "id": "aQgvyavrcM1l",
        "colab": {
          "base_uri": "https://localhost:8080/"
        },
        "outputId": "de3df722-c384-45f3-b7b9-4a728ec44fc1"
      },
      "outputs": [
        {
          "output_type": "stream",
          "name": "stdout",
          "text": [
            "     Pressure Property    Liq_Sat      Vap_Sat           75          100  \\\n",
            "0         1.0        V     1.0000  129200.0000  160640.0000  172180.0000   \n",
            "1         1.0        U    29.3340    2385.2000    2480.8000    2516.4000   \n",
            "2         1.0        H    29.3350    2514.4000    2641.5000    2688.6000   \n",
            "3         1.0        S     0.1060       8.9767       9.3828       9.5136   \n",
            "4        10.0        V     1.0100   14670.0000   16030.0000   17190.0000   \n",
            "..        ...      ...        ...          ...          ...          ...   \n",
            "539   11200.0        S     3.4440       5.5476          NaN          NaN   \n",
            "540   11400.0        V     1.5040      15.2840          NaN          NaN   \n",
            "541   11400.0        U  1450.0000    2527.2000          NaN          NaN   \n",
            "542   11400.0        H  1467.2000    2701.5000          NaN          NaN   \n",
            "543   11400.0        S     3.4575       5.5357          NaN          NaN   \n",
            "\n",
            "             125          150          175          200  ...        425  \\\n",
            "0    183720.0000  195270.0000  206810.0000  218350.0000  ...        NaN   \n",
            "1      2552.3000    2588.5000    2624.9000    2661.7000  ...        NaN   \n",
            "2      2736.0000    2783.7000    2831.7000    2880.1000  ...        NaN   \n",
            "3         9.6365       9.7527       9.8629       9.9679  ...        NaN   \n",
            "4     18350.0000   19510.0000   20660.0000   21820.0000  ...        NaN   \n",
            "..           ...          ...          ...          ...  ...        ...   \n",
            "539          NaN          NaN          NaN          NaN  ...     6.2491   \n",
            "540          NaN          NaN          NaN          NaN  ...    24.1040   \n",
            "541          NaN          NaN          NaN          NaN  ...  2873.1000   \n",
            "542          NaN          NaN          NaN          NaN  ...  3147.9000   \n",
            "543          NaN          NaN          NaN          NaN  ...     6.2367   \n",
            "\n",
            "             450        475          500        525          550        575  \\\n",
            "0    333730.0000        NaN  356810.0000        NaN  379880.0000        NaN   \n",
            "1      3049.9000        NaN    3132.4000        NaN    3216.7000        NaN   \n",
            "2      3383.6000        NaN    3489.2000        NaN    3596.5000        NaN   \n",
            "3        10.8200        NaN      10.9612        NaN      11.0957        NaN   \n",
            "4     33370.0000        NaN   35670.0000        NaN   37980.0000        NaN   \n",
            "..           ...        ...          ...        ...          ...        ...   \n",
            "539       6.3515     6.4452       6.5324     6.6147       6.6929     6.7679   \n",
            "540      25.5990    27.0100      28.3590    29.6610      30.9250    32.1600   \n",
            "541    2929.4000  2982.6000    3033.9000  3083.9000    3133.1000  3181.9000   \n",
            "542    3221.2000  3290.5000    3357.2000  3422.1000    3485.7000  3548.5000   \n",
            "543       6.3399     6.4341       6.5218     6.6043       6.6828     6.7580   \n",
            "\n",
            "             600        625          650  \n",
            "0    402960.0000        NaN  426040.0000  \n",
            "1      3302.6000        NaN    3390.3000  \n",
            "2      3705.6000        NaN    3816.4000  \n",
            "3        11.2243        NaN      11.3476  \n",
            "4     40290.0000        NaN   42600.0000  \n",
            "..           ...        ...          ...  \n",
            "539       6.8401     6.9099       6.9777  \n",
            "540      33.3700    34.5600      35.7330  \n",
            "541    3230.4000  3278.8000    3327.2000  \n",
            "542    3610.8000  3672.8000    3734.6000  \n",
            "543       6.8304     6.9004       6.9683  \n",
            "\n",
            "[544 rows x 37 columns]\n"
          ]
        }
      ],
      "source": [
        "import pandas as pd\n",
        "df=pd.read_csv(\"/content/superheated_vapor_properties.csv\")\n",
        "print(df)"
      ]
    },
    {
      "cell_type": "markdown",
      "metadata": {
        "id": "Zp8F3rk2cNxy"
      },
      "source": [
        "###Display the shape of data frame\n"
      ]
    },
    {
      "cell_type": "code",
      "execution_count": 190,
      "metadata": {
        "colab": {
          "base_uri": "https://localhost:8080/"
        },
        "id": "v3Q8kQkucgK0",
        "outputId": "09eb03b8-f27e-459c-92df-818b7c2a0449"
      },
      "outputs": [
        {
          "output_type": "stream",
          "name": "stdout",
          "text": [
            "(544, 37)\n"
          ]
        }
      ],
      "source": [
        "import pandas as pd\n",
        "df=pd.read_csv(\"/content/superheated_vapor_properties.csv\")\n",
        "print(df.shape)"
      ]
    },
    {
      "cell_type": "markdown",
      "metadata": {
        "id": "w49cp-8zcgd2"
      },
      "source": [
        "###Return an array containing names of all the columns"
      ]
    },
    {
      "cell_type": "code",
      "execution_count": 191,
      "metadata": {
        "colab": {
          "base_uri": "https://localhost:8080/"
        },
        "id": "fz4HRb3JcsZp",
        "outputId": "8634de14-9629-48b6-b2b1-33cff40305aa"
      },
      "outputs": [
        {
          "output_type": "stream",
          "name": "stdout",
          "text": [
            "['Pressure', 'Property', 'Liq_Sat', 'Vap_Sat', '75', '100', '125', '150', '175', '200', '220', '225', '240', '250', '260', '275', '280', '290', '300', '320', '325', '340', '350', '360', '375', '380', '400', '425', '450', '475', '500', '525', '550', '575', '600', '625', '650']\n"
          ]
        }
      ],
      "source": [
        "import pandas as pd\n",
        "df=pd.read_csv(\"/content/superheated_vapor_properties.csv\")\n",
        "print(df.columns.tolist())"
      ]
    },
    {
      "cell_type": "markdown",
      "metadata": {
        "id": "YkTH9tRWcrH-"
      },
      "source": [
        "###Display the number of null values in each column of the dataframe``\n",
        "\n"
      ]
    },
    {
      "cell_type": "code",
      "execution_count": 192,
      "metadata": {
        "colab": {
          "base_uri": "https://localhost:8080/"
        },
        "id": "GK9-PJPxc3Ot",
        "outputId": "c42781f0-17de-4891-a87c-15e818a03380"
      },
      "outputs": [
        {
          "output_type": "stream",
          "name": "stdout",
          "text": [
            "Pressure      0\n",
            "Property      0\n",
            "Liq_Sat       0\n",
            "Vap_Sat       0\n",
            "75          528\n",
            "100         508\n",
            "125         488\n",
            "150         448\n",
            "175         384\n",
            "200         320\n",
            "220         408\n",
            "225         400\n",
            "240         408\n",
            "250         344\n",
            "260         384\n",
            "275         340\n",
            "280         380\n",
            "290         488\n",
            "300          60\n",
            "320         480\n",
            "325         136\n",
            "340         476\n",
            "350          68\n",
            "360         476\n",
            "375         204\n",
            "380         476\n",
            "400           0\n",
            "425         204\n",
            "450           0\n",
            "475         204\n",
            "500           0\n",
            "525         272\n",
            "550           0\n",
            "575         340\n",
            "600           0\n",
            "625         476\n",
            "650           0\n",
            "dtype: int64\n"
          ]
        }
      ],
      "source": [
        "import pandas as pd\n",
        "df=pd.read_csv(\"/content/superheated_vapor_properties.csv\")\n",
        "print(df.isnull().sum())"
      ]
    },
    {
      "cell_type": "markdown",
      "metadata": {
        "id": "Av-lcft2c3mx"
      },
      "source": [
        "###Create a column which contains the Pressure and Property columns, seperated with 'at' (For eg. V at 1, H at 101.325). Using this print the following:\n",
        "- Enthalpy at 75 kPa and 573 K\n",
        "- Entropy at 493 K and 250 kPa\n",
        "\n"
      ]
    },
    {
      "cell_type": "code",
      "execution_count": 206,
      "metadata": {
        "id": "B2AihQj_c32C",
        "colab": {
          "base_uri": "https://localhost:8080/"
        },
        "outputId": "fdbef352-eec9-459f-ba8a-951f04184fb6"
      },
      "outputs": [
        {
          "output_type": "execute_result",
          "data": {
            "text/plain": [
              "0          V at 1.0\n",
              "1          U at 1.0\n",
              "2          H at 1.0\n",
              "3          S at 1.0\n",
              "4         V at 10.0\n",
              "           ...     \n",
              "539    S at 11200.0\n",
              "540    V at 11400.0\n",
              "541    U at 11400.0\n",
              "542    H at 11400.0\n",
              "543    S at 11400.0\n",
              "Name: Property at Pressure, Length: 544, dtype: object"
            ]
          },
          "metadata": {},
          "execution_count": 206
        }
      ],
      "source": [
        "import pandas as pd\n",
        "df=pd.read_csv(\"/content/superheated_vapor_properties.csv\")\n",
        "new_df=df['Property at Pressure']=df['Property']+\" at \"+df['Pressure'].astype(str) #thanks for the help Zainab!\n",
        "df['Property at Pressure']"
      ]
    },
    {
      "cell_type": "code",
      "source": [
        "idx1=df[df['Property at Pressure']== 'H at 75.0'].index\n",
        "print(df['300'].loc[idx1].item())\n",
        "idx1=df[df['Property at Pressure']== 'S at 250.0'].index\n",
        "print(df['225'].loc[idx1].item())"
      ],
      "metadata": {
        "colab": {
          "base_uri": "https://localhost:8080/"
        },
        "id": "kq1k4uiRcik-",
        "outputId": "2418de0c-c246-4b2e-ab92-049144b21b68"
      },
      "execution_count": 207,
      "outputs": [
        {
          "output_type": "stream",
          "name": "stdout",
          "text": [
            "3075.1\n",
            "7.505\n"
          ]
        }
      ]
    },
    {
      "cell_type": "markdown",
      "metadata": {
        "id": "GpLtXYRLc4Ho"
      },
      "source": [
        "###Find out the column with the highest number of missing values"
      ]
    },
    {
      "cell_type": "code",
      "execution_count": 194,
      "metadata": {
        "id": "q80Grgeyc4Xn",
        "colab": {
          "base_uri": "https://localhost:8080/"
        },
        "outputId": "e3176079-826b-4a1d-e4bb-3c2ffece1d8d"
      },
      "outputs": [
        {
          "output_type": "stream",
          "name": "stdout",
          "text": [
            "75\n"
          ]
        }
      ],
      "source": [
        "import pandas as pd\n",
        "df=pd.read_csv(\"/content/superheated_vapor_properties.csv\")\n",
        "print(df.isnull().sum().idxmax())\n"
      ]
    },
    {
      "cell_type": "markdown",
      "metadata": {
        "id": "74NVHTTac4nv"
      },
      "source": [
        "###What is the average enthalpy of Sat. Liq. at all different pressures in the dataset ?"
      ]
    },
    {
      "cell_type": "code",
      "execution_count": 195,
      "metadata": {
        "colab": {
          "base_uri": "https://localhost:8080/"
        },
        "id": "g3mByhBDdpVr",
        "outputId": "dcd8ac50-21e5-4d4b-ace7-cb879dac443c"
      },
      "outputs": [
        {
          "output_type": "stream",
          "name": "stdout",
          "text": [
            "936.9707720588235\n"
          ]
        }
      ],
      "source": [
        "import pandas as pd\n",
        "df=pd.read_csv(\"/content/superheated_vapor_properties.csv\")\n",
        "print(df['Liq_Sat'].iloc[2::4].mean())"
      ]
    },
    {
      "cell_type": "markdown",
      "metadata": {
        "id": "uS-SuqU8dpxg"
      },
      "source": [
        "###Separate out the V,U,H,S data from the dataset into V_data, U_data, H_data, S_data"
      ]
    },
    {
      "cell_type": "code",
      "execution_count": 196,
      "metadata": {
        "id": "Sg3V9Toyd1Av",
        "colab": {
          "base_uri": "https://localhost:8080/"
        },
        "outputId": "23793e0d-5e9f-4939-e4ff-db6b03186dfb"
      },
      "outputs": [
        {
          "output_type": "stream",
          "name": "stdout",
          "text": [
            "V_data:\n",
            "     Pressure Property  Liq_Sat     Vap_Sat        75       100       125  \\\n",
            "0         1.0        V    1.000  129200.000  160640.0  172180.0  183720.0   \n",
            "4        10.0        V    1.010   14670.000   16030.0   17190.0   18350.0   \n",
            "8        20.0        V    1.017    7649.800    8000.0    8584.7    9167.1   \n",
            "12       30.0        V    1.022    5229.300    5322.0    5714.4    6104.6   \n",
            "16       40.0        V    1.027    3993.400       NaN    4279.2    4573.3   \n",
            "..        ...      ...      ...         ...       ...       ...       ...   \n",
            "524   10600.0        V    1.474      16.778       NaN       NaN       NaN   \n",
            "528   10800.0        V    1.481      16.385       NaN       NaN       NaN   \n",
            "532   11000.0        V    1.489      16.006       NaN       NaN       NaN   \n",
            "536   11200.0        V    1.496      15.639       NaN       NaN       NaN   \n",
            "540   11400.0        V    1.504      15.284       NaN       NaN       NaN   \n",
            "\n",
            "          150       175       200  ...     425         450     475  \\\n",
            "0    195270.0  206810.0  218350.0  ...     NaN  333730.000     NaN   \n",
            "4     19510.0   20660.0   21820.0  ...     NaN   33370.000     NaN   \n",
            "8      9748.0   10320.0   10900.0  ...     NaN   16680.000     NaN   \n",
            "12     6493.2    6880.8    7267.5  ...     NaN   11120.000     NaN   \n",
            "16     4865.8    5157.2    5447.8  ...     NaN    8340.100     NaN   \n",
            "..        ...       ...       ...  ...     ...         ...     ...   \n",
            "524       NaN       NaN       NaN  ...  26.276      27.834  29.313   \n",
            "528       NaN       NaN       NaN  ...  25.703      27.245  28.706   \n",
            "532       NaN       NaN       NaN  ...  25.151      26.676  28.120   \n",
            "536       NaN       NaN       NaN  ...  24.619      26.128  27.555   \n",
            "540       NaN       NaN       NaN  ...  24.104      25.599  27.010   \n",
            "\n",
            "            500     525         550     575         600     625         650  \n",
            "0    356810.000     NaN  379880.000     NaN  402960.000     NaN  426040.000  \n",
            "4     35670.000     NaN   37980.000     NaN   40290.000     NaN   42600.000  \n",
            "8     17830.000     NaN   18990.000     NaN   20140.000     NaN   21300.000  \n",
            "12    11890.000     NaN   12660.000     NaN   13430.000     NaN   14190.000  \n",
            "16     8917.600     NaN    9494.900     NaN   10070.000     NaN   10640.000  \n",
            "..          ...     ...         ...     ...         ...     ...         ...  \n",
            "524      30.732  32.106      33.444  34.753      36.039  37.304      38.552  \n",
            "528      30.106  31.461      32.779  34.069      35.335  36.580      37.808  \n",
            "532      29.503  30.839      32.139  33.410      34.656  35.882      37.091  \n",
            "536      28.921  30.240      31.521  32.774      34.002  35.210      36.400  \n",
            "540      28.359  29.661      30.925  32.160      33.370  34.560      35.733  \n",
            "\n",
            "[136 rows x 37 columns]\n",
            "U_data:\n",
            "     Pressure Property   Liq_Sat  Vap_Sat      75     100     125     150  \\\n",
            "1         1.0        U    29.334   2385.2  2480.8  2516.4  2552.3  2588.5   \n",
            "5        10.0        U   191.822   2438.0  2479.7  2515.6  2551.6  2588.0   \n",
            "9        20.0        U   251.432   2456.9  2478.4  2514.6  2550.9  2587.4   \n",
            "13       30.0        U   289.271   2468.6  2477.1  2513.6  2550.2  2586.8   \n",
            "17       40.0        U   317.609   2477.1     NaN  2512.6  2549.4  2586.2   \n",
            "..        ...      ...       ...      ...     ...     ...     ...     ...   \n",
            "525   10600.0        U  1418.100   2539.0     NaN     NaN     NaN     NaN   \n",
            "529   10800.0        U  1426.200   2536.2     NaN     NaN     NaN     NaN   \n",
            "533   11000.0        U  1434.200   2533.2     NaN     NaN     NaN     NaN   \n",
            "537   11200.0        U  1442.100   2530.3     NaN     NaN     NaN     NaN   \n",
            "541   11400.0        U  1450.000   2527.2     NaN     NaN     NaN     NaN   \n",
            "\n",
            "        175     200  ...     425     450     475     500     525     550  \\\n",
            "1    2624.9  2661.7  ...     NaN  3049.9     NaN  3132.4     NaN  3216.7   \n",
            "5    2624.5  2661.4  ...     NaN  3049.8     NaN  3132.3     NaN  3216.6   \n",
            "9    2624.1  2661.0  ...     NaN  3049.7     NaN  3132.3     NaN  3216.5   \n",
            "13   2623.6  2660.7  ...     NaN  3049.6     NaN  3132.2     NaN  3216.5   \n",
            "17   2623.2  2660.3  ...     NaN  3049.5     NaN  3132.1     NaN  3216.4   \n",
            "..      ...     ...  ...     ...     ...     ...     ...     ...     ...   \n",
            "525     NaN     NaN  ...  2884.5  2939.1  2991.1  3041.4  3090.7  3139.3   \n",
            "529     NaN     NaN  ...  2881.7  2936.7  2989.0  3039.6  3089.0  3137.8   \n",
            "533     NaN     NaN  ...  2878.9  2934.3  2986.9  3037.7  3087.3  3136.2   \n",
            "537     NaN     NaN  ...  2876.0  2931.8  2984.8  3035.8  3085.6  3134.7   \n",
            "541     NaN     NaN  ...  2873.1  2929.4  2982.6  3033.9  3083.9  3133.1   \n",
            "\n",
            "        575     600     625     650  \n",
            "1       NaN  3302.6     NaN  3390.3  \n",
            "5       NaN  3302.6     NaN  3390.3  \n",
            "9       NaN  3302.5     NaN  3390.2  \n",
            "13      NaN  3302.5     NaN  3390.2  \n",
            "17      NaN  3302.4     NaN  3390.1  \n",
            "..      ...     ...     ...     ...  \n",
            "525  3187.5  3235.6  3283.6  3331.7  \n",
            "529  3186.1  3234.3  3282.4  3330.6  \n",
            "533  3184.7  3233.0  3281.2  3329.5  \n",
            "537  3183.3  3231.7  3280.0  3328.4  \n",
            "541  3181.9  3230.4  3278.8  3327.2  \n",
            "\n",
            "[136 rows x 37 columns]\n",
            "H_data:\n",
            "     Pressure Property   Liq_Sat  Vap_Sat      75     100     125     150  \\\n",
            "2         1.0        H    29.335   2514.4  2641.5  2688.6  2736.0  2783.7   \n",
            "6        10.0        H   191.832   2584.8  2640.0  2687.5  2735.2  2783.1   \n",
            "10       20.0        H   251.453   2609.9  2638.4  2686.3  2734.2  2782.3   \n",
            "14       30.0        H   289.302   2625.4  2636.8  2685.1  2733.3  2781.6   \n",
            "18       40.0        H   317.650   2636.9     NaN  2683.8  2732.3  2780.9   \n",
            "..        ...      ...       ...      ...     ...     ...     ...     ...   \n",
            "526   10600.0        H  1433.700   2716.9     NaN     NaN     NaN     NaN   \n",
            "530   10800.0        H  1442.200   2713.1     NaN     NaN     NaN     NaN   \n",
            "534   11000.0        H  1450.600   2709.3     NaN     NaN     NaN     NaN   \n",
            "538   11200.0        H  1458.900   2705.4     NaN     NaN     NaN     NaN   \n",
            "542   11400.0        H  1467.200   2701.5     NaN     NaN     NaN     NaN   \n",
            "\n",
            "        175     200  ...     425     450     475     500     525     550  \\\n",
            "2    2831.7  2880.1  ...     NaN  3383.6     NaN  3489.2     NaN  3596.5   \n",
            "6    2831.2  2879.6  ...     NaN  3383.5     NaN  3489.1     NaN  3596.5   \n",
            "10   2830.6  2879.2  ...     NaN  3383.4     NaN  3489.0     NaN  3596.4   \n",
            "14   2830.0  2878.7  ...     NaN  3383.3     NaN  3488.9     NaN  3596.3   \n",
            "18   2829.5  2878.2  ...     NaN  3383.1     NaN  3488.8     NaN  3596.2   \n",
            "..      ...     ...  ...     ...     ...     ...     ...     ...     ...   \n",
            "526     NaN     NaN  ...  3163.0  3234.1  3301.8  3367.2  3431.0  3493.8   \n",
            "530     NaN     NaN  ...  3159.3  3230.9  3299.0  3364.7  3428.8  3491.8   \n",
            "534     NaN     NaN  ...  3155.5  3227.7  3296.2  3362.2  3426.5  3489.7   \n",
            "538     NaN     NaN  ...  3151.7  3224.5  3293.4  3359.7  3424.3  3487.7   \n",
            "542     NaN     NaN  ...  3147.9  3221.2  3290.5  3357.2  3422.1  3485.7   \n",
            "\n",
            "        575     600     625     650  \n",
            "2       NaN  3705.6     NaN  3816.4  \n",
            "6       NaN  3705.5     NaN  3816.3  \n",
            "10      NaN  3705.4     NaN  3816.2  \n",
            "14      NaN  3705.4     NaN  3816.2  \n",
            "18      NaN  3705.3     NaN  3816.1  \n",
            "..      ...     ...     ...     ...  \n",
            "526  3555.9  3617.6  3679.1  3740.4  \n",
            "530  3554.1  3615.9  3677.5  3738.9  \n",
            "534  3552.2  3614.2  3675.9  3737.5  \n",
            "538  3550.4  3612.5  3674.4  3736.0  \n",
            "542  3548.5  3610.8  3672.8  3734.6  \n",
            "\n",
            "[136 rows x 37 columns]\n",
            "S_data:\n",
            "     Pressure Property  Liq_Sat  Vap_Sat      75     100     125     150  \\\n",
            "3         1.0        S   0.1060   8.9767  9.3828  9.5136  9.6365  9.7527   \n",
            "7        10.0        S   0.6493   8.1511  8.3168  8.4486  8.5722  8.6888   \n",
            "11       20.0        S   0.8321   7.9094  7.9933  8.1261  8.2504  8.3676   \n",
            "15       30.0        S   0.9441   7.7695  7.8024  7.9363  8.0614  8.1791   \n",
            "19       40.0        S   1.0261   7.6709     NaN  7.8009  7.9268  8.0450   \n",
            "..        ...      ...      ...      ...     ...     ...     ...     ...   \n",
            "527   10600.0        S   3.4029   5.5835     NaN     NaN     NaN     NaN   \n",
            "531   10800.0        S   3.4167   5.5715     NaN     NaN     NaN     NaN   \n",
            "535   11000.0        S   3.4304   5.5595     NaN     NaN     NaN     NaN   \n",
            "539   11200.0        S   3.4440   5.5476     NaN     NaN     NaN     NaN   \n",
            "543   11400.0        S   3.4575   5.5357     NaN     NaN     NaN     NaN   \n",
            "\n",
            "        175     200  ...     425      450     475      500     525      550  \\\n",
            "3    9.8629  9.9679  ...     NaN  10.8200     NaN  10.9612     NaN  11.0957   \n",
            "7    8.7994  8.9045  ...     NaN   9.7572     NaN   9.8984     NaN  10.0329   \n",
            "11   8.4785  8.5839  ...     NaN   9.4372     NaN   9.5784     NaN   9.7130   \n",
            "15   8.2903  8.3960  ...     NaN   9.2499     NaN   9.3912     NaN   9.5257   \n",
            "19   8.1566  8.2624  ...     NaN   9.1170     NaN   9.2583     NaN   9.3929   \n",
            "..      ...     ...  ...     ...      ...     ...      ...     ...      ...   \n",
            "527     NaN     NaN  ...  6.2872   6.3872  6.4793   6.5652  6.6465   6.7239   \n",
            "531     NaN     NaN  ...  6.2744   6.3752  6.4678   6.5542  6.6357   6.7134   \n",
            "535     NaN     NaN  ...  6.2617   6.3633  6.4564   6.5432  6.6251   6.7031   \n",
            "539     NaN     NaN  ...  6.2491   6.3515  6.4452   6.5324  6.6147   6.6929   \n",
            "543     NaN     NaN  ...  6.2367   6.3399  6.4341   6.5218  6.6043   6.6828   \n",
            "\n",
            "        575      600     625      650  \n",
            "3       NaN  11.2243     NaN  11.3476  \n",
            "7       NaN  10.1616     NaN  10.2849  \n",
            "11      NaN   9.8416     NaN   9.9650  \n",
            "15      NaN   9.6544     NaN   9.7778  \n",
            "19      NaN   9.5216     NaN   9.6450  \n",
            "..      ...      ...     ...      ...  \n",
            "527  6.7983   6.8700  6.9394   7.0067  \n",
            "531  6.7880   6.8599  6.9294   6.9969  \n",
            "535  6.7779   6.8499  6.9196   6.9872  \n",
            "539  6.7679   6.8401  6.9099   6.9777  \n",
            "543  6.7580   6.8304  6.9004   6.9683  \n",
            "\n",
            "[136 rows x 37 columns]\n"
          ]
        }
      ],
      "source": [
        "import pandas as pd\n",
        "df=pd.read_csv(\"/content/superheated_vapor_properties.csv\")\n",
        "\n",
        "V_data = df[df['Property'] == 'V']\n",
        "U_data = df[df['Property'] == 'U']\n",
        "H_data = df[df['Property'] == 'H']\n",
        "S_data = df[df['Property'] == 'S']\n",
        "\n",
        "print(\"V_data:\")\n",
        "print(V_data)\n",
        "\n",
        "print(\"U_data:\")\n",
        "print(U_data)\n",
        "\n",
        "print(\"H_data:\")\n",
        "print(H_data)\n",
        "\n",
        "print(\"S_data:\")\n",
        "print(S_data)"
      ]
    },
    {
      "cell_type": "markdown",
      "metadata": {
        "id": "Ghkj0-0-d1W7"
      },
      "source": [
        "#Section 3: PLotting the PLOTS"
      ]
    },
    {
      "cell_type": "markdown",
      "metadata": {
        "id": "ka0qrDcZeAL6"
      },
      "source": [
        "###Plot the properties (specific volume, specific internal energy, specific enthalpy, specific entropy) vs Pressure for saturated liquid.\n",
        "\n",
        "Note:\n",
        "- Try using the subplot feature of matplotlib(Explore it!!)\n",
        "- Provide appropriate title, labels, markersize and other parameters to the plot"
      ]
    },
    {
      "cell_type": "code",
      "execution_count": 197,
      "metadata": {
        "id": "XbKdm-cUePKA",
        "colab": {
          "base_uri": "https://localhost:8080/",
          "height": 1000
        },
        "outputId": "ed5b83d3-8cdd-4410-81c2-0acd84821357"
      },
      "outputs": [
        {
          "output_type": "stream",
          "name": "stderr",
          "text": [
            "<ipython-input-197-ae860e7db253>:10: SettingWithCopyWarning: \n",
            "A value is trying to be set on a copy of a slice from a DataFrame.\n",
            "Try using .loc[row_indexer,col_indexer] = value instead\n",
            "\n",
            "See the caveats in the documentation: https://pandas.pydata.org/pandas-docs/stable/user_guide/indexing.html#returning-a-view-versus-a-copy\n",
            "  property_data[['Pressure', 'Liq_Sat']] = scaler.fit_transform(property_data[['Pressure', 'Liq_Sat']])\n"
          ]
        },
        {
          "output_type": "display_data",
          "data": {
            "text/plain": [
              "<Figure size 600x600 with 1 Axes>"
            ],
            "image/png": "[encoded data removed]"
          },
          "metadata": {}
        },
        {
          "output_type": "stream",
          "name": "stderr",
          "text": [
            "<ipython-input-197-ae860e7db253>:10: SettingWithCopyWarning: \n",
            "A value is trying to be set on a copy of a slice from a DataFrame.\n",
            "Try using .loc[row_indexer,col_indexer] = value instead\n",
            "\n",
            "See the caveats in the documentation: https://pandas.pydata.org/pandas-docs/stable/user_guide/indexing.html#returning-a-view-versus-a-copy\n",
            "  property_data[['Pressure', 'Liq_Sat']] = scaler.fit_transform(property_data[['Pressure', 'Liq_Sat']])\n"
          ]
        },
        {
          "output_type": "display_data",
          "data": {
            "text/plain": [
              "<Figure size 600x600 with 1 Axes>"
            ],
            "image/png": "[encoded data removed]"
          },
          "metadata": {}
        },
        {
          "output_type": "stream",
          "name": "stderr",
          "text": [
            "<ipython-input-197-ae860e7db253>:10: SettingWithCopyWarning: \n",
            "A value is trying to be set on a copy of a slice from a DataFrame.\n",
            "Try using .loc[row_indexer,col_indexer] = value instead\n",
            "\n",
            "See the caveats in the documentation: https://pandas.pydata.org/pandas-docs/stable/user_guide/indexing.html#returning-a-view-versus-a-copy\n",
            "  property_data[['Pressure', 'Liq_Sat']] = scaler.fit_transform(property_data[['Pressure', 'Liq_Sat']])\n"
          ]
        },
        {
          "output_type": "display_data",
          "data": {
            "text/plain": [
              "<Figure size 600x600 with 1 Axes>"
            ],
            "image/png": "[encoded data removed]"
          },
          "metadata": {}
        },
        {
          "output_type": "stream",
          "name": "stderr",
          "text": [
            "<ipython-input-197-ae860e7db253>:10: SettingWithCopyWarning: \n",
            "A value is trying to be set on a copy of a slice from a DataFrame.\n",
            "Try using .loc[row_indexer,col_indexer] = value instead\n",
            "\n",
            "See the caveats in the documentation: https://pandas.pydata.org/pandas-docs/stable/user_guide/indexing.html#returning-a-view-versus-a-copy\n",
            "  property_data[['Pressure', 'Liq_Sat']] = scaler.fit_transform(property_data[['Pressure', 'Liq_Sat']])\n"
          ]
        },
        {
          "output_type": "display_data",
          "data": {
            "text/plain": [
              "<Figure size 600x600 with 1 Axes>"
            ],
            "image/png": "[encoded data removed]"
          },
          "metadata": {}
        }
      ],
      "source": [
        "import pandas as pd\n",
        "import matplotlib.pyplot as plt\n",
        "from sklearn.preprocessing import MinMaxScaler\n",
        "\n",
        "df = pd.read_csv(\"/content/superheated_vapor_properties.csv\")\n",
        "\n",
        "def plot_scaled_scatter(data, property_name):               #scaling the values, as large difference in magnitude\n",
        "    property_data = data[data['Property'] == property_name]\n",
        "    scaler = MinMaxScaler()\n",
        "    property_data[['Pressure', 'Liq_Sat']] = scaler.fit_transform(property_data[['Pressure', 'Liq_Sat']])\n",
        "    plt.scatter(property_data['Pressure'], property_data['Liq_Sat'], label=property_name)\n",
        "\n",
        "#  V graph\n",
        "plt.figure(figsize=(6, 6))\n",
        "plot_scaled_scatter(df, 'V')\n",
        "plt.xlabel('Pressure (Scaled)')\n",
        "plt.ylabel('Liq_Sat (Scaled)')\n",
        "plt.title('Scatter Plot of Scaled Liq_Sat vs Scaled Pressure for V')\n",
        "plt.legend()\n",
        "plt.show()\n",
        "\n",
        "# U graph\n",
        "plt.figure(figsize=(6, 6))\n",
        "plot_scaled_scatter(df, 'U')\n",
        "plt.xlabel('Pressure (Scaled)')\n",
        "plt.ylabel('Liq_Sat (Scaled)')\n",
        "plt.title('Scatter Plot of Scaled Liq_Sat vs Scaled Pressure for U')\n",
        "plt.legend()\n",
        "plt.show()\n",
        "\n",
        "# H graph\n",
        "plt.figure(figsize=(6, 6))\n",
        "plot_scaled_scatter(df, 'H')\n",
        "plt.xlabel('Pressure (Scaled)')\n",
        "plt.ylabel('Liq_Sat (Scaled)')\n",
        "plt.title('Scatter Plot of Scaled Liq_Sat vs Scaled Pressure for H')\n",
        "plt.legend()\n",
        "plt.show()\n",
        "\n",
        "# S graph\n",
        "plt.figure(figsize=(6, 6))\n",
        "plot_scaled_scatter(df, 'S')\n",
        "plt.xlabel('Pressure (Scaled)')\n",
        "plt.ylabel('Liq_Sat (Scaled)')\n",
        "plt.title('Scatter Plot of Scaled Liq_Sat vs Scaled Pressure for S')\n",
        "plt.legend()\n",
        "plt.show()\n",
        "\n",
        "\n",
        "\n"
      ]
    },
    {
      "cell_type": "markdown",
      "metadata": {
        "id": "SCLRji6TeQgh"
      },
      "source": [
        "###Plot the specific volume of saturated liquid between 300 kPa and 1500 kPa"
      ]
    },
    {
      "cell_type": "code",
      "execution_count": 198,
      "metadata": {
        "id": "u6DyyI7MeYgE",
        "colab": {
          "base_uri": "https://localhost:8080/",
          "height": 564
        },
        "outputId": "bfe1fe31-7348-4e5d-da06-121e7c9d6bee"
      },
      "outputs": [
        {
          "output_type": "display_data",
          "data": {
            "text/plain": [
              "<Figure size 1000x600 with 1 Axes>"
            ],
            "image/png": "[encoded data removed]"
          },
          "metadata": {}
        }
      ],
      "source": [
        "import pandas as pd\n",
        "import matplotlib.pyplot as plt\n",
        "\n",
        "df = pd.read_csv(\"/content/superheated_vapor_properties.csv\")\n",
        "df2 = df.loc[df['Property'] == 'V']\n",
        "\n",
        "filtered_data = df2[(df2['Pressure'] >= 300) & (df2['Pressure'] <= 1500)]\n",
        "plt.figure(figsize=(10, 6))\n",
        "plt.scatter(filtered_data['Pressure'], filtered_data['Liq_Sat'], alpha=0.7, s=50)\n",
        "plt.xlabel('Pressure')\n",
        "plt.ylabel('Liq_Sat')\n",
        "plt.title('Scatter Plot of Liq_Sat vs Pressure')\n",
        "plt.grid(True)\n",
        "plt.show()\n"
      ]
    },
    {
      "cell_type": "markdown",
      "metadata": {
        "id": "6N_8T4KnfnOG"
      },
      "source": [
        "#Linear Regression\n",
        "You're given a 100 data points generated from the function\n",
        "$y=mx+c$. Some noise is added to the y values.\n",
        "\n",
        "**Task:** Estimate the values of m and c using linear regression. Write a suitable cost function and update the parameters."
      ]
    },
    {
      "cell_type": "code",
      "execution_count": 199,
      "metadata": {
        "id": "qK0CKt8WfuO9",
        "colab": {
          "base_uri": "https://localhost:8080/",
          "height": 447
        },
        "outputId": "2ebe9587-b417-486f-dca5-86d3a6775db1"
      },
      "outputs": [
        {
          "output_type": "execute_result",
          "data": {
            "text/plain": [
              "<matplotlib.collections.PathCollection at 0x78312dd159f0>"
            ]
          },
          "metadata": {},
          "execution_count": 199
        },
        {
          "output_type": "display_data",
          "data": {
            "text/plain": [
              "<Figure size 640x480 with 1 Axes>"
            ],
            "image/png": "[encoded data removed]"
          },
          "metadata": {}
        }
      ],
      "source": [
        " # Generation of data points\n",
        "import numpy as np\n",
        "import matplotlib.pyplot as plt\n",
        "\n",
        "x = np.random.rand(100)*100\n",
        "y = -4*x+15\n",
        "y = y+np.random.randn(100)*30\n",
        "plt.scatter(x,y)"
      ]
    },
    {
      "cell_type": "code",
      "execution_count": 202,
      "metadata": {
        "id": "0lyjPEfmiC-e"
      },
      "outputs": [],
      "source": [
        "# Initialising parameters m and c such that the best fit line is given by y = m*x+c\n",
        "\n",
        "def cost_function(y_pred, y_true):\n",
        "  return np.mean((y_pred-y_true)**2)\n",
        "\n",
        "class LinearRegression:\n",
        "    def __init__(self, learning_rate, epochs):\n",
        "        self.lr=learning_rate\n",
        "        self.epochs=epochs\n",
        "\n",
        "    def fit(self, X_train, y_train):\n",
        "        X_train=X_train.reshape(-1,1)\n",
        "        y_train=y_train.reshape(-1,1)\n",
        "        # init parameters\n",
        "        self.m = np.zeros((1,1))\n",
        "        self.c = np.zeros((1,1))\n",
        "\n",
        "        for i in range(self.epochs):\n",
        "            delta= -(y_train-np.dot(X_train,self.m)-self.c)/90\n",
        "            dw= np.dot(X_train.T,delta)\n",
        "            db= np.sum(delta).reshape(1,1)\n",
        "\n",
        "            self.m-= self.lr * dw\n",
        "            self.c-= self.lr* db\n",
        "\n",
        "    def predict(self, X_test):\n",
        "        X_test=X_test.reshape(-1,1)\n",
        "        y_predicted = np.dot(X_test,self.m)+self.c\n",
        "        print(self.m, self.c)\n",
        "        return y_predicted"
      ]
    },
    {
      "cell_type": "markdown",
      "metadata": {
        "id": "JPy839WUiOvz"
      },
      "source": [
        "Run the model"
      ]
    },
    {
      "cell_type": "code",
      "execution_count": 203,
      "metadata": {
        "id": "sf8s00SUiYhN",
        "colab": {
          "base_uri": "https://localhost:8080/",
          "height": 484
        },
        "outputId": "b225f344-36be-495f-c677-d55852f88a19"
      },
      "outputs": [
        {
          "output_type": "stream",
          "name": "stdout",
          "text": [
            "[[-3.81238028]] [[0.17215722]]\n",
            "22840.381271044203\n"
          ]
        },
        {
          "output_type": "display_data",
          "data": {
            "text/plain": [
              "<Figure size 640x480 with 1 Axes>"
            ],
            "image/png": "[encoded data removed]"
          },
          "metadata": {}
        }
      ],
      "source": [
        "from sklearn.model_selection import train_test_split\n",
        "# define number of iterations for minimising cost function\n",
        "# define the learning rate\n",
        "# run the model\n",
        "x_train, x_test, y_train, y_test = train_test_split(x, y, test_size=0.1)\n",
        "lr_model = LinearRegression(0.0001,2500)\n",
        "lr_model.fit(x_train, y_train)\n",
        "yp = lr_model.predict(x_test)\n",
        "print(cost_function(yp, y_test))\n",
        "\n",
        "\n",
        "plt.scatter(x_train, y_train, color='blue', label='Training Data')\n",
        "plt.scatter(x_test, y_test, color='yellow', label='Testing Data')\n",
        "plt.plot(x_test, yp, color='red', linewidth=2, label='Line of Best Fit')\n",
        "plt.xlabel('X')\n",
        "plt.ylabel('y')\n",
        "plt.legend()\n",
        "plt.show() #doubt"
      ]
    },
    {
      "cell_type": "code",
      "execution_count": 174,
      "metadata": {
        "id": "_g7W3mloilGn"
      },
      "outputs": [],
      "source": [
        "#value should be close to (-4,15)"
      ]
    }
  ],
  "metadata": {
    "colab": {
      "provenance": []
    },
    "kernelspec": {
      "display_name": "Python 3",
      "name": "python3"
    },
    "language_info": {
      "name": "python"
    }
  },
  "nbformat": 4,
  "nbformat_minor": 0
}