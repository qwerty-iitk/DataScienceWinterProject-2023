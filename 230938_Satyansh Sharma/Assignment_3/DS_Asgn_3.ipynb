{
  "nbformat": 4,
  "nbformat_minor": 0,
  "metadata": {
    "colab": {
      "provenance": []
    },
    "kernelspec": {
      "name": "python3",
      "display_name": "Python 3"
    },
    "language_info": {
      "name": "python"
    }
  },
  "cells": [
    {
      "cell_type": "code",
      "execution_count": null,
      "metadata": {
        "id": "IcjAqSaaZYNf"
      },
      "outputs": [],
      "source": [
        "import pandas as pd\n",
        "wine_data=pd.read_csv('/content/winequality-red.csv')"
      ]
    },
    {
      "cell_type": "code",
      "source": [
        "#wine quality threshold\n",
        "good_quality_threshold = 7\n",
        "\n",
        "#'quality' column\n",
        "wine_data['is_good_quality'] = (wine_data['quality'] >= good_quality_threshold).astype(int)\n",
        "\n",
        "#dropping the original 'quality' column\n",
        "wine_data.drop('quality', axis=1, inplace=True)"
      ],
      "metadata": {
        "id": "0plbM9Y1ZxQy"
      },
      "execution_count": null,
      "outputs": []
    },
    {
      "cell_type": "code",
      "source": [
        "#checking for missing values\n",
        "missing_values = wine_data.isnull().sum()"
      ],
      "metadata": {
        "id": "Sdl2ln9-Zye5"
      },
      "execution_count": null,
      "outputs": []
    },
    {
      "cell_type": "code",
      "source": [
        "#correlation matrix\n",
        "correlation_matrix = wine_data.corr()"
      ],
      "metadata": {
        "id": "knWBl4BbZzwe"
      },
      "execution_count": null,
      "outputs": []
    },
    {
      "cell_type": "code",
      "source": [
        "#using the IQR method to detect and remove outliers\n",
        "Q1 = wine_data.quantile(0.25)\n",
        "Q3 = wine_data.quantile(0.75)\n",
        "IQR = Q3 - Q1\n",
        "wine_data_filtered = wine_data[~((wine_data < (Q1 - 1.5 * IQR)) |(wine_data > (Q3 + 1.5 * IQR))).any(axis=1)]"
      ],
      "metadata": {
        "id": "RWMI6WVBZ1fY"
      },
      "execution_count": null,
      "outputs": []
    },
    {
      "cell_type": "code",
      "source": [
        "#Using Min-Max Scaling for normalization\n",
        "from sklearn.preprocessing import MinMaxScaler\n",
        "scaler = MinMaxScaler()\n",
        "wine_data_normalized = pd.DataFrame(scaler.fit_transform(wine_data_filtered), columns=wine_data_filtered.columns)"
      ],
      "metadata": {
        "id": "eHjrcIwNZ3ti"
      },
      "execution_count": null,
      "outputs": []
    },
    {
      "cell_type": "code",
      "source": [
        "#Results\n",
        "{\n",
        "    \"Missing Values\": missing_values,\n",
        "    \"Correlation Matrix\": correlation_matrix,\n",
        "    \"Number of Outliers Removed\": wine_data.shape[0] - wine_data_filtered.shape[0],\n",
        "    \"Normalized Data Sample\": wine_data_normalized.head()\n",
        "}"
      ],
      "metadata": {
        "colab": {
          "base_uri": "https://localhost:8080/"
        },
        "id": "AAiy1gfGZ5pJ",
        "outputId": "b9fc59b1-fadd-4fd1-c05b-cb239f24d41f"
      },
      "execution_count": null,
      "outputs": [
        {
          "output_type": "execute_result",
          "data": {
            "text/plain": [
              "{'Missing Values': fixed acidity           0\n",
              " volatile acidity        0\n",
              " citric acid             0\n",
              " residual sugar          0\n",
              " chlorides               0\n",
              " free sulfur dioxide     0\n",
              " total sulfur dioxide    0\n",
              " density                 0\n",
              " pH                      0\n",
              " sulphates               0\n",
              " alcohol                 0\n",
              " is_good_quality         0\n",
              " dtype: int64,\n",
              " 'Correlation Matrix':                       fixed acidity  volatile acidity  citric acid  \\\n",
              " fixed acidity              1.000000         -0.256131     0.671703   \n",
              " volatile acidity          -0.256131          1.000000    -0.552496   \n",
              " citric acid                0.671703         -0.552496     1.000000   \n",
              " residual sugar             0.114777          0.001918     0.143577   \n",
              " chlorides                  0.093705          0.061298     0.203823   \n",
              " free sulfur dioxide       -0.153794         -0.010504    -0.060978   \n",
              " total sulfur dioxide      -0.113181          0.076470     0.035533   \n",
              " density                    0.668047          0.022026     0.364947   \n",
              " pH                        -0.682978          0.234937    -0.541904   \n",
              " sulphates                  0.183006         -0.260987     0.312770   \n",
              " alcohol                   -0.061668         -0.202288     0.109903   \n",
              " is_good_quality            0.120061         -0.270712     0.214716   \n",
              " \n",
              "                       residual sugar  chlorides  free sulfur dioxide  \\\n",
              " fixed acidity               0.114777   0.093705            -0.153794   \n",
              " volatile acidity            0.001918   0.061298            -0.010504   \n",
              " citric acid                 0.143577   0.203823            -0.060978   \n",
              " residual sugar              1.000000   0.055610             0.187049   \n",
              " chlorides                   0.055610   1.000000             0.005562   \n",
              " free sulfur dioxide         0.187049   0.005562             1.000000   \n",
              " total sulfur dioxide        0.203028   0.047400             0.667666   \n",
              " density                     0.355283   0.200632            -0.021946   \n",
              " pH                         -0.085652  -0.265026             0.070377   \n",
              " sulphates                   0.005527   0.371260             0.051658   \n",
              " alcohol                     0.042075  -0.221141            -0.069408   \n",
              " is_good_quality             0.047779  -0.097308            -0.071747   \n",
              " \n",
              "                       total sulfur dioxide   density        pH  sulphates  \\\n",
              " fixed acidity                    -0.113181  0.668047 -0.682978   0.183006   \n",
              " volatile acidity                  0.076470  0.022026  0.234937  -0.260987   \n",
              " citric acid                       0.035533  0.364947 -0.541904   0.312770   \n",
              " residual sugar                    0.203028  0.355283 -0.085652   0.005527   \n",
              " chlorides                         0.047400  0.200632 -0.265026   0.371260   \n",
              " free sulfur dioxide               0.667666 -0.021946  0.070377   0.051658   \n",
              " total sulfur dioxide              1.000000  0.071269 -0.066495   0.042947   \n",
              " density                           0.071269  1.000000 -0.341699   0.148506   \n",
              " pH                               -0.066495 -0.341699  1.000000  -0.196648   \n",
              " sulphates                         0.042947  0.148506 -0.196648   1.000000   \n",
              " alcohol                          -0.205654 -0.496180  0.205633   0.093595   \n",
              " is_good_quality                  -0.139517 -0.150460 -0.057283   0.199485   \n",
              " \n",
              "                        alcohol  is_good_quality  \n",
              " fixed acidity        -0.061668         0.120061  \n",
              " volatile acidity     -0.202288        -0.270712  \n",
              " citric acid           0.109903         0.214716  \n",
              " residual sugar        0.042075         0.047779  \n",
              " chlorides            -0.221141        -0.097308  \n",
              " free sulfur dioxide  -0.069408        -0.071747  \n",
              " total sulfur dioxide -0.205654        -0.139517  \n",
              " density              -0.496180        -0.150460  \n",
              " pH                    0.205633        -0.057283  \n",
              " sulphates             0.093595         0.199485  \n",
              " alcohol               1.000000         0.407315  \n",
              " is_good_quality       0.407315         1.000000  ,\n",
              " 'Number of Outliers Removed': 552,\n",
              " 'Normalized Data Sample':    fixed acidity  volatile acidity  citric acid  residual sugar  chlorides  \\\n",
              " 0       0.309859          0.639053     0.000000        0.291667   0.448718   \n",
              " 1       0.366197          0.852071     0.000000        0.583333   0.730769   \n",
              " 2       0.366197          0.710059     0.054795        0.458333   0.653846   \n",
              " 3       0.845070          0.142012     0.767123        0.291667   0.435897   \n",
              " 4       0.309859          0.639053     0.000000        0.291667   0.448718   \n",
              " \n",
              "    free sulfur dioxide  total sulfur dioxide   density        pH  sulphates  \\\n",
              " 0             0.243902              0.241379  0.629630  0.770270   0.353846   \n",
              " 1             0.585366              0.525862  0.513889  0.351351   0.538462   \n",
              " 2             0.341463              0.413793  0.537037  0.432432   0.492308   \n",
              " 3             0.390244              0.465517  0.652778  0.297297   0.384615   \n",
              " 4             0.243902              0.241379  0.629630  0.770270   0.353846   \n",
              " \n",
              "     alcohol  is_good_quality  \n",
              " 0  0.152174              0.0  \n",
              " 1  0.239130              0.0  \n",
              " 2  0.239130              0.0  \n",
              " 3  0.239130              0.0  \n",
              " 4  0.152174              0.0  }"
            ]
          },
          "metadata": {},
          "execution_count": 7
        }
      ]
    },
    {
      "cell_type": "code",
      "source": [
        "from sklearn.model_selection import train_test_split\n",
        "from sklearn.tree import DecisionTreeClassifier\n",
        "from sklearn.ensemble import RandomForestClassifier\n",
        "from sklearn.metrics import accuracy_score, f1_score\n",
        "\n",
        "# train and test sets split\n",
        "X = wine_data_normalized.drop('is_good_quality', axis=1)\n",
        "y = wine_data_normalized['is_good_quality']\n",
        "X_train, X_test, y_train, y_test = train_test_split(X, y, test_size=0.2, random_state=42)"
      ],
      "metadata": {
        "id": "j_5dUoHcaPyA"
      },
      "execution_count": null,
      "outputs": []
    },
    {
      "cell_type": "code",
      "source": [
        "# Decision Trees Classifier\n",
        "dt_classifier = DecisionTreeClassifier(random_state=42)\n",
        "dt_classifier.fit(X_train, y_train)\n",
        "dt_predictions = dt_classifier.predict(X_test)"
      ],
      "metadata": {
        "id": "zSuKDjx0buVx"
      },
      "execution_count": null,
      "outputs": []
    },
    {
      "cell_type": "code",
      "source": [
        "# Random Forest Classifier\n",
        "rf_classifier = RandomForestClassifier(random_state=42)\n",
        "rf_classifier.fit(X_train, y_train)\n",
        "rf_predictions = rf_classifier.predict(X_test)"
      ],
      "metadata": {
        "id": "Gw5xT3-gbuHv"
      },
      "execution_count": null,
      "outputs": []
    },
    {
      "cell_type": "code",
      "source": [
        "# Evaluating\n",
        "dt_accuracy = accuracy_score(y_test, dt_predictions)\n",
        "dt_f1_score = f1_score(y_test, dt_predictions)\n",
        "\n",
        "rf_accuracy = accuracy_score(y_test, rf_predictions)\n",
        "rf_f1_score = f1_score(y_test, rf_predictions)\n",
        "\n",
        "{\n",
        "    \"Decision Tree Classifier\": {\"Accuracy\": dt_accuracy, \"F1 Score\": dt_f1_score},\n",
        "    \"Random Forest Classifier\": {\"Accuracy\": rf_accuracy, \"F1 Score\": rf_f1_score}\n",
        "}"
      ],
      "metadata": {
        "colab": {
          "base_uri": "https://localhost:8080/"
        },
        "id": "shcG2Earbt5I",
        "outputId": "11c12d45-3eda-4558-bdb6-594d60132fbf"
      },
      "execution_count": null,
      "outputs": [
        {
          "output_type": "stream",
          "name": "stderr",
          "text": [
            "/usr/local/lib/python3.10/dist-packages/sklearn/metrics/_classification.py:1609: UndefinedMetricWarning: F-score is ill-defined and being set to 0.0 due to no true nor predicted samples. Use `zero_division` parameter to control this behavior.\n",
            "  _warn_prf(average, \"true nor predicted\", \"F-score is\", len(true_sum))\n",
            "/usr/local/lib/python3.10/dist-packages/sklearn/metrics/_classification.py:1609: UndefinedMetricWarning: F-score is ill-defined and being set to 0.0 due to no true nor predicted samples. Use `zero_division` parameter to control this behavior.\n",
            "  _warn_prf(average, \"true nor predicted\", \"F-score is\", len(true_sum))\n"
          ]
        },
        {
          "output_type": "execute_result",
          "data": {
            "text/plain": [
              "{'Decision Tree Classifier': {'Accuracy': 1.0, 'F1 Score': 0.0},\n",
              " 'Random Forest Classifier': {'Accuracy': 1.0, 'F1 Score': 0.0}}"
            ]
          },
          "metadata": {},
          "execution_count": 18
        }
      ]
    }
  ]
}