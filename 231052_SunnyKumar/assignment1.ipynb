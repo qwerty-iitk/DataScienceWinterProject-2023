{
  "nbformat": 4,
  "nbformat_minor": 0,
  "metadata": {
    "colab": {
      "provenance": []
    },
    "kernelspec": {
      "name": "python3",
      "display_name": "Python 3"
    },
    "language_info": {
      "name": "python"
    }
  },
  "cells": [
    {
      "cell_type": "code",
      "execution_count": 1,
      "metadata": {
        "colab": {
          "base_uri": "https://localhost:8080/"
        },
        "id": "DvgbiqBgSs5J",
        "outputId": "338d2060-bfcd-4e4a-8cf7-55a697530666"
      },
      "outputs": [
        {
          "output_type": "stream",
          "name": "stdout",
          "text": [
            "Using loops\n",
            "[[74], [92]]\n",
            "Using numpy:  \n",
            "[[74]\n",
            " [92]]\n"
          ]
        }
      ],
      "source": [
        "import numpy as np\n",
        "import pandas as pd\n",
        "import matplotlib.pyplot as plt\n",
        "def is_valid(X,Y):\n",
        "  shape1= np.shape(X)\n",
        "  shape2= np.shape(Y)\n",
        "  if(shape1[1]==shape2[0]):\n",
        "    return True\n",
        "  else:\n",
        "    return False\n",
        "\n",
        "def matrix_multiply(X,Y):\n",
        "  a_rows= len(X)\n",
        "  b_rows= len(Y)\n",
        "  a_columns= len(X[0])\n",
        "  b_columns= len(Y[0])\n",
        "  product= [[0 for _ in range(b_columns)] for _ in range(a_rows)]\n",
        "\n",
        "  for i in range(a_rows):\n",
        "        for j in range(b_columns):\n",
        "            for k in range(a_columns):\n",
        "                product[i][j] += X[i][k] *Y[k][j]\n",
        "  return product\n",
        "\n",
        "def matrix_multiply2(A,B):\n",
        "  mat_A= np.matrix(A)\n",
        "  mat_B= np.matrix(B)\n",
        "  C= np.dot(A,B)\n",
        "  return C\n",
        "\n",
        "X= [[11,12,13],\n",
        "    [14,15,16]]\n",
        "Y= [[1],\n",
        "    [2],\n",
        "    [3]]\n",
        "if(is_valid(X,Y)):\n",
        "  print(\"Using loops\")\n",
        "  C= matrix_multiply(X,Y)\n",
        "  print(C)\n",
        "  print(\"Using numpy:  \" )\n",
        "  D= matrix_multiply2(X,Y)\n",
        "  print(D)\n",
        "\n",
        "else:\n",
        "  print(\"Matrix multiplication not valid\")"
      ]
    },
    {
      "cell_type": "code",
      "source": [],
      "metadata": {
        "id": "OAjhIma5SuNe"
      },
      "execution_count": null,
      "outputs": []
    },
    {
      "cell_type": "code",
      "source": [
        "import math\n",
        "def sigmoid(x):\n",
        "  li=[]\n",
        "  for i in range(len(x)):\n",
        "    li.append(math.pow(math.e, x[i])/(math.pow(math.e, x[i])+1))\n",
        "  return li\n",
        "\n",
        "def sigmoid_derivative(x):\n",
        "  li=[]\n",
        "  for i in range(len(x)):\n",
        "    li.append(math.pow(math.e, -1*x[i])/(1+math.pow(math.e, -x[i]))*(1+math.pow(math.e, -x[i])))\n",
        "  return li\n",
        "\n",
        "print(sigmoid_derivative([1,2,3,4,5,6]))"
      ],
      "metadata": {
        "colab": {
          "base_uri": "https://localhost:8080/"
        },
        "id": "MMtUQKmHSuwT",
        "outputId": "9ffdbf25-99b6-4543-8e11-fb8e14317d60"
      },
      "execution_count": 2,
      "outputs": [
        {
          "output_type": "stream",
          "name": "stdout",
          "text": [
            "[0.3678794411714423, 0.1353352832366127, 0.04978706836786395, 0.018315638888734186, 0.006737946999085469, 0.0024787521766663594]\n"
          ]
        }
      ]
    },
    {
      "cell_type": "code",
      "source": [
        "import numpy as np\n",
        "import pandas as pd\n",
        "import matplotlib.pyplot as plt\n",
        "import math\n",
        "\n",
        "def mean(lis):\n",
        "  sum=0\n",
        "  for i in lis:\n",
        "    sum= sum+i\n",
        "  return sum/len(lis)\n"
      ],
      "metadata": {
        "id": "PRkANkjwT2aB"
      },
      "execution_count": null,
      "outputs": []
    },
    {
      "cell_type": "code",
      "source": [
        "import numpy as np\n",
        "import pandas as pd\n",
        "import matplotlib.pyplot as plt\n",
        "import math\n",
        "def standard_deviation(lis):\n",
        "  avg = mean(lis)\n",
        "  square=0\n",
        "  for j in range(len(lis)):\n",
        "    square= square+ (lis[j]-avg)*(lis[j]-avg)\n",
        "  variance= square/len(lis)\n",
        "  return math.sqrt(variance)\n"
      ],
      "metadata": {
        "id": "dqEw-93gT4JL"
      },
      "execution_count": null,
      "outputs": []
    },
    {
      "cell_type": "code",
      "source": [
        "import matplotlib.pyplot as plt\n",
        "import numpy as np\n",
        "\n",
        "x = np.random.rand(100)*100\n",
        "y = -4*x+15\n",
        "y = y+np.random.randn(100)*30\n",
        "plt.scatter(x,y)\n",
        "\n",
        "m = 0\n",
        "c = 0\n",
        "l_r = 0.0001\n",
        "epochs = 1000\n",
        "\n",
        "for i in range(epochs):\n",
        "    y_pred = m * x + c\n",
        "\n",
        "    delm = (-2 / len(x)) * np.sum((y - y_pred) * x)\n",
        "    delc = (-2 / len(x)) * np.sum(y - y_pred)\n",
        "\n",
        "    m -= l_r * delm\n",
        "    c -= l_r * delc\n",
        "\n",
        "\n",
        "print(\"Estimated slope (m)\")\n",
        "print(m)\n",
        "print(\"Estimated intercept (c)\")\n",
        "print(c)\n",
        "plt.plot(x, m * x + c, color='green')\n",
        "plt.xlabel('X')\n",
        "plt.ylabel('Y')\n",
        "plt.title('Linear Regression Example')\n",
        "plt.show()"
      ],
      "metadata": {
        "colab": {
          "base_uri": "https://localhost:8080/",
          "height": 543
        },
        "id": "_uNKdSoaUqYl",
        "outputId": "47283985-ed0e-4ccc-909a-4b0c54bfd973"
      },
      "execution_count": 6,
      "outputs": [
        {
          "output_type": "stream",
          "name": "stdout",
          "text": [
            "Estimated slope (m)\n",
            "-3.840995616293234\n",
            "Estimated intercept (c)\n",
            "1.020458700941879\n"
          ]
        },
        {
          "output_type": "display_data",
          "data": {
            "text/plain": [
              "<Figure size 640x480 with 1 Axes>"
            ],
            "image/png": "[encoded data removed]"
          },
          "metadata": {}
        }
      ]
    },
    {
      "cell_type": "code",
      "source": [
        "import math\n",
        "def sigmoid(x):\n",
        "  lis=[]\n",
        "  for i in range(len(x)):\n",
        "    lis.append(math.pow(math.e, x[i])/(math.pow(math.e, x[i])+1))\n",
        "  return lis\n",
        "\n",
        "def sigmoid_derivative(x):\n",
        "  lis=[]\n",
        "  for i in range(len(x)):\n",
        "    lis.append(math.pow(math.e, -1*x[i])/(1+math.pow(math.e, -x[i]))*(1+math.pow(math.e, -x[i])))\n",
        "  return lis\n",
        "\n",
        "print(sigmoid_derivative([1,2,3,4,5,6]))"
      ],
      "metadata": {
        "colab": {
          "base_uri": "https://localhost:8080/"
        },
        "id": "ZmFqOgz6UtIP",
        "outputId": "79c593a1-88c0-4dc6-c938-fe1c61ae11b0"
      },
      "execution_count": 5,
      "outputs": [
        {
          "output_type": "stream",
          "name": "stdout",
          "text": [
            "[0.3678794411714423, 0.1353352832366127, 0.04978706836786395, 0.018315638888734186, 0.006737946999085469, 0.0024787521766663594]\n"
          ]
        }
      ]
    },
    {
      "cell_type": "code",
      "source": [
        "import numpy as np\n",
        "import pandas as pd\n",
        "import matplotlib.pyplot as plt\n",
        "import math\n",
        "df = pd.read_csv(\"superheated_vapor_properties.csv\")\n",
        "print(df.shape)\n",
        "lis= np.array([])\n",
        "dic={}\n",
        "for i in df:\n",
        "  lis.append(i)\n",
        "  null_count= df[i].isnull().sum()\n",
        "  dic[i]=null_count\n",
        "  print(\"No of null values: \", null_count)\n",
        "\n",
        "print(\"Names of columns are : \")\n",
        "print(lis)\n",
        "df[\"Enthalpy at 75 Kpa\"]= df[\"Enthalpy\"] + \"at\" + df[\"Pressure\"].astype(str)\n",
        "df[\"Entropy at 250Kpa\"]= df[\"Entropy\"] + \"at\" + df[\"Pressure\"].astype(str)\n",
        "idx1=df[df[\"Enthalpy at 75 Kpa\"]=='V at 10.0'].index\n",
        "df['75'].loc[idx1].item()\n",
        "idx2=df[df[\"Entropy at 250Kpa\"]==\"V at 10.0\"].index\n",
        "df[\"250\"].loc[idx2].item()"
      ],
      "metadata": {
        "id": "LNfURdeDVCOW"
      },
      "execution_count": null,
      "outputs": []
    },
    {
      "cell_type": "code",
      "source": [
        "def z_score(lis):\n",
        "  list1=[]\n",
        "  for i in range(len(lis)):\n",
        "    list1.append((lis[i]-mean(lis))/standard_deviation(lis))\n",
        "  return list1"
      ],
      "metadata": {
        "id": "APBMRSOuUDZd"
      },
      "execution_count": null,
      "outputs": []
    },
    {
      "cell_type": "code",
      "source": [
        "import numpy as np\n",
        "import pandas as pd\n",
        "import matplotlib.pyplot as plt\n",
        "import math\n",
        "\n",
        "def z_score2(lis):\n",
        "  avg= np.mean(lis)\n",
        "  st= np.std(lis)\n",
        "  z_scores = [(x - avg) / st for x in lis]\n",
        "  return z_scores\n",
        "\n",
        "\n",
        "def z_score(lis):\n",
        "  list1=[]\n",
        "  for i in range(len(lis)):\n",
        "    list1.append((lis[i]-mean(lis))/standard_deviation(lis))\n",
        "  return list1\n",
        "\n",
        "\n",
        "def mean(lis):\n",
        "  sum=0\n",
        "  for i in lis:\n",
        "    sum= sum+i\n",
        "  return sum/len(lis)\n",
        "\n",
        "def standard_deviation(lis):\n",
        "  avg = mean(lis)\n",
        "  square=0\n",
        "  for j in range(len(lis)):\n",
        "    square= square+ (lis[j]-avg)*(lis[j]-avg)\n",
        "  variance= square/len(lis)\n",
        "  return math.sqrt(variance)\n",
        "\n",
        "l= np.array([1,2,3,4,5])\n",
        "print(\"without Using numpy\")\n",
        "print(z_score(l))\n",
        "print(\"with using numpy\")\n",
        "print(z_score2(l))"
      ],
      "metadata": {
        "colab": {
          "base_uri": "https://localhost:8080/"
        },
        "id": "ww-qLu5eUKRu",
        "outputId": "07b5cfe7-456f-4f46-aebb-162c01c8bd87"
      },
      "execution_count": 4,
      "outputs": [
        {
          "output_type": "stream",
          "name": "stdout",
          "text": [
            "without Using numpy\n",
            "[-1.414213562373095, -0.7071067811865475, 0.0, 0.7071067811865475, 1.414213562373095]\n",
            "with using numpy\n",
            "[-1.414213562373095, -0.7071067811865475, 0.0, 0.7071067811865475, 1.414213562373095]\n"
          ]
        }
      ]
    }
  ]
}