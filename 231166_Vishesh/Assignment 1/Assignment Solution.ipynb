{
 "cells": [
  {
   "cell_type": "markdown",
   "metadata": {
    "id": "UOzd0zRXW5Uv"
   },
   "source": [
    "# Week-1 Assignment\n",
    "\n",
    "**Welcome to your first assignment for the SimuTech Winter Project 2022! I hope you are excited to implement and test everything you have learned up until now. There is an interesting set of questions for you to refine your acquired skills as you delve into hands-on coding and deepen your understanding of numpy, pandas, and data visualization libraries.**\n",
    "\n",
    "P.S. You might find use of functions which you have never used before.So feel free to google"
   ]
  },
  {
   "cell_type": "markdown",
   "metadata": {
    "id": "2XFUXyq9Y9TG"
   },
   "source": [
    "# Section0 : Importing Libraries"
   ]
  },
  {
   "cell_type": "markdown",
   "metadata": {
    "id": "D_bzcLusjSO0"
   },
   "source": [
    "*Let's begin by importing numpy, pandas and matplotlib.*"
   ]
  },
  {
   "cell_type": "code",
   "execution_count": 21,
   "metadata": {
    "id": "jdwX7bI7aGeY"
   },
   "outputs": [],
   "source": [
    "import numpy as np\n",
    "import pandas as pd\n",
    "import matplotlib.pyplot as plt"
   ]
  },
  {
   "cell_type": "markdown",
   "metadata": {
    "id": "LM25mz5ta-Q_"
   },
   "source": [
    "# Section1 : Playing with Python and Numpy"
   ]
  },
  {
   "cell_type": "markdown",
   "metadata": {
    "id": "TcFQVqhAdQw_"
   },
   "source": [
    "### Q1. Matrix Multiplication"
   ]
  },
  {
   "cell_type": "markdown",
   "metadata": {
    "id": "6Dcai9pys0j8"
   },
   "source": [
    "##### (i) Check if matrix multiplication is valid"
   ]
  },
  {
   "cell_type": "code",
   "execution_count": 22,
   "metadata": {
    "id": "0qC4txIss3gG"
   },
   "outputs": [],
   "source": [
    "def isValid(A, B):\n",
    "    return A.shape[1] == B.shape[0]\n",
    "\n",
    "      "
   ]
  },
  {
   "cell_type": "markdown",
   "metadata": {
    "id": "OPTfRGlTdXxa"
   },
   "source": [
    "##### (ii) Using loops (without using numpy)"
   ]
  },
  {
   "cell_type": "code",
   "execution_count": 23,
   "metadata": {
    "id": "V8F5ETsRct3S"
   },
   "outputs": [],
   "source": [
    "def matrix_multiply(A,B):\n",
    "    \n",
    "        return [[sum(a * b for a, b in zip(row_A, col_B)) for col_B in zip(*B)] for row_A in A]\n",
    "    \n",
    "result = matrix_multiply(A,B)\n",
    "    \n",
    "   "
   ]
  },
  {
   "cell_type": "markdown",
   "metadata": {
    "id": "umUgUTSWdos8"
   },
   "source": [
    "##### (iii) Using numpy"
   ]
  },
  {
   "cell_type": "code",
   "execution_count": 25,
   "metadata": {
    "id": "-tdXlCHrduBP"
   },
   "outputs": [],
   "source": [
    "def matrix_multiply_2(A,B):\n",
    "    return np.dot(A, B)\n",
    "\n",
    "result = matrix_multiply_2(A,B)\n",
    "\n"
   ]
  },
  {
   "cell_type": "markdown",
   "metadata": {
    "id": "2nMFnl84edJG"
   },
   "source": [
    "##### (iv) Testing your code\n",
    "\n",
    "Run the following cell to check if your functions are working properly.\n",
    "\n",
    "*Expected output:*\n",
    "[ [102 108 114]\n",
    " [246 261 276]\n",
    " [390 414 438]\n",
    " [534 567 600] ]"
   ]
  },
  {
   "cell_type": "code",
   "execution_count": 103,
   "metadata": {
    "id": "09rX_Cm9ezmq",
    "scrolled": true
   },
   "outputs": [
    {
     "name": "stdout",
     "output_type": "stream",
     "text": [
      "Result using loops: [[102, 108, 114], [246, 261, 276], [390, 414, 438], [534, 567, 600]]\n",
      "Result using numpy: [[102 108 114]\n",
      " [246 261 276]\n",
      " [390 414 438]\n",
      " [534 567 600]]\n"
     ]
    }
   ],
   "source": [
    "A = np.array([\n",
    "    [1, 2, 3],\n",
    "    [4, 5, 6],\n",
    "    [7, 8, 9],\n",
    "    [10, 11, 12]\n",
    "])\n",
    "\n",
    "B = np.array([\n",
    "    [13, 14, 15],\n",
    "    [16, 17, 18],\n",
    "    [19, 20, 21]\n",
    "])\n",
    "\n",
    "if isValid(A,B):\n",
    "  print(f\"Result using loops: {matrix_multiply(A,B)}\")\n",
    "  print(f\"Result using numpy: {matrix_multiply_2(A,B)}\")\n",
    "else:\n",
    "  print(f\"Matrix multiplication is not valid\")\n"
   ]
  },
  {
   "cell_type": "markdown",
   "metadata": {
    "id": "5hfP7Ao1fwqV"
   },
   "source": [
    "### Q2. Z-Score Normalisation"
   ]
  },
  {
   "cell_type": "markdown",
   "metadata": {
    "id": "0e81Xx5Kw_CQ"
   },
   "source": [
    "Z-score normalization refers to the process of normalizing every value in a dataset such that the mean of all of the values is 0 and the standard deviation is 1.\n",
    "\n",
    "We use the following formula to perform a z-score normalization on every value in a dataset:\n",
    "\n",
    "New value = (x – μ) / σ\n",
    "\n",
    "where:\n",
    "\n",
    "x: Original value\n",
    "\n",
    "μ: Mean of data\n",
    "\n",
    "σ: Standard deviation of data"
   ]
  },
  {
   "cell_type": "markdown",
   "metadata": {
    "id": "GP_MuyUbguSR"
   },
   "source": [
    "##### (i) Without using numpy"
   ]
  },
  {
   "cell_type": "code",
   "execution_count": 76,
   "metadata": {
    "id": "0vix8qaaghwP"
   },
   "outputs": [],
   "source": [
    "def mean(x):\n",
    "    mean = sum(data) / len(data)\n",
    "    "
   ]
  },
  {
   "cell_type": "code",
   "execution_count": 77,
   "metadata": {
    "id": "j1qabel-g_f5"
   },
   "outputs": [],
   "source": [
    "def std_dev(x):\n",
    "     std_dev = (sum((x - mean_value) ** 2 for x in data) / len(data)) ** 0.5"
   ]
  },
  {
   "cell_type": "code",
   "execution_count": 82,
   "metadata": {
    "id": "797ewbNqhEpY"
   },
   "outputs": [],
   "source": [
    "def z_score(data):\n",
    "    z_scores = [(x - mean) / std_dev for x in data]\n",
    "    return z_scores\n"
   ]
  },
  {
   "cell_type": "markdown",
   "metadata": {
    "id": "k8dq1wqRhbUB"
   },
   "source": [
    "##### (ii) Using numpy\n",
    "\n",
    "Numpy has in_built functions for calculating mean and standard deviation"
   ]
  },
  {
   "cell_type": "code",
   "execution_count": 88,
   "metadata": {
    "id": "WjxJTUDihsYg"
   },
   "outputs": [],
   "source": [
    "import numpy as np\n",
    "\n",
    "def z_score(data):\n",
    "    \n",
    "    mean_value = np.mean(data)\n",
    "    std_dev = np.std(data)\n",
    "    \n",
    "   \n",
    "    z_scores = [(x - mean_value) / std_dev for x in data]\n",
    "    \n",
    "    return z_scores\n",
    "\n"
   ]
  },
  {
   "cell_type": "markdown",
   "metadata": {
    "id": "glRqKU-_1pue"
   },
   "source": [
    "##### (iii) Testing your code"
   ]
  },
  {
   "cell_type": "markdown",
   "metadata": {
    "id": "Kl7XBymOigCU"
   },
   "source": [
    "Run the following cell to check if your functions are working properly.\n",
    "\n",
    "*Expected Output:* [-1.06753267 -0.99745394 -0.99745394 -0.81057732 -0.41346451 -0.06307086\n",
    "  0.31068237  0.91803138  1.22170588  1.89913361]"
   ]
  },
  {
   "cell_type": "code",
   "execution_count": 104,
   "metadata": {
    "id": "78ptZxf6ipZp"
   },
   "outputs": [
    {
     "name": "stdout",
     "output_type": "stream",
     "text": [
      "Result using loops:[-1.0675326683028088, -0.9974539373420117, -0.9974539373420117, -0.8105773214465528, -0.41346451266870277, -0.06307085786471743, 0.3106823739262003, 0.9180313755864415, 1.2217058764165623, 1.8991336090376005]\n",
      "Result using numpy:[-1.0675326683028088, -0.9974539373420117, -0.9974539373420117, -0.8105773214465528, -0.41346451266870277, -0.06307085786471743, 0.3106823739262003, 0.9180313755864415, 1.2217058764165623, 1.8991336090376005]\n"
     ]
    }
   ],
   "source": [
    "data = [4, 7, 7, 15, 32, 47, 63, 89, 102, 131]\n",
    "print(f\"Result using loops:{z_score(data)}\")\n",
    "print(f\"Result using numpy:{z_score(data)}\")\n"
   ]
  },
  {
   "cell_type": "markdown",
   "metadata": {
    "id": "0WVscJ0z14rp"
   },
   "source": [
    "### Q3. Sigmoid fn and its derivative"
   ]
  },
  {
   "cell_type": "markdown",
   "metadata": {
    "id": "Jfntb0Rg94Tu"
   },
   "source": [
    "The sigmoid function is a mathematical function that maps any input value to a value between 0 and 1.\n",
    "\n",
    "It is defined mathematically as s(x) = 1/(1+e^(-x))."
   ]
  },
  {
   "cell_type": "markdown",
   "metadata": {
    "id": "8SCAPkjO2m7u"
   },
   "source": [
    "##### (i) Write a fn to implement sigmoid fn"
   ]
  },
  {
   "cell_type": "code",
   "execution_count": 34,
   "metadata": {
    "id": "jL_TRQFG2l5m"
   },
   "outputs": [],
   "source": [
    "import numpy as np\n",
    "def sigmoidfn(x):\n",
    "\n",
    "    return 1 / (1 + np.exp(-x))"
   ]
  },
  {
   "cell_type": "markdown",
   "metadata": {
    "id": "t7KBbl7N3AUM"
   },
   "source": [
    "##### (ii) Write a fn to implement derivative of sigmoid fn"
   ]
  },
  {
   "cell_type": "code",
   "execution_count": 35,
   "metadata": {
    "id": "okjuOpba3KOJ"
   },
   "outputs": [],
   "source": [
    "import numpy as np\n",
    "def derivative(x):\n",
    "    return -np.exp(-x) / (1 + np.exp(-x))**2"
   ]
  },
  {
   "cell_type": "markdown",
   "metadata": {
    "id": "NdGTSpsp3mwr"
   },
   "source": [
    "##### (iii) Test your code"
   ]
  },
  {
   "cell_type": "markdown",
   "metadata": {
    "id": "lWY8RBex7gnd"
   },
   "source": [
    "Run the following cell to check if your functions are working properly.\n",
    "\n",
    "*Expected output:*\n",
    "\n",
    "x on applying sigmoid activation fn is: [ [0.99987661 0.88079708 0.99330715 0.5        0.5       ]\n",
    " [0.99908895 0.99330715 0.5        0.5        0.5       ] ]\n",
    "\n",
    "x on applying derivative of sigmoid activation fn is: [ [-1.23379350e-04 -1.04993585e-01 -6.64805667e-03 -2.50000000e-01\n",
    "  -2.50000000e-01]\n",
    " [-9.10221180e-04 -6.64805667e-03 -2.50000000e-01 -2.50000000e-01\n",
    "  -2.50000000e-01] ]"
   ]
  },
  {
   "cell_type": "code",
   "execution_count": 105,
   "metadata": {
    "id": "ssDGpmS33vdA"
   },
   "outputs": [
    {
     "name": "stdout",
     "output_type": "stream",
     "text": [
      "x on applying sigmoid activation fn is: [[0.99987661 0.88079708 0.99330715 0.5        0.5       ]\n",
      " [0.99908895 0.99330715 0.5        0.5        0.5       ]]\n",
      "x on applying derivative of sigmoid activation fn is: [[-1.23379350e-04 -1.04993585e-01 -6.64805667e-03 -2.50000000e-01\n",
      "  -2.50000000e-01]\n",
      " [-9.10221180e-04 -6.64805667e-03 -2.50000000e-01 -2.50000000e-01\n",
      "  -2.50000000e-01]]\n"
     ]
    }
   ],
   "source": [
    "\n",
    "x = np.array([\n",
    "    [9,2,5,0,0],\n",
    "    [7,5,0,0,0]\n",
    "])\n",
    "print(f\"x on applying sigmoid activation fn is: {sigmoidfn(x)}\")\n",
    "print(f\"x on applying derivative of sigmoid activation fn is: {derivative(x)}\")"
   ]
  },
  {
   "cell_type": "markdown",
   "metadata": {
    "id": "PMa0cseyZpa1"
   },
   "source": [
    "# Section 2: Playing with Pandas"
   ]
  },
  {
   "cell_type": "markdown",
   "metadata": {
    "id": "i5Okb_jxZ_VW"
   },
   "source": [
    "###Read the csv file\n"
   ]
  },
  {
   "cell_type": "code",
   "execution_count": 3,
   "metadata": {
    "id": "aQgvyavrcM1l"
   },
   "outputs": [
    {
     "name": "stdout",
     "output_type": "stream",
     "text": [
      "     Pressure Property    Liq_Sat      Vap_Sat           75          100  \\\n",
      "0         1.0        V     1.0000  129200.0000  160640.0000  172180.0000   \n",
      "1         1.0        U    29.3340    2385.2000    2480.8000    2516.4000   \n",
      "2         1.0        H    29.3350    2514.4000    2641.5000    2688.6000   \n",
      "3         1.0        S     0.1060       8.9767       9.3828       9.5136   \n",
      "4        10.0        V     1.0100   14670.0000   16030.0000   17190.0000   \n",
      "..        ...      ...        ...          ...          ...          ...   \n",
      "539   11200.0        S     3.4440       5.5476          NaN          NaN   \n",
      "540   11400.0        V     1.5040      15.2840          NaN          NaN   \n",
      "541   11400.0        U  1450.0000    2527.2000          NaN          NaN   \n",
      "542   11400.0        H  1467.2000    2701.5000          NaN          NaN   \n",
      "543   11400.0        S     3.4575       5.5357          NaN          NaN   \n",
      "\n",
      "             125          150          175          200  ...        425  \\\n",
      "0    183720.0000  195270.0000  206810.0000  218350.0000  ...        NaN   \n",
      "1      2552.3000    2588.5000    2624.9000    2661.7000  ...        NaN   \n",
      "2      2736.0000    2783.7000    2831.7000    2880.1000  ...        NaN   \n",
      "3         9.6365       9.7527       9.8629       9.9679  ...        NaN   \n",
      "4     18350.0000   19510.0000   20660.0000   21820.0000  ...        NaN   \n",
      "..           ...          ...          ...          ...  ...        ...   \n",
      "539          NaN          NaN          NaN          NaN  ...     6.2491   \n",
      "540          NaN          NaN          NaN          NaN  ...    24.1040   \n",
      "541          NaN          NaN          NaN          NaN  ...  2873.1000   \n",
      "542          NaN          NaN          NaN          NaN  ...  3147.9000   \n",
      "543          NaN          NaN          NaN          NaN  ...     6.2367   \n",
      "\n",
      "             450        475          500        525          550        575  \\\n",
      "0    333730.0000        NaN  356810.0000        NaN  379880.0000        NaN   \n",
      "1      3049.9000        NaN    3132.4000        NaN    3216.7000        NaN   \n",
      "2      3383.6000        NaN    3489.2000        NaN    3596.5000        NaN   \n",
      "3        10.8200        NaN      10.9612        NaN      11.0957        NaN   \n",
      "4     33370.0000        NaN   35670.0000        NaN   37980.0000        NaN   \n",
      "..           ...        ...          ...        ...          ...        ...   \n",
      "539       6.3515     6.4452       6.5324     6.6147       6.6929     6.7679   \n",
      "540      25.5990    27.0100      28.3590    29.6610      30.9250    32.1600   \n",
      "541    2929.4000  2982.6000    3033.9000  3083.9000    3133.1000  3181.9000   \n",
      "542    3221.2000  3290.5000    3357.2000  3422.1000    3485.7000  3548.5000   \n",
      "543       6.3399     6.4341       6.5218     6.6043       6.6828     6.7580   \n",
      "\n",
      "             600        625          650  \n",
      "0    402960.0000        NaN  426040.0000  \n",
      "1      3302.6000        NaN    3390.3000  \n",
      "2      3705.6000        NaN    3816.4000  \n",
      "3        11.2243        NaN      11.3476  \n",
      "4     40290.0000        NaN   42600.0000  \n",
      "..           ...        ...          ...  \n",
      "539       6.8401     6.9099       6.9777  \n",
      "540      33.3700    34.5600      35.7330  \n",
      "541    3230.4000  3278.8000    3327.2000  \n",
      "542    3610.8000  3672.8000    3734.6000  \n",
      "543       6.8304     6.9004       6.9683  \n",
      "\n",
      "[544 rows x 37 columns]\n"
     ]
    }
   ],
   "source": [
    "import pandas as pd\n",
    "\n",
    "df = pd.read_csv('superheated_vapor_properties.csv')\n",
    "\n",
    "print(df) "
   ]
  },
  {
   "cell_type": "markdown",
   "metadata": {
    "id": "Zp8F3rk2cNxy"
   },
   "source": [
    "###Display the shape of data frame\n"
   ]
  },
  {
   "cell_type": "code",
   "execution_count": 4,
   "metadata": {
    "id": "v3Q8kQkucgK0"
   },
   "outputs": [
    {
     "name": "stdout",
     "output_type": "stream",
     "text": [
      "(544, 37)\n"
     ]
    }
   ],
   "source": [
    "print(df.shape)"
   ]
  },
  {
   "cell_type": "markdown",
   "metadata": {
    "id": "w49cp-8zcgd2"
   },
   "source": [
    "###Return an array containing names of all the columns"
   ]
  },
  {
   "cell_type": "code",
   "execution_count": 5,
   "metadata": {
    "id": "fz4HRb3JcsZp"
   },
   "outputs": [
    {
     "name": "stdout",
     "output_type": "stream",
     "text": [
      "['Pressure', 'Property', 'Liq_Sat', 'Vap_Sat', '75', '100', '125', '150', '175', '200', '220', '225', '240', '250', '260', '275', '280', '290', '300', '320', '325', '340', '350', '360', '375', '380', '400', '425', '450', '475', '500', '525', '550', '575', '600', '625', '650']\n"
     ]
    }
   ],
   "source": [
    "column_names = df.columns  \n",
    "\n",
    "print(list(column_names))"
   ]
  },
  {
   "cell_type": "markdown",
   "metadata": {
    "id": "YkTH9tRWcrH-"
   },
   "source": [
    "###Display the number of null values in each column of the dataframe``\n",
    "\n"
   ]
  },
  {
   "cell_type": "code",
   "execution_count": 6,
   "metadata": {
    "id": "GK9-PJPxc3Ot"
   },
   "outputs": [
    {
     "name": "stdout",
     "output_type": "stream",
     "text": [
      "{'Pressure': 0, 'Property': 0, 'Liq_Sat': 0, 'Vap_Sat': 0, '75': 528, '100': 508, '125': 488, '150': 448, '175': 384, '200': 320, '220': 408, '225': 400, '240': 408, '250': 344, '260': 384, '275': 340, '280': 380, '290': 488, '300': 60, '320': 480, '325': 136, '340': 476, '350': 68, '360': 476, '375': 204, '380': 476, '400': 0, '425': 204, '450': 0, '475': 204, '500': 0, '525': 272, '550': 0, '575': 340, '600': 0, '625': 476, '650': 0}\n"
     ]
    }
   ],
   "source": [
    "null_counts = {}\n",
    "for col in df.columns:\n",
    "    null_counts[col] = sum(df[col].isna())\n",
    "\n",
    "print(null_counts)"
   ]
  },
  {
   "cell_type": "markdown",
   "metadata": {
    "id": "Av-lcft2c3mx"
   },
   "source": [
    "###Create a column which contains the Pressure and Property columns, seperated with 'at' (For eg. V at 1, H at 101.325). Using this print the following:\n",
    "- Enthalpy at 75 kPa and 573 K\n",
    "- Entropy at 493 K and 250 kPa\n",
    "\n"
   ]
  },
  {
   "cell_type": "code",
   "execution_count": 20,
   "metadata": {
    "id": "B2AihQj_c32C"
   },
   "outputs": [
    {
     "name": "stdout",
     "output_type": "stream",
     "text": [
      "Result 1: 3075.1\n",
      "Result 2: 7.4001\n"
     ]
    }
   ],
   "source": [
    "df['Property at Pressure']=df['Property'] + \" at \" +df['Pressure'].astype(str)\n",
    "idx1 = df[df['Property at Pressure'] == 'H at 75.0'].index\n",
    "result1 = df['300'].loc[idx1].item()\n",
    "\n",
    "idx2 = df[df['Property at Pressure'] == 'S at 250.0'].index\n",
    "result2 = df['200'].loc[idx2].item()\n",
    "\n",
    "print(\"Result 1:\", result1)\n",
    "print(\"Result 2:\", result2)\n"
   ]
  },
  {
   "cell_type": "markdown",
   "metadata": {
    "id": "GpLtXYRLc4Ho"
   },
   "source": [
    "###Find out the column with the highest number of missing values"
   ]
  },
  {
   "cell_type": "code",
   "execution_count": 42,
   "metadata": {
    "id": "q80Grgeyc4Xn"
   },
   "outputs": [
    {
     "name": "stdout",
     "output_type": "stream",
     "text": [
      "Column with most missing values: col1\n"
     ]
    }
   ],
   "source": [
    "import pandas as pd\n",
    "\n",
    "data = {'col1': [1, None, 3], 'col2': ['a', 'b', None], 'col3': [None, 5, 6]}\n",
    "df = pd.DataFrame(data)\n",
    "\n",
    "column_with_most_missings = df.isnull().sum().idxmax()\n",
    "\n",
    "print(f\"Column with most missing values: {column_with_most_missings}\")"
   ]
  },
  {
   "cell_type": "markdown",
   "metadata": {
    "id": "74NVHTTac4nv"
   },
   "source": [
    "###What is the average enthalpy of Sat. Liq. at all different pressures in the dataset ?"
   ]
  },
  {
   "cell_type": "code",
   "execution_count": 47,
   "metadata": {
    "id": "g3mByhBDdpVr",
    "scrolled": true
   },
   "outputs": [
    {
     "name": "stdout",
     "output_type": "stream",
     "text": [
      "936.9707720588235\n"
     ]
    }
   ],
   "source": [
    "print((df['Liq_Sat'].iloc[2::4]).mean())\n"
   ]
  },
  {
   "cell_type": "markdown",
   "metadata": {
    "id": "uS-SuqU8dpxg"
   },
   "source": [
    "###Separate out the V,U,H,S data from the dataset into V_data, U_data, H_data, S_data"
   ]
  },
  {
   "cell_type": "code",
   "execution_count": 48,
   "metadata": {
    "id": "Sg3V9Toyd1Av"
   },
   "outputs": [
    {
     "name": "stdout",
     "output_type": "stream",
     "text": [
      "0      V\n",
      "4      V\n",
      "8      V\n",
      "12     V\n",
      "16     V\n",
      "      ..\n",
      "524    V\n",
      "528    V\n",
      "532    V\n",
      "536    V\n",
      "540    V\n",
      "Name: Property, Length: 136, dtype: object\n",
      "1      U\n",
      "5      U\n",
      "9      U\n",
      "13     U\n",
      "17     U\n",
      "      ..\n",
      "525    U\n",
      "529    U\n",
      "533    U\n",
      "537    U\n",
      "541    U\n",
      "Name: Property, Length: 136, dtype: object\n",
      "2      H\n",
      "6      H\n",
      "10     H\n",
      "14     H\n",
      "18     H\n",
      "      ..\n",
      "526    H\n",
      "530    H\n",
      "534    H\n",
      "538    H\n",
      "542    H\n",
      "Name: Property, Length: 136, dtype: object\n",
      "3      S\n",
      "7      S\n",
      "11     S\n",
      "15     S\n",
      "19     S\n",
      "      ..\n",
      "527    S\n",
      "531    S\n",
      "535    S\n",
      "539    S\n",
      "543    S\n",
      "Name: Property, Length: 136, dtype: object\n"
     ]
    }
   ],
   "source": [
    "V_data = df['Property'].iloc[0::4]\n",
    "U_data = df['Property'].iloc[1::4]\n",
    "H_data = df['Property'].iloc[2::4]\n",
    "S_data = df['Property'].iloc[3::4]\n",
    "print(V_data)\n",
    "print(U_data)\n",
    "print(H_data)\n",
    "print(S_data)"
   ]
  },
  {
   "cell_type": "markdown",
   "metadata": {
    "id": "Ghkj0-0-d1W7"
   },
   "source": [
    "#Section 3: PLotting the PLOTS"
   ]
  },
  {
   "cell_type": "markdown",
   "metadata": {
    "id": "ka0qrDcZeAL6"
   },
   "source": [
    "###Plot the properties (specific volume, specific internal energy, specific enthalpy, specific entropy) vs Pressure for saturated liquid.\n",
    "\n",
    "Note:\n",
    "- Try using the subplot feature of matplotlib(Explore it!!)\n",
    "- Provide appropriate title, labels, markersize and other parameters to the plot"
   ]
  },
  {
   "cell_type": "code",
   "execution_count": 49,
   "metadata": {
    "id": "XbKdm-cUePKA"
   },
   "outputs": [
    {
     "data": {
      "image/png": "[encoded data removed]",
      "text/plain": [
       "<Figure size 640x480 with 1 Axes>"
      ]
     },
     "metadata": {},
     "output_type": "display_data"
    },
    {
     "data": {
      "image/png": "[encoded data removed]",
      "text/plain": [
       "<Figure size 640x480 with 1 Axes>"
      ]
     },
     "metadata": {},
     "output_type": "display_data"
    },
    {
     "data": {
      "image/png": "[encoded data removed]",
      "text/plain": [
       "<Figure size 640x480 with 1 Axes>"
      ]
     },
     "metadata": {},
     "output_type": "display_data"
    },
    {
     "data": {
      "image/png": "[encoded data removed]",
      "text/plain": [
       "<Figure size 640x480 with 1 Axes>"
      ]
     },
     "metadata": {},
     "output_type": "display_data"
    }
   ],
   "source": [
    "import numpy as np\n",
    "import matplotlib.pyplot as plt\n",
    "P1 = df['Pressure'].iloc[0::4]\n",
    "Specific_volume = df['Liq_Sat'].iloc[0::4]\n",
    "specific_internal_energy = df['Liq_Sat'].iloc[1::4]\n",
    "specific_enthalpy = df['Liq_Sat'].iloc[2::4]\n",
    "specific_entropy = df['Liq_Sat'].iloc[3::4]\n",
    "plt.subplot(4,1,1)\n",
    "plt.plot(Specific_volume , P1)\n",
    "plt.xlabel('Specific Volume')\n",
    "plt.ylabel('Pressure')\n",
    "plt.title('Specific Volume vs Pressure')\n",
    "plt.legend(['Specific Volume', 'Pressure'])\n",
    "plt.show()\n",
    "plt.subplot(4,1,2)\n",
    "plt.plot(specific_internal_energy  , P1)\n",
    "plt.xlabel('Specic Internal Enrgy')\n",
    "plt.ylabel('Pressure')\n",
    "plt.title('Specific Internal Energy vs Pressure')\n",
    "plt.legend(['Specific Internal Energy', 'Pressure'])\n",
    "plt.show()\n",
    "plt.subplot(4,1,3)\n",
    "plt.plot( specific_enthalpy, P1)\n",
    "plt.xlabel('Specific Enthalpy')\n",
    "plt.ylabel('Pressure')\n",
    "plt.title('Specific Enthalpy vs Pressure')\n",
    "plt.legend(['Specific Enthalpy', 'Pressure'])\n",
    "plt.show()\n",
    "plt.subplot(4,1,4)\n",
    "plt.plot( specific_entropy, P1)\n",
    "plt.xlabel('Specific Entropy')\n",
    "plt.ylabel('Pressure')\n",
    "plt.title('Specific Entropy vs Pressure')\n",
    "plt.legend(['Specific Entropy', 'Pressure'])\n",
    "plt.show()"
   ]
  },
  {
   "cell_type": "markdown",
   "metadata": {
    "id": "SCLRji6TeQgh"
   },
   "source": [
    "###Plot the specific volume of saturated liquid between 300 kPa and 1500 kPa"
   ]
  },
  {
   "cell_type": "code",
   "execution_count": 50,
   "metadata": {
    "id": "u6DyyI7MeYgE"
   },
   "outputs": [
    {
     "data": {
      "image/png": "[encoded data removed]",
      "text/plain": [
       "<Figure size 640x480 with 1 Axes>"
      ]
     },
     "metadata": {},
     "output_type": "display_data"
    }
   ],
   "source": [
    "saturated_liquid_data = df[df['Pressure'] >= 300]\n",
    "saturated_liquid_data = saturated_liquid_data[saturated_liquid_data['Pressure'] <= 1500]\n",
    "\n",
    "specific_volume_values = saturated_liquid_data[saturated_liquid_data['Property'] == 'V']['Liq_Sat']\n",
    "\n",
    "pressure_values = saturated_liquid_data[saturated_liquid_data['Property'] == 'V']['Pressure'].unique()\n",
    "\n",
    "plt.plot(pressure_values, specific_volume_values, marker='o', color='b')\n",
    "plt.xlabel('Pressure (kPa)')\n",
    "plt.ylabel('Specific Volume of Saturated Liquid ')\n",
    "plt.title('Specific Volume of Saturated Liquid vs. Pressure')\n",
    "plt.show()"
   ]
  },
  {
   "cell_type": "markdown",
   "metadata": {
    "id": "6N_8T4KnfnOG"
   },
   "source": [
    "#Linear Regression\n",
    "You're given a 100 data points generated from the function\n",
    "$y=mx+c$. Some noise is added to the y values.\n",
    "\n",
    "**Task:** Estimate the values of m and c using linear regression. Write a suitable cost function and update the parameters."
   ]
  },
  {
   "cell_type": "code",
   "execution_count": 100,
   "metadata": {
    "id": "qK0CKt8WfuO9"
   },
   "outputs": [
    {
     "data": {
      "text/plain": [
       "<matplotlib.collections.PathCollection at 0x14ed6ee10>"
      ]
     },
     "execution_count": 100,
     "metadata": {},
     "output_type": "execute_result"
    },
    {
     "data": {
      "image/png": "[encoded data removed]",
      "text/plain": [
       "<Figure size 640x480 with 1 Axes>"
      ]
     },
     "metadata": {},
     "output_type": "display_data"
    }
   ],
   "source": [
    "import matplotlib.pyplot as plt\n",
    "x = np.random.rand(100)*100\n",
    "y = -4*x+15\n",
    "y = y+np.random.randn(100)*30\n",
    "plt.scatter(x, y)"
   ]
  },
  {
   "cell_type": "code",
   "execution_count": 101,
   "metadata": {
    "id": "0lyjPEfmiC-e"
   },
   "outputs": [
    {
     "data": {
      "image/png": "[encoded data removed]",
      "text/plain": [
       "<Figure size 640x480 with 1 Axes>"
      ]
     },
     "metadata": {},
     "output_type": "display_data"
    }
   ],
   "source": [
    "\n",
    "plt.scatter(x, y)\n",
    "\n",
    "m = 0\n",
    "c = 0\n",
    "learning_rate = 0.0001\n",
    "iterations = 100000\n",
    "\n",
    "\n",
    "def compute_cost(x, y, m, c):\n",
    "    predictions = m * x + c\n",
    "    cost = np.mean((predictions - y) ** 2)\n",
    "    return cost\n",
    "\n",
    "\n",
    "def gradient_descent(x, y, m, c, learning_rate, iterations):\n",
    "    for _ in range(iterations):\n",
    "        predictions = m * x + c\n",
    "        dm = (2/len(x)) * np.sum((predictions - y) * x)\n",
    "        dc = (2/len(x)) * np.sum(predictions - y)\n",
    "        m = m - learning_rate * dm\n",
    "        c = c - learning_rate * dc\n",
    "    return m, c\n",
    "\n",
    "\n",
    "m, c = gradient_descent(x, y, m, c, learning_rate, iterations)\n",
    "y_pred = m * x + c\n",
    "plt.plot(x, y_pred, color='red', label='Best Fit Line')\n",
    "\n",
    "\n",
    "plt.legend()\n",
    "plt.show()"
   ]
  },
  {
   "cell_type": "markdown",
   "metadata": {
    "id": "JPy839WUiOvz"
   },
   "source": [
    "Run the model"
   ]
  },
  {
   "cell_type": "code",
   "execution_count": 102,
   "metadata": {
    "id": "sf8s00SUiYhN"
   },
   "outputs": [
    {
     "name": "stdout",
     "output_type": "stream",
     "text": [
      "-4.018225587555518 17.463863744785474\n"
     ]
    }
   ],
   "source": [
    "print(m,c)"
   ]
  }
 ],
 "metadata": {
  "colab": {
   "provenance": []
  },
  "kernelspec": {
   "display_name": "Python 3 (ipykernel)",
   "language": "python",
   "name": "python3"
  },
  "language_info": {
   "codemirror_mode": {
    "name": "ipython",
    "version": 3
   },
   "file_extension": ".py",
   "mimetype": "text/x-python",
   "name": "python",
   "nbconvert_exporter": "python",
   "pygments_lexer": "ipython3",
   "version": "3.11.7"
  }
 },
 "nbformat": 4,
 "nbformat_minor": 1
}
