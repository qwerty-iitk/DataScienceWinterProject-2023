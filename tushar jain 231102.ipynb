{
 "cells": [
  {
   "cell_type": "markdown",
   "metadata": {
    "id": "UOzd0zRXW5Uv"
   },
   "source": [
    "# Week-1 Assignment\n",
    "\n",
    "**Welcome to your first assignment for the SimuTech Winter Project 2022! I hope you are excited to implement and test everything you have learned up until now. There is an interesting set of questions for you to refine your acquired skills as you delve into hands-on coding and deepen your understanding of numpy, pandas, and data visualization libraries.**\n",
    "\n",
    "P.S. You might find use of functions which you have never used before.So feel free to google"
   ]
  },
  {
   "cell_type": "code",
   "execution_count": 1,
   "metadata": {
    "colab": {
     "base_uri": "https://localhost:8080/"
    },
    "executionInfo": {
     "elapsed": 23112,
     "status": "ok",
     "timestamp": 1702816887706,
     "user": {
      "displayName": "tushar jain",
      "userId": "13827744001264222929"
     },
     "user_tz": -330
    },
    "id": "quOk2Txvgp9V",
    "outputId": "0b3f0661-796b-4da5-c9fa-5f7d91e54205"
   },
   "outputs": [
    {
     "name": "stdout",
     "output_type": "stream",
     "text": [
      "Mounted at /content/drive\n"
     ]
    }
   ],
   "source": [
    "from google.colab import drive\n",
    "drive.mount('/content/drive')"
   ]
  },
  {
   "cell_type": "markdown",
   "metadata": {
    "id": "2XFUXyq9Y9TG"
   },
   "source": [
    "# Section0 : Importing Libraries"
   ]
  },
  {
   "cell_type": "markdown",
   "metadata": {
    "id": "D_bzcLusjSO0"
   },
   "source": [
    "*Let's begin by importing numpy, pandas and matplotlib.*"
   ]
  },
  {
   "cell_type": "code",
   "execution_count": 1,
   "metadata": {
    "executionInfo": {
     "elapsed": 471,
     "status": "ok",
     "timestamp": 1702829421809,
     "user": {
      "displayName": "tushar jain",
      "userId": "13827744001264222929"
     },
     "user_tz": -330
    },
    "id": "jdwX7bI7aGeY"
   },
   "outputs": [],
   "source": [
    "#your code here\n",
    "import numpy as np\n",
    "import pandas as pd\n",
    "import matplotlib.pyplot as plt"
   ]
  },
  {
   "cell_type": "markdown",
   "metadata": {
    "id": "LM25mz5ta-Q_"
   },
   "source": [
    "# Section1 : Playing with Python and Numpy"
   ]
  },
  {
   "cell_type": "markdown",
   "metadata": {
    "id": "TcFQVqhAdQw_"
   },
   "source": [
    "### Q1. Matrix Multiplication"
   ]
  },
  {
   "cell_type": "markdown",
   "metadata": {
    "id": "6Dcai9pys0j8"
   },
   "source": [
    "##### (i) Check if matrix multiplication is valid"
   ]
  },
  {
   "cell_type": "code",
   "execution_count": 16,
   "metadata": {
    "id": "0qC4txIss3gG"
   },
   "outputs": [],
   "source": [
    "def isValid(A,B):\n",
    "    m1=list(A)\n",
    "    m2=list(B)\n",
    "    if len(m1[0])==len(m2):\n",
    "        return True\n",
    "    else:\n",
    "        return False"
   ]
  },
  {
   "cell_type": "markdown",
   "metadata": {
    "id": "OPTfRGlTdXxa"
   },
   "source": [
    "##### (ii) Using loops (without using numpy)"
   ]
  },
  {
   "cell_type": "code",
   "execution_count": 19,
   "metadata": {
    "id": "V8F5ETsRct3S"
   },
   "outputs": [],
   "source": [
    "def matrix_multiply(A,B):\n",
    "    m1=list(A)\n",
    "    m2=list(B)\n",
    "    m=[[0 for _ in range(len(m2[0]))] for _ in range(len(m1))]\n",
    "    for i in range(len(m1)):\n",
    "        for j in range(len(m2[0])):\n",
    "            for k in range (len(m2)):\n",
    "                m[i][j]+=(m1[i][k]*m2[k][j])\n",
    "    return m"
   ]
  },
  {
   "cell_type": "markdown",
   "metadata": {
    "id": "umUgUTSWdos8"
   },
   "source": [
    "##### (iii) Using numpy"
   ]
  },
  {
   "cell_type": "code",
   "execution_count": 20,
   "metadata": {
    "id": "-tdXlCHrduBP"
   },
   "outputs": [],
   "source": [
    "def matrix_multiply_2(A,B):\n",
    "    m_=np.dot(m1,m2)\n",
    "    return m_\n",
    "\n"
   ]
  },
  {
   "cell_type": "markdown",
   "metadata": {
    "id": "2nMFnl84edJG"
   },
   "source": [
    "##### (iv) Testing your code\n",
    "\n",
    "Run the following cell to check if your functions are working properly.\n",
    "\n",
    "*Expected output:*\n",
    "[ [102 108 114]\n",
    " [246 261 276]\n",
    " [390 414 438]\n",
    " [534 567 600] ]"
   ]
  },
  {
   "cell_type": "code",
   "execution_count": 21,
   "metadata": {
    "id": "09rX_Cm9ezmq"
   },
   "outputs": [
    {
     "name": "stdout",
     "output_type": "stream",
     "text": [
      "Result using loops: [[102, 108, 114], [246, 261, 276], [390, 414, 438], [534, 567, 600]]\n"
     ]
    },
    {
     "ename": "NameError",
     "evalue": "name 'm1' is not defined",
     "output_type": "error",
     "traceback": [
      "\u001b[1;31m---------------------------------------------------------------------------\u001b[0m",
      "\u001b[1;31mNameError\u001b[0m                                 Traceback (most recent call last)",
      "Cell \u001b[1;32mIn[21], line 16\u001b[0m\n\u001b[0;32m     14\u001b[0m \u001b[38;5;28;01mif\u001b[39;00m isValid(A,B):\n\u001b[0;32m     15\u001b[0m   \u001b[38;5;28mprint\u001b[39m(\u001b[38;5;124mf\u001b[39m\u001b[38;5;124m\"\u001b[39m\u001b[38;5;124mResult using loops: \u001b[39m\u001b[38;5;132;01m{\u001b[39;00mmatrix_multiply(A,B)\u001b[38;5;132;01m}\u001b[39;00m\u001b[38;5;124m\"\u001b[39m)\n\u001b[1;32m---> 16\u001b[0m   \u001b[38;5;28mprint\u001b[39m(\u001b[38;5;124mf\u001b[39m\u001b[38;5;124m\"\u001b[39m\u001b[38;5;124mResult using numpy: \u001b[39m\u001b[38;5;132;01m{\u001b[39;00mmatrix_multiply_2(A,B)\u001b[38;5;132;01m}\u001b[39;00m\u001b[38;5;124m\"\u001b[39m)\n\u001b[0;32m     17\u001b[0m \u001b[38;5;28;01melse\u001b[39;00m:\n\u001b[0;32m     18\u001b[0m   \u001b[38;5;28mprint\u001b[39m(\u001b[38;5;124mf\u001b[39m\u001b[38;5;124m\"\u001b[39m\u001b[38;5;124mMatrix multiplication is not valid\u001b[39m\u001b[38;5;124m\"\u001b[39m)\n",
      "Cell \u001b[1;32mIn[20], line 2\u001b[0m, in \u001b[0;36mmatrix_multiply_2\u001b[1;34m(A, B)\u001b[0m\n\u001b[0;32m      1\u001b[0m \u001b[38;5;28;01mdef\u001b[39;00m \u001b[38;5;21mmatrix_multiply_2\u001b[39m(A,B):\n\u001b[1;32m----> 2\u001b[0m     m_\u001b[38;5;241m=\u001b[39mnp\u001b[38;5;241m.\u001b[39mdot(m1,m2)\n\u001b[0;32m      3\u001b[0m     \u001b[38;5;28;01mreturn\u001b[39;00m m_\n",
      "\u001b[1;31mNameError\u001b[0m: name 'm1' is not defined"
     ]
    }
   ],
   "source": [
    "A = np.array([\n",
    "    [1, 2, 3],\n",
    "    [4, 5, 6],\n",
    "    [7, 8, 9],\n",
    "    [10, 11, 12]\n",
    "])\n",
    "\n",
    "B = np.array([\n",
    "    [13, 14, 15],\n",
    "    [16, 17, 18],\n",
    "    [19, 20, 21]\n",
    "])\n",
    "\n",
    "if isValid(A,B):\n",
    "  print(f\"Result using loops: {matrix_multiply(A,B)}\")\n",
    "  print(f\"Result using numpy: {matrix_multiply_2(A,B)}\")\n",
    "else:\n",
    "  print(f\"Matrix multiplication is not valid\")"
   ]
  },
  {
   "cell_type": "markdown",
   "metadata": {
    "id": "5hfP7Ao1fwqV"
   },
   "source": [
    "### Q2. Z-Score Normalisation"
   ]
  },
  {
   "cell_type": "markdown",
   "metadata": {
    "id": "0e81Xx5Kw_CQ"
   },
   "source": [
    "Z-score normalization refers to the process of normalizing every value in a dataset such that the mean of all of the values is 0 and the standard deviation is 1.\n",
    "\n",
    "We use the following formula to perform a z-score normalization on every value in a dataset:\n",
    "\n",
    "New value = (x – μ) / σ\n",
    "\n",
    "where:\n",
    "\n",
    "x: Original value\n",
    "\n",
    "μ: Mean of data\n",
    "\n",
    "σ: Standard deviation of data"
   ]
  },
  {
   "cell_type": "markdown",
   "metadata": {
    "id": "GP_MuyUbguSR"
   },
   "source": [
    "##### (i) Without using numpy"
   ]
  },
  {
   "cell_type": "code",
   "execution_count": 64,
   "metadata": {
    "executionInfo": {
     "elapsed": 435,
     "status": "ok",
     "timestamp": 1702833473059,
     "user": {
      "displayName": "tushar jain",
      "userId": "13827744001264222929"
     },
     "user_tz": -330
    },
    "id": "0vix8qaaghwP"
   },
   "outputs": [],
   "source": [
    "x = [4, 7, 7, 15, 32, 47, 63, 89, 102, 131]\n",
    "def mean(x):\n",
    "  n=len(x)\n",
    "  sum_ = sum(x)\n",
    "  mean=sum_/n\n",
    "  return mean"
   ]
  },
  {
   "cell_type": "code",
   "execution_count": 65,
   "metadata": {
    "executionInfo": {
     "elapsed": 2,
     "status": "ok",
     "timestamp": 1702833474649,
     "user": {
      "displayName": "tushar jain",
      "userId": "13827744001264222929"
     },
     "user_tz": -330
    },
    "id": "j1qabel-g_f5"
   },
   "outputs": [],
   "source": [
    "x = [4, 7, 7, 15, 32, 47, 63, 89, 102, 131]\n",
    "def standard_deviation(x):\n",
    "  import math\n",
    "  variance= sum(pow(xi-mean(x),2) for xi in x)/len(x)\n",
    "  std=math.sqrt(variance)\n",
    "  return std"
   ]
  },
  {
   "cell_type": "code",
   "execution_count": 66,
   "metadata": {
    "executionInfo": {
     "elapsed": 3,
     "status": "ok",
     "timestamp": 1702833478579,
     "user": {
      "displayName": "tushar jain",
      "userId": "13827744001264222929"
     },
     "user_tz": -330
    },
    "id": "797ewbNqhEpY"
   },
   "outputs": [],
   "source": [
    "x = [4, 7, 7, 15, 32, 47, 63, 89, 102, 131]\n",
    "def zscore_normalisation(x):\n",
    "  s=[]\n",
    "  for xi in x:\n",
    "    new_value= (xi-mean(x))/standard_deviation(x)\n",
    "    s.append(new_value)\n",
    "  return s"
   ]
  },
  {
   "cell_type": "markdown",
   "metadata": {
    "id": "k8dq1wqRhbUB"
   },
   "source": [
    "##### (ii) Using numpy\n",
    "\n",
    "Numpy has in_built functions for calculating mean and standard deviation"
   ]
  },
  {
   "cell_type": "code",
   "execution_count": 67,
   "metadata": {
    "executionInfo": {
     "elapsed": 497,
     "status": "ok",
     "timestamp": 1702833483887,
     "user": {
      "displayName": "tushar jain",
      "userId": "13827744001264222929"
     },
     "user_tz": -330
    },
    "id": "WjxJTUDihsYg"
   },
   "outputs": [],
   "source": [
    "x = [4, 7, 7, 15, 32, 47, 63, 89, 102, 131]\n",
    "def zscore_normalisation_2(x):\n",
    "  g=[]\n",
    "  a=np.mean(x)\n",
    "  b=np.std(x)\n",
    "  for xi in x:\n",
    "    n_value=(xi-a)/b\n",
    "    g.append(n_value)\n",
    "  return g"
   ]
  },
  {
   "cell_type": "markdown",
   "metadata": {
    "id": "glRqKU-_1pue"
   },
   "source": [
    "##### (iii) Testing your code"
   ]
  },
  {
   "cell_type": "markdown",
   "metadata": {
    "id": "Kl7XBymOigCU"
   },
   "source": [
    "Run the following cell to check if your functions are working properly.\n",
    "\n",
    "*Expected Output:* [-1.06753267 -0.99745394 -0.99745394 -0.81057732 -0.41346451 -0.06307086\n",
    "  0.31068237  0.91803138  1.22170588  1.89913361]"
   ]
  },
  {
   "cell_type": "code",
   "execution_count": 68,
   "metadata": {
    "colab": {
     "base_uri": "https://localhost:8080/"
    },
    "executionInfo": {
     "elapsed": 633,
     "status": "ok",
     "timestamp": 1702833488417,
     "user": {
      "displayName": "tushar jain",
      "userId": "13827744001264222929"
     },
     "user_tz": -330
    },
    "id": "78ptZxf6ipZp",
    "outputId": "e6f5bf4e-db39-4450-811d-01a05dc0bb00"
   },
   "outputs": [
    {
     "name": "stdout",
     "output_type": "stream",
     "text": [
      "Result without using numpy: [-1.0675326683028088, -0.9974539373420117, -0.9974539373420117, -0.8105773214465528, -0.41346451266870277, -0.06307085786471743, 0.3106823739262003, 0.9180313755864415, 1.2217058764165623, 1.8991336090376005]\n",
      "Result using numpy: [-1.0675326683028088, -0.9974539373420117, -0.9974539373420117, -0.8105773214465528, -0.41346451266870277, -0.06307085786471743, 0.3106823739262003, 0.9180313755864415, 1.2217058764165623, 1.8991336090376005]\n"
     ]
    }
   ],
   "source": [
    "x = [4, 7, 7, 15, 32, 47, 63, 89, 102, 131]\n",
    "print(f\"Result without using numpy: {zscore_normalisation(x)}\")\n",
    "print(f\"Result using numpy: {zscore_normalisation_2(x)}\")"
   ]
  },
  {
   "cell_type": "markdown",
   "metadata": {
    "id": "0WVscJ0z14rp"
   },
   "source": [
    "### Q3. Sigmoid fn and its derivative"
   ]
  },
  {
   "cell_type": "markdown",
   "metadata": {
    "id": "Jfntb0Rg94Tu"
   },
   "source": [
    "The sigmoid function is a mathematical function that maps any input value to a value between 0 and 1.\n",
    "\n",
    "It is defined mathematically as s(x) = 1/(1+e^(-x))."
   ]
  },
  {
   "cell_type": "markdown",
   "metadata": {
    "id": "8SCAPkjO2m7u"
   },
   "source": [
    "##### (i) Write a fn to implement sigmoid fn"
   ]
  },
  {
   "cell_type": "code",
   "execution_count": 69,
   "metadata": {
    "colab": {
     "base_uri": "https://localhost:8080/"
    },
    "executionInfo": {
     "elapsed": 444,
     "status": "ok",
     "timestamp": 1702834946155,
     "user": {
      "displayName": "tushar jain",
      "userId": "13827744001264222929"
     },
     "user_tz": -330
    },
    "id": "jL_TRQFG2l5m",
    "outputId": "5b286007-b31b-48a2-b2f5-b112434f704e"
   },
   "outputs": [
    {
     "name": "stdout",
     "output_type": "stream",
     "text": [
      "[array([[0.99987661, 0.88079708, 0.99330715, 0.5       , 0.5       ],\n",
      "       [0.99908895, 0.99330715, 0.5       , 0.5       , 0.5       ]])]\n"
     ]
    }
   ],
   "source": [
    "x = np.array([\n",
    "    [9,2,5,0,0],\n",
    "    [7,5,0,0,0]\n",
    "    ])\n",
    "def sigmoidfn(x):\n",
    "  a=[]\n",
    "  sigmoid=1/(1+np.exp(-x))\n",
    "  a.append(sigmoid)\n",
    "  return a\n",
    "print(sigmoidfn(x))\n"
   ]
  },
  {
   "cell_type": "markdown",
   "metadata": {
    "id": "t7KBbl7N3AUM"
   },
   "source": [
    "##### (ii) Write a fn to implement derivative of sigmoid fn"
   ]
  },
  {
   "cell_type": "code",
   "execution_count": null,
   "metadata": {
    "id": "okjuOpba3KOJ"
   },
   "outputs": [],
   "source": [
    "def derivative(x):\n"
   ]
  },
  {
   "cell_type": "markdown",
   "metadata": {
    "id": "NdGTSpsp3mwr"
   },
   "source": [
    "##### (iii) Test your code"
   ]
  },
  {
   "cell_type": "markdown",
   "metadata": {
    "id": "lWY8RBex7gnd"
   },
   "source": [
    "Run the following cell to check if your functions are working properly.\n",
    "\n",
    "*Expected output:*\n",
    "\n",
    "x on applying sigmoid activation fn is: [ [0.99987661 0.88079708 0.99330715 0.5        0.5       ]\n",
    " [0.99908895 0.99330715 0.5        0.5        0.5       ] ]\n",
    "\n",
    "x on applying derivative of sigmoid activation fn is: [ [-1.23379350e-04 -1.04993585e-01 -6.64805667e-03 -2.50000000e-01\n",
    "  -2.50000000e-01]\n",
    " [-9.10221180e-04 -6.64805667e-03 -2.50000000e-01 -2.50000000e-01\n",
    "  -2.50000000e-01] ]"
   ]
  },
  {
   "cell_type": "code",
   "execution_count": null,
   "metadata": {
    "id": "ssDGpmS33vdA"
   },
   "outputs": [],
   "source": [
    "x = np.array([\n",
    "    [9,2,5,0,0],\n",
    "    [7,5,0,0,0]\n",
    "])\n",
    "print(f\"x on applying sigmoid activation fn is: {sigmoidfn(x)}\")\n",
    "print(f\"x on applying derivative of sigmoid activation fn is: {derivative(x)}\")"
   ]
  },
  {
   "cell_type": "markdown",
   "metadata": {
    "id": "PMa0cseyZpa1"
   },
   "source": [
    "# Section 2: Playing with Pandas"
   ]
  },
  {
   "cell_type": "markdown",
   "metadata": {
    "id": "i5Okb_jxZ_VW"
   },
   "source": [
    "###Read the csv file\n"
   ]
  },
  {
   "cell_type": "code",
   "execution_count": 6,
   "metadata": {
    "colab": {
     "base_uri": "https://localhost:8080/",
     "height": 321
    },
    "executionInfo": {
     "elapsed": 628,
     "status": "error",
     "timestamp": 1702837233167,
     "user": {
      "displayName": "tushar jain",
      "userId": "13827744001264222929"
     },
     "user_tz": -330
    },
    "id": "aQgvyavrcM1l",
    "outputId": "6346375c-adb8-4f8d-f0ec-908131338368"
   },
   "outputs": [
    {
     "data": {
      "text/html": [
       "<div>\n",
       "<style scoped>\n",
       "    .dataframe tbody tr th:only-of-type {\n",
       "        vertical-align: middle;\n",
       "    }\n",
       "\n",
       "    .dataframe tbody tr th {\n",
       "        vertical-align: top;\n",
       "    }\n",
       "\n",
       "    .dataframe thead th {\n",
       "        text-align: right;\n",
       "    }\n",
       "</style>\n",
       "<table border=\"1\" class=\"dataframe\">\n",
       "  <thead>\n",
       "    <tr style=\"text-align: right;\">\n",
       "      <th></th>\n",
       "      <th>Pressure</th>\n",
       "      <th>Property</th>\n",
       "      <th>Liq_Sat</th>\n",
       "      <th>Vap_Sat</th>\n",
       "      <th>75</th>\n",
       "      <th>100</th>\n",
       "      <th>125</th>\n",
       "      <th>150</th>\n",
       "      <th>175</th>\n",
       "      <th>200</th>\n",
       "      <th>...</th>\n",
       "      <th>425</th>\n",
       "      <th>450</th>\n",
       "      <th>475</th>\n",
       "      <th>500</th>\n",
       "      <th>525</th>\n",
       "      <th>550</th>\n",
       "      <th>575</th>\n",
       "      <th>600</th>\n",
       "      <th>625</th>\n",
       "      <th>650</th>\n",
       "    </tr>\n",
       "  </thead>\n",
       "  <tbody>\n",
       "    <tr>\n",
       "      <th>0</th>\n",
       "      <td>1.0</td>\n",
       "      <td>V</td>\n",
       "      <td>1.0000</td>\n",
       "      <td>129200.0000</td>\n",
       "      <td>160640.0000</td>\n",
       "      <td>172180.0000</td>\n",
       "      <td>183720.0000</td>\n",
       "      <td>195270.0000</td>\n",
       "      <td>206810.0000</td>\n",
       "      <td>218350.0000</td>\n",
       "      <td>...</td>\n",
       "      <td>NaN</td>\n",
       "      <td>333730.0000</td>\n",
       "      <td>NaN</td>\n",
       "      <td>356810.0000</td>\n",
       "      <td>NaN</td>\n",
       "      <td>379880.0000</td>\n",
       "      <td>NaN</td>\n",
       "      <td>402960.0000</td>\n",
       "      <td>NaN</td>\n",
       "      <td>426040.0000</td>\n",
       "    </tr>\n",
       "    <tr>\n",
       "      <th>1</th>\n",
       "      <td>1.0</td>\n",
       "      <td>U</td>\n",
       "      <td>29.3340</td>\n",
       "      <td>2385.2000</td>\n",
       "      <td>2480.8000</td>\n",
       "      <td>2516.4000</td>\n",
       "      <td>2552.3000</td>\n",
       "      <td>2588.5000</td>\n",
       "      <td>2624.9000</td>\n",
       "      <td>2661.7000</td>\n",
       "      <td>...</td>\n",
       "      <td>NaN</td>\n",
       "      <td>3049.9000</td>\n",
       "      <td>NaN</td>\n",
       "      <td>3132.4000</td>\n",
       "      <td>NaN</td>\n",
       "      <td>3216.7000</td>\n",
       "      <td>NaN</td>\n",
       "      <td>3302.6000</td>\n",
       "      <td>NaN</td>\n",
       "      <td>3390.3000</td>\n",
       "    </tr>\n",
       "    <tr>\n",
       "      <th>2</th>\n",
       "      <td>1.0</td>\n",
       "      <td>H</td>\n",
       "      <td>29.3350</td>\n",
       "      <td>2514.4000</td>\n",
       "      <td>2641.5000</td>\n",
       "      <td>2688.6000</td>\n",
       "      <td>2736.0000</td>\n",
       "      <td>2783.7000</td>\n",
       "      <td>2831.7000</td>\n",
       "      <td>2880.1000</td>\n",
       "      <td>...</td>\n",
       "      <td>NaN</td>\n",
       "      <td>3383.6000</td>\n",
       "      <td>NaN</td>\n",
       "      <td>3489.2000</td>\n",
       "      <td>NaN</td>\n",
       "      <td>3596.5000</td>\n",
       "      <td>NaN</td>\n",
       "      <td>3705.6000</td>\n",
       "      <td>NaN</td>\n",
       "      <td>3816.4000</td>\n",
       "    </tr>\n",
       "    <tr>\n",
       "      <th>3</th>\n",
       "      <td>1.0</td>\n",
       "      <td>S</td>\n",
       "      <td>0.1060</td>\n",
       "      <td>8.9767</td>\n",
       "      <td>9.3828</td>\n",
       "      <td>9.5136</td>\n",
       "      <td>9.6365</td>\n",
       "      <td>9.7527</td>\n",
       "      <td>9.8629</td>\n",
       "      <td>9.9679</td>\n",
       "      <td>...</td>\n",
       "      <td>NaN</td>\n",
       "      <td>10.8200</td>\n",
       "      <td>NaN</td>\n",
       "      <td>10.9612</td>\n",
       "      <td>NaN</td>\n",
       "      <td>11.0957</td>\n",
       "      <td>NaN</td>\n",
       "      <td>11.2243</td>\n",
       "      <td>NaN</td>\n",
       "      <td>11.3476</td>\n",
       "    </tr>\n",
       "    <tr>\n",
       "      <th>4</th>\n",
       "      <td>10.0</td>\n",
       "      <td>V</td>\n",
       "      <td>1.0100</td>\n",
       "      <td>14670.0000</td>\n",
       "      <td>16030.0000</td>\n",
       "      <td>17190.0000</td>\n",
       "      <td>18350.0000</td>\n",
       "      <td>19510.0000</td>\n",
       "      <td>20660.0000</td>\n",
       "      <td>21820.0000</td>\n",
       "      <td>...</td>\n",
       "      <td>NaN</td>\n",
       "      <td>33370.0000</td>\n",
       "      <td>NaN</td>\n",
       "      <td>35670.0000</td>\n",
       "      <td>NaN</td>\n",
       "      <td>37980.0000</td>\n",
       "      <td>NaN</td>\n",
       "      <td>40290.0000</td>\n",
       "      <td>NaN</td>\n",
       "      <td>42600.0000</td>\n",
       "    </tr>\n",
       "    <tr>\n",
       "      <th>...</th>\n",
       "      <td>...</td>\n",
       "      <td>...</td>\n",
       "      <td>...</td>\n",
       "      <td>...</td>\n",
       "      <td>...</td>\n",
       "      <td>...</td>\n",
       "      <td>...</td>\n",
       "      <td>...</td>\n",
       "      <td>...</td>\n",
       "      <td>...</td>\n",
       "      <td>...</td>\n",
       "      <td>...</td>\n",
       "      <td>...</td>\n",
       "      <td>...</td>\n",
       "      <td>...</td>\n",
       "      <td>...</td>\n",
       "      <td>...</td>\n",
       "      <td>...</td>\n",
       "      <td>...</td>\n",
       "      <td>...</td>\n",
       "      <td>...</td>\n",
       "    </tr>\n",
       "    <tr>\n",
       "      <th>539</th>\n",
       "      <td>11200.0</td>\n",
       "      <td>S</td>\n",
       "      <td>3.4440</td>\n",
       "      <td>5.5476</td>\n",
       "      <td>NaN</td>\n",
       "      <td>NaN</td>\n",
       "      <td>NaN</td>\n",
       "      <td>NaN</td>\n",
       "      <td>NaN</td>\n",
       "      <td>NaN</td>\n",
       "      <td>...</td>\n",
       "      <td>6.2491</td>\n",
       "      <td>6.3515</td>\n",
       "      <td>6.4452</td>\n",
       "      <td>6.5324</td>\n",
       "      <td>6.6147</td>\n",
       "      <td>6.6929</td>\n",
       "      <td>6.7679</td>\n",
       "      <td>6.8401</td>\n",
       "      <td>6.9099</td>\n",
       "      <td>6.9777</td>\n",
       "    </tr>\n",
       "    <tr>\n",
       "      <th>540</th>\n",
       "      <td>11400.0</td>\n",
       "      <td>V</td>\n",
       "      <td>1.5040</td>\n",
       "      <td>15.2840</td>\n",
       "      <td>NaN</td>\n",
       "      <td>NaN</td>\n",
       "      <td>NaN</td>\n",
       "      <td>NaN</td>\n",
       "      <td>NaN</td>\n",
       "      <td>NaN</td>\n",
       "      <td>...</td>\n",
       "      <td>24.1040</td>\n",
       "      <td>25.5990</td>\n",
       "      <td>27.0100</td>\n",
       "      <td>28.3590</td>\n",
       "      <td>29.6610</td>\n",
       "      <td>30.9250</td>\n",
       "      <td>32.1600</td>\n",
       "      <td>33.3700</td>\n",
       "      <td>34.5600</td>\n",
       "      <td>35.7330</td>\n",
       "    </tr>\n",
       "    <tr>\n",
       "      <th>541</th>\n",
       "      <td>11400.0</td>\n",
       "      <td>U</td>\n",
       "      <td>1450.0000</td>\n",
       "      <td>2527.2000</td>\n",
       "      <td>NaN</td>\n",
       "      <td>NaN</td>\n",
       "      <td>NaN</td>\n",
       "      <td>NaN</td>\n",
       "      <td>NaN</td>\n",
       "      <td>NaN</td>\n",
       "      <td>...</td>\n",
       "      <td>2873.1000</td>\n",
       "      <td>2929.4000</td>\n",
       "      <td>2982.6000</td>\n",
       "      <td>3033.9000</td>\n",
       "      <td>3083.9000</td>\n",
       "      <td>3133.1000</td>\n",
       "      <td>3181.9000</td>\n",
       "      <td>3230.4000</td>\n",
       "      <td>3278.8000</td>\n",
       "      <td>3327.2000</td>\n",
       "    </tr>\n",
       "    <tr>\n",
       "      <th>542</th>\n",
       "      <td>11400.0</td>\n",
       "      <td>H</td>\n",
       "      <td>1467.2000</td>\n",
       "      <td>2701.5000</td>\n",
       "      <td>NaN</td>\n",
       "      <td>NaN</td>\n",
       "      <td>NaN</td>\n",
       "      <td>NaN</td>\n",
       "      <td>NaN</td>\n",
       "      <td>NaN</td>\n",
       "      <td>...</td>\n",
       "      <td>3147.9000</td>\n",
       "      <td>3221.2000</td>\n",
       "      <td>3290.5000</td>\n",
       "      <td>3357.2000</td>\n",
       "      <td>3422.1000</td>\n",
       "      <td>3485.7000</td>\n",
       "      <td>3548.5000</td>\n",
       "      <td>3610.8000</td>\n",
       "      <td>3672.8000</td>\n",
       "      <td>3734.6000</td>\n",
       "    </tr>\n",
       "    <tr>\n",
       "      <th>543</th>\n",
       "      <td>11400.0</td>\n",
       "      <td>S</td>\n",
       "      <td>3.4575</td>\n",
       "      <td>5.5357</td>\n",
       "      <td>NaN</td>\n",
       "      <td>NaN</td>\n",
       "      <td>NaN</td>\n",
       "      <td>NaN</td>\n",
       "      <td>NaN</td>\n",
       "      <td>NaN</td>\n",
       "      <td>...</td>\n",
       "      <td>6.2367</td>\n",
       "      <td>6.3399</td>\n",
       "      <td>6.4341</td>\n",
       "      <td>6.5218</td>\n",
       "      <td>6.6043</td>\n",
       "      <td>6.6828</td>\n",
       "      <td>6.7580</td>\n",
       "      <td>6.8304</td>\n",
       "      <td>6.9004</td>\n",
       "      <td>6.9683</td>\n",
       "    </tr>\n",
       "  </tbody>\n",
       "</table>\n",
       "<p>544 rows × 37 columns</p>\n",
       "</div>"
      ],
      "text/plain": [
       "     Pressure Property    Liq_Sat      Vap_Sat           75          100  \\\n",
       "0         1.0        V     1.0000  129200.0000  160640.0000  172180.0000   \n",
       "1         1.0        U    29.3340    2385.2000    2480.8000    2516.4000   \n",
       "2         1.0        H    29.3350    2514.4000    2641.5000    2688.6000   \n",
       "3         1.0        S     0.1060       8.9767       9.3828       9.5136   \n",
       "4        10.0        V     1.0100   14670.0000   16030.0000   17190.0000   \n",
       "..        ...      ...        ...          ...          ...          ...   \n",
       "539   11200.0        S     3.4440       5.5476          NaN          NaN   \n",
       "540   11400.0        V     1.5040      15.2840          NaN          NaN   \n",
       "541   11400.0        U  1450.0000    2527.2000          NaN          NaN   \n",
       "542   11400.0        H  1467.2000    2701.5000          NaN          NaN   \n",
       "543   11400.0        S     3.4575       5.5357          NaN          NaN   \n",
       "\n",
       "             125          150          175          200  ...        425  \\\n",
       "0    183720.0000  195270.0000  206810.0000  218350.0000  ...        NaN   \n",
       "1      2552.3000    2588.5000    2624.9000    2661.7000  ...        NaN   \n",
       "2      2736.0000    2783.7000    2831.7000    2880.1000  ...        NaN   \n",
       "3         9.6365       9.7527       9.8629       9.9679  ...        NaN   \n",
       "4     18350.0000   19510.0000   20660.0000   21820.0000  ...        NaN   \n",
       "..           ...          ...          ...          ...  ...        ...   \n",
       "539          NaN          NaN          NaN          NaN  ...     6.2491   \n",
       "540          NaN          NaN          NaN          NaN  ...    24.1040   \n",
       "541          NaN          NaN          NaN          NaN  ...  2873.1000   \n",
       "542          NaN          NaN          NaN          NaN  ...  3147.9000   \n",
       "543          NaN          NaN          NaN          NaN  ...     6.2367   \n",
       "\n",
       "             450        475          500        525          550        575  \\\n",
       "0    333730.0000        NaN  356810.0000        NaN  379880.0000        NaN   \n",
       "1      3049.9000        NaN    3132.4000        NaN    3216.7000        NaN   \n",
       "2      3383.6000        NaN    3489.2000        NaN    3596.5000        NaN   \n",
       "3        10.8200        NaN      10.9612        NaN      11.0957        NaN   \n",
       "4     33370.0000        NaN   35670.0000        NaN   37980.0000        NaN   \n",
       "..           ...        ...          ...        ...          ...        ...   \n",
       "539       6.3515     6.4452       6.5324     6.6147       6.6929     6.7679   \n",
       "540      25.5990    27.0100      28.3590    29.6610      30.9250    32.1600   \n",
       "541    2929.4000  2982.6000    3033.9000  3083.9000    3133.1000  3181.9000   \n",
       "542    3221.2000  3290.5000    3357.2000  3422.1000    3485.7000  3548.5000   \n",
       "543       6.3399     6.4341       6.5218     6.6043       6.6828     6.7580   \n",
       "\n",
       "             600        625          650  \n",
       "0    402960.0000        NaN  426040.0000  \n",
       "1      3302.6000        NaN    3390.3000  \n",
       "2      3705.6000        NaN    3816.4000  \n",
       "3        11.2243        NaN      11.3476  \n",
       "4     40290.0000        NaN   42600.0000  \n",
       "..           ...        ...          ...  \n",
       "539       6.8401     6.9099       6.9777  \n",
       "540      33.3700    34.5600      35.7330  \n",
       "541    3230.4000  3278.8000    3327.2000  \n",
       "542    3610.8000  3672.8000    3734.6000  \n",
       "543       6.8304     6.9004       6.9683  \n",
       "\n",
       "[544 rows x 37 columns]"
      ]
     },
     "execution_count": 6,
     "metadata": {},
     "output_type": "execute_result"
    }
   ],
   "source": [
    "df = pd.read_csv(\"superheated_vapor_properties.csv\")\n",
    "df"
   ]
  },
  {
   "cell_type": "markdown",
   "metadata": {
    "id": "Zp8F3rk2cNxy"
   },
   "source": [
    "###Display the shape of data frame\n"
   ]
  },
  {
   "cell_type": "code",
   "execution_count": 6,
   "metadata": {
    "id": "v3Q8kQkucgK0"
   },
   "outputs": [
    {
     "data": {
      "text/plain": [
       "(544, 37)"
      ]
     },
     "execution_count": 6,
     "metadata": {},
     "output_type": "execute_result"
    }
   ],
   "source": [
    "df.shape"
   ]
  },
  {
   "cell_type": "markdown",
   "metadata": {
    "id": "w49cp-8zcgd2"
   },
   "source": [
    "###Return an array containing names of all the columns"
   ]
  },
  {
   "cell_type": "code",
   "execution_count": 9,
   "metadata": {
    "id": "fz4HRb3JcsZp"
   },
   "outputs": [
    {
     "data": {
      "text/plain": [
       "['Pressure',\n",
       " 'Property',\n",
       " 'Liq_Sat',\n",
       " 'Vap_Sat',\n",
       " '75',\n",
       " '100',\n",
       " '125',\n",
       " '150',\n",
       " '175',\n",
       " '200',\n",
       " '220',\n",
       " '225',\n",
       " '240',\n",
       " '250',\n",
       " '260',\n",
       " '275',\n",
       " '280',\n",
       " '290',\n",
       " '300',\n",
       " '320',\n",
       " '325',\n",
       " '340',\n",
       " '350',\n",
       " '360',\n",
       " '375',\n",
       " '380',\n",
       " '400',\n",
       " '425',\n",
       " '450',\n",
       " '475',\n",
       " '500',\n",
       " '525',\n",
       " '550',\n",
       " '575',\n",
       " '600',\n",
       " '625',\n",
       " '650']"
      ]
     },
     "execution_count": 9,
     "metadata": {},
     "output_type": "execute_result"
    }
   ],
   "source": [
    "df.columns.to_list()"
   ]
  },
  {
   "cell_type": "markdown",
   "metadata": {
    "id": "YkTH9tRWcrH-"
   },
   "source": [
    "###Display the number of null values in each column of the dataframe``\n",
    "\n"
   ]
  },
  {
   "cell_type": "code",
   "execution_count": 15,
   "metadata": {
    "id": "GK9-PJPxc3Ot"
   },
   "outputs": [
    {
     "name": "stdout",
     "output_type": "stream",
     "text": [
      "Column 'Pressure' has 0 null values.\n",
      "Column 'Property' has 0 null values.\n",
      "Column 'Liq_Sat' has 0 null values.\n",
      "Column 'Vap_Sat' has 0 null values.\n",
      "Column '75' has 528 null values.\n",
      "Column '100' has 508 null values.\n",
      "Column '125' has 488 null values.\n",
      "Column '150' has 448 null values.\n",
      "Column '175' has 384 null values.\n",
      "Column '200' has 320 null values.\n",
      "Column '220' has 408 null values.\n",
      "Column '225' has 400 null values.\n",
      "Column '240' has 408 null values.\n",
      "Column '250' has 344 null values.\n",
      "Column '260' has 384 null values.\n",
      "Column '275' has 340 null values.\n",
      "Column '280' has 380 null values.\n",
      "Column '290' has 488 null values.\n",
      "Column '300' has 60 null values.\n",
      "Column '320' has 480 null values.\n",
      "Column '325' has 136 null values.\n",
      "Column '340' has 476 null values.\n",
      "Column '350' has 68 null values.\n",
      "Column '360' has 476 null values.\n",
      "Column '375' has 204 null values.\n",
      "Column '380' has 476 null values.\n",
      "Column '400' has 0 null values.\n",
      "Column '425' has 204 null values.\n",
      "Column '450' has 0 null values.\n",
      "Column '475' has 204 null values.\n",
      "Column '500' has 0 null values.\n",
      "Column '525' has 272 null values.\n",
      "Column '550' has 0 null values.\n",
      "Column '575' has 340 null values.\n",
      "Column '600' has 0 null values.\n",
      "Column '625' has 476 null values.\n",
      "Column '650' has 0 null values.\n"
     ]
    }
   ],
   "source": [
    "for column in df.columns:\n",
    "    null_value=0\n",
    "    for value in df[column]:\n",
    "        if pd.isnull(value):\n",
    "            null_value+=1\n",
    "    print(f\"Column '{column}' has {null_value} null values.\" )"
   ]
  },
  {
   "cell_type": "markdown",
   "metadata": {
    "id": "Av-lcft2c3mx"
   },
   "source": [
    "###Create a column which contains the Pressure and Property columns, seperated with 'at' (For eg. V at 1, H at 101.325). Using this print the following:\n",
    "- Enthalpy at 75 kPa and 573 K\n",
    "- Entropy at 493 K and 250 kPa\n",
    "\n"
   ]
  },
  {
   "cell_type": "code",
   "execution_count": 24,
   "metadata": {
    "id": "B2AihQj_c32C"
   },
   "outputs": [
    {
     "name": "stdout",
     "output_type": "stream",
     "text": [
      "3075.1\n",
      "nan\n"
     ]
    }
   ],
   "source": [
    "df['Property at Pressure']=df['Property']+ \" at \" + df['Pressure'].astype(str)\n",
    "idx1=df[df['Property at Pressure']=='H at 75.0'].index\n",
    "print(df['300'].loc[idx1].item())\n",
    "idx2=df[df['Property at Pressure']=='S at 250.0'].index\n",
    "print(df['220'].loc[idx2].item())"
   ]
  },
  {
   "cell_type": "markdown",
   "metadata": {
    "id": "GpLtXYRLc4Ho"
   },
   "source": [
    "###Find out the column with the highest number of missing values"
   ]
  },
  {
   "cell_type": "code",
   "execution_count": null,
   "metadata": {
    "id": "q80Grgeyc4Xn"
   },
   "outputs": [],
   "source": [
    "#your code here"
   ]
  },
  {
   "cell_type": "markdown",
   "metadata": {
    "id": "74NVHTTac4nv"
   },
   "source": [
    "###What is the average enthalpy of Sat. Liq. at all different pressures in the dataset ?"
   ]
  },
  {
   "cell_type": "code",
   "execution_count": 31,
   "metadata": {
    "id": "g3mByhBDdpVr"
   },
   "outputs": [
    {
     "data": {
      "text/plain": [
       "936.9707720588235"
      ]
     },
     "execution_count": 31,
     "metadata": {},
     "output_type": "execute_result"
    }
   ],
   "source": [
    "df['Liq_Sat'].iloc[2::4].mean()"
   ]
  },
  {
   "cell_type": "markdown",
   "metadata": {
    "id": "uS-SuqU8dpxg"
   },
   "source": [
    "###Separate out the V,U,H,S data from the dataset into V_data, U_data, H_data, S_data"
   ]
  },
  {
   "cell_type": "code",
   "execution_count": 8,
   "metadata": {
    "id": "Sg3V9Toyd1Av"
   },
   "outputs": [
    {
     "name": "stdout",
     "output_type": "stream",
     "text": [
      "0      1.000\n",
      "4      1.010\n",
      "8      1.017\n",
      "12     1.022\n",
      "16     1.027\n",
      "       ...  \n",
      "524    1.474\n",
      "528    1.481\n",
      "532    1.489\n",
      "536    1.496\n",
      "540    1.504\n",
      "Name: Liq_Sat, Length: 136, dtype: float64\n",
      "1        29.334\n",
      "5       191.822\n",
      "9       251.432\n",
      "13      289.271\n",
      "17      317.609\n",
      "         ...   \n",
      "525    1418.100\n",
      "529    1426.200\n",
      "533    1434.200\n",
      "537    1442.100\n",
      "541    1450.000\n",
      "Name: Liq_Sat, Length: 136, dtype: float64\n",
      "2        29.335\n",
      "6       191.832\n",
      "10      251.453\n",
      "14      289.302\n",
      "18      317.650\n",
      "         ...   \n",
      "526    1433.700\n",
      "530    1442.200\n",
      "534    1450.600\n",
      "538    1458.900\n",
      "542    1467.200\n",
      "Name: Liq_Sat, Length: 136, dtype: float64\n",
      "3      0.1060\n",
      "7      0.6493\n",
      "11     0.8321\n",
      "15     0.9441\n",
      "19     1.0261\n",
      "        ...  \n",
      "527    3.4029\n",
      "531    3.4167\n",
      "535    3.4304\n",
      "539    3.4440\n",
      "543    3.4575\n",
      "Name: Liq_Sat, Length: 136, dtype: float64\n"
     ]
    }
   ],
   "source": [
    "V_data=df['Liq_Sat'].iloc[0::4]\n",
    "U_data=df['Liq_Sat'].iloc[1::4]\n",
    "H_data=df['Liq_Sat'].iloc[2::4]\n",
    "S_data=df['Liq_Sat'].iloc[3::4]\n",
    "print(V_data)\n",
    "print(U_data)\n",
    "print(H_data)\n",
    "print(S_data)"
   ]
  },
  {
   "cell_type": "markdown",
   "metadata": {
    "id": "Ghkj0-0-d1W7"
   },
   "source": [
    "#Section 3: PLotting the PLOTS"
   ]
  },
  {
   "cell_type": "markdown",
   "metadata": {
    "id": "ka0qrDcZeAL6"
   },
   "source": [
    "###Plot the properties (specific volume, specific internal energy, specific enthalpy, specific entropy) vs Pressure for saturated liquid.\n",
    "\n",
    "Note:\n",
    "- Try using the subplot feature of matplotlib(Explore it!!)\n",
    "- Provide appropriate title, labels, markersize and other parameters to the plot"
   ]
  },
  {
   "cell_type": "code",
   "execution_count": 14,
   "metadata": {
    "id": "XbKdm-cUePKA"
   },
   "outputs": [
    {
     "ename": "ValueError",
     "evalue": "x and y must have same first dimension, but have shapes (544,) and (136,)",
     "output_type": "error",
     "traceback": [
      "\u001b[1;31m---------------------------------------------------------------------------\u001b[0m",
      "\u001b[1;31mValueError\u001b[0m                                Traceback (most recent call last)",
      "Cell \u001b[1;32mIn[14], line 3\u001b[0m\n\u001b[0;32m      1\u001b[0m x\u001b[38;5;241m=\u001b[39mdf[\u001b[38;5;124m'\u001b[39m\u001b[38;5;124mPressure\u001b[39m\u001b[38;5;124m'\u001b[39m]\n\u001b[0;32m      2\u001b[0m y\u001b[38;5;241m=\u001b[39mdf[\u001b[38;5;124m'\u001b[39m\u001b[38;5;124mLiq_Sat\u001b[39m\u001b[38;5;124m'\u001b[39m]\u001b[38;5;241m.\u001b[39miloc[\u001b[38;5;241m0\u001b[39m::\u001b[38;5;241m4\u001b[39m]\n\u001b[1;32m----> 3\u001b[0m plt\u001b[38;5;241m.\u001b[39mplot(x,y)\n",
      "File \u001b[1;32m~\\anaconda3\\Lib\\site-packages\\matplotlib\\pyplot.py:2812\u001b[0m, in \u001b[0;36mplot\u001b[1;34m(scalex, scaley, data, *args, **kwargs)\u001b[0m\n\u001b[0;32m   2810\u001b[0m \u001b[38;5;129m@_copy_docstring_and_deprecators\u001b[39m(Axes\u001b[38;5;241m.\u001b[39mplot)\n\u001b[0;32m   2811\u001b[0m \u001b[38;5;28;01mdef\u001b[39;00m \u001b[38;5;21mplot\u001b[39m(\u001b[38;5;241m*\u001b[39margs, scalex\u001b[38;5;241m=\u001b[39m\u001b[38;5;28;01mTrue\u001b[39;00m, scaley\u001b[38;5;241m=\u001b[39m\u001b[38;5;28;01mTrue\u001b[39;00m, data\u001b[38;5;241m=\u001b[39m\u001b[38;5;28;01mNone\u001b[39;00m, \u001b[38;5;241m*\u001b[39m\u001b[38;5;241m*\u001b[39mkwargs):\n\u001b[1;32m-> 2812\u001b[0m     \u001b[38;5;28;01mreturn\u001b[39;00m gca()\u001b[38;5;241m.\u001b[39mplot(\n\u001b[0;32m   2813\u001b[0m         \u001b[38;5;241m*\u001b[39margs, scalex\u001b[38;5;241m=\u001b[39mscalex, scaley\u001b[38;5;241m=\u001b[39mscaley,\n\u001b[0;32m   2814\u001b[0m         \u001b[38;5;241m*\u001b[39m\u001b[38;5;241m*\u001b[39m({\u001b[38;5;124m\"\u001b[39m\u001b[38;5;124mdata\u001b[39m\u001b[38;5;124m\"\u001b[39m: data} \u001b[38;5;28;01mif\u001b[39;00m data \u001b[38;5;129;01mis\u001b[39;00m \u001b[38;5;129;01mnot\u001b[39;00m \u001b[38;5;28;01mNone\u001b[39;00m \u001b[38;5;28;01melse\u001b[39;00m {}), \u001b[38;5;241m*\u001b[39m\u001b[38;5;241m*\u001b[39mkwargs)\n",
      "File \u001b[1;32m~\\anaconda3\\Lib\\site-packages\\matplotlib\\axes\\_axes.py:1688\u001b[0m, in \u001b[0;36mAxes.plot\u001b[1;34m(self, scalex, scaley, data, *args, **kwargs)\u001b[0m\n\u001b[0;32m   1445\u001b[0m \u001b[38;5;250m\u001b[39m\u001b[38;5;124;03m\"\"\"\u001b[39;00m\n\u001b[0;32m   1446\u001b[0m \u001b[38;5;124;03mPlot y versus x as lines and/or markers.\u001b[39;00m\n\u001b[0;32m   1447\u001b[0m \n\u001b[1;32m   (...)\u001b[0m\n\u001b[0;32m   1685\u001b[0m \u001b[38;5;124;03m(``'green'``) or hex strings (``'#008000'``).\u001b[39;00m\n\u001b[0;32m   1686\u001b[0m \u001b[38;5;124;03m\"\"\"\u001b[39;00m\n\u001b[0;32m   1687\u001b[0m kwargs \u001b[38;5;241m=\u001b[39m cbook\u001b[38;5;241m.\u001b[39mnormalize_kwargs(kwargs, mlines\u001b[38;5;241m.\u001b[39mLine2D)\n\u001b[1;32m-> 1688\u001b[0m lines \u001b[38;5;241m=\u001b[39m [\u001b[38;5;241m*\u001b[39m\u001b[38;5;28mself\u001b[39m\u001b[38;5;241m.\u001b[39m_get_lines(\u001b[38;5;241m*\u001b[39margs, data\u001b[38;5;241m=\u001b[39mdata, \u001b[38;5;241m*\u001b[39m\u001b[38;5;241m*\u001b[39mkwargs)]\n\u001b[0;32m   1689\u001b[0m \u001b[38;5;28;01mfor\u001b[39;00m line \u001b[38;5;129;01min\u001b[39;00m lines:\n\u001b[0;32m   1690\u001b[0m     \u001b[38;5;28mself\u001b[39m\u001b[38;5;241m.\u001b[39madd_line(line)\n",
      "File \u001b[1;32m~\\anaconda3\\Lib\\site-packages\\matplotlib\\axes\\_base.py:311\u001b[0m, in \u001b[0;36m_process_plot_var_args.__call__\u001b[1;34m(self, data, *args, **kwargs)\u001b[0m\n\u001b[0;32m    309\u001b[0m     this \u001b[38;5;241m+\u001b[39m\u001b[38;5;241m=\u001b[39m args[\u001b[38;5;241m0\u001b[39m],\n\u001b[0;32m    310\u001b[0m     args \u001b[38;5;241m=\u001b[39m args[\u001b[38;5;241m1\u001b[39m:]\n\u001b[1;32m--> 311\u001b[0m \u001b[38;5;28;01myield from\u001b[39;00m \u001b[38;5;28mself\u001b[39m\u001b[38;5;241m.\u001b[39m_plot_args(\n\u001b[0;32m    312\u001b[0m     this, kwargs, ambiguous_fmt_datakey\u001b[38;5;241m=\u001b[39mambiguous_fmt_datakey)\n",
      "File \u001b[1;32m~\\anaconda3\\Lib\\site-packages\\matplotlib\\axes\\_base.py:504\u001b[0m, in \u001b[0;36m_process_plot_var_args._plot_args\u001b[1;34m(self, tup, kwargs, return_kwargs, ambiguous_fmt_datakey)\u001b[0m\n\u001b[0;32m    501\u001b[0m     \u001b[38;5;28mself\u001b[39m\u001b[38;5;241m.\u001b[39maxes\u001b[38;5;241m.\u001b[39myaxis\u001b[38;5;241m.\u001b[39mupdate_units(y)\n\u001b[0;32m    503\u001b[0m \u001b[38;5;28;01mif\u001b[39;00m x\u001b[38;5;241m.\u001b[39mshape[\u001b[38;5;241m0\u001b[39m] \u001b[38;5;241m!=\u001b[39m y\u001b[38;5;241m.\u001b[39mshape[\u001b[38;5;241m0\u001b[39m]:\n\u001b[1;32m--> 504\u001b[0m     \u001b[38;5;28;01mraise\u001b[39;00m \u001b[38;5;167;01mValueError\u001b[39;00m(\u001b[38;5;124mf\u001b[39m\u001b[38;5;124m\"\u001b[39m\u001b[38;5;124mx and y must have same first dimension, but \u001b[39m\u001b[38;5;124m\"\u001b[39m\n\u001b[0;32m    505\u001b[0m                      \u001b[38;5;124mf\u001b[39m\u001b[38;5;124m\"\u001b[39m\u001b[38;5;124mhave shapes \u001b[39m\u001b[38;5;132;01m{\u001b[39;00mx\u001b[38;5;241m.\u001b[39mshape\u001b[38;5;132;01m}\u001b[39;00m\u001b[38;5;124m and \u001b[39m\u001b[38;5;132;01m{\u001b[39;00my\u001b[38;5;241m.\u001b[39mshape\u001b[38;5;132;01m}\u001b[39;00m\u001b[38;5;124m\"\u001b[39m)\n\u001b[0;32m    506\u001b[0m \u001b[38;5;28;01mif\u001b[39;00m x\u001b[38;5;241m.\u001b[39mndim \u001b[38;5;241m>\u001b[39m \u001b[38;5;241m2\u001b[39m \u001b[38;5;129;01mor\u001b[39;00m y\u001b[38;5;241m.\u001b[39mndim \u001b[38;5;241m>\u001b[39m \u001b[38;5;241m2\u001b[39m:\n\u001b[0;32m    507\u001b[0m     \u001b[38;5;28;01mraise\u001b[39;00m \u001b[38;5;167;01mValueError\u001b[39;00m(\u001b[38;5;124mf\u001b[39m\u001b[38;5;124m\"\u001b[39m\u001b[38;5;124mx and y can be no greater than 2D, but have \u001b[39m\u001b[38;5;124m\"\u001b[39m\n\u001b[0;32m    508\u001b[0m                      \u001b[38;5;124mf\u001b[39m\u001b[38;5;124m\"\u001b[39m\u001b[38;5;124mshapes \u001b[39m\u001b[38;5;132;01m{\u001b[39;00mx\u001b[38;5;241m.\u001b[39mshape\u001b[38;5;132;01m}\u001b[39;00m\u001b[38;5;124m and \u001b[39m\u001b[38;5;132;01m{\u001b[39;00my\u001b[38;5;241m.\u001b[39mshape\u001b[38;5;132;01m}\u001b[39;00m\u001b[38;5;124m\"\u001b[39m)\n",
      "\u001b[1;31mValueError\u001b[0m: x and y must have same first dimension, but have shapes (544,) and (136,)"
     ]
    },
    {
     "data": {
      "image/png": "[encoded data removed]",
      "text/plain": [
       "<Figure size 640x480 with 1 Axes>"
      ]
     },
     "metadata": {},
     "output_type": "display_data"
    }
   ],
   "source": [
    "x=df['Pressure']\n",
    "y=df['Liq_Sat'].iloc[0::4]\n",
    "plt.plot(x,y)\n"
   ]
  },
  {
   "cell_type": "markdown",
   "metadata": {
    "id": "SCLRji6TeQgh"
   },
   "source": [
    "###Plot the specific volume of saturated liquid between 300 kPa and 1500 kPa"
   ]
  },
  {
   "cell_type": "code",
   "execution_count": null,
   "metadata": {
    "id": "u6DyyI7MeYgE"
   },
   "outputs": [],
   "source": [
    "#your code here"
   ]
  },
  {
   "cell_type": "markdown",
   "metadata": {
    "id": "6N_8T4KnfnOG"
   },
   "source": [
    "#Linear Regression\n",
    "You're given a 100 data points generated from the function\n",
    "$y=mx+c$. Some noise is added to the y values.\n",
    "\n",
    "**Task:** Estimate the values of m and c using linear regression. Write a suitable cost function and update the parameters."
   ]
  },
  {
   "cell_type": "code",
   "execution_count": 2,
   "metadata": {
    "id": "qK0CKt8WfuO9"
   },
   "outputs": [
    {
     "data": {
      "text/plain": [
       "<matplotlib.collections.PathCollection at 0x239954fbc10>"
      ]
     },
     "execution_count": 2,
     "metadata": {},
     "output_type": "execute_result"
    },
    {
     "data": {
      "image/png": "[encoded data removed]",
      "text/plain": [
       "<Figure size 640x480 with 1 Axes>"
      ]
     },
     "metadata": {},
     "output_type": "display_data"
    }
   ],
   "source": [
    " # Generation of data points\n",
    "x = np.random.rand(100)*100\n",
    "y = -4*x+15\n",
    "y = y+np.random.randn(100)*30\n",
    "plt.scatter(x,y)"
   ]
  },
  {
   "cell_type": "code",
   "execution_count": null,
   "metadata": {
    "id": "0lyjPEfmiC-e"
   },
   "outputs": [],
   "source": [
    "# Initialisng parameters m and c such that the best fit line is given by y = m*x+c\n",
    "\n",
    "#Cost function to be minimised\n",
    "\n",
    "#Function for updating parameter\n"
   ]
  },
  {
   "cell_type": "markdown",
   "metadata": {
    "id": "JPy839WUiOvz"
   },
   "source": [
    "Run the model"
   ]
  },
  {
   "cell_type": "code",
   "execution_count": null,
   "metadata": {
    "id": "sf8s00SUiYhN"
   },
   "outputs": [],
   "source": [
    "# define number of iterations for minimising cost function\n",
    "\n",
    "# define the learning rate\n",
    "\n",
    "# run the model"
   ]
  },
  {
   "cell_type": "code",
   "execution_count": null,
   "metadata": {
    "id": "_g7W3mloilGn"
   },
   "outputs": [],
   "source": [
    "print(m,c)  # value should be close to (-4,15)"
   ]
  }
 ],
 "metadata": {
  "colab": {
   "provenance": [
    {
     "file_id": "1HmaDXA_E2e7qQdYnHG_n-I6WiKGVlQaj",
     "timestamp": 1702837822093
    },
    {
     "file_id": "1iU0EjZegSZws7pediD804k5zAh4tFrqa",
     "timestamp": 1702536173896
    }
   ]
  },
  "kernelspec": {
   "display_name": "Python 3 (ipykernel)",
   "language": "python",
   "name": "python3"
  },
  "language_info": {
   "codemirror_mode": {
    "name": "ipython",
    "version": 3
   },
   "file_extension": ".py",
   "mimetype": "text/x-python",
   "name": "python",
   "nbconvert_exporter": "python",
   "pygments_lexer": "ipython3",
   "version": "3.11.5"
  }
 },
 "nbformat": 4,
 "nbformat_minor": 1
}
